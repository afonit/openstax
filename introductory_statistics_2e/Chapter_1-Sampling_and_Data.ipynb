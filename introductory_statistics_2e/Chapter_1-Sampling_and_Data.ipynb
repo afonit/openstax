{
 "cells": [
  {
   "cell_type": "markdown",
   "id": "3b5de3ad-100d-4c7b-ab5e-33352fac8134",
   "metadata": {},
   "source": [
    "## 1.1 Definitions of Statistics, Probability, and Key Terms\n",
    "* `Descriptive Statistics`: Organizing and summarizing data (eg finding the average)\n",
    "* `Inferential Statistics`: Uses probability to determine how confident we can be that our conclusions are correct.\n",
    "* `Probability`: Is a mathematical tool used to study randomness.  It deals with the chance (the likelihood) of an event occuring.\n",
    "  * For example, the theoretical probability of heads in any one toss is $\\frac{1}{2}$ or 0.5. Even though the outcomes of a few repetitions are uncertain, there is a regular pattern of outcomes when there are many repetitions."
   ]
  },
  {
   "cell_type": "code",
   "execution_count": null,
   "id": "09aa9660-0029-47e3-95db-eefa345e1364",
   "metadata": {},
   "outputs": [],
   "source": []
  }
 ],
 "metadata": {
  "kernelspec": {
   "display_name": "Python 3 (ipykernel)",
   "language": "python",
   "name": "python3"
  },
  "language_info": {
   "codemirror_mode": {
    "name": "ipython",
    "version": 3
   },
   "file_extension": ".py",
   "mimetype": "text/x-python",
   "name": "python",
   "nbconvert_exporter": "python",
   "pygments_lexer": "ipython3",
   "version": "3.11.0"
  }
 },
 "nbformat": 4,
 "nbformat_minor": 5
}
