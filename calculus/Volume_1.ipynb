{
 "cells": [
  {
   "cell_type": "markdown",
   "id": "5d80d7a6-762c-4018-9cac-4502638dac2c",
   "metadata": {},
   "source": [
    "Useful for checking work:\n",
    "* [Derivative Calculator](https://www.derivative-calculator.net/)\n",
    "* [Integral Calculator](https://www.integral-calculator.com/)\n",
    "* [Draw symbol to get mathjax representation](https://detexify.kirelabs.org/classify.html)"
   ]
  },
  {
   "cell_type": "markdown",
   "id": "2e21e01c-8b91-4881-b837-ad1b6622f307",
   "metadata": {},
   "source": [
    "Position:\n",
    "* location in space\n",
    "* is the derivative of velocity\n",
    "\n",
    "Speed/Velocity:\n",
    "* The speed(the magnitude of velocity) of something in a given direction.\n",
    "* Rate of change of position\n",
    "* $\\bar{v} = \\frac{\\Delta{x}}{\\Delta{t}}$\n",
    "    * Where:\n",
    "    * $\\bar{v} = $ average velocity\n",
    "    * $\\Delta{x} = $ displacement\n",
    "    * $\\Delta{t} = $ change in time\n",
    "* Velocity is the derivative of Position with respect to time:\n",
    "    * $v(t)=\\frac{d}{dt}(x(t))$\n",
    "\n",
    "Acceleration:\n",
    "* Derivation of Velocity\n",
    "* Rate of change of velocity\n",
    "* Acceleration is the derivative of velocity with respect to time:\n",
    "    * $a(t)=\\frac{d}{dt}(v(t))=\\frac{d^2}{{dt}^2}(x(t))$\n",
    "\n",
    "* Acceleration of object at time $t$:\n",
    "    * $a(t)=v^\\prime(t)=s^{\\prime\\prime}(t)$"
   ]
  },
  {
   "cell_type": "code",
   "execution_count": null,
   "id": "59cc14e4-5dfe-4c25-8217-36b733c946d8",
   "metadata": {},
   "outputs": [],
   "source": []
  },
  {
   "cell_type": "markdown",
   "id": "9af33145-e62f-4148-a1b6-f45d2962d5aa",
   "metadata": {},
   "source": [
    "$\\frac{d}{dx}(\\sin{x})=\\cos{x}$\n",
    "\n",
    "$\\frac{d}{dx}(\\cos{x})=-\\sin{x}$\n",
    "\n",
    "$\\lim_{h \\to 0}\\frac{\\sin{h}}{h}=1$\n",
    "\n",
    "$\\lim_{h \\to 0}\\frac{\\cos{h}-1}{h}=0$\n",
    "\n",
    "$\\tan{0} = \\frac{\\sin{0}}{\\cos{0}}$\n",
    "\n",
    "$\\sec{0} = \\frac{1}{\\cos{0}}$\n",
    "\n",
    "$\\csc{0} = \\frac{1}{\\sin{0}}$\n",
    "\n",
    "$\\cot{0} = \\frac{\\cos{0}}{\\sin{0}}$\n",
    "\n",
    "[ref](https://www.mathsisfun.com/algebra/trigonometric-identities.html)"
   ]
  },
  {
   "cell_type": "code",
   "execution_count": null,
   "id": "feca8916-3cd6-48e3-863c-defeaef239b3",
   "metadata": {},
   "outputs": [],
   "source": []
  },
  {
   "cell_type": "markdown",
   "id": "3b008ac4-31b2-421c-a272-4328e7e41a79",
   "metadata": {},
   "source": [
    "##### Chan rule:\n"
   ]
  }
 ],
 "metadata": {
  "kernelspec": {
   "display_name": "Python 3",
   "language": "python",
   "name": "python3"
  },
  "language_info": {
   "codemirror_mode": {
    "name": "ipython",
    "version": 3
   },
   "file_extension": ".py",
   "mimetype": "text/x-python",
   "name": "python",
   "nbconvert_exporter": "python",
   "pygments_lexer": "ipython3",
   "version": "3.9.5"
  }
 },
 "nbformat": 4,
 "nbformat_minor": 5
}
