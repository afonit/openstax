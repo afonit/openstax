{
 "cells": [
  {
   "cell_type": "markdown",
   "id": "600bb5df-1ccb-4c4f-bb12-2934aada2ca3",
   "metadata": {},
   "source": [
    "#### Initial-Value Problems\n",
    "Page 488, 493-494\n",
    "\n",
    "\"Some of the solution curves of the differential equation\" $$\\frac{dy}{dx}=6x^2$$"
   ]
  },
  {
   "cell_type": "raw",
   "id": "ac47aef4-39af-4b45-b77a-5d514147e198",
   "metadata": {},
   "source": [
    "Find the problem of running on sand then swimming optimization\n",
    "\n"
   ]
  },
  {
   "cell_type": "code",
   "execution_count": null,
   "id": "d7c7d215-a209-459e-a937-f89846332465",
   "metadata": {},
   "outputs": [],
   "source": []
  }
 ],
 "metadata": {
  "kernelspec": {
   "display_name": "Python 3 (ipykernel)",
   "language": "python",
   "name": "python3"
  },
  "language_info": {
   "codemirror_mode": {
    "name": "ipython",
    "version": 3
   },
   "file_extension": ".py",
   "mimetype": "text/x-python",
   "name": "python",
   "nbconvert_exporter": "python",
   "pygments_lexer": "ipython3",
   "version": "3.12.8"
  }
 },
 "nbformat": 4,
 "nbformat_minor": 5
}
