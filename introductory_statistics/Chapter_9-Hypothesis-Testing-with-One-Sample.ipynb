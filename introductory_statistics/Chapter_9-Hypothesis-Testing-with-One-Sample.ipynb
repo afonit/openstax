{
 "cells": [
  {
   "cell_type": "code",
   "execution_count": null,
   "id": "720664ec-9509-4b64-8285-266eb63fa4d8",
   "metadata": {},
   "outputs": [],
   "source": []
  },
  {
   "cell_type": "markdown",
   "id": "7a306d62-8f35-4fcc-8fdb-97e95de56a4b",
   "metadata": {},
   "source": [
    "# Chapter 9: Hypothesis Testing with One Sample\n",
    "\n",
    "Where Confidence intervals allow us to estimate a population parameter, the process of **hypothesis testing** allows us to make a _decision_ about a parameter.\n",
    "\n",
    "In this chapter, you will conduct hypothesis tests on **single means** and **single proportions**. You will also learn about the **errors** associated with these tests.\n",
    "\n",
    "Hypothesis testing consists of two contradictory hypotheses or statements, a decision based on the data, and a conclusion. To perform a hypothesis test, a statistician will:\n",
    "1. Set up two contradictory hypotheses.\n",
    "2. Collect sample data (in homework problems, the data or summary statistics will be given to you).\n",
    "3. Determine the correct distribution to perform the hypothesis test.\n",
    "4. Analyze sample data by performing the calculations that ultimately will allow you to reject or decline to reject the null hypothesis.\n",
    "5. Make a decision and write a meaningful conclusion."
   ]
  },
  {
   "cell_type": "markdown",
   "id": "7ffb0018-e77f-4d48-bf02-e49ce75ea095",
   "metadata": {},
   "source": [
    "## Null and Alternative Hypotheses\n",
    "The actual test begins by considering two **hypotheses**.  They are called the **null hypothesis** and the **alternative hypothesis**.  These hypotheses contain opposing viewpoints.\n",
    "\n",
    "$H_0$: **The null hypothesis**: It is a statement of no difference between the variables—they are not related. This can often be considered the _status quo_ and as a result if you cannot accept the null it requires some action.\n",
    "\n",
    "$H_a$: **The alternative hypothesis**: It is a claim about the population that is contradictory to $H_0$ and what we conclude when we reject $H_0$. <span style=\"color:yellow\">This is usually what the researcher is trying to prove.</span>\n",
    "\n",
    "Since the null and alternative hypotheses are contradictory, you must examine evidence to decide if you have enough evidence to reject the null hypothesis or not. The evidence is in the form of sample data.\n",
    "\n",
    "After you have determined which hypothesis the sample supports, you make a **decision**. There are two options for a decision. They are:\n",
    "* \"reject $H_O$\" if the sample information favors the alternative hypothesis\n",
    "* \"do not reject $H_O$\" or \"decline to reject $H_O$\" if the sample information is insufficient to reject the null hypothesis.\n",
    "\n",
    "Mathematical Symbols Used in $H_0$ and $H_a$:\n",
    "\n",
    "|$H_0$|$H_a$|\n",
    "|--|--|\n",
    "|equal(=)|not equal($\\ne$) **or** greater than ($\\gt$) **or** less than ($\\lt$)|\n",
    "|greater than or equal to ($\\geq$)|less than ($\\lt$)|\n",
    "|less than or equal to ($\\leq$)|more than ($\\gt$)|\n",
    "\n",
    "> Note: H0 always has a symbol with an equal in it. Ha never has a symbol with an equal in it. The choice of symbol depends on the wording of the hypothesis test. However, be aware that many researchers (including one of the co-authors in research work) use = in the null hypothesis, even with > or < as the symbol in the alternative hypothesis. This practice is acceptable because we only make the decision to reject or not reject the null hypothesis."
   ]
  },
  {
   "cell_type": "code",
   "execution_count": null,
   "id": "c558145f-ec43-40ab-9229-fbbc64f669f9",
   "metadata": {},
   "outputs": [],
   "source": []
  },
  {
   "cell_type": "markdown",
   "id": "df5cda51-5ce7-457d-8141-b98a7bcccb9d",
   "metadata": {},
   "source": [
    "<span style=\"color:orange\">Example 9.2</span>\n",
    "\n",
    "We want to test whether the mean GPA of students in American colleges is different from 2.0 (out of 4.0). \n",
    "\n",
    "The null and alternative hypotheses are:\n",
    "* $H_0$: μ = 2.0\n",
    "* $H_a$: μ ≠ 2.0"
   ]
  },
  {
   "cell_type": "code",
   "execution_count": null,
   "id": "26564777-e400-4b42-905f-3b3d14b4a288",
   "metadata": {},
   "outputs": [],
   "source": []
  },
  {
   "cell_type": "markdown",
   "id": "d6c9dd66-bea2-4963-8707-d18993f05552",
   "metadata": {},
   "source": [
    "<span style=\"color:orange\">Example 9.3</span>\n",
    "\n",
    "We want to test if college students take less than five years to graduate from college, on the average. \n",
    "\n",
    "The null and alternative hypotheses are:\n",
    "* $H_0$: μ ≥ 5\n",
    "* $H_a$: μ < 5"
   ]
  },
  {
   "cell_type": "code",
   "execution_count": null,
   "id": "84af13bb-7fca-4545-a297-356f05590ada",
   "metadata": {},
   "outputs": [],
   "source": []
  },
  {
   "cell_type": "markdown",
   "id": "21776ec2-5ff8-4162-b510-12669e161ad7",
   "metadata": {},
   "source": [
    "<span style=\"color:orange\">Example 9.4</span>\n",
    "\n",
    "In an issue of U. S. News and World Report, an article on school standards stated that about half of all students in France, Germany, and Israel take advanced placement exams and a third pass. The same article stated that 6.6% of U.S. students take advanced placement exams and 4.4% pass. Test if the percentage of U.S. students who take advanced placement exams is more than 6.6%. State the null and alternative hypotheses.\n",
    "* $H_0$: p ≤ 0.066\n",
    "* $H_a$: p > 0.066"
   ]
  },
  {
   "cell_type": "code",
   "execution_count": null,
   "id": "6eaa7d10-9720-4927-9111-34279709bb44",
   "metadata": {},
   "outputs": [],
   "source": []
  },
  {
   "cell_type": "markdown",
   "id": "ec54dadc-88e7-4564-ba0c-d986a1cff709",
   "metadata": {},
   "source": [
    "## Outcomes and the Type I and Type II Errors\n",
    "When you perform a hypothesis test, there are <span style=\"color:pink\">four possible outcomes</span> depending on the actual truth (or falseness) of the null hypothesis $H_0$ and the decision to reject or not. The outcomes are summarized in the following table:\n",
    "\n",
    "|**ACTION**|**$H_0$ IS ACTUALLY**|...|\n",
    "|--|--|--|\n",
    "||True|False|\n",
    "|**Do not reject $H_0$**|Correct Outcome|Type II error|\n",
    "|**Reject $H_0$**|Type I Error|Correct Outcome|"
   ]
  },
  {
   "cell_type": "markdown",
   "id": "e20fd0cf-7b69-4efe-a262-a4d278f116e6",
   "metadata": {},
   "source": [
    "The four possible outcomes in the table are:\n",
    "1. The decision is **not to reject $H_0$** when **$H_0$ is true (correct decision)**.\n",
    "2. The decision is to **reject $H_0$** when **$H_0$ is true** (incorrect decision known as a **Type I error**).\n",
    "3. The decision is **not to reject $H_0$** when, in fact, **$H_0$ is false** (incorrect decision known as a **Type II error**).\n",
    "4. The decision is to **reject $H_0$** when **$H_0$ is false** (**correct decision** whose probability is called the **Power of the Test**)."
   ]
  },
  {
   "cell_type": "markdown",
   "id": "0779a086-5a3b-45e6-b634-be7181d9e15d",
   "metadata": {},
   "source": [
    "Each of the errors occurs with a particular probability. The Greek letters $\\alpha$ and $\\beta$ represent the probabilities.\n",
    "* $\\alpha$ = probability of a Type I error = **P(Type I error)** = probability of rejecting the null hypothesis when the null hypothesis is true.\n",
    "\n",
    "* $\\beta$ = probability of a Type II error = **P(Type II error)** = probability of not rejecting the null hypothesis when the null hypothesis is false.\n",
    "\n",
    "<span style=\"color:yellow\">$\\alpha$ and $\\beta$ should be as small as possible because they are probabilities of errors. They are rarely zero.</span>\n",
    "\n",
    "The Power of the Test is $1-\\beta$. Ideally, we want a high power that is as close to one as possible. Increasing the sample size can increase the Power of the Test.\n",
    "\n",
    "The following are examples of Type I and Type II errors."
   ]
  },
  {
   "cell_type": "code",
   "execution_count": null,
   "id": "510d3ee4-151e-4b0f-af33-163d6c60266e",
   "metadata": {},
   "outputs": [],
   "source": []
  },
  {
   "cell_type": "markdown",
   "id": "8bc7ad43-c812-4490-9523-d9634f0e7aee",
   "metadata": {},
   "source": [
    "<span style=\"color:orange\">Example 9.5</span>\n",
    "\n",
    "Suppose the null hypothesis, $H_0$, is: Frank's rock climbing equipment is safe.\n",
    "\n",
    "(So, Frank is trying to prove that his equipment is not safe)\n",
    "\n",
    "* **Type I error**: Frank thinks that his rock climbing equipment may not be safe when, in fact, it really is safe.\n",
    "    * **$\\alpha =$ probability** that Frank thinks his rock climbing equipment may not be safe when, in fact, it really is safe.\n",
    "* **Type II error**: Frank thinks that his rock climbing equipment may be safe when, in fact, it is not safe.\n",
    "    * **$\\beta =$ probability** that Frank thinks his rock climbing equipment may be safe when, in fact, it is not safe.\n",
    "\n",
    "Notice that, in this case, the error with the greater consequence is the Type II error. (If Frank thinks his rock climbing equipment is safe, he will go ahead and use it.)"
   ]
  },
  {
   "cell_type": "code",
   "execution_count": null,
   "id": "30311369-9ead-489a-806e-c71d2f4b2ea6",
   "metadata": {},
   "outputs": [],
   "source": []
  },
  {
   "cell_type": "markdown",
   "id": "98e51728-f28c-4a32-9b67-26da86241d98",
   "metadata": {},
   "source": [
    "<span style=\"color:orange\">Example 9.6</span>\n",
    "\n",
    "Suppose the null hypothesis, $H_0$, is: The victim of an automobile accident is alive when he arrives at the emergency room of a hospital.\n",
    "\n",
    "* **Type I error**: The emergency crew thinks that the victim is dead when, in fact, the victim is alive.\n",
    "    * ** $\\alpha =$** probability that the emergency crew thinks the victim is dead when, in fact, he is really alive = P(Type I error).\n",
    "* **Type II error**: The emergency crew does not know if the victim is alive when, in fact, the victim is dead.\n",
    "    * ** $\\beta =$** probability that the emergency crew does not know if the victim is alive when, in fact, the victim is dead = P(Type II error).\n",
    "\n",
    "The error with the greater consequence is the Type I error. (If the emergency crew thinks the victim is dead, they will not treat him.)"
   ]
  },
  {
   "cell_type": "code",
   "execution_count": null,
   "id": "28dd3523-f2b0-43e5-a3b1-25ea407de986",
   "metadata": {},
   "outputs": [],
   "source": []
  },
  {
   "cell_type": "markdown",
   "id": "c6e01f6c-1ed6-4582-a886-de72bb330c99",
   "metadata": {},
   "source": [
    "<span style=\"color:orange\"> Example 9.7 </span>\n",
    "\n",
    "It’s a Boy Genetic Labs claim to be able to increase the likelihood that a pregnancy will result in a boy being born. Statisticians want to test the claim. Suppose that the null hypothesis, H0, is: It’s a Boy Genetic Labs has no effect on gender outcome.\n",
    "\n",
    "* **Type I error**: This results when a true null hypothesis is rejected. In the context of this scenario, we would state that we believe that It’s a Boy Genetic Labs influences the gender outcome, when in fact it has no effect. The probability of this error occurring is denoted by the Greek letter alpha, α.\n",
    "\n",
    "* **Type II error**: This results when we fail to reject a false null hypothesis. In context, we would state that It’s a Boy Genetic Labs does not influence the gender outcome of a pregnancy when, in fact, it does. The probability of this error occurring is denoted by the Greek letter beta, β.\n",
    "\n",
    "The error of greater consequence would be the Type I error since couples would use the It’s a Boy Genetic Labs product in hopes of increasing the chances of having a boy."
   ]
  },
  {
   "cell_type": "code",
   "execution_count": null,
   "id": "bde7795e-d48e-49f3-8645-1a02841e2f93",
   "metadata": {},
   "outputs": [],
   "source": []
  },
  {
   "cell_type": "markdown",
   "id": "82643a6c-87d6-49ca-9377-f8e75cea0819",
   "metadata": {},
   "source": [
    "<span style=\"color:orange\">Example 9.8</span>\n",
    "\n",
    "A certain experimental drug claims a cure rate of at least 75% for males with prostate cancer. Describe both the Type I and Type II errors in context. Which error is the more serious?\n",
    "\n",
    "* **Type I**: A cancer patient believes the cure rate for the drug is less than 75% when it actually is at least 75%.\n",
    "\n",
    "* **Type II**: A cancer patient believes the experimental drug has at least a 75% cure rate when it has a cure rate that is less than 75%.\n",
    "\n",
    "In this scenario, the Type II error contains the more severe consequence. If a patient believes the drug works at least 75% of the time, this most likely will influence the patient’s (and doctor’s) choice about whether to use the drug as a treatment option."
   ]
  },
  {
   "cell_type": "code",
   "execution_count": null,
   "id": "fa242292-6325-4677-b6b1-aef8be78d99a",
   "metadata": {},
   "outputs": [],
   "source": []
  },
  {
   "cell_type": "markdown",
   "id": "c646cbbb-4071-41ea-be0c-45a4e51694f7",
   "metadata": {},
   "source": [
    "## Distribution Needed for Hypothesis Testing\n",
    "\n"
   ]
  }
 ],
 "metadata": {
  "kernelspec": {
   "display_name": "Python 3",
   "language": "python",
   "name": "python3"
  },
  "language_info": {
   "codemirror_mode": {
    "name": "ipython",
    "version": 3
   },
   "file_extension": ".py",
   "mimetype": "text/x-python",
   "name": "python",
   "nbconvert_exporter": "python",
   "pygments_lexer": "ipython3",
   "version": "3.8.8"
  }
 },
 "nbformat": 4,
 "nbformat_minor": 5
}
