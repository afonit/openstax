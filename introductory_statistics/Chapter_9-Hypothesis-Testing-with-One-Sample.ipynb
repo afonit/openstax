{
 "cells": [
  {
   "cell_type": "code",
   "execution_count": 1,
   "id": "720664ec-9509-4b64-8285-266eb63fa4d8",
   "metadata": {},
   "outputs": [],
   "source": [
    "import math\n",
    "import scipy.stats as st\n",
    "\n",
    "import ipywidgets as widgets\n",
    "from ipywidgets import interact"
   ]
  },
  {
   "cell_type": "markdown",
   "id": "7a306d62-8f35-4fcc-8fdb-97e95de56a4b",
   "metadata": {},
   "source": [
    "# Chapter 9: Hypothesis Testing with One Sample\n",
    "\n",
    "Where Confidence intervals allow us to estimate a population parameter, the process of **hypothesis testing** allows us to make a _decision_ about a parameter.\n",
    "\n",
    "In this chapter, you will conduct hypothesis tests on **single means** and **single proportions**. You will also learn about the **errors** associated with these tests.\n",
    "\n",
    "Hypothesis testing consists of two contradictory hypotheses or statements, a decision based on the data, and a conclusion. To perform a hypothesis test, a statistician will:\n",
    "1. Set up two contradictory hypotheses.\n",
    "2. Collect sample data (in homework problems, the data or summary statistics will be given to you).\n",
    "3. Determine the correct distribution to perform the hypothesis test.\n",
    "4. Analyze sample data by performing the calculations that ultimately will allow you to reject or decline to reject the null hypothesis.\n",
    "5. Make a decision and write a meaningful conclusion."
   ]
  },
  {
   "cell_type": "markdown",
   "id": "7ffb0018-e77f-4d48-bf02-e49ce75ea095",
   "metadata": {},
   "source": [
    "## Null and Alternative Hypotheses\n",
    "The actual test begins by considering two **hypotheses**.  They are called the **null hypothesis** and the **alternative hypothesis**.  These hypotheses contain opposing viewpoints.\n",
    "\n",
    "$H_0$: **The null hypothesis**: It is a statement of no difference between the variables—they are not related. This can often be considered the _status quo_ and as a result if you cannot accept the null it requires some action.\n",
    "\n",
    "$H_a$: **The alternative hypothesis**: It is a claim about the population that is contradictory to $H_0$ and what we conclude when we reject $H_0$. <span style=\"color:yellow\">This is usually what the researcher is trying to prove.</span>\n",
    "\n",
    "Since the null and alternative hypotheses are contradictory, you must examine evidence to decide if you have enough evidence to reject the null hypothesis or not. The evidence is in the form of sample data.\n",
    "\n",
    "After you have determined which hypothesis the sample supports, you make a **decision**. There are two options for a decision. They are:\n",
    "* \"reject $H_O$\" if the sample information favors the alternative hypothesis\n",
    "* \"do not reject $H_O$\" or \"decline to reject $H_O$\" if the sample information is insufficient to reject the null hypothesis.\n",
    "\n",
    "Mathematical Symbols Used in $H_0$ and $H_a$:\n",
    "\n",
    "|$H_0$|$H_a$|\n",
    "|--|--|\n",
    "|equal(=)|not equal($\\ne$) **or** greater than ($\\gt$) **or** less than ($\\lt$)|\n",
    "|greater than or equal to ($\\geq$)|less than ($\\lt$)|\n",
    "|less than or equal to ($\\leq$)|more than ($\\gt$)|\n",
    "\n",
    "> Note: H0 always has a symbol with an equal in it. Ha never has a symbol with an equal in it. The choice of symbol depends on the wording of the hypothesis test. However, be aware that many researchers (including one of the co-authors in research work) use = in the null hypothesis, even with > or < as the symbol in the alternative hypothesis. This practice is acceptable because we only make the decision to reject or not reject the null hypothesis."
   ]
  },
  {
   "cell_type": "code",
   "execution_count": null,
   "id": "c558145f-ec43-40ab-9229-fbbc64f669f9",
   "metadata": {},
   "outputs": [],
   "source": []
  },
  {
   "cell_type": "markdown",
   "id": "df5cda51-5ce7-457d-8141-b98a7bcccb9d",
   "metadata": {},
   "source": [
    "<span style=\"color:orange\">Example 9.2</span>\n",
    "\n",
    "We want to test whether the mean GPA of students in American colleges is different from 2.0 (out of 4.0). \n",
    "\n",
    "The null and alternative hypotheses are:\n",
    "* $H_0$: μ = 2.0\n",
    "* $H_a$: μ ≠ 2.0"
   ]
  },
  {
   "cell_type": "code",
   "execution_count": null,
   "id": "26564777-e400-4b42-905f-3b3d14b4a288",
   "metadata": {},
   "outputs": [],
   "source": []
  },
  {
   "cell_type": "markdown",
   "id": "d6c9dd66-bea2-4963-8707-d18993f05552",
   "metadata": {},
   "source": [
    "<span style=\"color:orange\">Example 9.3</span>\n",
    "\n",
    "We want to test if college students take less than five years to graduate from college, on the average. \n",
    "\n",
    "The null and alternative hypotheses are:\n",
    "* $H_0$: μ ≥ 5\n",
    "* $H_a$: μ < 5"
   ]
  },
  {
   "cell_type": "code",
   "execution_count": null,
   "id": "84af13bb-7fca-4545-a297-356f05590ada",
   "metadata": {},
   "outputs": [],
   "source": []
  },
  {
   "cell_type": "markdown",
   "id": "21776ec2-5ff8-4162-b510-12669e161ad7",
   "metadata": {},
   "source": [
    "<span style=\"color:orange\">Example 9.4</span>\n",
    "\n",
    "In an issue of U. S. News and World Report, an article on school standards stated that about half of all students in France, Germany, and Israel take advanced placement exams and a third pass. The same article stated that 6.6% of U.S. students take advanced placement exams and 4.4% pass. Test if the percentage of U.S. students who take advanced placement exams is more than 6.6%. State the null and alternative hypotheses.\n",
    "* $H_0$: p ≤ 0.066\n",
    "* $H_a$: p > 0.066"
   ]
  },
  {
   "cell_type": "code",
   "execution_count": null,
   "id": "6eaa7d10-9720-4927-9111-34279709bb44",
   "metadata": {},
   "outputs": [],
   "source": []
  },
  {
   "cell_type": "markdown",
   "id": "ec54dadc-88e7-4564-ba0c-d986a1cff709",
   "metadata": {},
   "source": [
    "## Outcomes and the Type I and Type II Errors\n",
    "When you perform a hypothesis test, there are <span style=\"color:pink\">four possible outcomes</span> depending on the actual truth (or falseness) of the null hypothesis $H_0$ and the decision to reject or not. The outcomes are summarized in the following table:\n",
    "\n",
    "|**ACTION**|**$H_0$ IS ACTUALLY**|...|\n",
    "|--|--|--|\n",
    "||True|False|\n",
    "|**Do not reject $H_0$**|Correct Outcome|Type II error|\n",
    "|**Reject $H_0$**|Type I Error|Correct Outcome|"
   ]
  },
  {
   "cell_type": "markdown",
   "id": "e20fd0cf-7b69-4efe-a262-a4d278f116e6",
   "metadata": {},
   "source": [
    "The four possible outcomes in the table are:\n",
    "1. The decision is **not to reject $H_0$** when **$H_0$ is true (correct decision)**.\n",
    "2. The decision is to **reject $H_0$** when **$H_0$ is true** (incorrect decision known as a **Type I error**).\n",
    "3. The decision is **not to reject $H_0$** when, in fact, **$H_0$ is false** (incorrect decision known as a **Type II error**).\n",
    "4. The decision is to **reject $H_0$** when **$H_0$ is false** (**correct decision** whose probability is called the **Power of the Test**)."
   ]
  },
  {
   "cell_type": "markdown",
   "id": "0779a086-5a3b-45e6-b634-be7181d9e15d",
   "metadata": {},
   "source": [
    "Each of the errors occurs with a particular probability. The Greek letters $\\alpha$ and $\\beta$ represent the probabilities.\n",
    "* $\\alpha$ = probability of a Type I error = **P(Type I error)** = probability of rejecting the null hypothesis when the null hypothesis is true.\n",
    "\n",
    "* $\\beta$ = probability of a Type II error = **P(Type II error)** = probability of not rejecting the null hypothesis when the null hypothesis is false.\n",
    "\n",
    "<span style=\"color:yellow\">$\\alpha$ and $\\beta$ should be as small as possible because they are probabilities of errors. They are rarely zero.</span>\n",
    "\n",
    "The Power of the Test is $1-\\beta$. Ideally, we want a high power that is as close to one as possible. Increasing the sample size can increase the Power of the Test.\n",
    "\n",
    "The following are examples of Type I and Type II errors."
   ]
  },
  {
   "cell_type": "code",
   "execution_count": null,
   "id": "510d3ee4-151e-4b0f-af33-163d6c60266e",
   "metadata": {},
   "outputs": [],
   "source": []
  },
  {
   "cell_type": "markdown",
   "id": "8bc7ad43-c812-4490-9523-d9634f0e7aee",
   "metadata": {},
   "source": [
    "<span style=\"color:orange\">Example 9.5</span>\n",
    "\n",
    "Suppose the null hypothesis, $H_0$, is: Frank's rock climbing equipment is safe.\n",
    "\n",
    "(So, Frank is trying to prove that his equipment is not safe)\n",
    "\n",
    "* **Type I error**: Frank thinks that his rock climbing equipment may not be safe when, in fact, it really is safe.\n",
    "    * **$\\alpha =$ probability** that Frank thinks his rock climbing equipment may not be safe when, in fact, it really is safe.\n",
    "* **Type II error**: Frank thinks that his rock climbing equipment may be safe when, in fact, it is not safe.\n",
    "    * **$\\beta =$ probability** that Frank thinks his rock climbing equipment may be safe when, in fact, it is not safe.\n",
    "\n",
    "Notice that, in this case, the error with the greater consequence is the Type II error. (If Frank thinks his rock climbing equipment is safe, he will go ahead and use it.)"
   ]
  },
  {
   "cell_type": "code",
   "execution_count": null,
   "id": "30311369-9ead-489a-806e-c71d2f4b2ea6",
   "metadata": {},
   "outputs": [],
   "source": []
  },
  {
   "cell_type": "markdown",
   "id": "98e51728-f28c-4a32-9b67-26da86241d98",
   "metadata": {},
   "source": [
    "<span style=\"color:orange\">Example 9.6</span>\n",
    "\n",
    "Suppose the null hypothesis, $H_0$, is: The victim of an automobile accident is alive when he arrives at the emergency room of a hospital.\n",
    "\n",
    "* **Type I error**: The emergency crew thinks that the victim is dead when, in fact, the victim is alive.\n",
    "    * ** $\\alpha =$** probability that the emergency crew thinks the victim is dead when, in fact, he is really alive = P(Type I error).\n",
    "* **Type II error**: The emergency crew does not know if the victim is alive when, in fact, the victim is dead.\n",
    "    * ** $\\beta =$** probability that the emergency crew does not know if the victim is alive when, in fact, the victim is dead = P(Type II error).\n",
    "\n",
    "The error with the greater consequence is the Type I error. (If the emergency crew thinks the victim is dead, they will not treat him.)"
   ]
  },
  {
   "cell_type": "code",
   "execution_count": null,
   "id": "28dd3523-f2b0-43e5-a3b1-25ea407de986",
   "metadata": {},
   "outputs": [],
   "source": []
  },
  {
   "cell_type": "markdown",
   "id": "c6e01f6c-1ed6-4582-a886-de72bb330c99",
   "metadata": {},
   "source": [
    "<span style=\"color:orange\"> Example 9.7 </span>\n",
    "\n",
    "It’s a Boy Genetic Labs claim to be able to increase the likelihood that a pregnancy will result in a boy being born. Statisticians want to test the claim. Suppose that the null hypothesis, H0, is: It’s a Boy Genetic Labs has no effect on gender outcome.\n",
    "\n",
    "* **Type I error**: This results when a true null hypothesis is rejected. In the context of this scenario, we would state that we believe that It’s a Boy Genetic Labs influences the gender outcome, when in fact it has no effect. The probability of this error occurring is denoted by the Greek letter alpha, α.\n",
    "\n",
    "* **Type II error**: This results when we fail to reject a false null hypothesis. In context, we would state that It’s a Boy Genetic Labs does not influence the gender outcome of a pregnancy when, in fact, it does. The probability of this error occurring is denoted by the Greek letter beta, β.\n",
    "\n",
    "The error of greater consequence would be the Type I error since couples would use the It’s a Boy Genetic Labs product in hopes of increasing the chances of having a boy."
   ]
  },
  {
   "cell_type": "code",
   "execution_count": null,
   "id": "bde7795e-d48e-49f3-8645-1a02841e2f93",
   "metadata": {},
   "outputs": [],
   "source": []
  },
  {
   "cell_type": "markdown",
   "id": "82643a6c-87d6-49ca-9377-f8e75cea0819",
   "metadata": {},
   "source": [
    "<span style=\"color:orange\">Example 9.8</span>\n",
    "\n",
    "A certain experimental drug claims a cure rate of at least 75% for males with prostate cancer. Describe both the Type I and Type II errors in context. Which error is the more serious?\n",
    "\n",
    "* **Type I**: A cancer patient believes the cure rate for the drug is less than 75% when it actually is at least 75%.\n",
    "\n",
    "* **Type II**: A cancer patient believes the experimental drug has at least a 75% cure rate when it has a cure rate that is less than 75%.\n",
    "\n",
    "In this scenario, the Type II error contains the more severe consequence. If a patient believes the drug works at least 75% of the time, this most likely will influence the patient’s (and doctor’s) choice about whether to use the drug as a treatment option."
   ]
  },
  {
   "cell_type": "code",
   "execution_count": null,
   "id": "fa242292-6325-4677-b6b1-aef8be78d99a",
   "metadata": {},
   "outputs": [],
   "source": []
  },
  {
   "cell_type": "markdown",
   "id": "c646cbbb-4071-41ea-be0c-45a4e51694f7",
   "metadata": {},
   "source": [
    "## Distribution Needed for Hypothesis Testing\n",
    "\n",
    "Recall particular distributions are associated with hypothesis testing.\n",
    "\n",
    "**Perform tests of a population mean** using a:\n",
    "* normal distribution, or a\n",
    "* Student's t-distribution\n",
    "    * use a Student's t-distribution when:\n",
    "        * the population `standard deviation` is unknown and\n",
    "        * the distribution of the sample mean is approximately normal.\n",
    "\n",
    "**Perform tests of a proportion** using a normal distribution (usually $n$ is large).\n",
    "\n",
    "Writing a test for a `single population mean`, the distribution for the test is for **means**:\n",
    "* $\\bar{X}\\sim N\\bigl(\\mu_X, \\frac{\\sigma_X}{\\sqrt{n}}\\bigr)$ or $t_{df}$\n",
    "    * The population parameter is $\\mu$\n",
    "    * The estimated value (point estimate) for $\\mu$ is $\\bar{x}$, the sample mean\n",
    "\n",
    "Writing a test for a `single population proportion`, the distribution for the test is for **proportions** or **percentages**:\n",
    "* $P^\\prime \\sim N \\bigl(p, \\sqrt{\\frac{p \\cdot q}{n}}\\bigr)$\n",
    "    * The population parameter is $p$\n",
    "    * The estimated value (point estimate) for $p$ is $p^\\prime$.\n",
    "        * $p^\\prime = \\frac{x}{n}$\n",
    "            * $x$ is the number of successes and\n",
    "            * $n$ is the sample size"
   ]
  },
  {
   "cell_type": "markdown",
   "id": "d6ca36fc-7de5-41fb-9f5f-c1a7bd91f169",
   "metadata": {},
   "source": [
    "### Assumptions\n",
    "\n",
    "* When you perform a **hypothesis test of a single population mean $\\mu$** using a **Student's t-distribution** (t-test):\n",
    "    * Assumptions that need to be met for the test to work properly:\n",
    "        * Data should be a **simple random sample** that comes from a population which is approximately **normally distributed**\n",
    "        * use the sample **standard deviation** to approximate the population stndard deviation.\n",
    "        * (Note, if sample size is sufficiently large, a t-test will work even if the population is not approximately normally distributed)\n",
    "* When you perform a **hypothesis test of a single population mean $\\mu$** using a **normal distribution**:\n",
    "    * Assumptions that need to be met for the test to work properly:\n",
    "        * take a simple random sample from the population\n",
    "        * the population is normally distributed _or_ your sample size is sufficiently large\n",
    "        * You know the value of the population standard deviation (rarely known).\n",
    "* When you perform a **hypothesis test of a single population proportion $p$:\n",
    "    * Assumptions that need to be met for the test to work properly:\n",
    "        * take a simple random sample from the population\n",
    "        * you must meet the conditions for a **binomial distribution**:\n",
    "            * there are a certain number $n$ of independent trials\n",
    "            * the outcomes of any trial are success or failure\n",
    "            * each trial has the same probability of a success $p$\n",
    "        * the shape of the binomial distribution needs to be similar to the shape of the normal distribution.\n",
    "            * to ensure this, the quantities $np$ and $nq$ must both be greater than five ($np \\gt 5$ and $nq \\lt 5$)\n",
    "            * the binomial distribution of a sample (extimated) proportion can be approximated by the normal distribution with:\n",
    "                * $\\mu = p$\n",
    "                * $\\sigma = \\sqrt{\\frac{pq}{n}}$\n",
    "                * Remember that $q=1-p$"
   ]
  },
  {
   "cell_type": "markdown",
   "id": "1602c28e-9f34-433c-ba5f-a423f269ae87",
   "metadata": {},
   "source": [
    "<span style=\"color:yellow\">How to go about a hypothesis test:</span>\n",
    "* <span style=\"color:yellow\">Establish the type of distribution.</span>\n",
    "* <span style=\"color:yellow\">Establish the sample size</span>\n",
    "* <span style=\"color:yellow\">Known or unknown standard deviation can help you figure out how to go about a hypothesis test.</span>\n",
    "\n",
    "<span style=\"color:yellow\">Other items to consider:</span>\n",
    "* **Rare Events**"
   ]
  },
  {
   "cell_type": "markdown",
   "id": "7378f6de-cc52-4dc6-bb43-3da188d564df",
   "metadata": {},
   "source": [
    "### Using the Sample to Test the Null Hypothesis\n",
    "Use the sample data to calculate the actual probability of getting the test result, called the **$p$-value**\n",
    "* $p$-value: the probability that, if the null hypothesis is true, the results from another randomly selected sample will be as extreme or more extreme as the results obtianed from the given sample.\n",
    "* A **large** $p$-value calculated from the data indicates that we should **not reject** the **null hypothesis**.\n",
    "* The **smaller** $p$-value the more unlikely the outcome, and the stronger the evidence is **against the null hypothesis**.\n",
    "* We would **reject** the null hypothesis if the evidence is strongly against it."
   ]
  },
  {
   "cell_type": "markdown",
   "id": "edc7e3be-4adc-4bc6-9e79-b66893f08bb1",
   "metadata": {},
   "source": [
    "<span style=\"color:orange\">Example 9.9</span>\n",
    "Suppose a baker claims that his bread height is more than 15 cm, on average. Several of his customers do not believe him. To persuade his customers that he is right, the baker decides to do a hypothesis test. He bakes 10 loaves of bread. The mean height of the sample loaves is 17 cm. The baker knows from baking hundreds of loaves of bread that the standard deviation for the height is 0.5 cm. and the distribution of heights is normal.\n",
    "\n",
    "$\\therefore$\n",
    "* $n=10$\n",
    "* **$\\sigma$ is known**, $\\sigma = 0.5$ cm (for the height)\n",
    "* $\\bar{x} = 17$ cm\n",
    "* distribution is _normal_"
   ]
  },
  {
   "cell_type": "markdown",
   "id": "cceb748f-6604-4400-b36f-69241728e09f",
   "metadata": {},
   "source": [
    "The null hypothesis could be $H_0 : \\mu \\leq 15$\n",
    "\n",
    "The alternate hypothesis is $H_a : \\mu \\gt 15$\n",
    "\n",
    "$\\therefore$\n",
    "* $\\mu = 15$\n",
    "* $\\frac{\\sigma}{\\sqrt{n}}=\\frac{0.5}{\\sqrt{10}}=0.16$\n",
    "\n",
    "The words **\"is more than\"** translates as a \"$\\gt$\" so \"$\\gt 15$\" goes into the alternate hypothesis.  The null hypothesis must _contradict_ the alternate hypothesis."
   ]
  },
  {
   "attachments": {
    "a316d27b-c72f-4d51-a5be-0f6c460b24ac.png": {
     "image/png": "[encoded data removed]"
    }
   },
   "cell_type": "markdown",
   "id": "9de232c8-3593-4545-83c2-4e33cdef944d",
   "metadata": {},
   "source": [
    "Suppose the null hypothesis is true (the mean height of the loaves is no more than 15 cm). Then is the mean height (17 cm) calculated from the sample unexpectedly large? <span style=\"color:pink\">The hypothesis test works by asking the question how **unlikely** the sample mean would be if the null hypothesis were true</span>. The graph shows how far out the sample mean is on the normal curve.\n",
    "\n",
    "The $p$-value is the probability that, _if we were to take other samples, any other sample mean would fall at least as far out as 17 cm._\n",
    "\n",
    "**The $p$-value, then, is the probability that a sample mean is the same or greater than 17 cm. when the population mean is, in fact, 15 cm**. We can calculate this probability using the normal distribution for means.\n",
    "\n",
    "![image.png](attachment:a316d27b-c72f-4d51-a5be-0f6c460b24ac.png)\n",
    "\n",
    "$p\\text{-value}=P(\\bar{x} \\lt 17)$ which is approximately zero."
   ]
  },
  {
   "cell_type": "code",
   "execution_count": 2,
   "id": "1ab91e77-e0fb-4659-a2b4-8f26bf8e5708",
   "metadata": {},
   "outputs": [
    {
     "data": {
      "text/plain": [
       "3.167124183311998e-05"
      ]
     },
     "execution_count": 2,
     "metadata": {},
     "output_type": "execute_result"
    }
   ],
   "source": [
    "1 - st.norm.cdf(17, loc=15, scale=0.5)"
   ]
  },
  {
   "cell_type": "markdown",
   "id": "b8cc8097-68fc-441f-a8c0-efc4bb803315",
   "metadata": {},
   "source": [
    "A p-value of approximately zero tells us that it is highly unlikely that a loaf of bread rises no more than 15 cm, on average. That is, almost 0% of all loaves of bread would be at least as high as 17 cm. **purely by CHANCE** had the population mean height really been 15 cm. Because the outcome of 17 cm. is so **unlikely (meaning it is happening NOT by chance alone**), we conclude that the evidence is strongly against the null hypothesis (the mean height is at most 15 cm.). There is sufficient evidence that the true mean height for the population of the baker's loaves of bread is greater than 15 cm."
   ]
  },
  {
   "cell_type": "code",
   "execution_count": null,
   "id": "07c0648d-8d0e-4dbc-ad35-380118b5f385",
   "metadata": {},
   "outputs": [],
   "source": []
  },
  {
   "cell_type": "markdown",
   "id": "f80eec15-4188-4f90-8013-7fb3d5f48542",
   "metadata": {},
   "source": [
    "### Decision and Conclusion\n",
    "A systematic way to make a decision of whether to reject or not reject the **null hypothesis** is to compare the $p$-value and a **preset or preconceived $\\alpha$ (also called a \"significance level\")**.\n",
    "\n",
    "A preset $\\alpha$ is the probabilility of a **Type I error** (rejecting the null hypothesis whent he null hypothesis is true).  It may or may not be given to you at the beginning of the problem.\n",
    "\n",
    "When you make a **decision** to reject or not reject $H_0$, do as follows:\n",
    "* If $\\alpha \\gt p$-value, reject $H_0$. The results of the sample data are significant. There is sufficient evidence to conclude that H0 is an incorrect belief and that the **alternative hypothesis**, $H_\\alpha$, may be correct.\n",
    "* If $\\alpha \\leq p$-value, do not reject $H_0$. The results of the sample data are not significant.There is not sufficient evidence to conclude that the alternative hypothesis,Ha, may be correct.\n",
    "* When you \"do not reject $H_0$\", it does not mean that you should believe that $H_0$ is true. It simply means that the sample data have failed to provide sufficient evidence to cast serious doubt about the truthfulness of $H_0$.\n",
    "\n",
    "**Conclusion**: After you make your decision, write a thoughtful **conclusion** about the hypotheses in terms of the given problem."
   ]
  },
  {
   "cell_type": "markdown",
   "id": "47691094-9723-420f-a8bf-17e07b51a62d",
   "metadata": {},
   "source": [
    "<span style=\"color:orange\">Example 9.10</span>\n",
    "\n",
    "When using the $p$-value to evaluate a hypothesis test, it is sometimes useful to use the following memory device\n",
    "\n",
    "If the $p$-value is low, the null must go.\n",
    "\n",
    "If the $p$-value is high, the null must fly.\n",
    "\n",
    "This memory aid relates a $p$-value less than the established alpha (the $p$ is low) as rejecting the null hypothesis and, likewise, relates a $p$-value higher than the established alpha (the $p$ is high) as not rejecting the null hypothesis.\n",
    "\n",
    "Fill in the blanks.\n",
    "\n",
    "Reject the null hypothesis when `the p-value is less than the established alpha value`. The results of the sample data `support the alternative hypothesis`.\n",
    "\n",
    "Do not reject the null when hypothesis when `the p-value is greater than the established alpha value`. The results of the sample data `do not support the alternative hypothesis`."
   ]
  },
  {
   "cell_type": "code",
   "execution_count": null,
   "id": "15751483-0664-435a-a34c-a8caa7530078",
   "metadata": {},
   "outputs": [],
   "source": []
  },
  {
   "cell_type": "markdown",
   "id": "cc6f5baa-a0b9-43ec-adc6-184eda60502c",
   "metadata": {},
   "source": [
    "## Additional Information and Full Hypothesis Text Examples\n",
    "\n",
    "* In a **hypothesis test** problem, you may see words such as \"the level of significance is 1%.\" The \"1%\" is the preconceived or preset $\\alpha$.\n",
    "* The statistician setting up the hypothesis test selects the value of α to use **before** collecting the sample data.\n",
    "* **If no level of significance is given, a common standard to use is $\\alpha = 0.05$**.\n",
    "* When you calculate the p-value and draw the picture, the $p$-value is the area in the left tail, the right tail, or split evenly between the two tails. For this reason, we call the hypothesis test left, right, or two tailed.\n",
    "* The **alternative hypothesis**,  $H_\\alpha$ , tells you if the test is left, right, or two-tailed. It is the **key** to conducting the appropriate test.\n",
    "* $H\\alpha$ never has a symbol that contains an equal sign.\n",
    "* Thinking about the meaning of the p-value: A data analyst (and anyone else) should have more confidence that he made the correct decision to reject the null hypothesis with a smaller p-value (for example, 0.001 as opposed to 0.04) even if using the 0.05 level for alpha. Similarly, for a large $p$-value such as 0.4, as opposed to a p-value of 0.056 (alpha = 0.05 is less than either number), a data analyst should have more confidence that she made the correct decision in not rejecting the null hypothesis. This makes the data analyst use judgment rather than mindlessly applying rules.\n",
    "The following examples illustrate a left-, right-, and two-tailed test."
   ]
  },
  {
   "attachments": {
    "2e293e47-c3e7-47db-b1a8-cc2a7c29d149.png": {
     "image/png": "[encoded data removed]"
    }
   },
   "cell_type": "markdown",
   "id": "fe1dfe6a-7311-48e2-90be-e127d949e084",
   "metadata": {},
   "source": [
    "<span style=\"color:orange\">Example 9.11</span>\n",
    "\n",
    "* $H_0: \\mu=5$\n",
    "* $H_\\alpha: \\mu \\lt 5$\n",
    "\n",
    "Test of a single population mean.\n",
    "\n",
    "$H_\\alpha$ tells you the test is left-tailed.\n",
    "\n",
    "The picture of the $p$-value is as follows:\n",
    "\n",
    "![image.png](attachment:2e293e47-c3e7-47db-b1a8-cc2a7c29d149.png)"
   ]
  },
  {
   "cell_type": "code",
   "execution_count": null,
   "id": "df0177ce-e032-4cee-8a8e-2b8c9f2842e7",
   "metadata": {},
   "outputs": [],
   "source": []
  },
  {
   "attachments": {
    "7b485cb9-deda-4423-b969-f6f7c95ad0f4.png": {
     "image/png": "[encoded data removed]"
    }
   },
   "cell_type": "markdown",
   "id": "28e6f515-acee-415d-b042-8af5ecb4caf4",
   "metadata": {},
   "source": [
    "<span style=\"color:orange\">Example 9.12</span>\n",
    "\n",
    "* $H_0: p \\leq 0.2$\n",
    "* $H_\\alpha: p \\gt 0.2$\n",
    "\n",
    "This is a test of a single population proportion.\n",
    "\n",
    "$H_\\alpha$ tells you the test is **right-tailed**.\n",
    "\n",
    "The picture of the p-value is as follows:\n",
    "\n",
    "![image.png](attachment:7b485cb9-deda-4423-b969-f6f7c95ad0f4.png)"
   ]
  },
  {
   "cell_type": "code",
   "execution_count": null,
   "id": "2351d148-259b-42c0-a95d-799f1a6b7d85",
   "metadata": {},
   "outputs": [],
   "source": []
  },
  {
   "attachments": {
    "69346d08-8e09-4571-bd3b-11764d9fe368.png": {
     "image/png": "[encoded data removed]"
    }
   },
   "cell_type": "markdown",
   "id": "e86975fb-d44a-483e-b46f-f88e9057c48e",
   "metadata": {},
   "source": [
    "<span style=\"color:orange\">Example 9.13</span>\n",
    "\n",
    "* $H_0: p = 50$\n",
    "* $H_\\alpha: p \\ne 50$\n",
    "\n",
    "This is a test of a single population mean.\n",
    "\n",
    "$H_\\alpha$ tells you the test is **two-tailed**.\n",
    "\n",
    "The picture of the $p$-value is as follows.\n",
    "\n",
    "![image.png](attachment:69346d08-8e09-4571-bd3b-11764d9fe368.png)"
   ]
  },
  {
   "cell_type": "code",
   "execution_count": null,
   "id": "ee38f519-6864-428e-82de-f06551e96f95",
   "metadata": {},
   "outputs": [],
   "source": []
  },
  {
   "cell_type": "markdown",
   "id": "a38df409-4e49-4e2e-8867-27cea0d0edcb",
   "metadata": {},
   "source": [
    "### Full Hypothesis Test Examples"
   ]
  },
  {
   "cell_type": "markdown",
   "id": "9e787b28-7eaf-42cd-ac49-d5aa6dc0b819",
   "metadata": {},
   "source": [
    "<span style=\"color:orange\">Example 9.14</span>\n",
    "\n",
    "Jeffrey, as an eight-year old, **established a mean time of 16.43 seconds** for swimming the 25-yard freestyle, with a **standard deviation of 0.8 seconds**. His dad, Frank, thought that Jeffrey could swim the 25-yard freestyle faster using goggles. Frank bought Jeffrey a new pair of expensive goggles and timed Jeffrey for **15 25-yard freestyle swims**. For the 15 swims, **Jeffrey's mean time was 16 seconds. Frank thought that the goggles helped Jeffrey to swim faster than the 16.43 seconds**. Conduct a hypothesis test using a preset α = 0.05. Assume that the swim times for the 25-yard freestyle are normal."
   ]
  },
  {
   "cell_type": "markdown",
   "id": "d943cf0d-c4a6-4e0d-9c78-90f8cf1c9f90",
   "metadata": {},
   "source": [
    "**Setup the hypothesis test**:\n",
    "\n",
    "swimming 25-yard freestyle\n",
    "\n",
    "\n",
    "Since the problem is about a mean, this is a test of a **single population mean**.\n",
    "* $H_0: \\mu = 16.43 $\n",
    "* $H_\\alpha : \\mu \\lt 16.43$\n",
    "\n",
    "For Jeffrey to swim faster, his time will be less than 16.43 seconds. The \"<\" tells you this is left-tailed.\n",
    "\n",
    "Determine the distribution needed:\n",
    "\n",
    "**Random Variable**: $\\bar{X}=$ the mean time to swim the 25-yard freestyle.\n",
    "\n",
    "**Distribution for the test**: $\\bar{X}=$ is normal (population **standard deviation** is known: $\\sigma = 0.8$)\n",
    "* $\\bar{X} \\sim N \\bigl( \\mu , \\frac{\\sigma_x}{\\sqrt{n}} \\bigr)$ Therefore, $\\bar{X} \\sim N \\bigl(16.43, \\frac{0.8}{\\sqrt{15}} \\bigr)$\n",
    "\n",
    "* $\\mu = 16.43 $ seconds, comes from $H_0$ and not the data.\n",
    "* $\\sigma = 0.8$ seconds\n",
    "\n",
    "With new goggles:\n",
    "* $n = 15$\n",
    "* $\\bar{x} = 16$ seconds\n",
    "\n",
    "Calculate the $[$-value using the normal distribution for a mean:\n",
    "\n",
    "$p$-value $=P(\\bar{x}\\lt 16 = 0.0187)$ where the sample mean in the problem is given as 16.\n",
    "\n",
    "Father thinks with goggles Jeffrey swam faster than the 16.43 seconds.\n",
    "* preset $\\alpha = 0.05$\n",
    "* Assume swim times for 25-yard freestyle are normal.\n"
   ]
  },
  {
   "cell_type": "code",
   "execution_count": 3,
   "id": "6542abd9-13d7-4d48-8051-9cdf88156b3a",
   "metadata": {},
   "outputs": [
    {
     "data": {
      "text/plain": [
       "0.018683635713606015"
      ]
     },
     "execution_count": 3,
     "metadata": {},
     "output_type": "execute_result"
    }
   ],
   "source": [
    "st.norm.cdf(16, loc=16.43, scale=0.8/math.sqrt(15))"
   ]
  },
  {
   "attachments": {
    "d7be6a7e-21e3-4d72-931c-e39a44874efd.png": {
     "image/png": "[encoded data removed]"
    }
   },
   "cell_type": "markdown",
   "id": "cef64e9b-7292-4564-8252-440a50c4e80a",
   "metadata": {},
   "source": [
    "![image.png](attachment:d7be6a7e-21e3-4d72-931c-e39a44874efd.png)"
   ]
  },
  {
   "cell_type": "markdown",
   "id": "b9250ebf-615b-44bc-8c80-a6bd892db26f",
   "metadata": {},
   "source": [
    "$p$-value = 0.0187 (This is called the **actual level of significance**.) The p-value is the area to the left of the sample mean is given as 16.\n",
    "\n",
    "$\\mu$ = 16.43 comes from $H_0$. Our assumption is $\\mu = 16.43$.\n",
    "\n",
    "**Interpretation of the p-value: If $H_0$ is true**, there is a 0.0187 probability (1.87%)that Jeffrey's mean time to swim the 25-yard freestyle is 16 seconds or less. Because a 1.87% chance is small, the mean time of 16 seconds or less is unlikely to have happened randomly. It is a rare event.\n",
    "\n",
    "<span style=\"color:lightblue\">Compare $\\alpha$ and the $p$-value:</span>\n",
    "\n",
    "$\\alpha$ = 0.05 $p$-value = 0.0187 $\\alpha$ > $p$-value\n",
    "\n",
    "**Make a decision**: Since $\\alpha$ > $p$-value, reject $H_0$.\n",
    "\n",
    "This means that you reject $\\mu = 16.43$. In other words, you do not think Jeffrey swims the 25-yard freestyle in 16.43 seconds but faster with the new goggles.\n",
    "\n",
    "**Conclusion**: At the 5% significance level, we conclude that Jeffrey swims faster using the new goggles. The sample data show there is sufficient evidence that Jeffrey's mean time to swim the 25-yard freestyle is less than 16.43 seconds.\n",
    "\n",
    "The $p$-value can easily be calculated."
   ]
  },
  {
   "cell_type": "markdown",
   "id": "b669a208-46c9-43e9-94c6-4573c954ebef",
   "metadata": {},
   "source": [
    "The Type I and Type II errors for this problem are as follows:\n",
    "\n",
    "The Type I error is to conclude that Jeffrey swims the 25-yard freestyle, on average, in less than 16.43 seconds when, in fact, he actually swims the 25-yard freestyle, on average, in 16.43 seconds. (Reject the null hypothesis when the null hypothesis is true.)\n",
    "\n",
    "The Type II error is that there is not evidence to conclude that Jeffrey swims the 25-yard free-style, on average, in less than 16.43 seconds when, in fact, he actually does swim the 25-yard free-style, on average, in less than 16.43 seconds. (Do not reject the null hypothesis when the null hypothesis is false.)"
   ]
  },
  {
   "cell_type": "code",
   "execution_count": null,
   "id": "01002bc3-de87-4910-81d8-e991f12774f8",
   "metadata": {},
   "outputs": [],
   "source": []
  },
  {
   "cell_type": "markdown",
   "id": "04857c5f-0978-4f92-97c6-3a03a288ceda",
   "metadata": {},
   "source": [
    "<span style=\"color:orange\">Example 9.15</span>\n",
    "\n",
    "A college football coach records the mean weight that his players can bench press as **275 pounds**, with a **standard deviation of 55 pounds**. Three of his players thought that the mean weight was **more than** that amount. They asked **30** of their teammates for their estimated maximum lift on the bench press exercise. The data ranged from 205 pounds to 385 pounds. The actual different weights were (frequencies are in parentheses) 205(3); 215(3); 225(1); 241(2); 252(2); 265(2); 275(2); 313(2); 316(5); 338(2); 341(1); 345(2); 368(2); 385(1).\n",
    "Conduct a hypothesis test using a 2.5% level of significance to determine if the bench press mean is **more than 275 pounds**."
   ]
  },
  {
   "cell_type": "code",
   "execution_count": 4,
   "id": "32439734-c2b0-4671-b806-a60800a955af",
   "metadata": {},
   "outputs": [],
   "source": [
    "sample_data = [\n",
    "    205, 205, 205, 215, 215, 215, 225,\n",
    "    241, 241, 252, 252, 265, 265, 275,\n",
    "    275, 313, 313, 316, 316, 316, 316,\n",
    "    316, 338, 338, 341, 345, 345, 368,\n",
    "    368, 385\n",
    "]"
   ]
  },
  {
   "cell_type": "code",
   "execution_count": 5,
   "id": "5db6f29d-49ce-4e5a-9cdc-a1d76fe09958",
   "metadata": {},
   "outputs": [
    {
     "data": {
      "text/plain": [
       "30"
      ]
     },
     "execution_count": 5,
     "metadata": {},
     "output_type": "execute_result"
    }
   ],
   "source": [
    "len(sample_data)"
   ]
  },
  {
   "cell_type": "code",
   "execution_count": 6,
   "id": "612bfb8c-4772-4bd5-a886-d01ea2761720",
   "metadata": {},
   "outputs": [
    {
     "data": {
      "text/plain": [
       "286.1666666666667"
      ]
     },
     "execution_count": 6,
     "metadata": {},
     "output_type": "execute_result"
    }
   ],
   "source": [
    "sum(sample_data)/len(sample_data)"
   ]
  },
  {
   "cell_type": "markdown",
   "id": "e05877df-623f-4353-b3c3-d57547802fbd",
   "metadata": {},
   "source": [
    "The problem is about a mean weight, this is a **test of a single population mean**.\n",
    "\n",
    "Calculate the distribution needed:\n",
    "\n",
    "Random variable: $\\bar{X}$ = the mean weight, in pounds, lifted by the football players.\n",
    "\n",
    "Distribution for the test: It is a normal because $\\sigma$ is known.\n",
    "\n",
    "$\\bar{X} \\sim N \\bigl( 275, \\frac{55}{\\sqrt{30}} \\bigr)$\n",
    "\n",
    "So,\n",
    "* $\\mu = 275$ pounds\n",
    "* $\\sigma = 55$ pounds\n",
    "\n",
    "Hypotheses:\n",
    "* $H_0: \\mu = 275$\n",
    "* $H_a: \\mu \\gt 275$\n",
    "* $\\alpha = 0.025$\n",
    "\n",
    "This is a right-tailed test.\n",
    "\n",
    "* $n=30$\n",
    "* $\\bar{x} = 286.166$ (derived from the data)"
   ]
  },
  {
   "cell_type": "code",
   "execution_count": 7,
   "id": "4633d66d-48b0-43c0-a63e-c39c4e7bca89",
   "metadata": {},
   "outputs": [
    {
     "data": {
      "text/plain": [
       "0.13307415356649321"
      ]
     },
     "execution_count": 7,
     "metadata": {},
     "output_type": "execute_result"
    }
   ],
   "source": [
    "1 - st.norm.cdf(286.166, loc=275, scale=55/math.sqrt(30))"
   ]
  },
  {
   "attachments": {
    "fd203265-8687-4004-b7e8-79a2ff86824e.png": {
     "image/png": "[encoded data removed]"
    }
   },
   "cell_type": "markdown",
   "id": "04cde4bf-9545-4c60-ad0b-94bddf1c8534",
   "metadata": {},
   "source": [
    "![image.png](attachment:fd203265-8687-4004-b7e8-79a2ff86824e.png)"
   ]
  },
  {
   "cell_type": "markdown",
   "id": "4467326a-de4a-4f76-ba2e-1e1f6388f09f",
   "metadata": {},
   "source": [
    "$p-\\text{value } = P(\\bar{x} \\gt 286.2) = 0.1323$\n",
    "\n",
    "**Interpretation of the $p$-value**: If H$_0$ is true, then there is a 0.1331 probability (13.23%) that the football players can lift a mean weight of 286.2 pounds or more. Because a 13.23% chance is large enough, a mean weight lift of 286.2 pounds or more is not a rare event.\n",
    "\n",
    "Compare $\\alpha$ and the $p$-value:\n",
    "\n",
    "$\\alpha$ = 0.025 $p$-value = 0.1323\n",
    "\n",
    "**Make a decision**: Since $\\alpha$ < $p$-value, do not reject $H_0$.\n",
    "\n",
    "**Conclusion**: At the 2.5% level of significance, from the sample data, there is not sufficient evidence to conclude that the true mean weight lifted is more than 275 pounds.\n",
    "\n",
    "The $p$-value can easily be calculated."
   ]
  },
  {
   "cell_type": "code",
   "execution_count": null,
   "id": "893f3e15-0260-4daf-a106-c24e351dc91a",
   "metadata": {},
   "outputs": [],
   "source": []
  },
  {
   "cell_type": "markdown",
   "id": "5f26e5e1-9de8-42da-b67d-e7f7330ec11c",
   "metadata": {},
   "source": [
    "<span style=\"color:orange\">Example 9.16</span>\n",
    "\n",
    "Statistics students believe that the mean score on the first statistics test is 65. A statistics instructor thinks the mean score is higher than 65. He samples ten statistics students and obtains the scores 65; 65; 70; 67; 66; 63; 63; 68; 72; 71. He performs a hypothesis test using a 5% level of significance. The data are assumed to be from a normal distribution."
   ]
  },
  {
   "cell_type": "code",
   "execution_count": 8,
   "id": "1d806568-6cad-4fce-bcae-9c4b4ff70f68",
   "metadata": {},
   "outputs": [],
   "source": [
    "sample_data = [65, 65, 70, 67, 66, 63, 63, 68, 72, 71]"
   ]
  },
  {
   "cell_type": "code",
   "execution_count": 9,
   "id": "a91a25ad-cf10-4db3-8525-2ad523ca396d",
   "metadata": {},
   "outputs": [
    {
     "data": {
      "text/plain": [
       "67.0"
      ]
     },
     "execution_count": 9,
     "metadata": {},
     "output_type": "execute_result"
    }
   ],
   "source": [
    "sum(sample_data)/len(sample_data)"
   ]
  },
  {
   "cell_type": "markdown",
   "id": "62d012ab-1c5c-4dac-9946-ecbe2271f1cc",
   "metadata": {},
   "source": [
    "* The test is for a single population mean\n",
    "* WE DO NOT KNOW $\\sigma$, the population standard deviation - therefore we must use a student's t-test\n",
    "* $n = 10$\n",
    "* $\\mu = 65$\n",
    "* $\\bar{x} = 67$\n",
    "* $\\alpha = 0.05$\n",
    "* $H_0: \\mu = 65$\n",
    "* $H_a: \\mu \\gt 65$\n",
    "\n",
    "Since the instructor thinks the average score is higher, use a \">\". The \">\" means the test is right-tailed.\n",
    "\n",
    "* $t_{df} = t_{10-1} = t_9$"
   ]
  },
  {
   "cell_type": "markdown",
   "id": "5ae5d0bc-3571-4f34-b0cc-8f26a3b18302",
   "metadata": {},
   "source": [
    "Calculate the p-value using the Student's t-distribution:\n",
    "\n",
    "$p$-value = $P(\\bar{x} \\gt 67)=0.0396$ where the sample mean and sample standard deviation are calculated as 67 and 3.1972 from the data."
   ]
  },
  {
   "cell_type": "code",
   "execution_count": 10,
   "id": "974f06e0-d29d-4888-8bb3-eb75e3cb5458",
   "metadata": {},
   "outputs": [
    {
     "data": {
      "text/plain": [
       "3.197221015541813"
      ]
     },
     "execution_count": 10,
     "metadata": {},
     "output_type": "execute_result"
    }
   ],
   "source": [
    "st.tstd(sample_data)"
   ]
  },
  {
   "cell_type": "code",
   "execution_count": 11,
   "id": "8214c951-29ee-4b12-bf1f-5c54cf6388bf",
   "metadata": {},
   "outputs": [
    {
     "data": {
      "text/plain": [
       "0.2658059395805097"
      ]
     },
     "execution_count": 11,
     "metadata": {},
     "output_type": "execute_result"
    }
   ],
   "source": [
    "1 - st.norm.cdf(67, loc=65, scale=3.1972)"
   ]
  },
  {
   "cell_type": "code",
   "execution_count": 12,
   "id": "27851199-72a3-425a-bd29-034b507a83ff",
   "metadata": {},
   "outputs": [
    {
     "data": {
      "text/plain": [
       "0.7264277292244297"
      ]
     },
     "execution_count": 12,
     "metadata": {},
     "output_type": "execute_result"
    }
   ],
   "source": [
    "st.t.cdf(67, loc=65, scale=3.1972, df=9)"
   ]
  },
  {
   "cell_type": "code",
   "execution_count": 13,
   "id": "67cc342b-e291-461a-83bd-8170fdbd490e",
   "metadata": {},
   "outputs": [
    {
     "data": {
      "text/plain": [
       "0.03827641188535047"
      ]
     },
     "execution_count": 13,
     "metadata": {},
     "output_type": "execute_result"
    }
   ],
   "source": [
    "1 - st.t.cdf(67, loc=65, df=9)"
   ]
  },
  {
   "attachments": {
    "fc5cb45d-39a2-4fd9-af9b-247e86410cf7.png": {
     "image/png": "[encoded data removed]"
    }
   },
   "cell_type": "markdown",
   "id": "ea3fc3fc-dc67-484e-9a39-874e325f0374",
   "metadata": {},
   "source": [
    "**Interpretation of the $p$-value**: If the null hypothesis is true, then there is a 0.0396 probability (3.96%) that the sample mean is 65 or more.\n",
    "\n",
    "![image.png](attachment:fc5cb45d-39a2-4fd9-af9b-247e86410cf7.png)\n",
    "\n",
    "Compare $\\alpha$ and the $p$-value:\n",
    "\n",
    "Since $\\alpha = 0.05$ and $p$-value = 0.0396. $\\alpha$ > p-value.\n",
    "\n",
    "Make a decision: Since $\\alpha$ > $p$-value, reject $H_0$.\n",
    "\n",
    "This means you reject $\\mu = 65$. In other words, you believe the average test score is more than 65.\n",
    "\n",
    "Conclusion: At a 5% level of significance, the sample data show sufficient evidence that the mean (average) test score is more than 65, just as the math instructor thinks.\n",
    "\n",
    "The p-value can easily be calculated."
   ]
  },
  {
   "cell_type": "code",
   "execution_count": null,
   "id": "cd2439e4-81eb-4cb8-bbad-8bd1278e966b",
   "metadata": {},
   "outputs": [],
   "source": []
  },
  {
   "cell_type": "markdown",
   "id": "f76a3632-5cbb-409c-a1d7-52b50109279b",
   "metadata": {},
   "source": [
    "<span style=\"color:orange\">Example 9.17</span>\n",
    "\n",
    "Joon believes that 50% of first-time brides in the United States are younger than their grooms. She performs a hypothesis test to determine if the percentage is **the same or different from 50%**. Joon samples **100 first-time brides** and **53** reply that they are younger than their grooms. For the hypothesis test, she uses a 1% level of significance."
   ]
  },
  {
   "cell_type": "code",
   "execution_count": null,
   "id": "92a2a790-ce3f-4273-bcef-34fa5c533898",
   "metadata": {},
   "outputs": [],
   "source": []
  },
  {
   "cell_type": "markdown",
   "id": "e1558f64-299e-4b60-b8d5-03622a3aa0f1",
   "metadata": {},
   "source": [
    "##### Set up the hypothesis test:\n",
    "The 1% level of significance means that:\n",
    "* $\\alpha = 0.01$\n",
    "\n",
    "This is a **test of a single population proportion**\n",
    "* $H_0: p = 0.50$\n",
    "* $H_a: p \\ne 0.50$\n",
    "\n",
    "The words **\"is the same or different from\"** tell you this is a two-tailed test.\n",
    "\n",
    "##### Calculate the distribution needed:\n",
    "* **Random variable**: $P^\\prime$ = the percent of first-time brides who are younger than their grooms.\n",
    "* **Distribution for the test**: The problem contains no mention of a mean.  The information is given in terms of percentages.  Use the distribution for $P^\\prime$, the estimated proportion.\n",
    "* $p=0.50$\n",
    "* $q=1-p=0.50$\n",
    "* $n=100$\n",
    "* $P^\\prime \\sim N \\bigl (p, \\sqrt{\\frac{p \\cdot q}{n}} \\bigr) \\therefore, P^\\prime \\sim N \\bigl (0.5, \\sqrt{\\frac{0.5 \\cdot 0.5}{100}} \\bigr)$\n",
    "\n",
    "##### Calculate the p-value using the normal distribution for proportions:\n",
    "* $p\\text{-value } = P(p^\\prime \\lt 0.47 \\text{ or } p^\\prime \\gt 0.53) = 0.5485$\n",
    "* where\n",
    "* $x=53$\n",
    "* $p^\\prime = \\frac{x}{n}=\\frac{53}{100}=0.53$"
   ]
  },
  {
   "attachments": {
    "5965703a-eb2d-4bd0-ac0c-135f364d4003.png": {
     "image/png": "[encoded data removed]"
    }
   },
   "cell_type": "markdown",
   "id": "5f8eaf93-2e2f-497f-ac8f-5afab638e9d0",
   "metadata": {},
   "source": [
    "![image.png](attachment:5965703a-eb2d-4bd0-ac0c-135f364d4003.png)"
   ]
  },
  {
   "cell_type": "markdown",
   "id": "af751b18-ba93-466c-a0bd-2ce5b4788d7d",
   "metadata": {},
   "source": [
    "**Interpretation of the $p$-value**: If the null hypothesis is true, there is 0.5485 probability (54.85%) that the sample (estimated) proportion $p^\\prime$ is 0.53 or more OR 0.47 or less.\n",
    "\n",
    "$\\mu = p = 0.50$ comes from $H_0$, the null hypothesis.\n",
    "\n",
    "$p^\\prime = 0.53$. Since the curve is symmetrical and the test is two-tailed, the $p^\\prime$ for the left tail is equal to 0.50 – 0.03 = 0.47 where $\\mu = p = 0.50$. (0.03 is the difference between 0.53 and 0.50.)\n",
    "\n",
    "Compare $\\alpha$ and the $p$-value:\n",
    "\n",
    "Since $\\alpha = 0.01$ and $p$-value = 0.5485. $\\alpha \\lt p-$value.\n",
    "\n",
    "**Make a decision**:\n",
    "* Since $\\alpha \\lt p-$value, you cannot reject $H_0$.\n",
    "\n",
    "**Conclusion**:\n",
    "* At the 1% level of significance, the sample data do not show sufficient evidence that the percentage of first-time brides who are younger than their grooms is different from 50%.\n",
    "\n",
    "The $p$-value can easily be calculated."
   ]
  },
  {
   "cell_type": "code",
   "execution_count": null,
   "id": "6f6fbdf4-a0c1-4f86-95c1-f6be8048a337",
   "metadata": {},
   "outputs": [],
   "source": []
  },
  {
   "cell_type": "markdown",
   "id": "7f8b017e-b2a3-46a9-a8f2-a40205ec0b7e",
   "metadata": {},
   "source": [
    "<span style=\"color:orange\">Example 9.18</span>\n",
    "\n",
    "Suppose a consumer group suspects that the proportion of households that have three cell phones is 30%. A cell phone company has reason to believe that the proportion is not 30%. Before they start a big advertising campaign, they conduct a hypothesis test. Their marketing people survey 150 households with the result that 43 of the households have three cell phones."
   ]
  },
  {
   "cell_type": "markdown",
   "id": "32ab0518-8df0-4b85-9387-eeb3ca6123e5",
   "metadata": {},
   "source": [
    "b.  What is a **success** for this problem?\n",
    "\n",
    "c. What is the level of significance?\n",
    "\n",
    "d. Draw the graph for this problem. Draw the horizontal axis. Label and shade appropriately.\n",
    "Calculate the $p$-value.\n",
    "\n",
    "e. Make a decision. _____________(Reject/Do not reject) $H_0$ because____________."
   ]
  },
  {
   "cell_type": "markdown",
   "id": "4bdd942f-2c5c-4e03-a493-e6093e06b751",
   "metadata": {},
   "source": [
    "#### The Hypothesis Test:\n",
    "* $H_0: p = 0.30$\n",
    "* $H_a: p \\ne 0.30$\n",
    "\n",
    "#### Determine distribution needed:\n",
    "* The **random variable** is $P^\\prime = $ proportion of households that have three cell phones.\n",
    "* the **distribution** for the hypothesis test is $P^\\prime \\sim N \\bigl ( 0.30, \\sqrt{\\frac{(0.30) \\cdot (0.70)}{150}} \\bigr)$\n",
    "\n",
    "a. The value that helps determine the p-value is p′. Calculate p′.\n",
    "\n",
    "* $p^\\prime = \\frac{x}{n}$ where x is the number of successes and n is the total number in the sample.\n",
    "* $x=43$\n",
    "* $n=150$\n",
    "* $p^\\prime = \\frac{43}{150} = 0.287$\n",
    "\n",
    "b.  What is a **success** for this problem?\n",
    "\n",
    "A success is having three cell phones in a household.\n",
    "\n",
    "c. What is the level of significance?\n",
    "\n",
    "The level of significance is the preset $\\alpha$.  Since $\\alpha$ is not given, assume that $\\alpha = 0.05$.\n",
    "\n",
    "d. Draw the graph for this problem. Draw the horizontal axis. Label and shade appropriately.\n",
    "Calculate the $p$-value.\n",
    "\n",
    "$p\\text{-value } = 0.7216$\n",
    "\n",
    "e. Make a decision. (Reject/Do not reject) $H_0$ because.\n",
    "\n",
    "Assuming that $\\alpha = 0.05$, $\\alpha \\lt p\\text{-value}$. The decision is do not reject $H_0$ because there is not sufficient evidence to conclude that the proportion of households that have three cell phones is not 30%."
   ]
  },
  {
   "cell_type": "code",
   "execution_count": 14,
   "id": "6df9b51d-e14d-4202-8e5c-57da0994c34b",
   "metadata": {},
   "outputs": [
    {
     "data": {
      "text/plain": [
       "(0.3, 0.03741657386773942)"
      ]
     },
     "execution_count": 14,
     "metadata": {},
     "output_type": "execute_result"
    }
   ],
   "source": [
    "(.30, math.sqrt((0.30*0.70)/150))"
   ]
  },
  {
   "cell_type": "code",
   "execution_count": 15,
   "id": "5d0020a2-f734-4127-8649-4dfbc7dfcceb",
   "metadata": {},
   "outputs": [
    {
     "data": {
      "text/plain": [
       "0.2866666666666667"
      ]
     },
     "execution_count": 15,
     "metadata": {},
     "output_type": "execute_result"
    }
   ],
   "source": [
    "43/150"
   ]
  },
  {
   "cell_type": "code",
   "execution_count": 16,
   "id": "7ca3cb99-4b77-4947-96d4-55b99ab40181",
   "metadata": {},
   "outputs": [
    {
     "data": {
      "text/plain": [
       "0.7210344862665174"
      ]
     },
     "execution_count": 16,
     "metadata": {},
     "output_type": "execute_result"
    }
   ],
   "source": [
    "1 - st.norm.ppf(0.287, loc=.30, scale=0.03741657386773942)"
   ]
  },
  {
   "cell_type": "code",
   "execution_count": null,
   "id": "6cc72378-b5e2-4746-b3ff-f4442d3f3b01",
   "metadata": {},
   "outputs": [],
   "source": []
  },
  {
   "cell_type": "markdown",
   "id": "0517640d-3b99-4f25-933b-f1667e48f97d",
   "metadata": {},
   "source": [
    "<span style=\"color:red\">Example 9.19</span>\n",
    "\n",
    "My dog has so many fleas,\n",
    "They do not come off with ease.\n",
    "As for shampoo, I have tried many types\n",
    "Even one called Bubble Hype,\n",
    "Which only killed 25% of the fleas,\n",
    "Unfortunately I was not pleased.\n",
    "\n",
    "I've used all kinds of soap,\n",
    "Until I had given up hope\n",
    "Until one day I saw\n",
    "An ad that put me in awe.\n",
    "\n",
    "A shampoo used for dogs\n",
    "Called GOOD ENOUGH to Clean a Hog\n",
    "Guaranteed to kill more fleas.\n",
    "\n",
    "I gave Fido a bath\n",
    "And after doing the math\n",
    "His number of fleas\n",
    "Started dropping by 3's!\n",
    "\n",
    "Before his shampoo\n",
    "I counted 42.\n",
    "At the end of his bath,\n",
    "I redid the math\n",
    "And the new shampoo had killed 17 fleas.\n",
    "So now I was pleased.\n",
    "\n",
    "Now it is time for you to have some fun\n",
    "With the level of significance being .01,\n",
    "You must help me figure out\n",
    "Use the new shampoo or go without?"
   ]
  },
  {
   "cell_type": "code",
   "execution_count": null,
   "id": "00cc81af-2bba-451f-8093-5a033fb304a2",
   "metadata": {},
   "outputs": [],
   "source": []
  },
  {
   "cell_type": "markdown",
   "id": "4edd3639-899e-44f2-b4a6-413c9f15df1a",
   "metadata": {},
   "source": [
    "#### Setup the Hypothesis test:\n",
    "* $H_0: p \\leq 0.25$\n",
    "* $H_a: p \\gt 0.25$\n",
    "\n",
    "#### Determine the distribution needed:\n",
    "* $P^\\prime$ = The proportion of fleas that are killed by the shampoo\n",
    "* **Normal**: $N \\bigl ( 0.25, \\sqrt{\\frac{(0.25)(1-0.25)}{42}} \\bigr)$\n",
    "* **Test Statistic**: $z=2.3163$\n",
    "* $p$-value using normal distribution for proportions:\n",
    "    * $p\\text{-value } = 0.0103$"
   ]
  },
  {
   "cell_type": "code",
   "execution_count": 17,
   "id": "c7d5a68f-1886-44c5-984b-45f3f25f5011",
   "metadata": {},
   "outputs": [
    {
     "data": {
      "text/plain": [
       "0.40476190476190477"
      ]
     },
     "execution_count": 17,
     "metadata": {},
     "output_type": "execute_result"
    }
   ],
   "source": [
    "17/42"
   ]
  },
  {
   "cell_type": "code",
   "execution_count": 18,
   "id": "59a7fcbd-51df-42b0-b12b-37c1875443fa",
   "metadata": {},
   "outputs": [
    {
     "data": {
      "text/plain": [
       "(0.25, 0.0668153104781061)"
      ]
     },
     "execution_count": 18,
     "metadata": {},
     "output_type": "execute_result"
    }
   ],
   "source": [
    "(0.25, math.sqrt((0.25*(1-0.25))/42))"
   ]
  },
  {
   "cell_type": "code",
   "execution_count": 19,
   "id": "10c73a75-fad9-499b-a884-6456d63a895b",
   "metadata": {},
   "outputs": [
    {
     "data": {
      "text/plain": [
       "0.2661055170552045"
      ]
     },
     "execution_count": 19,
     "metadata": {},
     "output_type": "execute_result"
    }
   ],
   "source": [
    "st.norm.ppf(1 - 0.40476, loc=0.25, scale=0.06681531)"
   ]
  },
  {
   "cell_type": "code",
   "execution_count": 20,
   "id": "4639f155-25b2-4ca0-89e5-20392b2833f8",
   "metadata": {},
   "outputs": [
    {
     "data": {
      "text/plain": [
       "0.0668153104781061"
      ]
     },
     "execution_count": 20,
     "metadata": {},
     "output_type": "execute_result"
    }
   ],
   "source": [
    "math.sqrt((0.25*(1-0.25))/42)"
   ]
  },
  {
   "cell_type": "code",
   "execution_count": null,
   "id": "08fefc70-c586-4837-8424-ef4c22c741fd",
   "metadata": {},
   "outputs": [],
   "source": []
  },
  {
   "cell_type": "markdown",
   "id": "b8fdc776-dca2-4be6-a837-8298285a520c",
   "metadata": {},
   "source": [
    "<span style=\"color:orange\">Example 9.20</span>\n",
    "\n",
    "The National Institute of Standards and Technology provides exact data on conductivity properties of materials. Following are conductivity measurements for 11 randomly selected pieces of a particular type of glass.\n",
    "1.11; 1.07; 1.11; 1.07; 1.12; 1.08; .98; .98 1.02; .95; .95\n",
    "Is there convincing evidence that the average conductivity of this type of glass is greater than one? Use a significance level of 0.05. Assume the population is normal."
   ]
  },
  {
   "cell_type": "code",
   "execution_count": 21,
   "id": "b80985cf-6f3b-4bff-a5e7-70fd88361cd3",
   "metadata": {},
   "outputs": [],
   "source": [
    "sample_data = [1.11, 1.07, 1.11, 1.07, 1.12, 1.08, 0.98, 0.98, 1.02, 0.95, 0.95]"
   ]
  },
  {
   "cell_type": "code",
   "execution_count": 22,
   "id": "755a8581-ba19-43ab-ba3a-46c74b0482f5",
   "metadata": {},
   "outputs": [
    {
     "data": {
      "text/plain": [
       "11"
      ]
     },
     "execution_count": 22,
     "metadata": {},
     "output_type": "execute_result"
    }
   ],
   "source": [
    "len(sample_data)"
   ]
  },
  {
   "cell_type": "code",
   "execution_count": 23,
   "id": "20a005ef-f228-4eff-8c75-e1c1f0199a8d",
   "metadata": {},
   "outputs": [
    {
     "data": {
      "text/plain": [
       "1.04"
      ]
     },
     "execution_count": 23,
     "metadata": {},
     "output_type": "execute_result"
    }
   ],
   "source": [
    "sum(sample_data)/len(sample_data)"
   ]
  },
  {
   "cell_type": "code",
   "execution_count": 24,
   "id": "a727fe64-d8a7-4338-8eed-d02c6c13729f",
   "metadata": {},
   "outputs": [
    {
     "data": {
      "text/plain": [
       "0.06587867636800247"
      ]
     },
     "execution_count": 24,
     "metadata": {},
     "output_type": "execute_result"
    }
   ],
   "source": [
    "st.tstd(sample_data)"
   ]
  },
  {
   "cell_type": "markdown",
   "id": "fe36dd99-1882-40f3-8612-2960c56dd7ce",
   "metadata": {},
   "source": [
    "#### Setup the Hypothesis test:\n",
    "* $H_0: p \\gt 1$\n",
    "* $H_a: p \\leq 1$\n",
    "\n",
    "* $\\alpha = 0.05$\n",
    "* $n=11$\n",
    "* $\\bar{x} = 1.04$\n",
    "* $s_x = 0.06587867636800247$\n",
    "* Testing mean without a known population standard deviation, thefore use a <span style=\"color:pink\">**t-test**</span>\n",
    "* $t_{df} = t_{(11 - 1)} = t_{10}$\n",
    "* $\\frac{\\alpha}{2}=\\frac{0.05}{2}=0.025$, then $t_{\\frac{\\alpha}{2}}=t_{0.025}$\n",
    "* p-value = $P(\\bar{x} \\gt 1)$"
   ]
  },
  {
   "cell_type": "code",
   "execution_count": 25,
   "id": "138c46eb-0c9e-4b33-98c2-475f981ccd69",
   "metadata": {},
   "outputs": [
    {
     "data": {
      "text/plain": [
       "2.0137774303956264"
      ]
     },
     "execution_count": 25,
     "metadata": {},
     "output_type": "execute_result"
    }
   ],
   "source": [
    "# calcluate the t-value, from the problem the assumption is mu = 1\n",
    "(1.04-1)/(0.065878676368/math.sqrt(11))"
   ]
  },
  {
   "cell_type": "markdown",
   "id": "8ea561dd-d8fb-459d-bb82-bec7d7f90e92",
   "metadata": {},
   "source": [
    "$\\therefore \\text{t-value}=2.013777$"
   ]
  },
  {
   "cell_type": "code",
   "execution_count": 26,
   "id": "bfd23d40-48df-4e51-93f6-5ef666be5558",
   "metadata": {},
   "outputs": [
    {
     "data": {
      "text/plain": [
       "0.035907194095100015"
      ]
     },
     "execution_count": 26,
     "metadata": {},
     "output_type": "execute_result"
    }
   ],
   "source": [
    "1 - st.t.cdf(2.013, df=10)"
   ]
  },
  {
   "cell_type": "markdown",
   "id": "c8f33602-5be8-4035-b6b4-84a1d3e94f72",
   "metadata": {},
   "source": [
    "$\\therefore p\\text{-value}=0.0359$"
   ]
  },
  {
   "cell_type": "markdown",
   "id": "5d630647-288f-4aab-b0cd-a97beca7e790",
   "metadata": {},
   "source": [
    "**State the Conclusions**: Since the p-value (p = 0.036) is less than our alpha value, we will reject the null hypothesis. It is reasonable to state that the data supports the claim that the average conductivity level is greater than one."
   ]
  },
  {
   "cell_type": "code",
   "execution_count": null,
   "id": "959e77f5-b532-490e-919d-3d599f3dc3da",
   "metadata": {},
   "outputs": [],
   "source": []
  },
  {
   "cell_type": "markdown",
   "id": "8ab4c17e-4406-4877-80a4-9aae31c5f39c",
   "metadata": {},
   "source": [
    "<span style=\"color:orange\">Example 9.21</span>\n",
    "\n",
    "In a study of 420,019 cell phone users, 172 of the subjects developed brain cancer. Test the claim that cell phone users developed brain cancer at a greater rate than that for non-cell phone users (the rate of brain cancer for non-cell phone users is 0.0340%). Since this is a critical issue, use a 0.005 significance level. Explain why the significance level should be so low in terms of a Type I error."
   ]
  },
  {
   "cell_type": "code",
   "execution_count": null,
   "id": "4b2febe1-0fcf-4b17-8143-1ab94bc7cff5",
   "metadata": {},
   "outputs": [],
   "source": []
  },
  {
   "cell_type": "markdown",
   "id": "28e00f50-1caf-4f71-b342-2b986232f5ee",
   "metadata": {},
   "source": [
    "**Hypothesis**:\n",
    "* $H_0: p \\leq 0.00034$\n",
    "* $H_a: p \\gt 0.00034$\n",
    "> If we commit a Type I error, we are essentially accepting a false claim. Since the claim describes cancer-causing environments, we want to minimize the chances of incorrectly identifying causes of cancer.\n",
    "\n",
    "**Distribution Type**:\n",
    "* Proportions\n",
    "* $x = 172$\n",
    "* $n = 410,019$\n",
    "* $p = 0.000340$%\n",
    "* $np = 410,019(0.0034) = 142.8$\n",
    "* $nq = 410,019(0.99966) = 419,876.2$\n",
    "* Two independent outcomes and a fixed probability of success $p=0.00034$"
   ]
  },
  {
   "cell_type": "code",
   "execution_count": 27,
   "id": "149de4f5-473e-4fb8-a179-91a64654f69c",
   "metadata": {},
   "outputs": [
    {
     "data": {
      "text/plain": [
       "0.00040950528428475855"
      ]
     },
     "execution_count": 27,
     "metadata": {},
     "output_type": "execute_result"
    }
   ],
   "source": [
    "172/420019"
   ]
  },
  {
   "cell_type": "code",
   "execution_count": 36,
   "id": "52d22846-375c-42d7-844f-7a8f1e126389",
   "metadata": {},
   "outputs": [
    {
     "data": {
      "text/plain": [
       "0.007279442156423843"
      ]
     },
     "execution_count": 36,
     "metadata": {},
     "output_type": "execute_result"
    }
   ],
   "source": [
    "1 - st.norm.cdf(0.0004095, loc=0.00034, scale=math.sqrt((0.00034*(1-0.00034)/420019)))"
   ]
  },
  {
   "cell_type": "markdown",
   "id": "6ddf9c1a-ef26-4a28-b7e2-6b0695e2d6d1",
   "metadata": {},
   "source": [
    "Since the $p\\text{-value} = 0.0073$ is greater than our alpha value = 0.005, we cannot reject the null. Therefore, we conclude that there is not enough evidence to support the claim of higher brain cancer rates for the cell phone users."
   ]
  },
  {
   "cell_type": "code",
   "execution_count": null,
   "id": "381a6056-d886-42ab-afd6-0ec8d567cbae",
   "metadata": {},
   "outputs": [],
   "source": []
  },
  {
   "cell_type": "markdown",
   "id": "001ad8fc-0a3f-489a-9d12-661ad6a92f4b",
   "metadata": {},
   "source": [
    "<span style=\"color:red\">Example 9.22</span>\n",
    "\n",
    "According to the US Census there are approximately 268,608,618 residents aged 12 and older. Statistics from the Rape, Abuse, and Incest National Network indicate that, on average, 207,754 rapes occur each year (male and female) for persons aged 12 and older. This translates into a percentage of sexual assaults of 0.078%. In Daviess County, KY, there were reported 11 rapes for a population of 37,937. Conduct an appropriate hypothesis test to determine if there is a statistically significant difference between the local sexual assault percentage and the national sexual assault percentage. Use a significance level of 0.01."
   ]
  },
  {
   "cell_type": "code",
   "execution_count": null,
   "id": "e7442e4a-e624-4aa9-be5c-831d0a66a33a",
   "metadata": {},
   "outputs": [],
   "source": []
  },
  {
   "cell_type": "markdown",
   "id": "9f4d4e46-5fb6-4997-ae8b-b0fb2cb6d6ea",
   "metadata": {},
   "source": [
    "**Hypothesis**:\n",
    "* $H_0: p = 0.078$%\n",
    "* $H_0: p \\ne 0.078$%\n",
    "> We need to test whether the proportion of sexual assaults in Daviess County, KY is significantly different from the national average.\n",
    "\n",
    "**Distribution**:\n",
    "* Two-tailed Proportion\n",
    "\n",
    "* "
   ]
  },
  {
   "cell_type": "code",
   "execution_count": 37,
   "id": "e19a182d-000e-483b-bc36-efb28ddbfbe5",
   "metadata": {},
   "outputs": [
    {
     "data": {
      "text/plain": [
       "0.00028995439808102906"
      ]
     },
     "execution_count": 37,
     "metadata": {},
     "output_type": "execute_result"
    }
   ],
   "source": [
    "11/37937"
   ]
  },
  {
   "cell_type": "code",
   "execution_count": 45,
   "id": "c8cf77a1-1e46-47db-94cf-6cd73a59e07b",
   "metadata": {},
   "outputs": [
    {
     "data": {
      "text/plain": [
       "1.0"
      ]
     },
     "execution_count": 45,
     "metadata": {},
     "output_type": "execute_result"
    }
   ],
   "source": [
    "1 - st.norm.cdf(0.000289954, loc=0.00078, scale=math.sqrt((0.00078*(1-0.00078)/268608618)))"
   ]
  },
  {
   "cell_type": "code",
   "execution_count": null,
   "id": "b5bb9e90-951b-4eb0-b230-8adab87f2df9",
   "metadata": {},
   "outputs": [],
   "source": []
  },
  {
   "cell_type": "markdown",
   "id": "f0e1cd0b-75bb-446a-87be-4b6b65371260",
   "metadata": {},
   "source": [
    "## Chapter Summary\n",
    "\n",
    "### 9.3 Distribution Needed for Hypothesis Testing\n",
    "If there is no given preconceived $\\alpha$, then use $\\alpha = 0.05$.\n",
    "\n",
    "**Types of Hypothesis Tests**\n",
    "* Single population mean, **known** population variance (or standard deviation): **Normal test**.\n",
    "* Single population mean, **unknown** population variance (or standard deviation): **Student's t-test**.\n",
    "* Single population proportion: Normal test.\n",
    "* For a **single population mean**, we may use a normal distribution with the following mean and standard deviation. Means:\n",
    "* $\\mu=\\mu_\\bar{x}$  and  $\\sigma_\\bar{x} = \\frac{\\sigma_x}{\\sqrt{n}}$ \n",
    "* A **single population proportion**, we may use a normal distribution with the following mean and standard deviation. * Proportions: $\\mu=p$ and $\\sigma = \\sqrt{\\frac{pq}{n}}$."
   ]
  },
  {
   "cell_type": "code",
   "execution_count": null,
   "id": "d2b0a60a-029f-4e20-98ee-faeb60e48ebf",
   "metadata": {},
   "outputs": [],
   "source": []
  }
 ],
 "metadata": {
  "kernelspec": {
   "display_name": "Python 3",
   "language": "python",
   "name": "python3"
  },
  "language_info": {
   "codemirror_mode": {
    "name": "ipython",
    "version": 3
   },
   "file_extension": ".py",
   "mimetype": "text/x-python",
   "name": "python",
   "nbconvert_exporter": "python",
   "pygments_lexer": "ipython3",
   "version": "3.8.8"
  }
 },
 "nbformat": 4,
 "nbformat_minor": 5
}
