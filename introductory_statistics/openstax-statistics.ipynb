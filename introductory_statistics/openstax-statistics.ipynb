{
 "cells": [
  {
   "cell_type": "markdown",
   "metadata": {},
   "source": [
    "* X = set of population eleements\n",
    "* x = set of sample elements\n",
    "* N = population size\n",
    "* n = sample size\n",
    "* Greek letters refer to population attributes (usually a capital letter)\n",
    "    * $\\mu$ = population mean\n",
    "    * $\\sigma$ = standard deviation of population\n",
    "* Roman letters refer to sample attributes (usually a lower-case letter)\n",
    "    * $\\bar{x}$ = sample mean\n",
    "    * s = standard deviation of a sample"
   ]
  },
  {
   "cell_type": "code",
   "execution_count": null,
   "metadata": {},
   "outputs": [],
   "source": []
  },
  {
   "cell_type": "markdown",
   "metadata": {},
   "source": [
    "# Chapter 7: The Central Limit Theorem\n",
    "There are two alternative forms of the theorem, and both alternatives are concerned with drawing finite samples size n from a population with a known mean, μ, and a known standard deviation, σ\n",
    "* The first alternative says that if we collect samples of size n with a \"large enough $n$,\" calculate each sample's `mean`, and create a histogram of those means, then the resulting histogram will tend to have an approximate normal bell shape.\n",
    "* The second alternative says that if we again collect samples of size n that are \"large enough,\" calculate the `sum` of each sample and create a histogram, then the resulting histogram will again tend to have a normal bell-shape.\n",
    "> (the sample size should be at least **30** or the data should come from a normal distribution)."
   ]
  },
  {
   "cell_type": "code",
   "execution_count": null,
   "metadata": {},
   "outputs": [],
   "source": []
  },
  {
   "cell_type": "code",
   "execution_count": null,
   "metadata": {},
   "outputs": [],
   "source": []
  },
  {
   "cell_type": "markdown",
   "metadata": {},
   "source": [
    "$X \\sim N(5,6)$ is read as:  $X$ is a noramally distributed random variable with mean = 5 and standard deviation = 6."
   ]
  },
  {
   "cell_type": "code",
   "execution_count": null,
   "metadata": {},
   "outputs": [],
   "source": []
  },
  {
   "cell_type": "markdown",
   "metadata": {},
   "source": [
    "#### Z-Scores\n",
    "<span style='color:green'>If X is a normally distributed random variable and $X\\sim N(\\mu, \\sigma)$, then the z-score is</span>:\n",
    "$$z = \\frac{x-\\mu}{\\sigma}$$\n",
    "\n",
    "In statistics, a `z-score` tells us `how many standard deviations away a value is from the mean`. We use the following formula to calculate a z-score:\n",
    "\n",
    "$z = \\frac{(X – μ)}{σ}$\n",
    "\n",
    "where:\n",
    "* X is a single raw data value\n",
    "* μ is the population mean\n",
    "* σ is the population standard deviation"
   ]
  },
  {
   "cell_type": "code",
   "execution_count": 116,
   "metadata": {},
   "outputs": [],
   "source": [
    "from scipy.stats import zscore\n",
    "import math\n",
    "\n",
    "import ipywidgets as widgets\n",
    "from ipywidgets import interact"
   ]
  },
  {
   "cell_type": "code",
   "execution_count": 2,
   "metadata": {},
   "outputs": [
    {
     "data": {
      "text/plain": [
       "array([nan])"
      ]
     },
     "execution_count": 2,
     "metadata": {},
     "output_type": "execute_result"
    }
   ],
   "source": [
    "zscore(a=[0.4])"
   ]
  },
  {
   "cell_type": "code",
   "execution_count": 3,
   "metadata": {},
   "outputs": [],
   "source": [
    "import scipy.stats as st"
   ]
  },
  {
   "cell_type": "code",
   "execution_count": 4,
   "metadata": {},
   "outputs": [
    {
     "data": {
      "text/plain": [
       "-0.2533471031357997"
      ]
     },
     "execution_count": 4,
     "metadata": {},
     "output_type": "execute_result"
    }
   ],
   "source": [
    "st.norm.ppf(0.4)"
   ]
  },
  {
   "cell_type": "code",
   "execution_count": 5,
   "metadata": {},
   "outputs": [
    {
     "data": {
      "text/plain": [
       "0.6554217416103242"
      ]
     },
     "execution_count": 5,
     "metadata": {},
     "output_type": "execute_result"
    }
   ],
   "source": [
    "st.norm.cdf(0.4)"
   ]
  },
  {
   "cell_type": "code",
   "execution_count": 6,
   "metadata": {},
   "outputs": [
    {
     "data": {
      "text/plain": [
       "0.3445782583896758"
      ]
     },
     "execution_count": 6,
     "metadata": {},
     "output_type": "execute_result"
    }
   ],
   "source": [
    "1 - st.norm.cdf(0.4)"
   ]
  },
  {
   "cell_type": "code",
   "execution_count": 7,
   "metadata": {},
   "outputs": [
    {
     "data": {
      "text/plain": [
       "4.4"
      ]
     },
     "execution_count": 7,
     "metadata": {},
     "output_type": "execute_result"
    }
   ],
   "source": [
    "(85-63)/5"
   ]
  },
  {
   "cell_type": "code",
   "execution_count": 8,
   "metadata": {},
   "outputs": [
    {
     "data": {
      "text/plain": [
       "0.9999945874560923"
      ]
     },
     "execution_count": 8,
     "metadata": {},
     "output_type": "execute_result"
    }
   ],
   "source": [
    "st.norm.cdf(4.4)"
   ]
  },
  {
   "cell_type": "code",
   "execution_count": 9,
   "metadata": {},
   "outputs": [
    {
     "data": {
      "text/plain": [
       "0.4"
      ]
     },
     "execution_count": 9,
     "metadata": {},
     "output_type": "execute_result"
    }
   ],
   "source": [
    "2/5"
   ]
  },
  {
   "cell_type": "code",
   "execution_count": 10,
   "metadata": {},
   "outputs": [
    {
     "data": {
      "text/plain": [
       "0.3445782583896758"
      ]
     },
     "execution_count": 10,
     "metadata": {},
     "output_type": "execute_result"
    }
   ],
   "source": [
    "1 - st.norm.cdf(0.4)"
   ]
  },
  {
   "cell_type": "code",
   "execution_count": 11,
   "metadata": {},
   "outputs": [
    {
     "data": {
      "text/plain": [
       "4.4"
      ]
     },
     "execution_count": 11,
     "metadata": {},
     "output_type": "execute_result"
    }
   ],
   "source": [
    "(85-63)/5"
   ]
  },
  {
   "cell_type": "code",
   "execution_count": 12,
   "metadata": {},
   "outputs": [
    {
     "data": {
      "text/plain": [
       "0.9999945874560923"
      ]
     },
     "execution_count": 12,
     "metadata": {},
     "output_type": "execute_result"
    }
   ],
   "source": [
    "st.norm.cdf(4.4)"
   ]
  },
  {
   "cell_type": "code",
   "execution_count": 13,
   "metadata": {},
   "outputs": [
    {
     "data": {
      "text/plain": [
       "69.407757827723"
      ]
     },
     "execution_count": 13,
     "metadata": {},
     "output_type": "execute_result"
    }
   ],
   "source": [
    "st.norm.ppf(0.9, loc=63, scale=5)"
   ]
  },
  {
   "cell_type": "code",
   "execution_count": 14,
   "metadata": {},
   "outputs": [
    {
     "data": {
      "text/plain": [
       "65.6220025635402"
      ]
     },
     "execution_count": 14,
     "metadata": {},
     "output_type": "execute_result"
    }
   ],
   "source": [
    "st.norm.ppf(0.7, loc=63, scale=5)"
   ]
  },
  {
   "cell_type": "markdown",
   "metadata": {},
   "source": [
    "#### <span style=\"color:orange\">EXAMPLE 6.9</span>"
   ]
  },
  {
   "cell_type": "code",
   "execution_count": 15,
   "metadata": {},
   "outputs": [
    {
     "name": "stdout",
     "output_type": "stream",
     "text": [
      "-0.3999999999999999\n"
     ]
    }
   ],
   "source": [
    "z1 = (1.8-2)/.5\n",
    "print(z1)"
   ]
  },
  {
   "cell_type": "code",
   "execution_count": 16,
   "metadata": {},
   "outputs": [
    {
     "name": "stdout",
     "output_type": "stream",
     "text": [
      "1.5\n"
     ]
    }
   ],
   "source": [
    "z2 = (2.75 - 2)/0.5\n",
    "print(z2)"
   ]
  },
  {
   "cell_type": "code",
   "execution_count": 17,
   "metadata": {},
   "outputs": [
    {
     "data": {
      "text/plain": [
       "0.3445782583896759"
      ]
     },
     "execution_count": 17,
     "metadata": {},
     "output_type": "execute_result"
    }
   ],
   "source": [
    "st.norm.cdf(z1)"
   ]
  },
  {
   "cell_type": "code",
   "execution_count": 18,
   "metadata": {},
   "outputs": [
    {
     "data": {
      "text/plain": [
       "0.9331927987311419"
      ]
     },
     "execution_count": 18,
     "metadata": {},
     "output_type": "execute_result"
    }
   ],
   "source": [
    "st.norm.cdf(z2)"
   ]
  },
  {
   "cell_type": "code",
   "execution_count": 19,
   "metadata": {},
   "outputs": [
    {
     "data": {
      "text/plain": [
       "0.588614540341466"
      ]
     },
     "execution_count": 19,
     "metadata": {},
     "output_type": "execute_result"
    }
   ],
   "source": [
    "st.norm.cdf(z2) - st.norm.cdf(z1)"
   ]
  },
  {
   "cell_type": "code",
   "execution_count": 20,
   "metadata": {},
   "outputs": [
    {
     "data": {
      "text/plain": [
       "1.6627551249019592"
      ]
     },
     "execution_count": 20,
     "metadata": {},
     "output_type": "execute_result"
    }
   ],
   "source": [
    "st.norm.ppf(.25, loc=2, scale=0.5)"
   ]
  },
  {
   "cell_type": "code",
   "execution_count": null,
   "metadata": {},
   "outputs": [],
   "source": []
  },
  {
   "cell_type": "code",
   "execution_count": null,
   "metadata": {},
   "outputs": [],
   "source": []
  },
  {
   "cell_type": "markdown",
   "metadata": {},
   "source": [
    "$\\mu = 36.9 \\text{ years}$\n",
    "\n",
    "$\\sigma = 13.9 \\text{ years}$\n",
    "\n"
   ]
  },
  {
   "cell_type": "code",
   "execution_count": 21,
   "metadata": {},
   "outputs": [
    {
     "data": {
      "text/plain": [
       "-0.9999999999999999"
      ]
     },
     "execution_count": 21,
     "metadata": {},
     "output_type": "execute_result"
    }
   ],
   "source": [
    "(23 - 36.9)/13.9"
   ]
  },
  {
   "cell_type": "code",
   "execution_count": 22,
   "metadata": {},
   "outputs": [
    {
     "data": {
      "text/plain": [
       "2.0000000000000004"
      ]
     },
     "execution_count": 22,
     "metadata": {},
     "output_type": "execute_result"
    }
   ],
   "source": [
    "(64.7 -36.9)/13.9"
   ]
  },
  {
   "cell_type": "code",
   "execution_count": 23,
   "metadata": {},
   "outputs": [
    {
     "data": {
      "text/plain": [
       "0.8185946141203637"
      ]
     },
     "execution_count": 23,
     "metadata": {},
     "output_type": "execute_result"
    }
   ],
   "source": [
    "st.norm.cdf((64.7 - 36.9)/13.9) - st.norm.cdf((23 - 36.9)/13.9)"
   ]
  },
  {
   "cell_type": "code",
   "execution_count": 24,
   "metadata": {},
   "outputs": [
    {
     "data": {
      "text/plain": [
       "0.8413447460685429"
      ]
     },
     "execution_count": 24,
     "metadata": {},
     "output_type": "execute_result"
    }
   ],
   "source": [
    "st.norm.cdf((50.8 - 36.9)/13.9)"
   ]
  },
  {
   "cell_type": "code",
   "execution_count": 25,
   "metadata": {},
   "outputs": [
    {
     "data": {
      "text/plain": [
       "0.8413447218714694"
      ]
     },
     "execution_count": 25,
     "metadata": {},
     "output_type": "execute_result"
    }
   ],
   "source": [
    "1 -  st.norm.cdf(-0.9999999)"
   ]
  },
  {
   "cell_type": "code",
   "execution_count": 26,
   "metadata": {},
   "outputs": [
    {
     "data": {
      "text/plain": [
       "48.59853514666351"
      ]
     },
     "execution_count": 26,
     "metadata": {},
     "output_type": "execute_result"
    }
   ],
   "source": [
    "st.norm.ppf(.8, loc=36.9, scale=13.9)"
   ]
  },
  {
   "cell_type": "code",
   "execution_count": 27,
   "metadata": {},
   "outputs": [
    {
     "data": {
      "text/plain": [
       "46.275407527725534"
      ]
     },
     "execution_count": 27,
     "metadata": {},
     "output_type": "execute_result"
    }
   ],
   "source": [
    "st.norm.ppf(.75, loc=36.9, scale=13.9)"
   ]
  },
  {
   "cell_type": "code",
   "execution_count": 28,
   "metadata": {},
   "outputs": [
    {
     "data": {
      "text/plain": [
       "27.524592472274463"
      ]
     },
     "execution_count": 28,
     "metadata": {},
     "output_type": "execute_result"
    }
   ],
   "source": [
    "st.norm.ppf(.25, loc=36.9, scale=13.9)"
   ]
  },
  {
   "cell_type": "code",
   "execution_count": 29,
   "metadata": {},
   "outputs": [
    {
     "data": {
      "text/plain": [
       "18.75081505545107"
      ]
     },
     "execution_count": 29,
     "metadata": {},
     "output_type": "execute_result"
    }
   ],
   "source": [
    "st.norm.ppf(.75, loc=36.9, scale=13.9) - st.norm.ppf(.25, loc=36.9, scale=13.9)"
   ]
  },
  {
   "cell_type": "code",
   "execution_count": 30,
   "metadata": {},
   "outputs": [
    {
     "data": {
      "text/plain": [
       "33.37847526641238"
      ]
     },
     "execution_count": 30,
     "metadata": {},
     "output_type": "execute_result"
    }
   ],
   "source": [
    "st.norm.ppf(.40, loc=36.9, scale=13.9)"
   ]
  },
  {
   "cell_type": "code",
   "execution_count": 31,
   "metadata": {},
   "outputs": [
    {
     "data": {
      "text/plain": [
       "40.42152473358762"
      ]
     },
     "execution_count": 31,
     "metadata": {},
     "output_type": "execute_result"
    }
   ],
   "source": [
    "st.norm.ppf(.60, loc=36.9, scale=13.9)"
   ]
  },
  {
   "cell_type": "code",
   "execution_count": null,
   "metadata": {},
   "outputs": [],
   "source": []
  },
  {
   "cell_type": "markdown",
   "metadata": {},
   "source": [
    "Diameter\n",
    "\n",
    "$\\mu = 5.85 \\text{ cm}$\n",
    "\n",
    "$\\sigma = 0.24 \\text{ cm}$"
   ]
  },
  {
   "cell_type": "code",
   "execution_count": 32,
   "metadata": {},
   "outputs": [
    {
     "data": {
      "text/plain": [
       "0.2659855290487"
      ]
     },
     "execution_count": 32,
     "metadata": {},
     "output_type": "execute_result"
    }
   ],
   "source": [
    "1 - st.norm.cdf((6-5.85)/0.24)"
   ]
  },
  {
   "cell_type": "code",
   "execution_count": 33,
   "metadata": {},
   "outputs": [
    {
     "data": {
      "text/plain": [
       "5.789196695247408"
      ]
     },
     "execution_count": 33,
     "metadata": {},
     "output_type": "execute_result"
    }
   ],
   "source": [
    "st.norm.ppf(.4, loc=5.85, scale=0.24)"
   ]
  },
  {
   "cell_type": "code",
   "execution_count": 34,
   "metadata": {},
   "outputs": [
    {
     "data": {
      "text/plain": [
       "5.910803304752592"
      ]
     },
     "execution_count": 34,
     "metadata": {},
     "output_type": "execute_result"
    }
   ],
   "source": [
    "st.norm.ppf(.6, loc=5.85, scale=0.24)"
   ]
  },
  {
   "cell_type": "code",
   "execution_count": 35,
   "metadata": {},
   "outputs": [
    {
     "data": {
      "text/plain": [
       "6.1575723757307035"
      ]
     },
     "execution_count": 35,
     "metadata": {},
     "output_type": "execute_result"
    }
   ],
   "source": [
    "st.norm.ppf(.9, loc=5.85, scale=0.24)"
   ]
  },
  {
   "cell_type": "markdown",
   "metadata": {},
   "source": [
    "#### <span style=\"color:orange\">Example 7.1</span>"
   ]
  },
  {
   "cell_type": "code",
   "execution_count": 36,
   "metadata": {},
   "outputs": [
    {
     "data": {
      "text/plain": [
       "0.6997171101802624"
      ]
     },
     "execution_count": 36,
     "metadata": {},
     "output_type": "execute_result"
    }
   ],
   "source": [
    "st.norm.cdf((92-90)/(15/math.sqrt(25))) - st.norm.cdf((85-90)/(15/math.sqrt(25)))"
   ]
  },
  {
   "cell_type": "markdown",
   "metadata": {
    "tags": []
   },
   "source": [
    "## <span style=\"color:green\"> The Central Limit Theorem for Sample Means (Averages) </span>\n",
    "* Suppose $X$ is a random variable with a distribution that may be known or unknown.\n",
    "* $\\mu_x = \\text{ the mean of } X$\n",
    "* $\\sigma_x = \\text{ the standard deviation of } X$\n",
    "\n",
    "If you draw random samples of size $n$, then as $n$ increases, the random variable $\\bar{x}$ which consists of sample means, tends to be **noramlly distributed** and\n",
    "* $\\bar{x} \\sim N \\bigl( \\mu_x, \\frac{\\sigma_x}{\\sqrt{n}} \\bigr)$\n",
    "\n",
    "> The **central limit theorem** for sample means says that if you repeatedly draw samples of a given size (such as repeatedly rolling ten dice) and calculate their means, those means tend to follow a normal distribution (the sampling distribution). As sample sizes increase, the distribution of means more closely follows the normal distribution. The normal distribution has the same mean as the original distribution and a variance that equals the original variance divided by the sample size. Standard deviation is the square root of variance, so the standard deviation of the sampling distribution is the standard deviation of the original distribution divided by the square root of n. The variable n is the number of values that are averaged together, not the number of times the experiment is done.\n",
    "\n",
    "> To put it more formally, if you draw random samples of size n, the distribution of the random variable  x¯ , which consists of sample means, is called the sampling distribution of the mean. The sampling distribution of the mean approaches a normal distribution as n, the sample size, increases.\n",
    "\n",
    "The random variable $\\bar{x}$ has a different z-score associated with it from that of the random variable $X$. The mean $\\bar{x}$ is the value of $\\bar{x}$ in one sample.\n",
    "* $z=\\frac{\\bar{x}-\\mu_x}{\\bigl(\\frac{\\mu_x}{\\sqrt{n}}\\bigr)}$\n",
    "* $\\mu_x$ is the average of both $X \\text{ and } \\bar{x}$\n",
    "* $\\sigma_\\bar{x} = \\frac{\\sigma_x}{\\sqrt{n}}=$ standard deviation of $\\bar{x}$ and is called the **standard error of the mean**."
   ]
  },
  {
   "cell_type": "code",
   "execution_count": null,
   "metadata": {},
   "outputs": [],
   "source": []
  },
  {
   "attachments": {
    "4b64106c-2b4e-4501-8831-59031dabfe66.png": {
     "image/png": "[encoded data removed]"
    }
   },
   "cell_type": "markdown",
   "metadata": {},
   "source": [
    "#### <span style=\"color:orange\">Example 7.1</span>\n",
    "An unknown distribution has a mean of 90 and a standard deviation of 15. Samples of size n = 25 are drawn randomly from the population.\n",
    "\n",
    "a. Find the probability that the **sample mean** is between 85 and 92.\n",
    "* ![image.png](attachment:4b64106c-2b4e-4501-8831-59031dabfe66.png)"
   ]
  },
  {
   "cell_type": "code",
   "execution_count": null,
   "metadata": {},
   "outputs": [],
   "source": []
  },
  {
   "cell_type": "markdown",
   "metadata": {},
   "source": [
    "* $\\therefore \\mu = \\mu_x = 90$\n",
    "* $\\therefore \\sigma_x = \\frac{15}{\\sqrt{25}}$\n",
    "* Let $\\bar{x} = $ the mean of a sample of size 25.\n",
    "    * $\\mu_x=90$\n",
    "    * $\\sigma_x=15$\n",
    "    * $n=90$\n",
    "* so, $\\bar{x}\\sim N\\bigl(90,\\frac{15}{\\sqrt{25}}\\bigr)$"
   ]
  },
  {
   "cell_type": "code",
   "execution_count": 37,
   "metadata": {},
   "outputs": [],
   "source": [
    "s_sigma = 15/math.sqrt(25)"
   ]
  },
  {
   "cell_type": "code",
   "execution_count": 38,
   "metadata": {},
   "outputs": [
    {
     "data": {
      "text/plain": [
       "(90, 3.0)"
      ]
     },
     "execution_count": 38,
     "metadata": {},
     "output_type": "execute_result"
    }
   ],
   "source": [
    "(90, s_sigma)"
   ]
  },
  {
   "cell_type": "code",
   "execution_count": 39,
   "metadata": {},
   "outputs": [
    {
     "data": {
      "text/plain": [
       "0.6997171101802624"
      ]
     },
     "execution_count": 39,
     "metadata": {},
     "output_type": "execute_result"
    }
   ],
   "source": [
    "diff = st.norm.cdf(92, loc=90, scale=s_sigma) - st.norm.cdf(85, loc=90, scale=s_sigma)\n",
    "diff"
   ]
  },
  {
   "cell_type": "markdown",
   "metadata": {},
   "source": [
    "$\\therefore P(85\\lt\\bar{x}\\lt92) = 0.6997$"
   ]
  },
  {
   "cell_type": "code",
   "execution_count": null,
   "metadata": {},
   "outputs": [],
   "source": []
  },
  {
   "cell_type": "markdown",
   "metadata": {},
   "source": [
    "#### <span style=\"color:orange\">Example 7.2</span>\n",
    "> The length of time, in hours, it takes an \"over 40\" group of people to play one soccer match is normally distributed with a **mean of two hours** and a **standard deviation of 0.5 hours**. A sample of size n = 50 is drawn randomly from the population. Find the probability that the **sample mean** is between 1.8 hours and 2.3 hours."
   ]
  },
  {
   "cell_type": "markdown",
   "metadata": {},
   "source": [
    "so Let,\n",
    "\n",
    "* $X = $ the time, in hours, it takes to play one soccer match.\n",
    "* $\\mu =  \\mu_x = 2$ hours\n",
    "* $\\sigma_x = 0.5$ hours\n",
    "* $n = 50$\n",
    "* $X \\sim N\\bigl(2, \\frac{0.5}{\\sqrt{50}}\\bigr)$\n",
    "\n",
    "find,\n",
    "\n",
    "* $P(1.8\\lt \\bar{x} \\gt 2.3)$ hours"
   ]
  },
  {
   "cell_type": "code",
   "execution_count": 40,
   "metadata": {},
   "outputs": [
    {
     "data": {
      "text/plain": [
       "0.9976500872609771"
      ]
     },
     "execution_count": 40,
     "metadata": {},
     "output_type": "execute_result"
    }
   ],
   "source": [
    "st.norm.cdf(2.3, loc=2, scale=0.5/math.sqrt(50)) - st.norm.cdf(1.8, loc=2, scale=0.5/math.sqrt(50))"
   ]
  },
  {
   "cell_type": "markdown",
   "metadata": {},
   "source": [
    "Therefore, the probability that the mean time is between 1.8 hours and 2.3 hours is 0.9977"
   ]
  },
  {
   "cell_type": "code",
   "execution_count": null,
   "metadata": {},
   "outputs": [],
   "source": []
  },
  {
   "cell_type": "markdown",
   "metadata": {},
   "source": [
    "#### <span style=\"color:orange\">Example 7.3</span>\n",
    "\n",
    "> In a recent study reported Oct. 29, 2012 on the Flurry Blog, the mean age of tablet users is 34 years. Suppose the standard deviation is 15 years. Take a sample of size n = 100.\n",
    "\n",
    "* $\\mu_x = \\mu = 34$ years\n",
    "* $\\sigma = 15$, $\\sigma_x = \\frac{\\sigma}{\\sqrt{n}}=\\frac{15}{\\sqrt{100}}=\\frac{15}{10}=1.5$\n",
    "* $n = 100$"
   ]
  },
  {
   "cell_type": "markdown",
   "metadata": {},
   "source": [
    "a.\n",
    "\n",
    "What are the mean and standard deviation for the sample mean ages of tablet users?"
   ]
  },
  {
   "cell_type": "markdown",
   "metadata": {},
   "source": [
    "mean is 34"
   ]
  },
  {
   "cell_type": "code",
   "execution_count": 41,
   "metadata": {},
   "outputs": [
    {
     "data": {
      "text/plain": [
       "1.5"
      ]
     },
     "execution_count": 41,
     "metadata": {},
     "output_type": "execute_result"
    }
   ],
   "source": [
    "# sample standard deviation is determined by:\n",
    "15/math.sqrt(100)"
   ]
  },
  {
   "cell_type": "markdown",
   "metadata": {},
   "source": [
    "b.\n",
    "\n",
    "What does the distribution look like?"
   ]
  },
  {
   "cell_type": "markdown",
   "metadata": {},
   "source": [
    "The central limit theorem states that for large sample sizes(n), the sampling distribution will be approximately normal."
   ]
  },
  {
   "cell_type": "markdown",
   "metadata": {},
   "source": [
    "c.\n",
    "\n",
    "Find the probability that the sample mean age is more than 30 years (the reported mean age of tablet users in this particular study)."
   ]
  },
  {
   "cell_type": "markdown",
   "metadata": {},
   "source": [
    "$P(\\bar{X}\\gt30)$"
   ]
  },
  {
   "cell_type": "code",
   "execution_count": 42,
   "metadata": {},
   "outputs": [
    {
     "data": {
      "text/plain": [
       "0.9961696194324102"
      ]
     },
     "execution_count": 42,
     "metadata": {},
     "output_type": "execute_result"
    }
   ],
   "source": [
    "1 - st.norm.cdf(30, loc=34, scale=1.5)"
   ]
  },
  {
   "cell_type": "markdown",
   "metadata": {},
   "source": [
    "d.\n",
    "\n",
    "Find the 95th percentile for the sample mean age (to one decimal place)."
   ]
  },
  {
   "cell_type": "code",
   "execution_count": 43,
   "metadata": {},
   "outputs": [
    {
     "data": {
      "text/plain": [
       "36.46728044042721"
      ]
     },
     "execution_count": 43,
     "metadata": {},
     "output_type": "execute_result"
    }
   ],
   "source": [
    "# returns the x value at the point described in the parameters\n",
    "# In the below case this is the point that lies at the 95th percentile\n",
    "st.norm.ppf(0.95, loc=34, scale=15/math.sqrt(100))"
   ]
  },
  {
   "cell_type": "code",
   "execution_count": null,
   "metadata": {},
   "outputs": [],
   "source": []
  },
  {
   "cell_type": "markdown",
   "metadata": {},
   "source": [
    "#### <span style=\"color:orange\">Example 7.4</span>\n",
    "The mean number of minutes for app engagement by a tablet user is 8.2 minutes. Suppose the standard deviation is one minute. Take a sample of 60."
   ]
  },
  {
   "cell_type": "markdown",
   "metadata": {},
   "source": [
    "a.\n",
    "\n",
    "What are the mean and standard deviation for the sample mean number of app engagement by a tablet user?"
   ]
  },
  {
   "cell_type": "markdown",
   "metadata": {},
   "source": [
    "* $\\mu_\\bar{x} = \\mu = 8.2 $\n",
    "* $\\sigma = 1 \\text{ minutes}$\n",
    "* $\\sigma_\\bar{x} = \\frac{\\sigma}{\\sqrt{n}} = \\frac{1}{\\sqrt{60}}=0.13$\n",
    "* Sample Size = 60"
   ]
  },
  {
   "cell_type": "code",
   "execution_count": 44,
   "metadata": {},
   "outputs": [
    {
     "data": {
      "text/plain": [
       "0.12909944487358055"
      ]
     },
     "execution_count": 44,
     "metadata": {},
     "output_type": "execute_result"
    }
   ],
   "source": [
    "1/math.sqrt(60)"
   ]
  },
  {
   "cell_type": "markdown",
   "metadata": {},
   "source": [
    "* $\\therefore \\mu_\\bar{x}=\\mu=8.2$\n",
    "* $\\therefore \\sigma_\\bar{x}=\\frac{\\sigma}{\\sqrt{n}}=\\frac{1}{\\sqrt{60}}=0.13$"
   ]
  },
  {
   "cell_type": "markdown",
   "metadata": {},
   "source": [
    "b.\n",
    "\n",
    "What is the standard error of the mean?"
   ]
  },
  {
   "cell_type": "markdown",
   "metadata": {},
   "source": [
    "**Standard Error of the Mean** = $\\sigma\\bar{x}=\\frac{\\sigma X}{\\sqrt{n}}$ = standard deviation of $\\bar{x}$\n",
    "> This allows us to calculate the probability of sample means of a particular distance from the mean, in repeated samples of size 60."
   ]
  },
  {
   "cell_type": "markdown",
   "metadata": {},
   "source": [
    "c.\n",
    "\n",
    "Find the 90th percentile for the sample mean time for app engagement for a tablet user. Interpret this value in a complete sentence."
   ]
  },
  {
   "cell_type": "code",
   "execution_count": 45,
   "metadata": {},
   "outputs": [
    {
     "data": {
      "text/plain": [
       "8.365447595688675"
      ]
     },
     "execution_count": 45,
     "metadata": {},
     "output_type": "execute_result"
    }
   ],
   "source": [
    "# Units are in Minutes\n",
    "st.norm.ppf(0.9, loc=8.2, scale=1/math.sqrt(60))"
   ]
  },
  {
   "cell_type": "markdown",
   "metadata": {},
   "source": [
    "d.\n",
    "Find the probability that the sample mean is between eight minutes and 8.5 minutes.\n",
    "\n",
    "$P(8\\lt\\bar{x}\\lt8.5)$"
   ]
  },
  {
   "cell_type": "code",
   "execution_count": 46,
   "metadata": {},
   "outputs": [
    {
     "data": {
      "text/plain": [
       "0.9292639990455852"
      ]
     },
     "execution_count": 46,
     "metadata": {},
     "output_type": "execute_result"
    }
   ],
   "source": [
    "st.norm.cdf((8.5-8.2)/(1/math.sqrt(60))) - st.norm.cdf((8.0-8.2)/(1/math.sqrt(60)))"
   ]
  },
  {
   "cell_type": "code",
   "execution_count": null,
   "metadata": {},
   "outputs": [],
   "source": []
  },
  {
   "cell_type": "code",
   "execution_count": null,
   "metadata": {},
   "outputs": [],
   "source": []
  },
  {
   "cell_type": "markdown",
   "metadata": {},
   "source": [
    "## <span style=\"color:green\"> The Central Limit Theorem for Sums </span>\n",
    "\n",
    "**Recall*:\n",
    "<span style=\"color:orange\">$X \\sim N(5,6)$ is read as:  $X$ is a noramally distributed random variable with mean = 5 and standard deviation = 6. </span>\n",
    "\n",
    "\n",
    "\n",
    "**Suppose X is a random variable with a distribution that may be **known or unknown** (it can be any distribution) and suppose**:\n",
    "\n",
    "* $\\mu_x=\\text{ the mean of } X$\n",
    "* $\\sigma_x = \\text{ the standard deviation of } X$\n",
    "\n",
    "If you draw random samples of size n, then as n increases, the random variable ΣX consisting of sums tends to be normally distributed and\n",
    "\n",
    "* $\\sum{X} \\sim N\\bigl((n)(\\mu_x), (\\sqrt{n})(\\sigma_x)\\bigr)$\n",
    "\n",
    "\n",
    "The random variable $\\sum{X}$ has the following z-score associated with it:\n",
    "\n",
    "a. $\\sum{x}$ is one sum.\n",
    "\n",
    "b. $z=\\frac{\\sum{x}-(n)(\\mu_x)}{(\\sqrt{n})(\\sigma{x})}$\n",
    "\n",
    "* $(n)(\\mu_x) = \\text{the mean of }\\sum{X}$\n",
    "* $(\\sqrt{n}) (\\sigma_x) = \\text{standard deviation of } \\sum{X}$"
   ]
  },
  {
   "cell_type": "code",
   "execution_count": null,
   "metadata": {},
   "outputs": [],
   "source": []
  },
  {
   "cell_type": "markdown",
   "metadata": {},
   "source": [
    "#### <span style=\"color:orange\">Example 7.5</span>\n",
    "An unknown distribution has a mean of 90 and a standard deviation of 15. A sample of size 80 is drawn randomly from the population."
   ]
  },
  {
   "cell_type": "markdown",
   "metadata": {},
   "source": [
    "a.\n",
    "\n",
    "Find the probability that the sum of the 80 values (or the total of the 80 values) is more than 7,500.\n",
    "\n",
    "* $\\mu_x = 90$\n",
    "* $\\sigma_x = 15$\n",
    "* sample size = n = 80\n",
    "* $\\sum X \\sim N\\bigl((80)(90), (\\sqrt{80})(15)\\bigr)$"
   ]
  },
  {
   "cell_type": "code",
   "execution_count": 47,
   "metadata": {},
   "outputs": [
    {
     "name": "stdout",
     "output_type": "stream",
     "text": [
      "The mean of the sums is: 7200\n"
     ]
    }
   ],
   "source": [
    "print(\"The mean of the sums is:\", 80*90)"
   ]
  },
  {
   "cell_type": "code",
   "execution_count": 48,
   "metadata": {},
   "outputs": [
    {
     "name": "stdout",
     "output_type": "stream",
     "text": [
      "The standard deviation of the sums is: 134.1640786499874\n"
     ]
    }
   ],
   "source": [
    "print(\"The standard deviation of the sums is:\", math.sqrt(80)*15)"
   ]
  },
  {
   "cell_type": "markdown",
   "metadata": {},
   "source": [
    "Find: $P(\\sum{X}\\gt 7500)$"
   ]
  },
  {
   "cell_type": "code",
   "execution_count": 49,
   "metadata": {},
   "outputs": [
    {
     "data": {
      "text/plain": [
       "0.012671433369059626"
      ]
     },
     "execution_count": 49,
     "metadata": {},
     "output_type": "execute_result"
    }
   ],
   "source": [
    "1-st.norm.cdf(7500, loc=7200, scale=134.16)"
   ]
  },
  {
   "attachments": {
    "783ebb75-3c23-4c57-8090-9955c61e1c7b.png": {
     "image/png": "[encoded data removed]"
    }
   },
   "cell_type": "markdown",
   "metadata": {},
   "source": [
    "![image.png](attachment:783ebb75-3c23-4c57-8090-9955c61e1c7b.png)"
   ]
  },
  {
   "cell_type": "code",
   "execution_count": 50,
   "metadata": {},
   "outputs": [
    {
     "data": {
      "text/plain": [
       "<bound method rv_continuous.cdf of <scipy.stats._continuous_distns.norm_gen object at 0x00000164E52C6460>>"
      ]
     },
     "execution_count": 50,
     "metadata": {},
     "output_type": "execute_result"
    }
   ],
   "source": [
    "st.norm.cdf"
   ]
  },
  {
   "cell_type": "markdown",
   "metadata": {},
   "source": [
    "<div class=\"alert-success\">\n",
    "st.norm.cdf takes as input the x value, with loc=mean, scale=standard deviation\n",
    "    \n",
    "st.norm.ppf takes as input the percent, with loc=mean, scale=standard deviation\n",
    "    \n",
    "    \n",
    "    \n",
    "    \n",
    "</div>"
   ]
  },
  {
   "cell_type": "markdown",
   "metadata": {},
   "source": [
    "b.\n",
    "\n",
    "Find the sum that is 1.5 standard deviations above the mean of the sums.\n",
    "\n",
    "eg) Find $\\sum{X}$ where $z=1.5$"
   ]
  },
  {
   "cell_type": "markdown",
   "metadata": {},
   "source": [
    "$\\sum{X}=(n)(\\mu_x) + (z)(\\sqrt{n})(\\sigma_x) = (80)(90) + (1.5)(\\sqrt{80})(15)=7401.2$"
   ]
  },
  {
   "cell_type": "code",
   "execution_count": 51,
   "metadata": {},
   "outputs": [
    {
     "data": {
      "text/plain": [
       "7401.2461179"
      ]
     },
     "execution_count": 51,
     "metadata": {},
     "output_type": "execute_result"
    }
   ],
   "source": [
    "1.5*134.1640786 + 7200"
   ]
  },
  {
   "cell_type": "code",
   "execution_count": null,
   "metadata": {},
   "outputs": [],
   "source": []
  },
  {
   "cell_type": "markdown",
   "metadata": {},
   "source": [
    "#### <span style=\"color:orange\">Example 7.7</span>\n",
    "The mean number of minutes for app engagement by a tablet user is 8.2 minutes. Suppose the standard deviation is one minute. Take a sample of size 70."
   ]
  },
  {
   "cell_type": "markdown",
   "metadata": {},
   "source": [
    "a.\n",
    "\n",
    "What are the mean and standard deviation for the sums?"
   ]
  },
  {
   "cell_type": "markdown",
   "metadata": {},
   "source": [
    "* $\\mu_x = 8.2$\n",
    "* $\\mu_{\\sum{X}} = n\\mu_x = 70(8.2) = 574 \\text{ minutes}$\n",
    "* $\\sigma_x = 1$\n",
    "* $\\sigma_{\\sum{x}} = (\\sqrt{n})(\\sigma_x)=(\\sqrt{70})(1)=8.37$ minutes\n",
    "* sample size = 70\n",
    "* $\\sum X \\sim N\\bigl((70)(8.2), (\\sqrt{70})(1)\\bigr)$"
   ]
  },
  {
   "cell_type": "code",
   "execution_count": 52,
   "metadata": {},
   "outputs": [
    {
     "name": "stdout",
     "output_type": "stream",
     "text": [
      "The mean of the sums is:  574.0 minutes\n"
     ]
    }
   ],
   "source": [
    "print(\"The mean of the sums is: \",70*8.2, \"minutes\")"
   ]
  },
  {
   "cell_type": "code",
   "execution_count": 53,
   "metadata": {},
   "outputs": [
    {
     "name": "stdout",
     "output_type": "stream",
     "text": [
      "The standard deviation of the sums is:  8.366600265340756 minutes\n"
     ]
    }
   ],
   "source": [
    "print(\"The standard deviation of the sums is: \", math.sqrt(70)*1, \"minutes\")"
   ]
  },
  {
   "cell_type": "markdown",
   "metadata": {},
   "source": [
    "b.\n",
    "\n",
    "Find the 95th percentile for the sum of the sample. Interpret this value in a complete sentence."
   ]
  },
  {
   "cell_type": "code",
   "execution_count": 54,
   "metadata": {},
   "outputs": [
    {
     "data": {
      "text/plain": [
       "587.7618327916318"
      ]
     },
     "execution_count": 54,
     "metadata": {},
     "output_type": "execute_result"
    }
   ],
   "source": [
    "st.norm.ppf(0.95, loc=574, scale=8.3666002653)"
   ]
  },
  {
   "cell_type": "markdown",
   "metadata": {},
   "source": [
    "Therefore, ninety five percent of the sums of app engagement times are at most 587.76 minutes."
   ]
  },
  {
   "cell_type": "markdown",
   "metadata": {},
   "source": [
    "c.\n",
    "Find the probability that the sum of the sample is at least ten hours.\n",
    "\n",
    "Ten hours = 600 minutes"
   ]
  },
  {
   "cell_type": "code",
   "execution_count": 55,
   "metadata": {},
   "outputs": [
    {
     "data": {
      "text/plain": [
       "0.0009430837295741901"
      ]
     },
     "execution_count": 55,
     "metadata": {},
     "output_type": "execute_result"
    }
   ],
   "source": [
    "1 - st.norm.cdf(600, loc=574, scale=8.3666002653)"
   ]
  },
  {
   "cell_type": "code",
   "execution_count": null,
   "metadata": {},
   "outputs": [],
   "source": []
  },
  {
   "cell_type": "code",
   "execution_count": null,
   "metadata": {},
   "outputs": [],
   "source": []
  },
  {
   "cell_type": "markdown",
   "metadata": {},
   "source": [
    "## <span style=\"color:green\">Using the Central Limit Theorem</span>\n",
    "It is important to understand when to use the **central limit theorem**\n",
    "\n",
    "If you are being asked to find the probability of an **individual** value, do **not** use the clt. **Use the distribution of its random variable**."
   ]
  },
  {
   "cell_type": "markdown",
   "metadata": {},
   "source": [
    "### Examples of the Central Limit Theorem\n",
    "#### Law of Large Numbers\n",
    "The larger n gets, the smaller the standard deviation gets. Remember that the standard deviation for $\\bar{X}$ is:\n",
    "\n",
    "$\\bar{X} = \\frac{\\sigma}{\\sqrt{n}}$\n",
    "\n",
    "Below is an interactive example to show as n gets larger, the output (standard deviation) gets smaller."
   ]
  },
  {
   "cell_type": "code",
   "execution_count": 56,
   "metadata": {},
   "outputs": [],
   "source": [
    "import ipywidgets as widgets\n",
    "from ipywidgets import interact"
   ]
  },
  {
   "cell_type": "code",
   "execution_count": 57,
   "metadata": {},
   "outputs": [
    {
     "data": {
      "application/vnd.jupyter.widget-view+json": {
       "model_id": "baafd471df6d45a781f49f13b19e18f2",
       "version_major": 2,
       "version_minor": 0
      },
      "text/plain": [
       "interactive(children=(IntSlider(value=5, description='sig', max=1000, min=1), IntSlider(value=5, description='…"
      ]
     },
     "metadata": {},
     "output_type": "display_data"
    }
   ],
   "source": [
    "sigma = widgets.IntSlider(value=5, min=1, max=1000)\n",
    "mean = widgets.IntSlider(value=5, min=1, max=1000)\n",
    "def some_output(sig, n):\n",
    "    return sig/math.sqrt(n)\n",
    "\n",
    "interact(some_output,\n",
    "        sig=sigma,\n",
    "        n=mean);"
   ]
  },
  {
   "cell_type": "code",
   "execution_count": null,
   "metadata": {},
   "outputs": [],
   "source": []
  },
  {
   "cell_type": "code",
   "execution_count": null,
   "metadata": {},
   "outputs": [],
   "source": []
  },
  {
   "cell_type": "markdown",
   "metadata": {},
   "source": [
    "#### <span style=\"color:orange\">Example 7.8</span>\n",
    "A study involving stress is conducted among the students on a college campus. The **stress scores follow a uniform distribution** with the lowest stress score equal to one and the highest equal to five. Using a sample of 75 students, find:"
   ]
  },
  {
   "cell_type": "markdown",
   "metadata": {},
   "source": [
    "a.\n",
    "\n",
    "The probability that the **mean stress score** for the 75 students is less than two.\n",
    "\n",
    "Find $P(\\bar{x} < 2)$"
   ]
  },
  {
   "cell_type": "markdown",
   "metadata": {},
   "source": [
    "* n = 75\n",
    "\n",
    "This is a `uniform distribution` so:\n",
    "\n",
    "* $X \\sim U(a, b)$ where a = the lowest value of x and b = the highest value of x.\n",
    "* $\\therefore X\\sim U(1, 5)$ where a=1 and b=5\n",
    "* $\\mu_x=\\frac{a+b}{2}=\\frac{1+5}{2}=3$\n",
    "* $\\sigma_x = \\sqrt{\\frac{(b-a)^2}{12}}=\\sqrt{\\frac{(5-1)^2}{12}}=1.15$\n",
    "* $\\therefore \\bar{X} \\sim N\\bigl(3,\\frac{1.15}{\\sqrt{75}}\\bigr)$"
   ]
  },
  {
   "cell_type": "code",
   "execution_count": 58,
   "metadata": {},
   "outputs": [
    {
     "data": {
      "text/plain": [
       "5.365069419293428e-99"
      ]
     },
     "execution_count": 58,
     "metadata": {},
     "output_type": "execute_result"
    }
   ],
   "source": [
    "st.norm.cdf(.2, loc=3, scale=1.15/math.sqrt(75))"
   ]
  },
  {
   "cell_type": "markdown",
   "metadata": {},
   "source": [
    "Near Zero (recall smallest score is one)"
   ]
  },
  {
   "attachments": {
    "7226ab21-6c07-4de5-be25-1e142d3915ee.png": {
     "image/png": "[encoded data removed]"
    }
   },
   "cell_type": "markdown",
   "metadata": {},
   "source": [
    "![image.png](attachment:7226ab21-6c07-4de5-be25-1e142d3915ee.png)"
   ]
  },
  {
   "cell_type": "code",
   "execution_count": null,
   "metadata": {},
   "outputs": [],
   "source": []
  },
  {
   "attachments": {
    "a796ca63-89fb-4287-9ea0-c34acf7ac9e7.png": {
     "image/png": "[encoded data removed]"
    }
   },
   "cell_type": "markdown",
   "metadata": {},
   "source": [
    "b.\n",
    "\n",
    "Find the 90th percentile for the mean of 75 stress scores.\n",
    "\n",
    "Let k= the 90th percentile.\n",
    "\n",
    "Find k, where $P(\\bar{x} \\lt k) = 0.90$\n",
    "\n",
    "k = 3.2\n",
    "\n",
    "![image.png](attachment:a796ca63-89fb-4287-9ea0-c34acf7ac9e7.png)"
   ]
  },
  {
   "cell_type": "code",
   "execution_count": 59,
   "metadata": {},
   "outputs": [
    {
     "data": {
      "text/plain": [
       "3.170177952509939"
      ]
     },
     "execution_count": 59,
     "metadata": {},
     "output_type": "execute_result"
    }
   ],
   "source": [
    "st.norm.ppf(.9, loc=3, scale=1.15/math.sqrt(75))"
   ]
  },
  {
   "cell_type": "markdown",
   "metadata": {},
   "source": [
    "The 90th percentile for the mean of 75 scores is about 3.2. This tells us that 90% of all the means of 75 stress scores are at most 3.2, and that 10% are greater than 3.2."
   ]
  },
  {
   "cell_type": "code",
   "execution_count": null,
   "metadata": {},
   "outputs": [],
   "source": []
  },
  {
   "cell_type": "markdown",
   "metadata": {},
   "source": [
    "c.\n",
    "\n",
    "The probability that the total of the 75 stress scores is less than 200.\n",
    "\n",
    "Find $P(\\sum_x < 200)$"
   ]
  },
  {
   "cell_type": "code",
   "execution_count": 60,
   "metadata": {},
   "outputs": [
    {
     "data": {
      "text/plain": [
       "0.00603282286495274"
      ]
     },
     "execution_count": 60,
     "metadata": {},
     "output_type": "execute_result"
    }
   ],
   "source": [
    "st.norm.cdf(200, loc=75*3, scale=math.sqrt(75)*1.15)"
   ]
  },
  {
   "cell_type": "markdown",
   "metadata": {},
   "source": [
    "d.\n",
    "Find the 90th percentile for the total of 75 stress scores.\n",
    "\n",
    "Let k = the 90th percentile.\n",
    "\n",
    "Find k where $P(\\sum{x}\\lt k) = 0.90$\n",
    "\n",
    "k = 237.8"
   ]
  },
  {
   "cell_type": "code",
   "execution_count": 61,
   "metadata": {},
   "outputs": [
    {
     "data": {
      "text/plain": [
       "237.76334643824543"
      ]
     },
     "execution_count": 61,
     "metadata": {},
     "output_type": "execute_result"
    }
   ],
   "source": [
    "st.norm.ppf(0.90, loc=75*3, scale=math.sqrt(75)*1.15)"
   ]
  },
  {
   "cell_type": "code",
   "execution_count": null,
   "metadata": {},
   "outputs": [],
   "source": []
  },
  {
   "cell_type": "markdown",
   "metadata": {},
   "source": [
    "#### Example 7.9\n",
    "* Exponential distribution\n",
    "* $\\mu = 22$ minutes\n",
    "* n = 80 customers\n",
    "* Let X - the excess time used by one INDIVIDUAL cell phone customer\n",
    "* $X \\sim \\text{Exp}(\\frac{1}{22})$\n",
    "    * $\\mu=22$\n",
    "    * $\\sigma=22$\n",
    "* Let $\\bar{X} = $ the mean excess time used by a sample of n=80 customers who exceed their contracted time allowance.\n",
    "* $\\bar{X} \\sim N\\bigl(22, \\frac{22}{\\sqrt{80}}\\bigr)$ by the central limit theorem for sample means."
   ]
  },
  {
   "cell_type": "markdown",
   "metadata": {},
   "source": [
    "a.\n",
    "\n",
    "Find $P(\\bar{x}>20)$ (The probability that the mean excess time used by the 80 customers in the sample is longer than 20 minutes)"
   ]
  },
  {
   "cell_type": "code",
   "execution_count": 62,
   "metadata": {},
   "outputs": [
    {
     "data": {
      "text/plain": [
       "0.7919241165068476"
      ]
     },
     "execution_count": 62,
     "metadata": {},
     "output_type": "execute_result"
    }
   ],
   "source": [
    "1 - st.norm.cdf(20, loc=22, scale=(22/math.sqrt(80)))"
   ]
  },
  {
   "cell_type": "markdown",
   "metadata": {},
   "source": [
    "b. "
   ]
  },
  {
   "cell_type": "code",
   "execution_count": null,
   "metadata": {},
   "outputs": [],
   "source": []
  },
  {
   "cell_type": "markdown",
   "metadata": {},
   "source": [
    "#### <span style=\"color:orange\">Example 7.9</span>\n",
    "Suppose that a market research analyst for a cell phone company conducts a study of their customers who exceed the time allowance included on their basic cell phone contract; the analyst finds that for those people who exceed the time included in their basic contract, the `excess time used` follows an `exponential distribution` with a mean of 22 minutes.\n",
    "\n",
    "Consider a random sample of 80 customers who exceed the time allowance included in their basic cell phone contract.\n",
    "\n",
    "Let X = the excess time used by one INDIVIDUAL cell phone customer who exceeds his contracted time allowance.\n",
    "\n",
    "$X\\sim \\text{Exp}(\\frac{1}{22})$. From previous chapters, we know that:\n",
    "* $\\mu = 22$\n",
    "* $\\sigma = 22$\n",
    "\n",
    "Let $\\bar{X}$ = the mean excess tie used by a sample of n=80 customers who exceed their contracted tiem allowance.\n",
    "\n",
    "$\\bar{X} \\sim N \\bigl(22, \\frac{22}{\\sqrt{80}} \\bigr)$ by the central limit theorem for sample means"
   ]
  },
  {
   "cell_type": "markdown",
   "metadata": {},
   "source": [
    "**Using the ctl to find probability**\n",
    "\n",
    "a.\n",
    "Find the probability that the mean excess time used by the 80 customers in the sample is longer than 20 minutes. This is asking us to find $P( \\bar{x}  > 20)$. Draw the graph."
   ]
  },
  {
   "cell_type": "code",
   "execution_count": 63,
   "metadata": {},
   "outputs": [
    {
     "data": {
      "text/plain": [
       "0.7919241165068476"
      ]
     },
     "execution_count": 63,
     "metadata": {},
     "output_type": "execute_result"
    }
   ],
   "source": [
    "1 - st.norm.cdf(20, loc=22, scale=22/math.sqrt(80))"
   ]
  },
  {
   "attachments": {
    "5821bc5b-b306-4bea-865a-1147f8448fb0.png": {
     "image/png": "[encoded data removed]"
    }
   },
   "cell_type": "markdown",
   "metadata": {},
   "source": [
    "![image.png](attachment:5821bc5b-b306-4bea-865a-1147f8448fb0.png)"
   ]
  },
  {
   "cell_type": "markdown",
   "metadata": {},
   "source": [
    "b.\n",
    "Suppose that one customer who exceeds the time limit for his cell phone contract is randomly selected. Find the probability that this individual customer's excess time is longer than 20 minutes. This is asking us to find $P(x > 20)$.\n",
    "\n",
    "Find $P(x > 20)$. Remember to use the exponential distribution for an `individual`: $X\\sim \\text{Exp}(\\frac{1}{22})$.\n",
    "\n",
    "$P(x>20)=e^{(-(\\frac{1}{22})(20))}$ or $e^{(-0.04545(20))} = 0.4029)$"
   ]
  },
  {
   "cell_type": "code",
   "execution_count": 64,
   "metadata": {},
   "outputs": [
    {
     "data": {
      "text/plain": [
       "0.402890321529133"
      ]
     },
     "execution_count": 64,
     "metadata": {},
     "output_type": "execute_result"
    }
   ],
   "source": [
    "math.e**(-(1/22)*20)"
   ]
  },
  {
   "cell_type": "markdown",
   "metadata": {},
   "source": [
    "c.\n",
    "Explain why the probabilities in parts a and b are different.\n",
    "\n",
    "1. $P(x>20)=0.4029$ but $P(\\bar{x}>20)=0.7919\n",
    "2. The probabilities are not equal because we use different distributions to calculate the probability for individuals and for means.\n",
    "3. <span style=\"color:pink\">When asked to find the probability of an individual value, use the stated distribution of its random variable; do not use the clt. Use the clt with the normal distribution when you are being asked to find the probability for a mean.</span>"
   ]
  },
  {
   "cell_type": "markdown",
   "metadata": {},
   "source": [
    "Let $k=\\text{ the } 95^{\\text{th}}$ percentile.  Find $k$ where $P(\\bar{x}<k)=0.95$\n",
    "\n",
    "$k = 26.0$"
   ]
  },
  {
   "cell_type": "code",
   "execution_count": 65,
   "metadata": {},
   "outputs": [
    {
     "data": {
      "text/plain": [
       "26.045804975190627"
      ]
     },
     "execution_count": 65,
     "metadata": {},
     "output_type": "execute_result"
    }
   ],
   "source": [
    "st.norm.ppf(.95, loc=22, scale=22/math.sqrt(80))"
   ]
  },
  {
   "attachments": {
    "84e08460-913d-4021-b92c-20a6aa496a97.png": {
     "image/png": "[encoded data removed]"
    }
   },
   "cell_type": "markdown",
   "metadata": {},
   "source": [
    "![image.png](attachment:84e08460-913d-4021-b92c-20a6aa496a97.png)\n",
    "\n",
    "The 95th percentile for the **sample mean excess time used** is about 26.0 minutes for random samples of 80 customers who exceed their contractual allowed time.\n",
    "\n",
    "Ninety five percent of such samples would have means under 26 minutes; only five percent of such samples would have means above 26 minutes."
   ]
  },
  {
   "cell_type": "code",
   "execution_count": null,
   "metadata": {},
   "outputs": [],
   "source": []
  },
  {
   "cell_type": "markdown",
   "metadata": {},
   "source": [
    "#### <span style=\"color:orange\">Example 7.10</span>\n",
    "In the United States, someone is sexually assaulted every two minutes, on average, according to a number of studies. Suppose the standard deviation is 0.5 minutes and the sample size is 100.\n",
    "\n",
    "* $\\mu_x = \\mu = 2$ minutes\n",
    "* $\\sigma = 0.5$ minutes, $\\sigma_x = \\frac{\\sigma}{\\sqrt{n}} = \\frac{0.5}{10} = 0.05$\n",
    "* $n = 100$"
   ]
  },
  {
   "cell_type": "markdown",
   "metadata": {},
   "source": [
    "a.\n",
    "Find the median, the first quartile, and the third quartile for the sample mean time of sexual assaults in the United States."
   ]
  },
  {
   "cell_type": "code",
   "execution_count": 66,
   "metadata": {},
   "outputs": [
    {
     "name": "stdout",
     "output_type": "stream",
     "text": [
      "The median is: 0.05\n"
     ]
    }
   ],
   "source": [
    "print(\"The median is:\", 0.05)"
   ]
  },
  {
   "cell_type": "code",
   "execution_count": 67,
   "metadata": {},
   "outputs": [
    {
     "name": "stdout",
     "output_type": "stream",
     "text": [
      "The first quartile is: 1.9662755124901958\n"
     ]
    }
   ],
   "source": [
    "print(\"The first quartile is:\", st.norm.ppf(0.25, loc=2, scale=0.05))"
   ]
  },
  {
   "cell_type": "code",
   "execution_count": 68,
   "metadata": {},
   "outputs": [
    {
     "name": "stdout",
     "output_type": "stream",
     "text": [
      "The third quartile is: 2.033724487509804\n"
     ]
    }
   ],
   "source": [
    "print(\"The third quartile is:\", st.norm.ppf(0.75, loc=2, scale=0.05))"
   ]
  },
  {
   "cell_type": "markdown",
   "metadata": {},
   "source": [
    "b.\n",
    "Find the median, the first quartile, and the third quartile for the sum of sample times of sexual assaults in the United States."
   ]
  },
  {
   "cell_type": "markdown",
   "metadata": {},
   "source": [
    "$\\mu_{\\sum{x}} = n(\\mu_x)=100(2)=200$\n",
    "\n",
    "$\\sigma_{\\mu x} = \\sqrt{n}(\\sigma_x)=\\sqrt{100}(0.5)=5$"
   ]
  },
  {
   "cell_type": "code",
   "execution_count": 69,
   "metadata": {},
   "outputs": [
    {
     "data": {
      "text/plain": [
       "(200, 5.0)"
      ]
     },
     "execution_count": 69,
     "metadata": {},
     "output_type": "execute_result"
    }
   ],
   "source": [
    "(100*2, math.sqrt(100)*.5)"
   ]
  },
  {
   "cell_type": "code",
   "execution_count": 70,
   "metadata": {},
   "outputs": [
    {
     "name": "stdout",
     "output_type": "stream",
     "text": [
      "The mean is: 200\n"
     ]
    }
   ],
   "source": [
    "print(\"The mean is:\", 200)"
   ]
  },
  {
   "cell_type": "code",
   "execution_count": 71,
   "metadata": {},
   "outputs": [
    {
     "name": "stdout",
     "output_type": "stream",
     "text": [
      "The 25th percentile is: 196.6275512490196\n"
     ]
    }
   ],
   "source": [
    "print(\"The 25th percentile is:\", st.norm.ppf(0.25, loc=200, scale=5))"
   ]
  },
  {
   "cell_type": "code",
   "execution_count": 72,
   "metadata": {},
   "outputs": [
    {
     "name": "stdout",
     "output_type": "stream",
     "text": [
      "The 75th percentile is: 203.3724487509804\n"
     ]
    }
   ],
   "source": [
    "print(\"The 75th percentile is:\", st.norm.ppf(0.75, loc=200, scale=5))"
   ]
  },
  {
   "cell_type": "markdown",
   "metadata": {},
   "source": [
    "c.\n",
    "Find the probability that a sexual assault occurs on the average between 1.75 and 1.85 minutes.\n",
    "\n",
    "$P(1.75\\lt \\bar{x} \\lt 1.85)$"
   ]
  },
  {
   "cell_type": "code",
   "execution_count": 73,
   "metadata": {},
   "outputs": [
    {
     "data": {
      "text/plain": [
       "0.001349611380058222"
      ]
     },
     "execution_count": 73,
     "metadata": {},
     "output_type": "execute_result"
    }
   ],
   "source": [
    "st.norm.cdf(1.85, loc=2, scale=0.05) - st.norm.cdf(1.75, loc=2, scale=0.05)"
   ]
  },
  {
   "cell_type": "markdown",
   "metadata": {},
   "source": [
    "d.\n",
    "Find the value that is two standard deviations above the sample mean."
   ]
  },
  {
   "cell_type": "markdown",
   "metadata": {},
   "source": [
    "Recall that:\n",
    "> In statistics, a `z-score` tells us `how many standard deviations away a value is from the mean`. We use the following formula to calculate a z-score:\n",
    "\n",
    "> $z = \\frac{(X – μ)}{σ}$"
   ]
  },
  {
   "cell_type": "markdown",
   "metadata": {},
   "source": [
    "$\\therefore z = 2$ and solve for x (the value we are trying to find)"
   ]
  },
  {
   "cell_type": "markdown",
   "metadata": {},
   "source": [
    "* $2 = \\frac{x-2}{0.05}$\n",
    "* $2(0.05) = x - 2$\n",
    "* $2(0.05) - 2 = x$\n",
    "* $x = 2.1$"
   ]
  },
  {
   "cell_type": "markdown",
   "metadata": {},
   "source": [
    "Therefore the value that is two standard deviations above the sample mean is = 2.1"
   ]
  },
  {
   "cell_type": "markdown",
   "metadata": {},
   "source": [
    "e.\n",
    "Find the IQR for the sum of the sample times."
   ]
  },
  {
   "cell_type": "markdown",
   "metadata": {},
   "source": [
    "IQR = 75th percentile - 25th percentile"
   ]
  },
  {
   "cell_type": "markdown",
   "metadata": {},
   "source": [
    "Recall,\n",
    "> * $(\\sqrt{n}) (\\sigma_x) = \\text{standard deviation of } \\sum{X}$\n",
    "* $\\sqrt{n}(\\sigma)$\n",
    "* $\\sqrt{100} (0.5)$\n",
    "* $10*0.5$\n",
    "* 5"
   ]
  },
  {
   "cell_type": "code",
   "execution_count": 74,
   "metadata": {},
   "outputs": [
    {
     "data": {
      "text/plain": [
       "(203.3724487509804, 196.6275512490196)"
      ]
     },
     "execution_count": 74,
     "metadata": {},
     "output_type": "execute_result"
    }
   ],
   "source": [
    "(st.norm.ppf(.75, loc=200, scale=5), st.norm.ppf(.25, loc=200, scale=5))"
   ]
  },
  {
   "cell_type": "code",
   "execution_count": 75,
   "metadata": {},
   "outputs": [
    {
     "data": {
      "text/plain": [
       "6.744897501960793"
      ]
     },
     "execution_count": 75,
     "metadata": {},
     "output_type": "execute_result"
    }
   ],
   "source": [
    "st.norm.ppf(.75, loc=200, scale=5) - st.norm.ppf(.25, loc=200, scale=5)"
   ]
  },
  {
   "cell_type": "code",
   "execution_count": null,
   "metadata": {},
   "outputs": [],
   "source": []
  },
  {
   "cell_type": "markdown",
   "metadata": {},
   "source": [
    "#### <span style=\"color:orange\">Example 7.11</span>\n",
    "A study was done about violence against prostitutes and the symptoms of the post-traumatic stress that they developed. The age range of the prostitutes was 14 to 61. The mean age was 30.9 years with a standard deviation of nine years.\n",
    "\n"
   ]
  },
  {
   "cell_type": "markdown",
   "metadata": {},
   "source": [
    "* $14 \\geq \\text{ age } \\leq 61$\n",
    "* mean age, $\\mu = 30.9$\n",
    "* stdev age, $\\sigma = 9$"
   ]
  },
  {
   "cell_type": "code",
   "execution_count": null,
   "metadata": {},
   "outputs": [],
   "source": []
  },
  {
   "cell_type": "markdown",
   "metadata": {},
   "source": [
    "a.\n",
    "\n",
    "In a sample of 25 prostitutes, what is the probability that the mean age of the prostitutes is less than 35?\n",
    "\n",
    "* $\\therefore \\mu_x = \\mu = 30.9$\n",
    "* $\\therefore \\sigma = 9$"
   ]
  },
  {
   "cell_type": "markdown",
   "metadata": {},
   "source": [
    "Central limit theorem for sample means:\n",
    "* $\\bar{X} \\sim N \\bigl( \\mu_x, \\frac{\\sigma_x}{\\sqrt{n}} \\bigr) $"
   ]
  },
  {
   "cell_type": "code",
   "execution_count": 76,
   "metadata": {},
   "outputs": [
    {
     "name": "stdout",
     "output_type": "stream",
     "text": [
      "The sample standard deviation is: 1.8\n"
     ]
    }
   ],
   "source": [
    "print(\"The sample standard deviation is:\", (9)/math.sqrt(25))"
   ]
  },
  {
   "cell_type": "code",
   "execution_count": 77,
   "metadata": {},
   "outputs": [
    {
     "name": "stdout",
     "output_type": "stream",
     "text": [
      "The probability, for a sample of 25 prostitutes, that the mean age is less than 35 is: 0.9886300895118156\n"
     ]
    }
   ],
   "source": [
    "print(\"The probability, for a sample of 25 prostitutes, that the mean age is less than 35 is:\", st.norm.cdf(35, loc=30.9, scale=1.8))"
   ]
  },
  {
   "cell_type": "markdown",
   "metadata": {},
   "source": [
    "b.\n",
    "\n",
    "Is it likely that the mean age of the sample group could be more than 50 years? Interpret the results."
   ]
  },
  {
   "cell_type": "markdown",
   "metadata": {},
   "source": [
    "Find, $P(\\bar{x}>50)$"
   ]
  },
  {
   "cell_type": "code",
   "execution_count": 78,
   "metadata": {},
   "outputs": [
    {
     "name": "stdout",
     "output_type": "stream",
     "text": [
      "The probability for b. is: 0.0\n"
     ]
    }
   ],
   "source": [
    "print(\"The probability for b. is:\", 1 - st.norm.cdf(50, loc=30.9, scale=1.8))"
   ]
  },
  {
   "cell_type": "markdown",
   "metadata": {},
   "source": [
    "> For this sample group, it is almost impossible for the group’s average age to be more than 50. However, it is still possible for an individual in this group to have an age greater than 50."
   ]
  },
  {
   "cell_type": "markdown",
   "metadata": {},
   "source": [
    "c.\n",
    "\n",
    "In a sample of 49 prostitutes, what is the probability that the sum of the ages is no less than 1,600?\n",
    "\n",
    "$P(\\sum{x} \\ge 1600)$\n",
    "\n",
    "> $\\sum{X} \\sim N\\bigl((n)(\\mu_x), (\\sqrt{n})(\\sigma_x)\\bigr)$"
   ]
  },
  {
   "cell_type": "code",
   "execution_count": 79,
   "metadata": {},
   "outputs": [
    {
     "data": {
      "text/plain": [
       "(1514.1, 63.0)"
      ]
     },
     "execution_count": 79,
     "metadata": {},
     "output_type": "execute_result"
    }
   ],
   "source": [
    "(49*30.9, math.sqrt(49)*9)"
   ]
  },
  {
   "cell_type": "code",
   "execution_count": 80,
   "metadata": {},
   "outputs": [
    {
     "data": {
      "text/plain": [
       "0.08636374201938346"
      ]
     },
     "execution_count": 80,
     "metadata": {},
     "output_type": "execute_result"
    }
   ],
   "source": [
    "1 - st.norm.cdf(1600, loc=1514.1, scale=63)"
   ]
  },
  {
   "cell_type": "markdown",
   "metadata": {},
   "source": [
    "d.\n",
    "\n",
    "Is it likely that the sum of the ages of the 49 prostitutes is at most 1,595? Interpret the results."
   ]
  },
  {
   "cell_type": "code",
   "execution_count": 81,
   "metadata": {},
   "outputs": [
    {
     "data": {
      "text/plain": [
       "0.9004512360968469"
      ]
     },
     "execution_count": 81,
     "metadata": {},
     "output_type": "execute_result"
    }
   ],
   "source": [
    "st.norm.cdf(1595, loc=1514.1, scale=63)"
   ]
  },
  {
   "cell_type": "markdown",
   "metadata": {},
   "source": [
    "This means that there is a 90% chance that the sum of the ages for the sample group n = 49 is at most 1595."
   ]
  },
  {
   "cell_type": "markdown",
   "metadata": {},
   "source": [
    "e.\n",
    "\n",
    "Find the 95th percentile for the sample mean age of 65 prostitutes. Interpret the results.\n",
    "> * $\\bar{X} \\sim N \\bigl( \\mu_x, \\frac{\\sigma_x}{\\sqrt{n}} \\bigr) $"
   ]
  },
  {
   "cell_type": "code",
   "execution_count": 82,
   "metadata": {},
   "outputs": [
    {
     "data": {
      "text/plain": [
       "(30.9, 1.116312611302876)"
      ]
     },
     "execution_count": 82,
     "metadata": {},
     "output_type": "execute_result"
    }
   ],
   "source": [
    "(30.9, 9/math.sqrt(65))"
   ]
  },
  {
   "cell_type": "code",
   "execution_count": 83,
   "metadata": {},
   "outputs": [
    {
     "data": {
      "text/plain": [
       "32.73617084537016"
      ]
     },
     "execution_count": 83,
     "metadata": {},
     "output_type": "execute_result"
    }
   ],
   "source": [
    "st.norm.ppf(0.95, loc=30.9, scale=1.11631261)"
   ]
  },
  {
   "cell_type": "markdown",
   "metadata": {},
   "source": [
    "This indicates that 95% of the prostitutes in the sample of 65 are younger than 32.7 years, on average."
   ]
  },
  {
   "cell_type": "markdown",
   "metadata": {},
   "source": [
    "f.\n",
    "\n",
    "Find the 90th percentile for the sum of the ages of 65 prostitutes. Interpret the results.\n",
    "\n",
    "> $\\sum{X} \\sim N\\bigl((n)(\\mu_x), (\\sqrt{n})(\\sigma_x)\\bigr)$"
   ]
  },
  {
   "cell_type": "code",
   "execution_count": 84,
   "metadata": {},
   "outputs": [
    {
     "data": {
      "text/plain": [
       "(2008.5, 72.56031973468694)"
      ]
     },
     "execution_count": 84,
     "metadata": {},
     "output_type": "execute_result"
    }
   ],
   "source": [
    "(65*30.9, math.sqrt(65)*9)"
   ]
  },
  {
   "cell_type": "code",
   "execution_count": 85,
   "metadata": {},
   "outputs": [
    {
     "data": {
      "text/plain": [
       "2101.4897913515247"
      ]
     },
     "execution_count": 85,
     "metadata": {},
     "output_type": "execute_result"
    }
   ],
   "source": [
    "st.norm.ppf(0.90, loc=2008.5, scale=72.560319734)"
   ]
  },
  {
   "cell_type": "markdown",
   "metadata": {},
   "source": [
    "This indicates that 90% of the prostitutes in the sample of 65 have a sum of ages less than 2,101.5 years."
   ]
  },
  {
   "cell_type": "code",
   "execution_count": null,
   "metadata": {},
   "outputs": [],
   "source": []
  },
  {
   "cell_type": "code",
   "execution_count": null,
   "metadata": {},
   "outputs": [],
   "source": []
  },
  {
   "cell_type": "markdown",
   "metadata": {},
   "source": [
    "# Chapter 8: Confidence Intervals\n",
    "\n",
    "* `Inferential statistics` - use sample data to make generalizations about an unknown population.\n",
    "    * **The sample data help us to make an estimate of a population parameter**\n",
    "\n",
    "1. first calculate a **point estimate**\n",
    "2. then construct interval estimates called **confidence intervals**.\n",
    "\n",
    "Chapter Goals:\n",
    "* How to construct and interpret confidence intervals.\n",
    "* A new distribution - the Student's-t, and how it is used with these intervals.\n",
    "* Keep in mind that the confidence interval is a random variable.  It is the population parameter that is fixed.\n",
    "* The sample mean $\\bar{x}$ is the **point estimate** for the population mean $\\mu$.\n",
    "* The sample standard deviation $s$ is the **point estimate** for the population standard deviation $\\sigma$\n",
    "* Each $\\bar{x}$ and $s$ is called a **statistic**\n",
    "* A **confidence interval**, is an estimate but it is an interval of numbers. It provides a _range_ of reasonable values in which we expect the population parameter to fall.\n",
    "* The `empirical rule`, which applies to bell-shaped distributions, says that in approximately 95% of the samples, the sample mean, $\\bar{x}$, will be within two standard deviations of the population mean $\\mu$.\n",
    "* A **confidence interval**, is created for an **unknown population parameter** like the population mean, $\\mu$.  Confidence intervals for some parameters have the form:\n",
    "    * (point estimate - margin of error, point estimate + margin of error)\n"
   ]
  },
  {
   "cell_type": "markdown",
   "metadata": {},
   "source": [
    "## Calculating the Confidence Interval\n",
    "> A confidence interval for a population mean, when the population standard deviation is known, is based on the conclusion of the Central Limit Theorem that the sampling distribution of the sample means follow an approximately normal distribution. Suppose that our sample has a mean of $\\bar{x} = 10$ and we have constructed the 90% confidence interval (5, 15) where EBM = 5.\n",
    "\n",
    "Constructing a confidence interval for a single unknown population mean $\\mu$, **where the population standard deviation is known**, we need $\\bar{x}$ as an estimate for $\\mu$ and we need the margin of error. Here, the margin of error (EBM) is called the **error bound for a population mean** (abbreviated **EBM**).  The sample mean $\\bar{x}$ is the **point estimate** of the unknown population mean $\\mu$.\n",
    "\n",
    "The confidence interval estimate will have the form:\n",
    "\n",
    "(point estimate - error bound, point estimate + error bound) or, in symbols,($\\bar{x}$–EBM,$\\bar{x}$+EBM )\n",
    "\n",
    "The marign of error (EBM) depends on the **confidence level** (abbreviated **CL**). The confidence level is often considered the probability that the calculated confidence interval estimate will contain the true population parameter. However, it is more accurate to state that the confidence level is the percent of confidence intervals that contain the true population parameter when repeated samples are taken.\n",
    "\n",
    "**$\\alpha$**: the probability that the interval does not contain the unknown population parameter.\n",
    "\n",
    "* $\\alpha + CL = 1$"
   ]
  },
  {
   "cell_type": "code",
   "execution_count": null,
   "metadata": {},
   "outputs": [],
   "source": []
  },
  {
   "cell_type": "markdown",
   "metadata": {},
   "source": [
    "##### <span style=\"color:orange\">Example 8.1</span>\n",
    "* Suppose we have collected data from a sample. We know the sample mean but we do not know the mean for the entire population.\n",
    "* The sample mean is seven, and the error bound for the mean is 2.5.\n",
    "\n",
    "$\\bar{x}=7 \\text{ and } EBM = 2.5$\n",
    "\n",
    "The confidence interval is (7 – 2.5, 7 + 2.5), and calculating the values gives (4.5, 9.5).\n",
    "\n",
    "If the confidence level (CL) is 95%, then we say that, \"We estimate with 95% confidence that the true value of the population mean is between 4.5 and 9.5.\""
   ]
  },
  {
   "cell_type": "code",
   "execution_count": null,
   "metadata": {},
   "outputs": [],
   "source": []
  },
  {
   "cell_type": "markdown",
   "metadata": {},
   "source": [
    "### Calculating the Confidence Interval\n",
    "To construct a confidence interval estimate for an unknown population mean, we need data from a random sample. The steps to construct and interpret the confidence interval are:\n",
    "* Calculate the sample mean $\\bar{x}$ from the sample data. Remember, in this section we already know the population standard deviation $\\sigma$.\n",
    "* Find the z-score that corresponds to the confidence level.\n",
    "* Calculate the error bound EBM.\n",
    "* Construct the confidence interval.\n",
    "* Write a sentence that interprets the estimate in the context of the situation in the problem. (Explain what the confidence interval means, in the words of the problem.)"
   ]
  },
  {
   "cell_type": "markdown",
   "metadata": {},
   "source": [
    "### Finding the z-score for the Stated Confidence Level\n",
    "<span style=\"color:pink\">When we know the population standard deviation σ, we use a standard normal distribution to calculate the error bound EBM and construct the confidence interval</span>. We need to find the value of z that puts an area equal to the confidence level (in decimal form) in the middle of the standard normal distribution Z ~ N(0, 1).\n",
    "\n",
    "The confidence level, CL, is the area in the middle of the standard normal distribution. CL = 1 – α, so α is the area that is split equally between the two tails. Each of the tails contains an area equal to  α2 .\n",
    "\n",
    "The z-score that has an area to the right of $\\frac{\\alpha}{2}$ is denoted by $z_{\\frac{\\alpha}{2}}$.\n",
    "\n",
    "For example, when CL = 0.95, α = 0.05 and $\\frac{\\alpha}{2} = 0.025$; we write $z_{\\frac{\\alpha}{2}}=z_{0.025}$.\n",
    "\n",
    "The area to the right of $z_{0.025}$ is 0.025 and the area to the left of $z_{0.025}$ is 1 – 0.025 = 0.975.\n",
    "\n",
    "$z_{\\frac{\\alpha}{2}}=z_{0.025}=1.96$ , using a calculator, computer or a standard normal probability table."
   ]
  },
  {
   "cell_type": "markdown",
   "metadata": {},
   "source": [
    "### Calculating the Error Bound (EBM)\n",
    "The error bound formula for an unknown population mean μ when the population standard deviation σ is known is:\n",
    "* $EBM=\\bigl(z_{\\frac{\\alpha}{2}}\\bigr)\\bigl(\\frac{\\sigma}{\\sqrt{n}}\\bigr)$"
   ]
  },
  {
   "attachments": {
    "d55cce77-52f2-4549-8fb8-40fa2f911372.png": {
     "image/png": "[encoded data removed]"
    }
   },
   "cell_type": "markdown",
   "metadata": {},
   "source": [
    "### Constructing the Confidence Interval\n",
    "The confidence interval estimate has the format $(\\bar{x}-EBM, \\bar{x}+EBM)$\n",
    "\n",
    "The graph gives a picture of the entire situation.\n",
    "\n",
    "$CL+\\frac{\\alpha}{2}+\\frac{\\alpha}{2}=CL+\\alpha=1$\n",
    "\n",
    "![image.png](attachment:d55cce77-52f2-4549-8fb8-40fa2f911372.png)"
   ]
  },
  {
   "cell_type": "markdown",
   "metadata": {},
   "source": [
    "### Writing the Interpretation\n",
    "The interpretation should clearly state the confidence level (CL), explain what population parameter is being estimated (here, a population mean), and state the confidence interval (both endpoints). \"We estimate with ___% confidence that the true **population mean** (include the context of the problem) is between ___ and ___ (include appropriate units).\""
   ]
  },
  {
   "cell_type": "code",
   "execution_count": null,
   "metadata": {},
   "outputs": [],
   "source": []
  },
  {
   "cell_type": "markdown",
   "metadata": {},
   "source": [
    "##### <span style=\"color:orange\">Example 8.2</span>\n",
    "Suppose scores on exams in statistics are normally distributed with an unknown population mean and a population standard deviation of three points. A random sample of 36 scores is taken and gives a sample mean (sample mean score) of 68. Find a confidence interval estimate for the population mean exam score (the mean score on all exams).\n",
    "\n",
    "Find a 90% confidence interval for the true (population) mean of statistics exam scores.\n",
    "\n",
    "so,\n",
    "* $\\mu$ = ?\n",
    "* $\\sigma = 3$ points\n",
    "* $n=36$\n",
    "* $\\bar{x}=68$\n",
    "\n",
    "For a 90% confidence interval, that means:\n",
    "* $CL = 0.90$\n",
    "* $\\alpha = 0.1$\n",
    "* $\\therefore \\frac{\\alpha}{2} = 0.05$\n",
    "* $z_{\\frac{a}{2}}=z_{0.05} = 1.645$"
   ]
  },
  {
   "cell_type": "code",
   "execution_count": 110,
   "metadata": {},
   "outputs": [
    {
     "data": {
      "text/plain": [
       "1.6448536269514722"
      ]
     },
     "execution_count": 110,
     "metadata": {},
     "output_type": "execute_result"
    }
   ],
   "source": [
    "st.norm.ppf(1 - 0.05, loc=0, scale=1)"
   ]
  },
  {
   "cell_type": "markdown",
   "metadata": {},
   "source": [
    "$EBM = (1.645)(\\frac{3}{\\sqrt{36}}) = 0.8225$\n",
    "\n",
    "$\\bar{x} - EBM = 68 - 0.8225 = 67.1775$\n",
    "\n",
    "$\\bar{x} + EBM = 68 - 0.8225 = 68.8225$\n",
    "\n",
    "The 90% confidence interval is (67.1775, 68.8225)."
   ]
  },
  {
   "cell_type": "markdown",
   "metadata": {},
   "source": [
    "Interpretation: We estimate with 90% confidence that the true population mean exam score for all statistics students is between 67.18 and 68.82.\n",
    "\n",
    "Explanation of 90% Confidence Level: Ninety percent of all confidence intervals constructed in this way contain the true mean statistics exam score. For example, if we constructed 100 of these confidence intervals, we would expect 90 of them to contain the true population mean exam score."
   ]
  },
  {
   "cell_type": "code",
   "execution_count": null,
   "metadata": {},
   "outputs": [],
   "source": []
  },
  {
   "cell_type": "markdown",
   "metadata": {},
   "source": [
    "##### <span style=\"color:orange\">Example 8.3</span>\n",
    "|Phone Model\t|SAR\t|Phone Model\t|SAR\t|Phone Model\t|SAR|\n",
    "|--|--|--|--|--|--|\n",
    "|Apple iPhone 4S\t|1.11\t|LG Ally\t|1.36\t|Pantech Laser\t|0.74|\n",
    "|BlackBerry Pearl 8120\t|1.48\t|LG AX275\t|1.34\t|Samsung Character\t|0.5|\n",
    "|BlackBerry Tour 9630\t|1.43\t|LG Cosmos\t|1.18\t|Samsung Epic 4G Touch\t|0.4|\n",
    "|Cricket TXTM8\t|1.3\t|LG CU515\t|1.3\t|Samsung M240\t|0.867|\n",
    "|HP/Palm Centro\t|1.09\t|LG Trax CU575\t|1.26\t|Samsung Messager III SCH-R750\t|0.68|\n",
    "|HTC One V\t|0.455\t|Motorola Q9h\t|1.29\t|Samsung Nexus S\t|0.51|\n",
    "|HTC Touch Pro 2\t|1.41\t|Motorola Razr2 V8\t|0.36\t|Samsung SGH-A227\t|1.13|\n",
    "|Huawei M835 Ideos\t|0.82\t|Motorola Razr2 V9\t|0.52\t|SGH-a107 GoPhone\t|0.3|\n",
    "|Kyocera DuraPlus\t|0.78\t|Motorola V195s\t|1.6\t|Sony W350a\t|1.48|\n",
    "|Kyocera K127 Marbl\t|1.25\t|Nokia 1680\t|1.39\t|T-Mobile Concord\t|1.38|\n",
    "\n",
    "Find a 98% confidence interval for the true (population) mean of the Specific Absorption Rates (SARs) for cell phones. Assume that the population standard deviation is σ = 0.337."
   ]
  },
  {
   "attachments": {
    "02adf254-1947-4912-a89c-b7129be2ad6e.png": {
     "image/png": "[encoded data removed]"
    }
   },
   "cell_type": "markdown",
   "metadata": {},
   "source": [
    "So,\n",
    "* $\\mu = ?$\n",
    "* $\\sigma = 0.337$\n",
    "* $n=30$\n",
    "* Use $CL=0.98$\n",
    "* $\\therefore \\alpha = 0.02$\n",
    "* $\\frac{\\alpha}{2}= 0.01$\n",
    "* $z_{\\frac{\\alpha}{2}}=z_{0.01} = 2.326$\n",
    "\n",
    "![image.png](attachment:02adf254-1947-4912-a89c-b7129be2ad6e.png)"
   ]
  },
  {
   "cell_type": "code",
   "execution_count": 105,
   "metadata": {},
   "outputs": [],
   "source": [
    "phone_data = [1.11, 1.48, 1.43, 1.3, 1.09, 0.455, 1.41, 0.82, 0.78, 1.25,\n",
    "             1.36, 1.34, 1.18, 1.3, 1.26, 1.29, 0.36, 0.52, 1.6, 1.39,\n",
    "             0.74, 0.5, 0.4, 0.867, 0.68, 0.51, 1.13, 0.3, 1.48, 1.38]"
   ]
  },
  {
   "cell_type": "code",
   "execution_count": 106,
   "metadata": {},
   "outputs": [
    {
     "data": {
      "text/plain": [
       "1.0237333333333332"
      ]
     },
     "execution_count": 106,
     "metadata": {},
     "output_type": "execute_result"
    }
   ],
   "source": [
    "sum(phone_data)/len(phone_data)"
   ]
  },
  {
   "cell_type": "markdown",
   "metadata": {},
   "source": [
    "$\\therefore \\bar{x}=1.3576$"
   ]
  },
  {
   "cell_type": "code",
   "execution_count": 109,
   "metadata": {},
   "outputs": [
    {
     "data": {
      "text/plain": [
       "2.3263478740408408"
      ]
     },
     "execution_count": 109,
     "metadata": {},
     "output_type": "execute_result"
    }
   ],
   "source": [
    "st.norm.ppf(1 - 0.01, loc=0, scale=1)"
   ]
  },
  {
   "cell_type": "markdown",
   "metadata": {},
   "source": [
    "* $EBM=\\bigl(z_{\\frac{\\alpha}{2}}\\bigr)\\bigl(\\frac{\\sigma}{\\sqrt{n}}\\bigr)$"
   ]
  },
  {
   "cell_type": "code",
   "execution_count": 101,
   "metadata": {},
   "outputs": [
    {
     "data": {
      "text/plain": [
       "0.1431129664570382"
      ]
     },
     "execution_count": 101,
     "metadata": {},
     "output_type": "execute_result"
    }
   ],
   "source": [
    "(2.326)*(0.337/math.sqrt(30))"
   ]
  },
  {
   "cell_type": "markdown",
   "metadata": {},
   "source": [
    "To find the 98% confidence interval, find $\\bar{x} \\pm EBM$."
   ]
  },
  {
   "cell_type": "code",
   "execution_count": 107,
   "metadata": {},
   "outputs": [
    {
     "data": {
      "text/plain": [
       "1.1668100000000001"
      ]
     },
     "execution_count": 107,
     "metadata": {},
     "output_type": "execute_result"
    }
   ],
   "source": [
    "1.0237 + 0.14311"
   ]
  },
  {
   "cell_type": "code",
   "execution_count": 108,
   "metadata": {},
   "outputs": [
    {
     "data": {
      "text/plain": [
       "0.8805900000000001"
      ]
     },
     "execution_count": 108,
     "metadata": {},
     "output_type": "execute_result"
    }
   ],
   "source": [
    "1.0237 - 0.14311"
   ]
  },
  {
   "cell_type": "markdown",
   "metadata": {},
   "source": [
    "We estimate with 98% confidence that the true SAR mean for the population of cell phones in the United States is between 0.8809 and 1.1671 watts per kilogram."
   ]
  },
  {
   "cell_type": "code",
   "execution_count": null,
   "metadata": {},
   "outputs": [],
   "source": []
  },
  {
   "cell_type": "markdown",
   "metadata": {},
   "source": [
    "##### <span style=\"color:orange\">Example 8.4</span>\n",
    "\n",
    "Suppose we change the original problem in <span style=\"color:orange\">Example 8.2</span> by using a 95% confidence level. Find a 95% confidence interval for the true (population) mean statistics exam score."
   ]
  },
  {
   "cell_type": "markdown",
   "metadata": {},
   "source": [
    "so,\n",
    "* $\\mu$ = ?\n",
    "* $\\sigma = 3$ points\n",
    "* $n=36$\n",
    "* $\\bar{x}=68$\n",
    "\n",
    "For a 95% confidence interval, that means:\n",
    "* $CL = 0.95$\n",
    "* $\\alpha = 0.5$\n",
    "* $\\therefore \\frac{\\alpha}{2} = 0.025$\n",
    "* $z_{\\frac{a}{2}}=z_{0.025} = 1.959$"
   ]
  },
  {
   "cell_type": "code",
   "execution_count": 112,
   "metadata": {},
   "outputs": [
    {
     "data": {
      "text/plain": [
       "1.959963984540054"
      ]
     },
     "execution_count": 112,
     "metadata": {},
     "output_type": "execute_result"
    }
   ],
   "source": [
    "st.norm.ppf(1-0.025, loc=0, scale=1)"
   ]
  },
  {
   "cell_type": "markdown",
   "metadata": {},
   "source": [
    "* $EBM=\\bigl(z_{\\frac{\\alpha}{2}}\\bigr)\\bigl(\\frac{\\sigma}{\\sqrt{n}}\\bigr)$"
   ]
  },
  {
   "cell_type": "markdown",
   "metadata": {},
   "source": [
    "$EBM = (1.959)(\\frac{3}{\\sqrt{36}}) = 0.9795$\n",
    "\n",
    "$\\bar{x} - EBM = 68 - 0.9795 = 67.0205$\n",
    "\n",
    "$\\bar{x} + EBM = 68 - 0.9795 = 68.9795$\n",
    "\n",
    "The 95% confidence interval is (67.0205, 68.9795)."
   ]
  },
  {
   "attachments": {
    "fe4f3b40-f4bd-41e5-b5a0-8bc4baafa380.png": {
     "image/png": "[encoded data removed]"
    }
   },
   "cell_type": "markdown",
   "metadata": {},
   "source": [
    "We estimate with 95% confidence that the true population mean for all statistics exam scores is between 67.02 and 68.98.\n",
    "\n",
    "Explanation of 95% Confidence Level: Ninety-five percent of all confidence intervals constructed in this way contain the true value of the population mean statistics exam score.\n",
    "\n",
    "Comparing the results: The 90% confidence interval is (67.18, 68.82). The 95% confidence interval is (67.02, 68.98). The 95% confidence interval is wider. If you look at the graphs, because the area 0.95 is larger than the area 0.90, it makes sense that the 95% confidence interval is wider. To be more confident that the confidence interval actually does contain the true value of the population mean for all statistics exam scores, the confidence interval necessarily needs to be wider.\n",
    "\n",
    "![image.png](attachment:fe4f3b40-f4bd-41e5-b5a0-8bc4baafa380.png)\n",
    "\n",
    "**Summary: Effect of Changing the Confidence Level**\n",
    "* Increasing the confidence level increases the error bound, making the confidence interval wider.\n",
    "* Decreasing the confidence level decreases the error bound, making the confidence interval narrower."
   ]
  },
  {
   "cell_type": "code",
   "execution_count": null,
   "metadata": {},
   "outputs": [],
   "source": []
  },
  {
   "cell_type": "markdown",
   "metadata": {},
   "source": [
    "##### <span style=\"color:orange\">Example 8.5</span>\n",
    "Suppose we change the original problem in Example 8.2 to see what happens to the error bound if the sample size is changed.\n",
    "\n",
    "Leave everything the same except the sample size. Use the original 90% confidence level. What happens to the error bound and the confidence interval if we increase the sample size and use n = 100 instead of n = 36? What happens if we decrease the sample size to n = 25 instead of n = 36?\n",
    "* $\\bar{x} = 68$\n",
    "* $EBM = \\bigl(z_{\\frac{a}{2}}\\bigr)\\bigl(\\frac{\\sigma}{\\sqrt{n}}\\bigr)$\n",
    "* $\\sigma=3$; The confidence level is 90% (CL=0.90);$z_{\\frac{a}{2}}=z_{0.05}=1.645$"
   ]
  },
  {
   "cell_type": "markdown",
   "metadata": {},
   "source": [
    "___\n",
    "If we **increase** the sample size n to 100, we **decrease** the error bound.\n",
    "\n",
    "When $n=100$: $EBM=\\bigl( z_{\\frac{a}{2}} \\bigr) \\bigl(\\frac{\\sigma}{\\sqrt{n}}\\bigr)=(1.645)(\\frac{3}{\\sqrt{100}})=0.4935$"
   ]
  },
  {
   "cell_type": "markdown",
   "metadata": {},
   "source": [
    "___\n",
    "If we **decrease** the sample size n to 100, we **increase** the error bound.\n",
    "\n",
    "When $n=100$: $EBM=\\bigl( z_{\\frac{a}{2}} \\bigr) \\bigl(\\frac{\\sigma}{\\sqrt{n}}\\bigr)=(1.645)(\\frac{3}{\\sqrt{25}})=0.987$"
   ]
  },
  {
   "cell_type": "markdown",
   "metadata": {},
   "source": [
    "___\n",
    "Summary: Effect of Changing the Sample Size\n",
    "* Increasing the sample size causes the error bound to decrease, making the confidence interval narrower.\n",
    "* Decreasing the sample size causes the error bound to increase, making the confidence interval wider."
   ]
  },
  {
   "cell_type": "markdown",
   "metadata": {},
   "source": [
    "___\n",
    "\n",
    "In the below widget, observe the slider is the sample size, and will show the resultant confidence interval"
   ]
  },
  {
   "cell_type": "code",
   "execution_count": 119,
   "metadata": {},
   "outputs": [
    {
     "data": {
      "application/vnd.jupyter.widget-view+json": {
       "model_id": "961776d7bf784b278e25f1af3e8866cd",
       "version_major": 2,
       "version_minor": 0
      },
      "text/plain": [
       "interactive(children=(IntSlider(value=25, description='sample_size', max=1500, min=2), Output()), _dom_classes…"
      ]
     },
     "metadata": {},
     "output_type": "display_data"
    }
   ],
   "source": [
    "def ebm_play(sample_size):\n",
    "    return 1.645*(3/math.sqrt(sample_size))\n",
    "\n",
    "interact(ebm_play, sample_size=widgets.IntSlider(value=25, min=2, max=1500));"
   ]
  },
  {
   "cell_type": "code",
   "execution_count": null,
   "metadata": {},
   "outputs": [],
   "source": []
  },
  {
   "cell_type": "markdown",
   "metadata": {},
   "source": [
    "## Working Backwards to Find the Error Bound or Sample Mean\n",
    "When we calculate a confidence interval we:\n",
    "* find the sample mean\n",
    "* calculate the error bound\n",
    "\n",
    "Then we use those to calculate the confidence interval.\n",
    "\n",
    "If we know the confidence interval, we can work backwards to find both the error bound and the sample mean.\n",
    "\n",
    "### Finding the Error Bound\n",
    "* From the upper value for the interval, subtract the sample mean,\n",
    "* OR, from the upper value for the interval, subtract the lower value. Then divide the difference by two.\n",
    "\n",
    "### Finding the Sample Mean\n",
    "* Subtract the error bound from the upper value of the confidence interval,\n",
    "* OR, average the upper and lower endpoints of the confidence interval.\n",
    "\n",
    "_Notice that there are two methods to perform each calculation. You can choose the method that is easier to use with the information you know._"
   ]
  },
  {
   "cell_type": "code",
   "execution_count": null,
   "metadata": {},
   "outputs": [],
   "source": []
  },
  {
   "cell_type": "markdown",
   "metadata": {},
   "source": [
    "##### <span style=\"color:orange\">Example 8.6</span>\n",
    "Suppose we know that a confidence interval is **(67.18, 68.82)** and we want to find the error bound. We may know that the sample mean is 68, or perhaps our source only gave the confidence interval and did not tell us the value of the sample mean.\n",
    "\n",
    "**Calculate the Error Bound:**\n",
    "* If we know that the sample mean is 68: $EBM = 68.82-68 = 0.82$\n",
    "* If we don't know the sample mean: $EBM =  \\frac{(68.82-67.18)}{2}  = 0.82$\n",
    "\n",
    "**Calculate the Sample Mean:**\n",
    "* If we know the error bound:  $\\bar{x}= 68.82-0.82 = 68$\n",
    "* If we don't know the error bound:  $\\bar{x}=\\frac{(67.18+68.82)}{2}  = 68$"
   ]
  },
  {
   "cell_type": "code",
   "execution_count": null,
   "metadata": {},
   "outputs": [],
   "source": []
  },
  {
   "cell_type": "markdown",
   "metadata": {},
   "source": [
    "### Calculating the Sample Size $n$\n",
    "If researchers desire a specific margin of error, then they can use the error bound formula to calculate the required sample size.\n",
    "\n",
    "The error bound formula for a population mean when the population standard deviation is known is:\n",
    "\n",
    "$EBM=\\bigl(z_{\\frac{a}{2}}\\bigr) \\bigr(\\frac{\\sigma}{\\sqrt{n}}\\bigr)$\n",
    "\n",
    "The formula for the sample size is $n=\\frac{z^2 \\sigma^2}{EBM^2}$ , found by solving the error bound formula for n.\n",
    "\n",
    "In this formula, $z \\text{ is } z_{\\frac{a}{2}}$ , corresponding to the desired confidence level. A researcher planning a study who wants a specified confidence level and error bound can use this formula to calculate the size of the sample needed for the study."
   ]
  },
  {
   "cell_type": "code",
   "execution_count": null,
   "metadata": {},
   "outputs": [],
   "source": []
  },
  {
   "cell_type": "markdown",
   "metadata": {},
   "source": [
    "##### <span style=\"color:orange\">Example 8.7</span>\n",
    "The population standard deviation for the age of Foothill College students is 15 years. If we want to be 95% confident that the sample mean age is within two years of the true population mean age of Foothill College students, how many randomly selected Foothill College students must be surveyed?\n",
    "\n",
    "* From the problem, we know that σ = 15 and EBM = 2.\n",
    "* $z = z_{0.025} = 1.96$, because the confidence level is 95%.\n",
    "* $n =  \\frac{z^2 \\sigma^2}{{EBM}^2}  =  \\frac{(1.96)^2 (15)^2}{2^2}  = 216.09$ using the sample size equation.\n",
    "* Use $n = 217$: Always round the answer UP to the next higher integer to ensure that the sample size is large enough.\n",
    "\n",
    "Therefore, 217 Foothill College students should be surveyed in order to be 95% confident that we are within two years of the true population mean age of Foothill College students."
   ]
  },
  {
   "cell_type": "markdown",
   "metadata": {},
   "source": [
    "___"
   ]
  },
  {
   "cell_type": "code",
   "execution_count": null,
   "metadata": {},
   "outputs": [],
   "source": []
  },
  {
   "cell_type": "markdown",
   "metadata": {},
   "source": [
    "## A Single Population Mean using the Student t Distribution\n",
    "\n",
    "<span style=\"color:yellow\">Use when:</span>\n",
    "* <span style=\"color:yellow\">Population standard deviation is unknown and</span>\n",
    "* <span style=\"color:yellow\">the distribution of the sample mean is approximately normal</span>\n",
    "\n",
    "In practice, we rarely know the population **standard deviation**\n",
    "\n",
    "If you draw a simple random sample of size $n$ from a population that has an approximately normal distribution with mean $\\mu$ and unknown population standard deviation $\\sigma$ and calculate the t-score $t=\\frac{\\bar{x} - \\mu}{\\bigl(\\frac{s}{\\sqrt{n}}\\bigr)}$ ,  then the t-scores follow a `Student's t-distribution` **with n-1 degrees of freedom**. \n",
    "\n",
    "The t-score has the same interpretation as the **z-score**.  It measures how far $\\bar{x}$ is from its mean $\\mu$. <span style=\"color:pink\">_For each sample size $n$, there is a different Student's t-distribution_</span>.\n",
    "\n",
    "`degrees of freedom (df)`: $n-1$\n",
    " \n",
    "**Properties of the Student's t-Distribution**\n",
    "* The graph is $\\sim$ to the standard normal curve.\n",
    "* $\\mu=0$ , the distribution is symmetric about zero.\n",
    "* The tails have more probability than the standard normal distribution because the spread is greater than that of the normal. So the t-distribution will be thicker in the tails and shorter in the center than the standard normal distribution.\n",
    "* The exact shape depends on the degrees of freedom. as the df increases, the graph of the Student's t-distribution becomes more like the graph of the standard normal distribution.\n",
    "* The underlying population of individual observations is assumed to be normally distributed with unknown population mean μ and unknown population standard deviation σ. The size of the underlying population is generally not relevant unless it is very small. If it is bell shaped (normal) then the assumption is met and doesn't need discussion. Random sampling is assumed, but that is a completely separate assumption from normality.\n",
    "\n",
    "The t-distribution tables take as input the: confidence level (column headings) and the degrees of freedom (rows).\n",
    "\n",
    "**The notation for the Student's t-distribution (using $T$ as the random variable) is**:\n",
    "* $T \\sim t_{\\text{df}}$ where $\\text{df}=n-1$\n",
    "* For example, if we have a sample of size $n=20$ items, then we calculate the degrees of freedom as $\\text{df}=n-1=20-1=19$ and we write the distribution as $T\\sim t_{19}$\n",
    "\n",
    "**If the population standard deviation is not known**, the **error bound for a population mean** is:\n",
    "* $EBM = \\bigl(t_{\\frac{a}{2}}\\bigr)\\bigr(\\frac{s}{\\sqrt{n}}\\bigr)$\n",
    "* $t_{\\frac{\\sigma}{2}}$ is the $t=$score with area to the right equal to $\\frac{\\alpha}{2}$\n",
    "* use $\\text{df}=n-1$ degrees of freedom, and\n",
    "* $s = $ sample standard deviation\n",
    "\n",
    "**The format for the confidence interval is**:\n",
    "\n",
    "$(\\bar{x} - EBM, \\bar{x} + EBM)$"
   ]
  },
  {
   "cell_type": "code",
   "execution_count": null,
   "metadata": {},
   "outputs": [],
   "source": []
  },
  {
   "cell_type": "markdown",
   "metadata": {},
   "source": [
    "##### <span style=\"color:orange\">Example 8.8</span>\n",
    "Suppose you do a study of acupuncture to determine how effective it is in relieving pain. You measure sensory rates for 15 subjects with the results given. Use the sample data to construct a 95% confidence interval for the mean sensory rate for the population (assumed normal) from which you took the data.\n",
    "8.6; 9.4; 7.9; 6.8; 8.3; 7.3; 9.2; 9.6; 8.7; 11.4; 10.3; 5.4; 8.1; 5.5; 6.9"
   ]
  },
  {
   "cell_type": "markdown",
   "metadata": {},
   "source": [
    "So,\n",
    "* $n=15$\n",
    "* Construct: CI = 0.95"
   ]
  },
  {
   "cell_type": "code",
   "execution_count": 121,
   "metadata": {},
   "outputs": [],
   "source": [
    "data = [8.6, 9.4, 7.9, 6.8, 8.3, 7.3, 9.2, 9.6, 8.7, 11.4, 10.3, 5.4, 8.1, 5.5, 6.9]"
   ]
  },
  {
   "cell_type": "code",
   "execution_count": 127,
   "metadata": {},
   "outputs": [
    {
     "data": {
      "text/plain": [
       "8.226666666666667"
      ]
     },
     "execution_count": 127,
     "metadata": {},
     "output_type": "execute_result"
    }
   ],
   "source": [
    "sum(data)/len(data)"
   ]
  },
  {
   "cell_type": "code",
   "execution_count": 122,
   "metadata": {},
   "outputs": [
    {
     "data": {
      "text/plain": [
       "15"
      ]
     },
     "execution_count": 122,
     "metadata": {},
     "output_type": "execute_result"
    }
   ],
   "source": [
    "len(data)"
   ]
  },
  {
   "cell_type": "code",
   "execution_count": 131,
   "metadata": {},
   "outputs": [
    {
     "data": {
      "text/plain": [
       "1.6722383060978339"
      ]
     },
     "execution_count": 131,
     "metadata": {},
     "output_type": "execute_result"
    }
   ],
   "source": [
    "st.tstd(data)"
   ]
  },
  {
   "cell_type": "markdown",
   "metadata": {},
   "source": [
    "$\\therefore$\n",
    "* $\\text{df} = 15 - 1 = 14$\n",
    "* $\\bar{x} = 8.2267$\n",
    "* $s=1.6722$\n",
    "* $\\alpha = 1 - 0.95 = 0.05$\n",
    "* $\\frac{\\alpha}{2}=\\frac{0.05}{2}=0.025$, then $t_{\\frac{\\alpha}{2}}=t_{0.025}$"
   ]
  },
  {
   "cell_type": "code",
   "execution_count": null,
   "metadata": {},
   "outputs": [],
   "source": []
  },
  {
   "cell_type": "code",
   "execution_count": 132,
   "metadata": {},
   "outputs": [
    {
     "data": {
      "text/plain": [
       "2.1447866879169273"
      ]
     },
     "execution_count": 132,
     "metadata": {},
     "output_type": "execute_result"
    }
   ],
   "source": [
    "st.t.ppf(1 - 0.025, df=14)"
   ]
  },
  {
   "cell_type": "markdown",
   "metadata": {},
   "source": [
    "$EBM = \\bigl(t_\\frac{\\alpha}{2}\\bigr)\\bigl(\\frac{s}{\\sqrt{n}}\\bigr)$\n",
    "\n",
    "$EBM = \\bigl(2.14)\\bigl(\\frac{1.6722}{\\sqrt{15}}\\bigr)=0.924$\n",
    "\n",
    "$\\bar{x} - EBM = 8.2264 - 0.9240 = 7.3$\n",
    "\n",
    "$\\bar{x} - EBM = 8.2264 + 0.9240 = 9.15$\n",
    "\n",
    "The 95% confidence interval is (7.30, 9.15).\n",
    "\n",
    "We estimate with 95% confidence that the true population mean sensory rate is between 7.30 and 9.15."
   ]
  },
  {
   "cell_type": "code",
   "execution_count": null,
   "metadata": {},
   "outputs": [],
   "source": []
  },
  {
   "cell_type": "markdown",
   "metadata": {},
   "source": [
    "##### <span style=\"color:orange\">Example 8.9</span>\n",
    "The Human Toxome Project (HTP) is working to understand the scope of industrial pollution in the human body. Industrial chemicals may enter the body through pollution or as ingredients in consumer products. In October 2008, the scientists at HTP tested cord blood samples for 20 newborn infants in the United States. The cord blood of the \"In utero/newborn\" group was tested for 430 industrial compounds, pollutants, and other chemicals, including chemicals linked to brain and nervous system toxicity, immune system toxicity, and reproductive toxicity, and fertility problems. There are health concerns about the effects of some chemicals on the brain and nervous system. Table 8.3 shows how many of the targeted chemicals were found in each infant’s cord blood."
   ]
  },
  {
   "cell_type": "code",
   "execution_count": 138,
   "metadata": {},
   "outputs": [],
   "source": [
    "data = [79, 145, 147, 160, 116, 100, 159, 151, 156, 126,\n",
    "        137, 83, 156, 94, 121, 144, 123, 114, 139, 99]"
   ]
  },
  {
   "cell_type": "markdown",
   "metadata": {},
   "source": [
    "Use this sample data to construct a 90% confidence interval for the mean number of targeted industrial chemicals to be found in an in infant’s blood."
   ]
  },
  {
   "cell_type": "code",
   "execution_count": 135,
   "metadata": {},
   "outputs": [
    {
     "data": {
      "text/plain": [
       "20"
      ]
     },
     "execution_count": 135,
     "metadata": {},
     "output_type": "execute_result"
    }
   ],
   "source": [
    "len(data)"
   ]
  },
  {
   "cell_type": "code",
   "execution_count": 136,
   "metadata": {},
   "outputs": [
    {
     "data": {
      "text/plain": [
       "127.45"
      ]
     },
     "execution_count": 136,
     "metadata": {},
     "output_type": "execute_result"
    }
   ],
   "source": [
    "sum(data)/len(data)"
   ]
  },
  {
   "cell_type": "code",
   "execution_count": 137,
   "metadata": {},
   "outputs": [
    {
     "data": {
      "text/plain": [
       "25.964500055997508"
      ]
     },
     "execution_count": 137,
     "metadata": {},
     "output_type": "execute_result"
    }
   ],
   "source": [
    "st.tstd(data)"
   ]
  },
  {
   "cell_type": "markdown",
   "metadata": {},
   "source": [
    "$\\therefore$\n",
    "* $n=20$\n",
    "* $\\text{df}=20-1=19$\n",
    "* $\\bar{x}=127.45$\n",
    "* $s=25.9645$\n",
    "* $\\text{CL}=0.90$\n",
    "* $\\alpha = 1 - 0.90 = 0.1$\n",
    "* $\\frac{\\alpha}{2}=\\frac{0.1}{2}=0.05$, then $t_{\\frac{\\alpha}{2}}=t_{0.05}$ "
   ]
  },
  {
   "cell_type": "code",
   "execution_count": 139,
   "metadata": {},
   "outputs": [
    {
     "data": {
      "text/plain": [
       "1.729132811521367"
      ]
     },
     "execution_count": 139,
     "metadata": {},
     "output_type": "execute_result"
    }
   ],
   "source": [
    "st.t.ppf(1 - 0.05, df=19)"
   ]
  },
  {
   "cell_type": "markdown",
   "metadata": {},
   "source": [
    "$EBM = \\bigl(t_\\frac{\\alpha}{2}\\bigr)\\bigl(\\frac{s}{\\sqrt{n}}\\bigr)$\n",
    "\n",
    "$EBM = \\bigl(1.729)\\bigl(\\frac{25.96}{\\sqrt{20}}\\bigr)=10.038$\n",
    "\n",
    "$\\bar{x} - EBM = 127.45 - 10.038 = 117.412$\n",
    "\n",
    "$\\bar{x} - EBM = 127.45 + 10.038 = 137.488$\n",
    "\n",
    "The 90% confidence interval is (117.412, 137.488).\n",
    "\n",
    "We estimate with 90% confidence that the mean number of all targeted industrial chemicals found in cord blood in the United States is between 117.412 and 137.488."
   ]
  },
  {
   "cell_type": "code",
   "execution_count": 144,
   "metadata": {},
   "outputs": [
    {
     "data": {
      "text/plain": [
       "10.038488420686715"
      ]
     },
     "execution_count": 144,
     "metadata": {},
     "output_type": "execute_result"
    }
   ],
   "source": [
    "1.729*(25.965/math.sqrt(20))"
   ]
  },
  {
   "cell_type": "code",
   "execution_count": 146,
   "metadata": {},
   "outputs": [
    {
     "data": {
      "text/plain": [
       "117.412"
      ]
     },
     "execution_count": 146,
     "metadata": {},
     "output_type": "execute_result"
    }
   ],
   "source": [
    "127.45-10.038"
   ]
  },
  {
   "cell_type": "code",
   "execution_count": null,
   "metadata": {},
   "outputs": [],
   "source": []
  },
  {
   "cell_type": "markdown",
   "metadata": {},
   "source": [
    "## A Population Proportion\n",
    "\n",
    "The procedure to find the confidence interval, the sample size, the **error bound**, and the **confidence level** for a proportion is similar to that for the population mean, but the formulas are different.\n",
    "\n",
    "**How do you know you are dealing with a proportion problem?** First, the underlying distribution is a **binomial distribution**. (There is no mention of a mean or average.)\n",
    "\n",
    "The binomial is a type of distribution that has two possible outcomes\n",
    "\n",
    "If,\n",
    "* $X$ is a binomial radom variable\n",
    "* $n$ is the number of trials\n",
    "* $p$ is the probability of a success\n",
    "* $B$ is a binomial distribution\n",
    "\n",
    "then,\n",
    "* $X\\sim B(n, p)$\n",
    "\n",
    "To form a proportion, take $X$, the ramdom variable for the number of successes and divide it by $n$, the number of trials(or the sample size). The random variable $P^\\prime$ (read \"P prime\") is that proportion.\n",
    "* $P^\\prime = \\frac{X}{n}$\n",
    "\n",
    "**Note**: Sometimes the random variable is denoted as $\\hat{P}$, read \"P hat\")\n",
    "\n",
    "<span style=\"color:yellow\">When $n$ is large and $p$ is not close to zero or one, we can use the **normal distribution** to approximate the binomial.</span>\n",
    "\n",
    "$X\\sim N(np, \\sqrt{nqp})$\n",
    "\n",
    "**$P^\\prime$ follows a normal distribution for proportions:** $\\frac{X}{n}=P^\\prime \\sim \\bigl(\\frac{np}{n}, \\frac{\\sqrt{npq}}{n}\\bigr)$\n",
    "\n",
    "The confidence interval has the form $(p^\\prime - EBP, p^\\prime + EBP)$\n",
    "* EBP: Error bound for the proportion.\n",
    "* $p^\\prime = \\frac{x}{n}$\n",
    "* $p^\\prime =$ the **estimated proportion** of successes ($p^\\prime$ is a **point estimate** for p, the true proportion.)\n",
    "* $x = $ the **number of successes\n",
    "* $n = $ the size of the sample\n",
    "\n",
    "**The error bound for a proportion is**\n",
    "* $EBP = \\bigl(z_{\\frac{\\alpha}{2}} \\bigr)\\bigl(\\sqrt{\\frac{p^\\prime q^\\prime}{n}}\\bigr)$ where $q^\\prime = 1 - p^\\prime$\n",
    "\n",
    "Note: For a mean, when the population standard deviation is known, the appropriate standard deviation that we use is $\\frac{\\sigma}{\\sqrt{n}}$.  For a **proportion**, the appropriate standard deviations is $\\sqrt{\\frac{pq}{n}}$, however, in the **error bound formula** we use $\\sqrt{\\frac{p^\\prime q^\\prime}{n}}$\n",
    "\n",
    "In the error bound formula, the **sample proportions $p^\\prime$ and $q^\\prime$ are estimates of the unknown population proportions $p$ and $q$**.  The estimated proportions $p^\\prime$ and $q^\\prime$ are used because $p$ and $q$ are not known. the sample proportions $p^\\prime$ and $q^\\prime$ are calcualted from the data:\n",
    "* $p^\\prime$ is the estimated proportion of successes\n",
    "* $q^\\prime$ is the estimated proportion of failures\n",
    "\n",
    "<span style=\"color:yellow\">The confidence interval can be used only if the number of successes $np^\\prime$ and the number of failures $nq^\\prime$ are both greater than five.</span>"
   ]
  },
  {
   "cell_type": "code",
   "execution_count": null,
   "metadata": {},
   "outputs": [],
   "source": []
  },
  {
   "cell_type": "markdown",
   "metadata": {},
   "source": [
    "<span style=\"color:orange\">Example 8.10</span>\n",
    "\n",
    "Suppose that a market research firm is hired to estimate the percent of adults living in a large city who have cell phones. Five hundred randomly selected adult residents in this city are surveyed to determine whether they have cell phones. Of the 500 people surveyed, 421 responded yes - they own cell phones. Using a 95% confidence level, compute a confidence interval estimate for the true proportion of adult residents of this city who have cell phones."
   ]
  },
  {
   "cell_type": "markdown",
   "metadata": {},
   "source": [
    "So,\n",
    "* This is a proportion problem, because the underlying distribution is a binomial distribution (do they have a cell phone: yes/no)\n",
    "* $\\therefore X\\sim B\\bigl(500, \\frac{421}{500}\\bigr)$\n",
    "\n",
    "To calculate the confidence interval, you must find $p^\\prime$, $q^\\prime$, and EBP\n",
    "* $n=500$\n",
    "* $p^\\prime = \\frac{421}{500}=0.842$ (for yes they have a cell phone)\n",
    "* $q^\\prime = 1-0.842=0.158$\n",
    "* $\\text{CL}=0.95$\n",
    "* $\\alpha = 0.05$\n",
    "* $z_{\\frac{\\alpha}{2}}=z_{0.025}=1.96$\n",
    "* $EBP = (1.96)(\\sqrt{\\frac{0.842*0.158}{500}})=0.032$\n",
    "\n",
    "$\\therefore$\n",
    "* The confidence interval is:\n",
    "    * (0.842 - 0.032, 0.842 + 0.032)\n",
    "    \n",
    "Interpretation: We estimate with 95% confidence that between 81% and 87.4% of all adult residents of this city have cell phones.\n",
    "\n",
    "Explanation of 95% Confidence Level: Ninety-five percent of the confidence intervals constructed in this way would contain the true value for the population proportion of all adult residents of this city who have cell phones."
   ]
  },
  {
   "cell_type": "code",
   "execution_count": 147,
   "metadata": {},
   "outputs": [
    {
     "data": {
      "text/plain": [
       "0.842"
      ]
     },
     "execution_count": 147,
     "metadata": {},
     "output_type": "execute_result"
    }
   ],
   "source": [
    "421/500"
   ]
  },
  {
   "cell_type": "code",
   "execution_count": 148,
   "metadata": {},
   "outputs": [
    {
     "data": {
      "text/plain": [
       "0.025"
      ]
     },
     "execution_count": 148,
     "metadata": {},
     "output_type": "execute_result"
    }
   ],
   "source": [
    "0.05/2"
   ]
  },
  {
   "cell_type": "code",
   "execution_count": 149,
   "metadata": {},
   "outputs": [
    {
     "data": {
      "text/plain": [
       "1.959963984540054"
      ]
     },
     "execution_count": 149,
     "metadata": {},
     "output_type": "execute_result"
    }
   ],
   "source": [
    "st.norm.ppf(1-0.025, loc=0, scale=1)"
   ]
  },
  {
   "cell_type": "code",
   "execution_count": 150,
   "metadata": {},
   "outputs": [
    {
     "data": {
      "text/plain": [
       "0.15800000000000003"
      ]
     },
     "execution_count": 150,
     "metadata": {},
     "output_type": "execute_result"
    }
   ],
   "source": [
    "1-0.842"
   ]
  },
  {
   "cell_type": "code",
   "execution_count": 151,
   "metadata": {},
   "outputs": [
    {
     "data": {
      "text/plain": [
       "0.031970958621849295"
      ]
     },
     "execution_count": 151,
     "metadata": {},
     "output_type": "execute_result"
    }
   ],
   "source": [
    "1.96*math.sqrt((0.842*0.158)/500)"
   ]
  },
  {
   "cell_type": "code",
   "execution_count": 152,
   "metadata": {},
   "outputs": [
    {
     "data": {
      "text/plain": [
       "0.8099999999999999"
      ]
     },
     "execution_count": 152,
     "metadata": {},
     "output_type": "execute_result"
    }
   ],
   "source": [
    "0.842-0.032"
   ]
  },
  {
   "cell_type": "code",
   "execution_count": 154,
   "metadata": {},
   "outputs": [
    {
     "data": {
      "text/plain": [
       "0.874"
      ]
     },
     "execution_count": 154,
     "metadata": {},
     "output_type": "execute_result"
    }
   ],
   "source": [
    "0.842+0.032"
   ]
  },
  {
   "cell_type": "code",
   "execution_count": null,
   "metadata": {},
   "outputs": [],
   "source": []
  },
  {
   "cell_type": "markdown",
   "metadata": {},
   "source": [
    "<span style=\"color:orange\">Example 8.11</span>\n",
    "\n",
    "For a class project, a political science student at a large university wants to estimate the percent of students who are registered voters. He surveys 500 students and finds that 300 are registered voters. Compute a 90% confidence interval for the true percent of students who are registered voters, and interpret the confidence interval."
   ]
  },
  {
   "cell_type": "markdown",
   "metadata": {},
   "source": [
    "So,\n",
    "* This is a proportion problem, because the underlying distribution is a binomial distribution (are they a registered voter: yes/no)\n",
    "* $\\therefore X\\sim B\\bigl(500, \\frac{300}{500}\\bigr)$\n",
    "\n",
    "To calculate the confidence interval, you must find $p^\\prime$, $q^\\prime$, and EBP\n",
    "* $n=500$\n",
    "* $p^\\prime = \\frac{300}{500}=0.6$ (for yes they are a registered voter)\n",
    "* $q^\\prime = 1-0.6=0.4$\n",
    "* $\\text{CL}=0.90$\n",
    "* $\\alpha = 0.1$\n",
    "* $z_{\\frac{\\alpha}{2}}=z_{0.05}=1.645$\n",
    "* $EBP = (1.645)(\\sqrt{\\frac{0.6*0.4}{500}})=0.036$\n",
    "\n",
    "$\\therefore$\n",
    "* The confidence interval is:\n",
    "    * (0.6 - 0.036, 0.6 + 0.036)\n",
    "    \n",
    "The confidence interval for the true binomial population proportion is $(p^\\prime - EBP, p^\\prime + EBP) = (0.564,0.636)$.\n",
    "\n",
    "* Interpretation: We estimate with 90% confidence that the true percent of all students that are registered voters is between 56.4% and 63.6%.\n",
    "* Alternate Wording: We estimate with 90% confidence that between 56.4% and 63.6% of ALL students are registered voters.\n",
    "\n",
    "Explanation of 90% Confidence Level: Ninety percent of all confidence intervals constructed in this way contain the true value for the population percent of students that are registered voters."
   ]
  },
  {
   "cell_type": "code",
   "execution_count": 155,
   "metadata": {},
   "outputs": [
    {
     "data": {
      "text/plain": [
       "0.6"
      ]
     },
     "execution_count": 155,
     "metadata": {},
     "output_type": "execute_result"
    }
   ],
   "source": [
    "300/500"
   ]
  },
  {
   "cell_type": "code",
   "execution_count": 156,
   "metadata": {},
   "outputs": [
    {
     "data": {
      "text/plain": [
       "1.6448536269514722"
      ]
     },
     "execution_count": 156,
     "metadata": {},
     "output_type": "execute_result"
    }
   ],
   "source": [
    "st.norm.ppf(1-0.05, loc=0, scale=1)"
   ]
  },
  {
   "cell_type": "code",
   "execution_count": 159,
   "metadata": {},
   "outputs": [
    {
     "data": {
      "text/plain": [
       "0.036040144283839934"
      ]
     },
     "execution_count": 159,
     "metadata": {},
     "output_type": "execute_result"
    }
   ],
   "source": [
    "1.645*math.sqrt(((.6*.4)/500))"
   ]
  },
  {
   "cell_type": "code",
   "execution_count": 160,
   "metadata": {},
   "outputs": [
    {
     "data": {
      "text/plain": [
       "(0.564, 0.636)"
      ]
     },
     "execution_count": 160,
     "metadata": {},
     "output_type": "execute_result"
    }
   ],
   "source": [
    "(0.6 - 0.036, 0.6 + 0.036)"
   ]
  },
  {
   "cell_type": "code",
   "execution_count": null,
   "metadata": {},
   "outputs": [],
   "source": []
  },
  {
   "cell_type": "markdown",
   "metadata": {},
   "source": [
    "### \"Plus Four\" Confidence Interval for $p$\n",
    "There is a certain amount of error introduced into the process of calculating a confidence interval for a proportion. Because we do not know the true proportion for the population, we are forced to use point estimates to calculate the appropriate standard deviation of the sampling distribution. Studies have shown that the resulting estimation of the standard deviation can be flawed.\n",
    "\n",
    "Fortunately, there is a simple adjustment that allows us to produce more accurate confidence intervals. We simply pretend that we have four additional observations. Two of these observations are successes and two are failures. The new sample size, then, is $n + 4$, and the new count of successes is $x + 2$.\n",
    "\n",
    "<span style=\"color:yellow\">Computer studies have demonstrated the effectiveness of this method. It should be used when the confidence level desired is at least 90% and the sample size is at least ten.</span>"
   ]
  },
  {
   "cell_type": "markdown",
   "metadata": {},
   "source": [
    "<span style=\"color:orange\">Example 8.12</span>\n",
    "\n",
    "A random sample of 25 statistics students was asked: “Have you smoked a cigarette in the past week?” Six students reported smoking within the past week. Use the “plus-four” method to find a 95% confidence interval for the true proportion of statistics students who smoke."
   ]
  },
  {
   "cell_type": "markdown",
   "metadata": {},
   "source": [
    "So,\n",
    "* This is a proportion problem, because the underlying distribution is a binomial distribution (have they smoked a cigarette in the past week: yes/no)\n",
    "* $\\therefore X\\sim B\\bigl(29, \\frac{8}{29}\\bigr)$\n",
    "\n",
    "To calculate the confidence interval, you must find $p^\\prime$, $q^\\prime$, and EBP\n",
    "* $n=25$\n",
    "    * $n+4=29$\n",
    "* $p^\\prime = \\frac{8}{29}=0.276$ (for yes they smoked)\n",
    "* $q^\\prime = 1-0.276=0.724$\n",
    "* $\\text{CL}=0.95$\n",
    "* $\\alpha = 0.05$\n",
    "* $z_{\\frac{\\alpha}{2}}=z_{0.025}=1.96$\n",
    "* $EBP = (1.96)(\\sqrt{\\frac{0.276*0.724}{29}})=0.163$\n",
    "\n",
    "$\\therefore$\n",
    "* The confidence interval is:\n",
    "    * (0.276 - 0.163, 0.276 + 0.163)\n",
    "    \n",
    "The confidence interval for the true binomial population proportion is $(p^\\prime - EBP, p^\\prime + EBP) = (0.113,0.439)$.\n",
    "\n",
    "We are 95% confident that the true proportion of all statistics students who smoke cigarettes is between 0.113 and 0.439."
   ]
  },
  {
   "cell_type": "code",
   "execution_count": 170,
   "metadata": {},
   "outputs": [
    {
     "data": {
      "text/plain": [
       "0.27586206896551724"
      ]
     },
     "execution_count": 170,
     "metadata": {},
     "output_type": "execute_result"
    }
   ],
   "source": [
    "8/29"
   ]
  },
  {
   "cell_type": "code",
   "execution_count": 161,
   "metadata": {},
   "outputs": [
    {
     "data": {
      "text/plain": [
       "0.06896551724137931"
      ]
     },
     "execution_count": 161,
     "metadata": {},
     "output_type": "execute_result"
    }
   ],
   "source": [
    "2/29"
   ]
  },
  {
   "cell_type": "code",
   "execution_count": 171,
   "metadata": {},
   "outputs": [
    {
     "data": {
      "text/plain": [
       "0.724"
      ]
     },
     "execution_count": 171,
     "metadata": {},
     "output_type": "execute_result"
    }
   ],
   "source": [
    "1-0.276"
   ]
  },
  {
   "cell_type": "code",
   "execution_count": 166,
   "metadata": {},
   "outputs": [
    {
     "data": {
      "text/plain": [
       "0.025"
      ]
     },
     "execution_count": 166,
     "metadata": {},
     "output_type": "execute_result"
    }
   ],
   "source": [
    ".05/2"
   ]
  },
  {
   "cell_type": "code",
   "execution_count": 167,
   "metadata": {},
   "outputs": [
    {
     "data": {
      "text/plain": [
       "1.959963984540054"
      ]
     },
     "execution_count": 167,
     "metadata": {},
     "output_type": "execute_result"
    }
   ],
   "source": [
    "st.norm.ppf(1-0.025, loc=0, scale=1)"
   ]
  },
  {
   "cell_type": "code",
   "execution_count": 173,
   "metadata": {},
   "outputs": [
    {
     "data": {
      "text/plain": [
       "0.16269750632851518"
      ]
     },
     "execution_count": 173,
     "metadata": {},
     "output_type": "execute_result"
    }
   ],
   "source": [
    "1.96*math.sqrt((.276*0.724)/29)"
   ]
  },
  {
   "cell_type": "code",
   "execution_count": 174,
   "metadata": {},
   "outputs": [
    {
     "data": {
      "text/plain": [
       "(0.11300000000000002, 0.43900000000000006)"
      ]
     },
     "execution_count": 174,
     "metadata": {},
     "output_type": "execute_result"
    }
   ],
   "source": [
    "(0.276 - 0.163, 0.276 + 0.163)"
   ]
  },
  {
   "cell_type": "code",
   "execution_count": null,
   "metadata": {},
   "outputs": [],
   "source": []
  },
  {
   "cell_type": "markdown",
   "metadata": {},
   "source": [
    "<span style=\"color:orange\">Example 8.13</span>\n",
    "\n",
    "The Berkman Center for Internet & Society at Harvard recently conducted a study analyzing the privacy management habits of teen internet users. In a group of 50 teens, 13 reported having more than 500 friends on Facebook. Use the “plus four” method to find a 90% confidence interval for the true proportion of teens who would report having more than 500 Facebook friends."
   ]
  },
  {
   "cell_type": "markdown",
   "metadata": {},
   "source": [
    "So,\n",
    "* This is a proportion problem, because the underlying distribution is a binomial distribution (do they have more than 500 firends on facebook: yes/no)\n",
    "* $\\therefore X\\sim B(54, \\frac{15}{54})$\n",
    "* $n = 50$\n",
    "    * $n+4 = 54$\n",
    "* $p^\\prime = \\frac{15}{54} = 0.278$ (percent said they have > 500 friends on facebook)\n",
    "* $q^\\prime = 1 - 0.278 = 0.722$\n",
    "* $\\text{CL} = 0.90$\n",
    "* $\\alpha = 0.10$\n",
    "* $z_{\\frac{\\alpha}{2}}=z_{0.05}= 0.835$\n",
    "* $EBP=(1.645)(\\sqrt{\\frac{0.278*0.722}{54}}=0.100$\n",
    "\n",
    "$\\therefore$\n",
    "* The confidence interval is:\n",
    "    * (0.278 - 0.100, 0.278 + 0.100)\n",
    "    * (0.178, 0.378)\n",
    "\n",
    "We are 90% confident that between 17.8% and 37.8% of all teens would report having more than 500 friends on Facebook."
   ]
  },
  {
   "cell_type": "code",
   "execution_count": 175,
   "metadata": {},
   "outputs": [
    {
     "data": {
      "text/plain": [
       "0.2777777777777778"
      ]
     },
     "execution_count": 175,
     "metadata": {},
     "output_type": "execute_result"
    }
   ],
   "source": [
    "15/54"
   ]
  },
  {
   "cell_type": "code",
   "execution_count": 186,
   "metadata": {},
   "outputs": [
    {
     "data": {
      "text/plain": [
       "0.722"
      ]
     },
     "execution_count": 186,
     "metadata": {},
     "output_type": "execute_result"
    }
   ],
   "source": [
    "1-0.278"
   ]
  },
  {
   "cell_type": "code",
   "execution_count": 177,
   "metadata": {},
   "outputs": [
    {
     "data": {
      "text/plain": [
       "0.025"
      ]
     },
     "execution_count": 177,
     "metadata": {},
     "output_type": "execute_result"
    }
   ],
   "source": [
    "0.05/2"
   ]
  },
  {
   "cell_type": "code",
   "execution_count": 184,
   "metadata": {},
   "outputs": [
    {
     "data": {
      "text/plain": [
       "1.6448536269514722"
      ]
     },
     "execution_count": 184,
     "metadata": {},
     "output_type": "execute_result"
    }
   ],
   "source": [
    "st.norm.ppf(1 - 0.05, loc=0, scale=1)"
   ]
  },
  {
   "cell_type": "code",
   "execution_count": 188,
   "metadata": {},
   "outputs": [
    {
     "data": {
      "text/plain": [
       "0.10025446917996003"
      ]
     },
     "execution_count": 188,
     "metadata": {},
     "output_type": "execute_result"
    }
   ],
   "source": [
    "1.645*(math.sqrt((0.2778*0.722)/54))"
   ]
  },
  {
   "cell_type": "code",
   "execution_count": 189,
   "metadata": {},
   "outputs": [
    {
     "data": {
      "text/plain": [
       "(0.17800000000000002, 0.378)"
      ]
     },
     "execution_count": 189,
     "metadata": {},
     "output_type": "execute_result"
    }
   ],
   "source": [
    "(0.278 - 0.100, 0.278 + 0.100)"
   ]
  },
  {
   "cell_type": "code",
   "execution_count": null,
   "metadata": {},
   "outputs": [],
   "source": []
  },
  {
   "cell_type": "markdown",
   "metadata": {},
   "source": [
    "### Calculating the Sample Size $n$\n",
    "If researchers desire a specific margin of error, then they can use the error bound formula to calculate the required sample size.\n",
    "\n",
    "The error bound formula for a population proportion is:\n",
    "* $EBP=\\bigl(z_{\\frac{\\alpha}{2}}\\bigr) \\bigl(\\sqrt{\\frac{p^\\prime q^\\prime}{n}}\\bigr)$\n",
    "* Soving for $n$ gives you an equation for the sample size.\n",
    "* $n=\\frac{\\bigl(z_{\\frac{a}{2}}\\bigr)^2 (p^\\prime q^\\prime)}{{EBP}^2}$"
   ]
  },
  {
   "cell_type": "code",
   "execution_count": null,
   "metadata": {},
   "outputs": [],
   "source": []
  },
  {
   "cell_type": "markdown",
   "metadata": {},
   "source": [
    "<span style=\"color:orange\">Example 8.14</span>\n",
    "\n",
    "Suppose a mobile phone company wants to determine the current percentage of customers aged 50+ who use text messaging on their cell phones. How many customers aged 50+ should the company survey in order to be 90% confident that the estimated (sample) proportion is within three percentage points of the true population proportion of customers aged 50+ who use text messaging on their cell phones."
   ]
  },
  {
   "cell_type": "markdown",
   "metadata": {},
   "source": [
    "So,\n",
    "* $n = $ ?\n",
    "* $\\text{CL} = 0.90$\n",
    "* $\\alpha = 0.1$\n",
    "* $z_{\\frac{\\alpha}{2}}=z_{\\frac{0.1}{2}}=z_{0.05}=1.645$\n",
    "* $EBP = 0.03$ (from the problem statement)"
   ]
  },
  {
   "cell_type": "markdown",
   "metadata": {},
   "source": [
    "> However, in order to find n, we need to know the estimated (sample) proportion p′. Remember that q′ = 1 – p′. But, we do not know p′ yet. Since we multiply p′ and q′ together, we make them both equal to 0.5 because p′q′ = (0.5)(0.5) = 0.25 results in the largest possible product. (Try other products: (0.6)(0.4) = 0.24; (0.3)(0.7) = 0.21; (0.2)(0.8) = 0.16 and so on). The largest possible product gives us the largest n. This gives us a large enough sample so that we can be 90% confident that we are within three percentage points of the true population proportion. To calculate the sample size n, use the formula and make the substitutions."
   ]
  },
  {
   "cell_type": "markdown",
   "metadata": {},
   "source": [
    "* $n = \\frac{z^2 p^\\prime q^\\prime}{{EBP}^2}$ gives $n=\\frac{{1.645}^2 (0.5)(0.5)}{{0.03}^2}=751.7$"
   ]
  },
  {
   "cell_type": "markdown",
   "metadata": {},
   "source": [
    "Round the answer to the next higher value. The sample size should be 752 cell phone customers aged 50+ in order to be 90% confident that the estimated (sample) proportion is within three percentage points of the true population proportion of all customers aged 50+ who use text messaging on their cell phones."
   ]
  },
  {
   "cell_type": "code",
   "execution_count": 191,
   "metadata": {},
   "outputs": [
    {
     "data": {
      "text/plain": [
       "1.6448536269514722"
      ]
     },
     "execution_count": 191,
     "metadata": {},
     "output_type": "execute_result"
    }
   ],
   "source": [
    "st.norm.ppf(1-0.05, loc=0, scale=1)"
   ]
  },
  {
   "cell_type": "code",
   "execution_count": null,
   "metadata": {},
   "outputs": [],
   "source": []
  },
  {
   "cell_type": "markdown",
   "metadata": {},
   "source": [
    "# Chapter 9: Hypothesis Testing with One Sample\n",
    "\n",
    "Where Confidence intervals allow us to estimate a population parameter, the process of **hypothesis testing** allows us to make a _decision_ about a parameter.\n",
    "\n",
    "In this chapter, you will conduct hypothesis tests on **single means** and **single proportions**. You will also learn about the **errors** associated with these tests.\n",
    "\n",
    "Hypothesis testing consists of two contradictory hypotheses or statements, a decision based on the data, and a conclusion. To perform a hypothesis test, a statistician will:\n",
    "1. Set up two contradictory hypotheses.\n",
    "2. Collect sample data (in homework problems, the data or summary statistics will be given to you).\n",
    "3. Determine the correct distribution to perform the hypothesis test.\n",
    "4. Analyze sample data by performing the calculations that ultimately will allow you to reject or decline to reject the null hypothesis.\n",
    "5. Make a decision and write a meaningful conclusion."
   ]
  },
  {
   "cell_type": "markdown",
   "metadata": {},
   "source": [
    "## Null and Alternative Hypotheses\n",
    "The actual test begins by considering two **hypotheses**.  They are called the **null hypothesis** and the **alternative hypothesis**.  These hypotheses contain opposing viewpoints.\n",
    "\n",
    "$H_0$: **The null hypothesis**: It is a statement of no difference between the variables—they are not related. This can often be considered the _status quo_ and as a result if you cannot accept the null it requires some action.\n",
    "\n",
    "$H_a$: **The alternative hypothesis**: It is a claim about the population that is contradictory to $H_0$ and what we conclude when we reject $H_0$. <span style=\"color:yellow\">This is usually what the researcher is trying to prove.</span>\n",
    "\n",
    "Since the null and alternative hypotheses are contradictory, you must examine evidence to decide if you have enough evidence to reject the null hypothesis or not. The evidence is in the form of sample data.\n",
    "\n",
    "After you have determined which hypothesis the sample supports, you make a **decision**. There are two options for a decision. They are:\n",
    "* \"reject $H_O$\" if the sample information favors the alternative hypothesis\n",
    "* \"do not reject $H_O$\" or \"decline to reject $H_O$\" if the sample information is insufficient to reject the null hypothesis.\n",
    "\n",
    "Mathematical Symbols Used in $H_0$ and $H_a$:\n",
    "\n",
    "|$H_0$|$H_a$|\n",
    "|--|--|\n",
    "|equal(=)|not equal($\\ne$) **or** greater than ($\\gt$) **or** less than ($\\lt$)|\n",
    "|greater than or equal to ($\\geq$)|less than ($\\lt$)|\n",
    "|less than or equal to ($\\leq$)|more than ($\\gt$)|\n",
    "\n",
    "> Note: H0 always has a symbol with an equal in it. Ha never has a symbol with an equal in it. The choice of symbol depends on the wording of the hypothesis test. However, be aware that many researchers (including one of the co-authors in research work) use = in the null hypothesis, even with > or < as the symbol in the alternative hypothesis. This practice is acceptable because we only make the decision to reject or not reject the null hypothesis."
   ]
  },
  {
   "cell_type": "code",
   "execution_count": null,
   "metadata": {},
   "outputs": [],
   "source": []
  },
  {
   "cell_type": "markdown",
   "metadata": {},
   "source": [
    "<span style=\"color:orange\">Example 9.2</span>\n",
    "\n",
    "We want to test whether the mean GPA of students in American colleges is different from 2.0 (out of 4.0). \n",
    "\n",
    "The null and alternative hypotheses are:\n",
    "* $H_0$: μ = 2.0\n",
    "* $H_a$: μ ≠ 2.0"
   ]
  },
  {
   "cell_type": "code",
   "execution_count": null,
   "metadata": {},
   "outputs": [],
   "source": []
  },
  {
   "cell_type": "markdown",
   "metadata": {},
   "source": [
    "<span style=\"color:orange\">Example 9.3</span>\n",
    "\n",
    "We want to test if college students take less than five years to graduate from college, on the average. \n",
    "\n",
    "The null and alternative hypotheses are:\n",
    "* $H_0$: μ ≥ 5\n",
    "* $H_a$: μ < 5"
   ]
  },
  {
   "cell_type": "code",
   "execution_count": null,
   "metadata": {},
   "outputs": [],
   "source": []
  },
  {
   "cell_type": "markdown",
   "metadata": {},
   "source": [
    "<span style=\"color:orange\">Example 9.4</span>\n",
    "\n",
    "In an issue of U. S. News and World Report, an article on school standards stated that about half of all students in France, Germany, and Israel take advanced placement exams and a third pass. The same article stated that 6.6% of U.S. students take advanced placement exams and 4.4% pass. Test if the percentage of U.S. students who take advanced placement exams is more than 6.6%. State the null and alternative hypotheses.\n",
    "* $H_0$: p ≤ 0.066\n",
    "* $H_a$: p > 0.066"
   ]
  },
  {
   "cell_type": "code",
   "execution_count": null,
   "metadata": {},
   "outputs": [],
   "source": []
  },
  {
   "cell_type": "markdown",
   "metadata": {},
   "source": [
    "## Outcomes and the Type I and Type II Errors\n",
    "When you perform a hypothesis test, there are <span style=\"color:pink\">four possible outcomes</span> depending on the actual truth (or falseness) of the null hypothesis $H_0$ and the decision to reject or not. The outcomes are summarized in the following table:\n",
    "\n",
    "|**ACTION**|**$H_0$ IS ACTUALLY**|...|\n",
    "|--|--|--|\n",
    "||True|False|\n",
    "|**Do not reject $H_0$**|Correct Outcome|Type II error|\n",
    "|**Reject $H_0$**|Type I Error|Correct Outcome|"
   ]
  },
  {
   "cell_type": "markdown",
   "metadata": {},
   "source": [
    "The four possible outcomes in the table are:\n",
    "1. The decision is **not to reject $H_0$** when **$H_0$ is true (correct decision)**.\n",
    "2. The decision is to **reject $H_0$** when **$H_0$ is true** (incorrect decision known as a **Type I error**).\n",
    "3. The decision is **not to reject $H_0$** when, in fact, **$H_0$ is false** (incorrect decision known as a **Type II error**).\n",
    "4. The decision is to **reject $H_0$** when **$H_0$ is false** (**correct decision** whose probability is called the **Power of the Test**)."
   ]
  },
  {
   "cell_type": "markdown",
   "metadata": {},
   "source": [
    "Each of the errors occurs with a particular probability. The Greek letters $\\alpha$ and $\\beta$ represent the probabilities.\n",
    "* $\\alpha$ = probability of a Type I error = **P(Type I error)** = probability of rejecting the null hypothesis when the null hypothesis is true.\n",
    "\n",
    "* $\\beta$ = probability of a Type II error = **P(Type II error)** = probability of not rejecting the null hypothesis when the null hypothesis is false.\n",
    "\n",
    "<span style=\"color:yellow\">$\\alpha$ and $\\beta$ should be as small as possible because they are probabilities of errors. They are rarely zero.</span>\n",
    "\n",
    "The Power of the Test is $1-\\beta$. Ideally, we want a high power that is as close to one as possible. Increasing the sample size can increase the Power of the Test.\n",
    "\n",
    "The following are examples of Type I and Type II errors."
   ]
  },
  {
   "cell_type": "code",
   "execution_count": null,
   "metadata": {},
   "outputs": [],
   "source": []
  },
  {
   "cell_type": "markdown",
   "metadata": {},
   "source": [
    "<span style=\"color:orange\">Example 9.5</span>\n",
    "\n",
    "Suppose the null hypothesis, $H_0$, is: Frank's rock climbing equipment is safe.\n",
    "\n",
    "(So, Frank is trying to prove that his equipment is not safe)\n",
    "\n",
    "* **Type I error**: Frank thinks that his rock climbing equipment may not be safe when, in fact, it really is safe.\n",
    "    * **$\\alpha =$ probability** that Frank thinks his rock climbing equipment may not be safe when, in fact, it really is safe.\n",
    "* **Type II error**: Frank thinks that his rock climbing equipment may be safe when, in fact, it is not safe.\n",
    "    * **$\\beta =$ probability** that Frank thinks his rock climbing equipment may be safe when, in fact, it is not safe.\n",
    "\n",
    "Notice that, in this case, the error with the greater consequence is the Type II error. (If Frank thinks his rock climbing equipment is safe, he will go ahead and use it.)"
   ]
  },
  {
   "cell_type": "code",
   "execution_count": null,
   "metadata": {},
   "outputs": [],
   "source": []
  },
  {
   "cell_type": "markdown",
   "metadata": {},
   "source": [
    "<span style=\"color:orange\">Example 9.6</span>\n",
    "\n",
    "Suppose the null hypothesis, $H_0$, is: The victim of an automobile accident is alive when he arrives at the emergency room of a hospital.\n",
    "\n",
    "* **Type I error**: The emergency crew thinks that the victim is dead when, in fact, the victim is alive.\n",
    "    * ** $\\alpha =$** probability that the emergency crew thinks the victim is dead when, in fact, he is really alive = P(Type I error).\n",
    "* **Type II error**: The emergency crew does not know if the victim is alive when, in fact, the victim is dead.\n",
    "    * ** $\\beta =$** probability that the emergency crew does not know if the victim is alive when, in fact, the victim is dead = P(Type II error).\n",
    "\n",
    "The error with the greater consequence is the Type I error. (If the emergency crew thinks the victim is dead, they will not treat him.)"
   ]
  },
  {
   "cell_type": "code",
   "execution_count": null,
   "metadata": {},
   "outputs": [],
   "source": []
  },
  {
   "cell_type": "markdown",
   "metadata": {},
   "source": [
    "<span style=\"color:orange\"> Example 9.7 </span>\n",
    "\n",
    "It’s a Boy Genetic Labs claim to be able to increase the likelihood that a pregnancy will result in a boy being born. Statisticians want to test the claim. Suppose that the null hypothesis, H0, is: It’s a Boy Genetic Labs has no effect on gender outcome.\n",
    "\n",
    "* **Type I error**: This results when a true null hypothesis is rejected. In the context of this scenario, we would state that we believe that It’s a Boy Genetic Labs influences the gender outcome, when in fact it has no effect. The probability of this error occurring is denoted by the Greek letter alpha, α.\n",
    "\n",
    "* **Type II error**: This results when we fail to reject a false null hypothesis. In context, we would state that It’s a Boy Genetic Labs does not influence the gender outcome of a pregnancy when, in fact, it does. The probability of this error occurring is denoted by the Greek letter beta, β.\n",
    "\n",
    "The error of greater consequence would be the Type I error since couples would use the It’s a Boy Genetic Labs product in hopes of increasing the chances of having a boy."
   ]
  },
  {
   "cell_type": "code",
   "execution_count": null,
   "metadata": {},
   "outputs": [],
   "source": []
  },
  {
   "cell_type": "markdown",
   "metadata": {},
   "source": [
    "<span style=\"color:orange\">Example 9.8</span>\n",
    "\n",
    "A certain experimental drug claims a cure rate of at least 75% for males with prostate cancer. Describe both the Type I and Type II errors in context. Which error is the more serious?\n",
    "\n",
    "* **Type I**: A cancer patient believes the cure rate for the drug is less than 75% when it actually is at least 75%.\n",
    "\n",
    "* **Type II**: A cancer patient believes the experimental drug has at least a 75% cure rate when it has a cure rate that is less than 75%.\n",
    "\n",
    "In this scenario, the Type II error contains the more severe consequence. If a patient believes the drug works at least 75% of the time, this most likely will influence the patient’s (and doctor’s) choice about whether to use the drug as a treatment option."
   ]
  },
  {
   "cell_type": "code",
   "execution_count": null,
   "metadata": {},
   "outputs": [],
   "source": []
  },
  {
   "cell_type": "markdown",
   "metadata": {},
   "source": [
    "## Distribution Needed for Hypothesis Testing\n",
    "\n"
   ]
  }
 ],
 "metadata": {
  "kernelspec": {
   "display_name": "Python 3",
   "language": "python",
   "name": "python3"
  },
  "language_info": {
   "codemirror_mode": {
    "name": "ipython",
    "version": 3
   },
   "file_extension": ".py",
   "mimetype": "text/x-python",
   "name": "python",
   "nbconvert_exporter": "python",
   "pygments_lexer": "ipython3",
   "version": "3.8.8"
  },
  "toc-showmarkdowntxt": false
 },
 "nbformat": 4,
 "nbformat_minor": 4
}
