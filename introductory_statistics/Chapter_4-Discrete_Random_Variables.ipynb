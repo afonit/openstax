{
 "cells": [
  {
   "cell_type": "raw",
   "id": "7c7ed8ea-89c1-4e85-98f9-b93c3c6dc3e2",
   "metadata": {},
   "source": [
    "import math\n",
    "import scipy.stats as st\n",
    "\n",
    "import ipywidgets as widgets\n",
    "from ipywidgets import interact\n",
    "from itertools import combinations, permutations, combinations_with_replacement"
   ]
  },
  {
   "cell_type": "markdown",
   "id": "fe7cd8bf-f5bb-471c-a823-dfd247fba5bf",
   "metadata": {},
   "source": [
    "# Chapter 4: Discrete Random Variables\n",
    "\n",
    "* `Discrete data`: Data you can count.\n",
    "* `Random variable`: describes the outcomes of a statistical experiment in words.\n",
    "    * The values of a random variable can vary with each repetition of an experiment.\n",
    "\n",
    "## Random Variable Notation\n",
    "* **Upper case** letters such as $X$ or $Y$ denote a random variable. \n",
    "* **Lower case** letters such as $x$ or $y$ denote the _value_ of a random variable.\n",
    "> Said anothery way, $X$, $Y$ are given as words, whereas $x$, $y$ are given as a number.\n",
    "\n",
    "##### <span style=\"color:orange\">Example:</span>\n",
    "Let:\n",
    "* $X$ = the number of heads you get when you toss three fair coints.\n",
    "* The sample Space for the toss of three fiar coins is:\n",
    "    * TTT; THH; HTH; HHT; HTT; THT; TTH; HHH\n",
    "\n",
    "Then:\n",
    "* $x$ = 0, 1, 2, 3\n",
    "\n",
    "Notice $X$ is in words and $x$ is a number.  $x$ values are countable outcomes."
   ]
  },
  {
   "cell_type": "code",
   "execution_count": 3,
   "id": "e6f0cc5d-b757-41f5-aede-00ba433d64f3",
   "metadata": {},
   "outputs": [
    {
     "data": {
      "text/plain": [
       "[('H', 'H', 'H'), ('H', 'H', 'T'), ('H', 'T', 'T'), ('T', 'T', 'T')]"
      ]
     },
     "execution_count": 3,
     "metadata": {},
     "output_type": "execute_result"
    }
   ],
   "source": [
    "flip_options = 'HT'\n",
    "list(combinations_with_replacement(flip_options, 3))"
   ]
  },
  {
   "cell_type": "code",
   "execution_count": null,
   "id": "f4c0d29f-f2b6-4574-88ce-c3a99b337e25",
   "metadata": {},
   "outputs": [],
   "source": []
  },
  {
   "cell_type": "markdown",
   "id": "ad5d7811-482a-495e-8aae-560111ee4e72",
   "metadata": {},
   "source": [
    "## 4.1 Probability Distribution Function (PDF) for a Discrete Random Variable\n",
    "Two Characteristics:\n",
    "1. Each probability is between zero and one, inclusive.\n",
    "2. The sum of the probabilities is one.\n",
    "\n",
    "##### <span style=\"color:orange\">Example 4.1:</span>\n",
    "$P(x)$ = probability that $X$ takes on a value of $x$.\n",
    "\n",
    "|$x$|$P(x)$|\n",
    "|--|--|\n",
    "|0|$P(x=0)=\\frac{2}{50}$|\n",
    "|1|$P(x=1)=\\frac{11}{50}$|\n",
    "|2|$P(x=2)=\\frac{23}{50}$|\n",
    "|3|$P(x=3)=\\frac{9}{50}$|\n",
    "|4|$P(x=4)=\\frac{4}{50}$|\n",
    "|5|$P(x=5)=\\frac{1}{50}$|\n",
    "\n",
    "$X$ takes on the values 0, 1, 2, 3, 4, 5.  This is a discrete PDF because:\n",
    "* Each $P(x)$ is between **zero** and **one**, inclusive.\n",
    "* The sum of the probabilities is **one**, that is,\n",
    "    * $\\frac{2}{50} + \\frac{11}{50} +\\frac{23}{50} +\\frac{9}{50} +\\frac{4}{50} +\\frac{1}{50} = 1$\n"
   ]
  },
  {
   "cell_type": "code",
   "execution_count": null,
   "id": "57dec553-253e-4371-86b4-0e61650165d5",
   "metadata": {},
   "outputs": [],
   "source": []
  },
  {
   "cell_type": "markdown",
   "id": "9325e897-7ac0-41be-a545-f8ef2af9aba4",
   "metadata": {},
   "source": [
    "## 4.2 Mean or Expected Value and Standard Deviation\n",
    "* `Expected Value`: often referred to as the **\"long-term\" average or mean**.  This means that over the long term of doing an experiment over and over, you would **expect** this average.\n",
    "* `Probability`: does not describe the short-term results of an experiment. It gives information about what can be expected in the long term (illustrating the **Law of Large Numbers**).\n",
    "* `The Law of Large Numbers`: states that, as the number of trials in a probability experiment increases, the difference between the theoretical probability of an event and the relative frequency approaches zero (**the theorettical probability and the relative frequency get closer and closer together**).\n",
    "* $\\mu$ : the **mean** or **expected value** of the experiment is denoted by the Greek letter $\\mu$. After conducting many trials of an experiment, you would expect this average value.\n",
    "\n",
    "> Note: To find the expected value or long germ average, $\\mu$, simply multiply each value of the random variable by its probability and add the products.\n"
   ]
  },
  {
   "cell_type": "markdown",
   "id": "3a376782-4ee5-4470-95da-84634f28453f",
   "metadata": {},
   "source": [
    "##### <span style=\"color:orange\">Example 4.3:</span>\n",
    "\n",
    "A men's soccer team plays soccer zero, one, or two days a week. The probability that they play zero days is 0.2,\n",
    "the probability that they play one day is 0.5, and the probability that they play two days is 0.3. Find the long-term\n",
    "average or expected value, $\\mu$, of the number of days per week the men's soccer team plays soccer.\n",
    "\n",
    "To solve this, let:\n",
    "* the random variable $X$ = the number of days the men's soccer team plays soccer per week.\n",
    "* $X$ takes on the values 0, 1, 2\n",
    "* Construct a PDF adding a column $x*P(x)$, in this column multiply each $x$ value by its probability.\n",
    "\n",
    "##### The Expected Value Table:\n",
    "|$x$|$P(x)$|$x*P(x)$|\n",
    "|--|--|--|\n",
    "|0|0.2|(0)(0.2)=0|\n",
    "|1|0.5|(1)(0.5)=0.5|\n",
    "|2|0.3|(2)(0.3)=0.6|\n",
    "\n",
    "The _long term average_ or _expected value_ is 0 + 0.5 + 0.6 = 1.1\n",
    "\n",
    "The number 1.1 is the long-term average or expected value if the men's soccer team plays soccer week after week after week.\n",
    "\n",
    "We say $\\mu=1.1$"
   ]
  },
  {
   "cell_type": "markdown",
   "id": "5a7840f6-30e7-4dfc-8086-88a3830449fb",
   "metadata": {},
   "source": [
    "##### <span style=\"color:orange\">Example 4.4:</span>\n",
    "Find the expected value of the number of times a newborn baby's crying wakes its mother after midnight.\n",
    "The expected value is the expected number of times per week a newborn baby's crying wakes its mother after\n",
    "midnight. Calculate the standard deviation of the variable as well.\n",
    "\n",
    "|$x$|$P(x)$|$x*P(x)$|$(x-\\mu)^2 \\cdot P(x)$|\n",
    "|--|--|--|--|\n",
    "|0|$P(x=0)=\\frac{2}{50}$|$(0) (\\frac{2}{50} ) = 0$|$(0-2.1)^2 \\cdot 0.04 = 0.1764$|\n",
    "|1|$P(x=1)=\\frac{11}{50}$|$(1) (\\frac{11}{50} ) = \\frac{11}{50}$|$(1-2.1)^2 \\cdot 022. = 0.2662$|\n",
    "|2|$P(x=2)=\\frac{23}{50}$|$(2) (\\frac{23}{50} ) = \\frac{46}{50}$|$(2-2.1)^2 \\cdot 0.46 = 0.0046$|\n",
    "|3|$P(x=3)=\\frac{9}{50}$|$(3) (\\frac{9}{50} ) = \\frac{27}{50}$|$(3-2.1)^2 \\cdot 0.18 = 0.1458$|\n",
    "|4|$P(x=4)=\\frac{4}{50}$|$(4) (\\frac{4}{50} ) = \\frac{16}{50}$|$(4-2.1)^2 \\cdot 0.08 = 0.2888$|\n",
    "|5|$P(x=5)=\\frac{1}{50}$|$(5) (\\frac{1}{50} ) = \\frac{5}{50}$|$(5-2.1)^2 \\cdot 0.02 = 0.1682$|"
   ]
  },
  {
   "cell_type": "markdown",
   "id": "1766a6a4-bf04-4797-a4f9-7c75cc5440ca",
   "metadata": {},
   "source": [
    "Having added the values in the third column of the table to find the expected value of $X$:\n",
    "\n",
    "$\\mu$ = Expected Value = $\\frac{105}{50}=2.1$\n",
    "\n",
    "Use $\\mu$ to complete the table.  The fourth column of this table will provide the values you need to calculate the standard deviation.  For each value $x$, multiply the square of its _deviation_ by its _probability_.  (Each deviation has the format $x-\\mu$).\n",
    "\n",
    "Add the values in the fourth column of the table:\n",
    "\n",
    "0.1764 + 0.2662 + 0.0056 + 0.1458 + 0.2888 + 0.1682 = 1.05\n",
    "\n",
    "The _standard deviation_ of $X$ is the square root of this sum: $\\sigma = \\sqrt{1.05} \\approx 1.0247$"
   ]
  },
  {
   "cell_type": "code",
   "execution_count": null,
   "id": "3f38404a-61cc-45a3-9495-a11044660a2b",
   "metadata": {},
   "outputs": [],
   "source": []
  },
  {
   "cell_type": "code",
   "execution_count": null,
   "id": "823d5844-9b72-4fa4-a689-aa7d3c145bf5",
   "metadata": {},
   "outputs": [],
   "source": []
  }
 ],
 "metadata": {
  "kernelspec": {
   "display_name": "Python 3 (ipykernel)",
   "language": "python",
   "name": "python3"
  },
  "language_info": {
   "codemirror_mode": {
    "name": "ipython",
    "version": 3
   },
   "file_extension": ".py",
   "mimetype": "text/x-python",
   "name": "python",
   "nbconvert_exporter": "python",
   "pygments_lexer": "ipython3",
   "version": "3.10.5"
  }
 },
 "nbformat": 4,
 "nbformat_minor": 5
}
