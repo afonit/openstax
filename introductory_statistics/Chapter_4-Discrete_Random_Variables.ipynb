{
 "cells": [
  {
   "cell_type": "code",
   "execution_count": null,
   "id": "cab19b4f-2dfa-46e3-9d3e-cea9219d2861",
   "metadata": {},
   "outputs": [],
   "source": [
    "import math\n",
    "import scipy.stats as st\n",
    "\n",
    "import ipywidgets as widgets\n",
    "from ipywidgets import interact\n",
    "from itertools import combinations, permutations, combinations_with_replacement, product"
   ]
  },
  {
   "cell_type": "markdown",
   "id": "fe7cd8bf-f5bb-471c-a823-dfd247fba5bf",
   "metadata": {},
   "source": [
    "# Chapter 4: Discrete Random Variables\n",
    "\n",
    "* `Discrete data`: Data you can count.\n",
    "* `Random variable`: describes the outcomes of a statistical experiment in words.\n",
    "    * The values of a random variable can vary with each repetition of an experiment.\n",
    "\n",
    "## Random Variable Notation\n",
    "* **Upper case** letters such as $X$ or $Y$ denote a random variable. \n",
    "* **Lower case** letters such as $x$ or $y$ denote the _value_ of a random variable.\n",
    "> Said anothery way, $X$, $Y$ are given as words, whereas $x$, $y$ are given as a number.\n",
    "\n",
    "##### <span style=\"color:orange\">Example:</span>\n",
    "Let:\n",
    "* $X$ = the number of heads you get when you toss three fair coints.\n",
    "* The sample Space for the toss of three fair coins is:\n",
    "    * TTT; THH; HTH; HHT; HTT; THT; TTH; HHH\n",
    "\n",
    "Then:\n",
    "* $x$ = 0, 1, 2, 3\n",
    "\n",
    "Notice $X$ is in words and $x$ is a number.  $x$ values are countable outcomes."
   ]
  },
  {
   "cell_type": "code",
   "execution_count": null,
   "id": "e0510e80-57c9-4897-8268-8b306ae6d47a",
   "metadata": {},
   "outputs": [],
   "source": [
    "flip_options = 'HT'\n",
    "output_values = list(combinations_with_replacement(flip_options, 3))\n",
    "[''.join(x) for x in output_values]"
   ]
  },
  {
   "cell_type": "code",
   "execution_count": null,
   "id": "78426b8b-3830-4001-b79d-dffad6d0663d",
   "metadata": {},
   "outputs": [],
   "source": [
    "output_values = list(product(flip_options, repeat=3))\n",
    "[''.join(x) for x in output_values]"
   ]
  },
  {
   "cell_type": "code",
   "execution_count": null,
   "id": "f4c0d29f-f2b6-4574-88ce-c3a99b337e25",
   "metadata": {},
   "outputs": [],
   "source": []
  },
  {
   "cell_type": "markdown",
   "id": "ad5d7811-482a-495e-8aae-560111ee4e72",
   "metadata": {},
   "source": [
    "## 4.1 Probability Distribution Function (PDF) for a Discrete Random Variable\n",
    "Two Characteristics:\n",
    "1. Each probability is between zero and one, inclusive.\n",
    "2. The sum of the probabilities is one.\n",
    "\n",
    "##### <span style=\"color:orange\">Example 4.1:</span>\n",
    "$P(x)$ = probability that $X$ takes on a value of $x$.\n",
    "\n",
    "|$x$|$P(x)$|\n",
    "|--|--|\n",
    "|0|$P(x=0)=\\frac{2}{50}$|\n",
    "|1|$P(x=1)=\\frac{11}{50}$|\n",
    "|2|$P(x=2)=\\frac{23}{50}$|\n",
    "|3|$P(x=3)=\\frac{9}{50}$|\n",
    "|4|$P(x=4)=\\frac{4}{50}$|\n",
    "|5|$P(x=5)=\\frac{1}{50}$|\n",
    "\n",
    "$X$ takes on the values 0, 1, 2, 3, 4, 5.  This is a discrete PDF because:\n",
    "* Each $P(x)$ is between **zero** and **one**, inclusive.\n",
    "* The sum of the probabilities is **one**, that is,\n",
    "    * $\\frac{2}{50} + \\frac{11}{50} +\\frac{23}{50} +\\frac{9}{50} +\\frac{4}{50} +\\frac{1}{50} = 1$\n"
   ]
  },
  {
   "cell_type": "markdown",
   "id": "cfa30f8b-ecd7-4955-9d6b-b779b24bef6d",
   "metadata": {},
   "source": [
    "##### <span style=\"color:orange\">Example 4.1:</span>\n",
    "Suppose Nancy has classes **three days** a week.  She attends classes three days a week **80%** of the time, **two days 15%** of the time, **one day 4%** of the time, and **no days 1% of the time.  Suppose one week is randomly selected.\n",
    "\n",
    "Solutions:\n",
    "\n",
    "a. Let $X$ = the number of days Nancy **attends class per week**.\n",
    "\n",
    "b. $X$ takes on what values?\n",
    "* 0, 1, 2, 3\n",
    "\n",
    "c. Suppose one week is randomly chosen.  Construct a probability distribution table (called a PDF table) like the one in Example 4.1.  The table should have two columns labeled $x$ and $P(x)$.  What does the $P(x)$ column sum to?\n",
    "\n",
    "|$x$|$P(x)$|\n",
    "|--|--|\n",
    "|0|0.01|\n",
    "|1|0.04|\n",
    "|2|0.15|\n",
    "|3|0.80|\n",
    "\n",
    "$$\\therefore \\sum_{x=0}^3 P(x) = 0.01+0.04+0.15+0.80=1.0$$\n"
   ]
  },
  {
   "cell_type": "markdown",
   "id": "ef34c1df-49a9-4196-9aea-2244b4dc9bd7",
   "metadata": {},
   "source": [
    "$$\\sum_{x=0}^3 P(x)$$"
   ]
  },
  {
   "cell_type": "code",
   "execution_count": null,
   "id": "57dec553-253e-4371-86b4-0e61650165d5",
   "metadata": {},
   "outputs": [],
   "source": []
  },
  {
   "cell_type": "markdown",
   "id": "9325e897-7ac0-41be-a545-f8ef2af9aba4",
   "metadata": {},
   "source": [
    "## 4.2 Mean or Expected Value and Standard Deviation\n",
    "* `Expected Value`: often referred to as the **\"long-term\" average or mean**.  This means that over the long term of doing an experiment over and over, you would **expect** this average.\n",
    "* `Probability`: does not describe the short-term results of an experiment. It gives information about what can be expected in the long term (illustrating the **Law of Large Numbers**).\n",
    "* `The Law of Large Numbers`: states that, as the number of trials in a probability experiment increases, the difference between the theoretical probability of an event and the relative frequency approaches zero (**the theorettical probability and the relative frequency get closer and closer together**).\n",
    "* $\\mu$ : the **mean** or **expected value** of the experiment is denoted by the Greek letter $\\mu$. After conducting many trials of an experiment, you would expect this average value.\n",
    "\n",
    "> Note: To find the expected value or long germ average, $\\mu$, simply multiply each value of the random variable by its probability and add the products.\n"
   ]
  },
  {
   "cell_type": "markdown",
   "id": "3a376782-4ee5-4470-95da-84634f28453f",
   "metadata": {
    "jp-MarkdownHeadingCollapsed": true,
    "tags": []
   },
   "source": [
    "##### <span style=\"color:orange\">Example 4.3:</span>\n",
    "\n",
    "A men's soccer team plays soccer zero, one, or two days a week. The probability that they play zero days is 0.2,\n",
    "the probability that they play one day is 0.5, and the probability that they play two days is 0.3. Find the long-term\n",
    "average or expected value, $\\mu$, of the number of days per week the men's soccer team plays soccer.\n",
    "\n",
    "To solve this, let:\n",
    "* the random variable $X$ = the number of days the men's soccer team plays soccer per week.\n",
    "* $X$ takes on the values 0, 1, 2\n",
    "* Construct a PDF adding a column $x*P(x)$, in this column multiply each $x$ value by its probability.\n",
    "\n",
    "##### The Expected Value Table:\n",
    "|$x$|$P(x)$|$x \\cdot P(x)$|\n",
    "|--|--|--|\n",
    "|0|0.2|(0)(0.2)=0|\n",
    "|1|0.5|(1)(0.5)=0.5|\n",
    "|2|0.3|(2)(0.3)=0.6|\n",
    "\n",
    "The _long term average_ or _expected value_ is 0 + 0.5 + 0.6 = 1.1\n",
    "\n",
    "The number 1.1 is the long-term average or expected value if the men's soccer team plays soccer week after week after week.\n",
    "\n",
    "We say $\\mu=1.1$"
   ]
  },
  {
   "cell_type": "markdown",
   "id": "09592ac7-ee44-44a9-9520-8778daf0c1a3",
   "metadata": {},
   "source": [
    "##### <span style=\"color:orange\">Example 4.4:</span>\n",
    "Find the expected value of the number of times a newborn baby's crying wakes its mother after midnight.\n",
    "The expected value is the expected number of times per week a newborn baby's crying wakes its mother after\n",
    "midnight. Calculate the standard deviation of the variable as well.\n",
    "\n",
    "|$x$|$P(x)$|$x \\cdot P(x)$|$(x-\\mu)^2 \\cdot P(x)$|\n",
    "|--|--|--|--|\n",
    "|0|$P(x=0)=\\frac{2}{50}$|$(0) (\\frac{2}{50} ) = 0$|$(0-2.1)^2 \\cdot 0.04 = 0.1764$|\n",
    "|1|$P(x=1)=\\frac{11}{50}$|$(1) (\\frac{11}{50} ) = \\frac{11}{50}$|$(1-2.1)^2 \\cdot 022. = 0.2662$|\n",
    "|2|$P(x=2)=\\frac{23}{50}$|$(2) (\\frac{23}{50} ) = \\frac{46}{50}$|$(2-2.1)^2 \\cdot 0.46 = 0.0046$|\n",
    "|3|$P(x=3)=\\frac{9}{50}$|$(3) (\\frac{9}{50} ) = \\frac{27}{50}$|$(3-2.1)^2 \\cdot 0.18 = 0.1458$|\n",
    "|4|$P(x=4)=\\frac{4}{50}$|$(4) (\\frac{4}{50} ) = \\frac{16}{50}$|$(4-2.1)^2 \\cdot 0.08 = 0.2888$|\n",
    "|5|$P(x=5)=\\frac{1}{50}$|$(5) (\\frac{1}{50} ) = \\frac{5}{50}$|$(5-2.1)^2 \\cdot 0.02 = 0.1682$|\n",
    "\n",
    "Having added the values in the third column of the table to find the expected value of $X$:\n",
    "\n",
    "$\\mu$ = Expected Value = $\\frac{105}{50}=2.1$\n",
    "\n",
    "Use $\\mu$ to complete the table.  The fourth column of this table will provide the values you need to calculate the standard deviation.  For each value $x$, multiply the square of its _deviation_ by its _probability_.  (Each deviation has the format $x-\\mu$).\n",
    "\n",
    "Add the values in the fourth column of the table:\n",
    "\n",
    "0.1764 + 0.2662 + 0.0056 + 0.1458 + 0.2888 + 0.1682 = 1.05\n",
    "\n",
    "The _standard deviation_ of $X$ is the square root of this sum: $\\sigma = \\sqrt{1.05} \\approx 1.0247$"
   ]
  },
  {
   "cell_type": "code",
   "execution_count": null,
   "id": "3f38404a-61cc-45a3-9495-a11044660a2b",
   "metadata": {},
   "outputs": [],
   "source": []
  },
  {
   "cell_type": "markdown",
   "id": "0248476b-f04d-4869-8191-3fef832e7738",
   "metadata": {},
   "source": [
    "##### <span style=\"color:orange\">Example 4.5:</span>\n",
    "\n",
    "Suppose you play a game of chance in which five numbers are chosen from 0, 1, 2, 3, 4, 5, 6, 7, 8, 9. A computer randomly selects five numbers from zero to nine with replacement. You pay \\\\$2 to play and could profit \\\\$100,000 if you match all five numbers in order (you get your \\\\$2 back plus \\\\$100,000). Over the long term, what is your **expected** profit of playing the game?\n",
    "\n",
    "To do this problem, set up an expected value table for the amount of money you can profit.\n",
    "\n",
    "Let $X$ = the amount of money you profit. The values of $x$ are not 0, 1, 2, 3, 4, 5, 6, 7, 8, 9. Since you are interested\n",
    "in your profit (or loss), the values of $x$ are 100,000 dollars and −2 dollars.\n",
    "\n",
    "To win, you must get all five numbers correct, in order. The probability of choosing one correct number is $\\frac{1}{10}$\n",
    "\n",
    "because there are ten numbers. You may choose a number more than once. The probability of choosing all five\n",
    "numbers correctly and in order is:\n",
    "* $\\frac{1}{10} \\cdot \\frac{1}{10} \\cdot \\frac{1}{10} \\cdot \\frac{1}{10} \\cdot \\frac{1}{10} = 1 \\cdot 10^{-5} = 0.00001$\n",
    "\n",
    "Therefore, the probability of:\n",
    "* winning is 0.00001\n",
    "* losing is 1 - 0.00001 = 0.99999\n",
    "\n",
    "The expected value table is as follows:\n",
    "||$x$|$P(x)$|$x \\cdot P(x)$|\n",
    "|--|--|--|--|\n",
    "|Loss|-2|0.99999|$-2 \\cdot 0.99999 = -1.9998$|\n",
    "|Profit|100,000|0.00001|$100000 \\cdot 0.00001 = 1$|\n",
    "\n",
    "Since –1.99998 is about –2, you would, on average, expect to lose approximately \\\\$2 for each game you play.\n",
    "However, each time you play, you either lose \\\\$2 or profit \\\\$100,000. The $2 is the average or expected LOSS per\n",
    "game after playing this game over and over."
   ]
  },
  {
   "cell_type": "code",
   "execution_count": null,
   "id": "fef8458a-2a5a-4d26-afae-dfaad2fb1f11",
   "metadata": {},
   "outputs": [],
   "source": []
  },
  {
   "cell_type": "markdown",
   "id": "e5e8a759-dc75-48c6-8a3b-a7daf9763ac3",
   "metadata": {},
   "source": [
    "##### <span style=\"color:orange\">Example 4.6:</span>\n",
    "\n",
    "Suppose you play a game with a biased coin.  You play each game by tossing the coing once.\n",
    "* $P(\\text{heads})= \\frac{2}{3}$ \n",
    "* $P(\\text{tails})= \\frac{1}{3}$ \n",
    "\n",
    "If you toss a head, you pay \\\\$6.  If you toss a tail, you win \\\\$10.\n",
    "\n",
    "If you play this game many times, will you come out ahead?\n",
    "\n",
    "a. Define a random variable $X$.\n",
    "* $X$ = amount of profit\n",
    "\n",
    "b. Compute the following expected value table:\n",
    "\n",
    "||$x$|$P(x)$|$x \\cdot P(x)$|\n",
    "|--|--|--|--|\n",
    "|LOSE|-6|$\\frac{2}{3}$|$\\frac{-12}{3}$|\n",
    "|WIN|10|$\\frac{1}{3}$|$\\frac{10}{3}$|\n",
    "\n",
    "c.  What is the expected value, $\\mu$?  Do you come out ahead?\n",
    "* Add the last column of the table.  The expected value $\\mu = \\frac{-2}{3}$. You lose, on average, about 67 cents each time you play the game - so you do not come out ahead."
   ]
  },
  {
   "cell_type": "code",
   "execution_count": null,
   "id": "2a025073-795e-4bcd-b4f6-8826e8aa12f1",
   "metadata": {},
   "outputs": [],
   "source": []
  },
  {
   "cell_type": "markdown",
   "id": "13463582-3a9a-43fc-90a9-41f8cc5758a4",
   "metadata": {},
   "source": [
    "## 4.3 Binomial Distribution\n",
    "There are three characteristics of a binomial experiment.\n",
    "1. There are a fixed number of trials. Think of trials as repetitions of an experiment.\n",
    "    * $n$ denotes the number of\n",
    "trials.\n",
    "2. There are only two possible outcomes, called \"success\" and \"failure,\" for each trial.\n",
    "    * $p$ denotes the probability of a success on one trial, and\n",
    "    * $q$ denotes the probability of a failure on one trial.\n",
    "    * $p + q = 1$.\n",
    "3. The $n$ trials are independent and are repeated using identical conditions. Because the $n$ trials are independent, the\n",
    "outcome of one trial does not help in predicting the outcome of another trial. Another way of saying this is that for each\n",
    "individual trial, the probability, $p$, of a success and probability, $q$, of a failure remain the same. For example, randomly\n",
    "guessing at a true-false statistics question has only two outcomes. If a success is guessing correctly, then a failure is\n",
    "guessing incorrectly. Suppose Joe always guesses correctly on any statistics true-false question with probability $p =\n",
    "0.6$. Then, $q = 0.4$. This means that for every true-false statistics question Joe answers, his probability of success ($p =\n",
    "0.6$) and his probability of failure ($q = 0.4$) remain the same.\n",
    "\n",
    "The outcomes of a binomial experiment fit a **binomial probability distribution**. The random variable $X$ = the number of\n",
    "successes obtained in the $n$ independent trials.\n",
    "\n",
    "The mean, $\\mu$, and variance, $\\sigma^2$, for the binomial probability distribution are $\\mu=np$ and $\\sigma^2 = npq$. The standard deviation, $\\sigma$,\n",
    "is then $\\sigma = \\sqrt{npq}$.\n",
    "\n",
    "Any experiment that has characteristics two and three and where $n = 1$ is called a **Bernoulli Trial** (named after Jacob\n",
    "Bernoulli who, in the late 1600s, studied them extensively). A binomial experiment takes place when the number of\n",
    "successes is counted in one or more Bernoulli Trials."
   ]
  },
  {
   "cell_type": "markdown",
   "id": "5ebea1ca-fed6-4f60-b872-cf04f3a9ab49",
   "metadata": {},
   "source": [
    "##### <span style=\"color:orange\">Example 4.6:</span>\n",
    "A fair coin is flipped 15 times.  Each flip is independent. What is the probability of getting more than ten heads?\n",
    "\n",
    "Answer:\n",
    "\n",
    "* Let $X$ = the number of heads in 15 flips of the fair coin.\n",
    "* $X$ takes on the values 0, 1, 2, 3, ..., 15.\n",
    "* Since the coin is fair\n",
    "    * $p=0.5$\n",
    "    * $q=0.5$\n",
    "* The number of trials is:\n",
    "    * $n=15$\n",
    "* State the probability question mathematically:\n",
    "    * $P(x \\gt 10)$"
   ]
  },
  {
   "cell_type": "code",
   "execution_count": null,
   "id": "5aad8cc2-8bf0-4da5-a07f-56620565a104",
   "metadata": {},
   "outputs": [],
   "source": []
  }
 ],
 "metadata": {
  "kernelspec": {
   "display_name": "Python 3 (ipykernel)",
   "language": "python",
   "name": "python3"
  },
  "language_info": {
   "codemirror_mode": {
    "name": "ipython",
    "version": 3
   },
   "file_extension": ".py",
   "mimetype": "text/x-python",
   "name": "python",
   "nbconvert_exporter": "python",
   "pygments_lexer": "ipython3",
   "version": "3.11.0"
  }
 },
 "nbformat": 4,
 "nbformat_minor": 5
}
