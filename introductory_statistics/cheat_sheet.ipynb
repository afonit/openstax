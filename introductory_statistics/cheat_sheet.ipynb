{
 "cells": [
  {
   "cell_type": "markdown",
   "id": "999f7e17-1abd-4505-9c01-1553dc2be522",
   "metadata": {},
   "source": [
    "## Distributions\n",
    "### z-distribution (the standard normal distribution)\n",
    "* assumes you know $\\sigma$ (the population standard deviation)\n",
    "* symmetrical\n",
    "* mean of 0\n",
    "\n",
    "### t-distribution\n",
    "* describes the standardized distances of sample means to the population mean when the population standard deviation is not known, observations come from a normally distributed population\n",
    "* $\\sigma$ is **not** known\n",
    "* based on $s$ (the sample standard deviation)\n",
    "* symmetrical\n",
    "* mean of 0\n",
    "* defined by the _degrees of freedom_ (sample size)\n",
    "* useful for small sample sizes\n",
    "    * as the sample size increases, the t-distribution becomes more similar to a normal distribution"
   ]
  },
  {
   "cell_type": "code",
   "execution_count": null,
   "id": "9d6a26f2-0dac-40b0-a9e6-dd32a59dcd5f",
   "metadata": {},
   "outputs": [],
   "source": []
  }
 ],
 "metadata": {
  "kernelspec": {
   "display_name": "Python 3 (ipykernel)",
   "language": "python",
   "name": "python3"
  },
  "language_info": {
   "codemirror_mode": {
    "name": "ipython",
    "version": 3
   },
   "file_extension": ".py",
   "mimetype": "text/x-python",
   "name": "python",
   "nbconvert_exporter": "python",
   "pygments_lexer": "ipython3",
   "version": "3.11.0"
  }
 },
 "nbformat": 4,
 "nbformat_minor": 5
}
