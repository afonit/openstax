{
 "cells": [
  {
   "cell_type": "code",
   "execution_count": 1,
   "id": "2ede38b5-2a32-4d66-858e-b6e50516ffd9",
   "metadata": {},
   "outputs": [],
   "source": [
    "import math\n",
    "import scipy.stats as st\n",
    "\n",
    "import ipywidgets as widgets\n",
    "from ipywidgets import interact"
   ]
  },
  {
   "cell_type": "markdown",
   "id": "a3b83e10-3a8f-435b-9b33-d9806fe7e3fe",
   "metadata": {},
   "source": [
    "# Chapter 8: Confidence Intervals\n",
    "\n",
    "* `Inferential statistics` - use sample data to make generalizations about an unknown population.\n",
    "    * **The sample data help us to make an estimate of a population parameter**\n",
    "\n",
    "1. first calculate a **point estimate**\n",
    "2. then construct interval estimates called **confidence intervals**.\n",
    "\n",
    "Chapter Goals:\n",
    "* How to construct and interpret confidence intervals.\n",
    "* A new distribution - the Student's-t, and how it is used with these intervals.\n",
    "* Keep in mind that the confidence interval is a random variable.  It is the population parameter that is fixed.\n",
    "* The sample mean $\\bar{x}$ is the **point estimate** for the population mean $\\mu$.\n",
    "* The sample standard deviation $s$ is the **point estimate** for the population standard deviation $\\sigma$\n",
    "* Each $\\bar{x}$ and $s$ is called a **statistic**\n",
    "* A **confidence interval**, is an estimate but it is an interval of numbers. It provides a _range_ of reasonable values in which we expect the population parameter to fall.\n",
    "* The `empirical rule`, which applies to bell-shaped distributions, says that in approximately 95% of the samples, the sample mean, $\\bar{x}$, will be within two standard deviations of the population mean $\\mu$.\n",
    "* A **confidence interval**, is created for an **unknown population parameter** like the population mean, $\\mu$.  Confidence intervals for some parameters have the form:\n",
    "    * (point estimate - margin of error, point estimate + margin of error)\n"
   ]
  },
  {
   "cell_type": "markdown",
   "id": "f102f679-add8-4478-949e-86d27a748932",
   "metadata": {},
   "source": [
    "## Calculating the Confidence Interval\n",
    "> A confidence interval for a population mean, when the population standard deviation is known, is based on the conclusion of the Central Limit Theorem that the sampling distribution of the sample means follow an approximately normal distribution. Suppose that our sample has a mean of $\\bar{x} = 10$ and we have constructed the 90% confidence interval (5, 15) where EBM = 5.\n",
    "\n",
    "Constructing a confidence interval for a single unknown population mean $\\mu$, **where the population standard deviation is known**, we need $\\bar{x}$ as an estimate for $\\mu$ and we need the margin of error. Here, the margin of error (EBM) is called the **error bound for a population mean** (abbreviated **EBM**).  The sample mean $\\bar{x}$ is the **point estimate** of the unknown population mean $\\mu$.\n",
    "\n",
    "The confidence interval estimate will have the form:\n",
    "\n",
    "(point estimate - error bound, point estimate + error bound) or, in symbols,($\\bar{x}$–EBM,$\\bar{x}$+EBM )\n",
    "\n",
    "The marign of error (EBM) depends on the **confidence level** (abbreviated **CL**). The confidence level is often considered the probability that the calculated confidence interval estimate will contain the true population parameter. However, it is more accurate to state that the confidence level is the percent of confidence intervals that contain the true population parameter when repeated samples are taken.\n",
    "\n",
    "**$\\alpha$**: the probability that the interval does not contain the unknown population parameter.\n",
    "\n",
    "* $\\alpha + CL = 1$"
   ]
  },
  {
   "cell_type": "code",
   "execution_count": null,
   "id": "d6cb26ac-a2c8-46ef-b3d4-2a09dca08192",
   "metadata": {},
   "outputs": [],
   "source": []
  },
  {
   "cell_type": "markdown",
   "id": "905e53c8-30b7-4c22-8ac5-16903496a50e",
   "metadata": {},
   "source": [
    "##### <span style=\"color:orange\">Example 8.1</span>\n",
    "* Suppose we have collected data from a sample. We know the sample mean but we do not know the mean for the entire population.\n",
    "* The sample mean is seven, and the error bound for the mean is 2.5.\n",
    "\n",
    "$\\bar{x}=7 \\text{ and } EBM = 2.5$\n",
    "\n",
    "The confidence interval is (7 – 2.5, 7 + 2.5), and calculating the values gives (4.5, 9.5).\n",
    "\n",
    "If the confidence level (CL) is 95%, then we say that, \"We estimate with 95% confidence that the true value of the population mean is between 4.5 and 9.5.\""
   ]
  },
  {
   "cell_type": "code",
   "execution_count": null,
   "id": "a3e09670-1e10-40c6-87a3-b0ef6180302f",
   "metadata": {},
   "outputs": [],
   "source": []
  },
  {
   "cell_type": "markdown",
   "id": "e03a4fd6-d37c-4a94-bf41-12961248c5a6",
   "metadata": {},
   "source": [
    "### Calculating the Confidence Interval\n",
    "To construct a confidence interval estimate for an unknown population mean, we need data from a random sample. The steps to construct and interpret the confidence interval are:\n",
    "* Calculate the sample mean $\\bar{x}$ from the sample data. Remember, in this section we already know the population standard deviation $\\sigma$.\n",
    "* Find the z-score that corresponds to the confidence level.\n",
    "* Calculate the error bound EBM.\n",
    "* Construct the confidence interval.\n",
    "* Write a sentence that interprets the estimate in the context of the situation in the problem. (Explain what the confidence interval means, in the words of the problem.)"
   ]
  },
  {
   "cell_type": "markdown",
   "id": "df74c5c4-9439-490b-aeb5-c563a03c7bf9",
   "metadata": {},
   "source": [
    "### Finding the z-score for the Stated Confidence Level\n",
    "<span style=\"color:pink\">When we know the population standard deviation σ, we use a standard normal distribution to calculate the error bound EBM and construct the confidence interval</span>. We need to find the value of z that puts an area equal to the confidence level (in decimal form) in the middle of the standard normal distribution Z ~ N(0, 1).\n",
    "\n",
    "The confidence level, CL, is the area in the middle of the standard normal distribution. CL = 1 – α, so α is the area that is split equally between the two tails. Each of the tails contains an area equal to  α2 .\n",
    "\n",
    "The z-score that has an area to the right of $\\frac{\\alpha}{2}$ is denoted by $z_{\\frac{\\alpha}{2}}$.\n",
    "\n",
    "For example, when CL = 0.95, α = 0.05 and $\\frac{\\alpha}{2} = 0.025$; we write $z_{\\frac{\\alpha}{2}}=z_{0.025}$.\n",
    "\n",
    "The area to the right of $z_{0.025}$ is 0.025 and the area to the left of $z_{0.025}$ is 1 – 0.025 = 0.975.\n",
    "\n",
    "$z_{\\frac{\\alpha}{2}}=z_{0.025}=1.96$ , using a calculator, computer or a standard normal probability table."
   ]
  },
  {
   "cell_type": "markdown",
   "id": "01f2f0ad-8ed1-437a-9ab7-70ae32f10388",
   "metadata": {},
   "source": [
    "### Calculating the Error Bound (EBM)\n",
    "The error bound formula for an unknown population mean μ when the population standard deviation σ is known is:\n",
    "* $EBM=\\bigl(z_{\\frac{\\alpha}{2}}\\bigr)\\bigl(\\frac{\\sigma}{\\sqrt{n}}\\bigr)$"
   ]
  },
  {
   "attachments": {
    "d55cce77-52f2-4549-8fb8-40fa2f911372.png": {
     "image/png": "[encoded data removed]"
    }
   },
   "cell_type": "markdown",
   "id": "393fed81-7e28-4374-9997-f8834d3ecf5c",
   "metadata": {},
   "source": [
    "### Constructing the Confidence Interval\n",
    "The confidence interval estimate has the format $(\\bar{x}-EBM, \\bar{x}+EBM)$\n",
    "\n",
    "The graph gives a picture of the entire situation.\n",
    "\n",
    "$CL+\\frac{\\alpha}{2}+\\frac{\\alpha}{2}=CL+\\alpha=1$\n",
    "\n",
    "![image.png](attachment:d55cce77-52f2-4549-8fb8-40fa2f911372.png)"
   ]
  },
  {
   "cell_type": "markdown",
   "id": "6adc12cd-e1c4-4aab-9ee8-92488ea437b5",
   "metadata": {},
   "source": [
    "### Writing the Interpretation\n",
    "The interpretation should clearly state the confidence level (CL), explain what population parameter is being estimated (here, a population mean), and state the confidence interval (both endpoints). \"We estimate with ___% confidence that the true **population mean** (include the context of the problem) is between ___ and ___ (include appropriate units).\""
   ]
  },
  {
   "cell_type": "code",
   "execution_count": null,
   "id": "a311f324-0dc7-4b39-a9ea-cc5bbaf8b26c",
   "metadata": {},
   "outputs": [],
   "source": []
  },
  {
   "cell_type": "markdown",
   "id": "11634f70-3f40-4857-882e-5a0b84ec9589",
   "metadata": {},
   "source": [
    "##### <span style=\"color:orange\">Example 8.2</span>\n",
    "Suppose scores on exams in statistics are normally distributed with an unknown population mean and a population standard deviation of three points. A random sample of 36 scores is taken and gives a sample mean (sample mean score) of 68. Find a confidence interval estimate for the population mean exam score (the mean score on all exams).\n",
    "\n",
    "Find a 90% confidence interval for the true (population) mean of statistics exam scores.\n",
    "\n",
    "so,\n",
    "* $\\mu$ = ?\n",
    "* $\\sigma = 3$ points\n",
    "* $n=36$\n",
    "* $\\bar{x}=68$\n",
    "\n",
    "For a 90% confidence interval, that means:\n",
    "* $CL = 0.90$\n",
    "* $\\alpha = 0.1$\n",
    "* $\\therefore \\frac{\\alpha}{2} = 0.05$\n",
    "* $z_{\\frac{a}{2}}=z_{0.05} = 1.645$"
   ]
  },
  {
   "cell_type": "code",
   "execution_count": 2,
   "id": "9eb045f4-741a-44a7-85d5-72120df60ecc",
   "metadata": {},
   "outputs": [
    {
     "data": {
      "text/plain": [
       "1.6448536269514722"
      ]
     },
     "execution_count": 2,
     "metadata": {},
     "output_type": "execute_result"
    }
   ],
   "source": [
    "st.norm.ppf(1 - 0.05, loc=0, scale=1)"
   ]
  },
  {
   "cell_type": "markdown",
   "id": "fcd3be60-7ffe-4610-8396-a9c612c0f4cc",
   "metadata": {},
   "source": [
    "$EBM = (1.645)(\\frac{3}{\\sqrt{36}}) = 0.8225$\n",
    "\n",
    "$\\bar{x} - EBM = 68 - 0.8225 = 67.1775$\n",
    "\n",
    "$\\bar{x} + EBM = 68 - 0.8225 = 68.8225$\n",
    "\n",
    "The 90% confidence interval is (67.1775, 68.8225)."
   ]
  },
  {
   "cell_type": "markdown",
   "id": "0a75d2c5-6e42-44f2-80ee-75e3add71068",
   "metadata": {},
   "source": [
    "Interpretation: We estimate with 90% confidence that the true population mean exam score for all statistics students is between 67.18 and 68.82.\n",
    "\n",
    "Explanation of 90% Confidence Level: Ninety percent of all confidence intervals constructed in this way contain the true mean statistics exam score. For example, if we constructed 100 of these confidence intervals, we would expect 90 of them to contain the true population mean exam score."
   ]
  },
  {
   "cell_type": "code",
   "execution_count": null,
   "id": "fcb92360-0076-4842-96de-a46e0fa82a33",
   "metadata": {},
   "outputs": [],
   "source": []
  },
  {
   "cell_type": "markdown",
   "id": "5f1f5db9-288f-4faf-a5f8-d3fd506cafc1",
   "metadata": {},
   "source": [
    "##### <span style=\"color:orange\">Example 8.3</span>\n",
    "|Phone Model\t|SAR\t|Phone Model\t|SAR\t|Phone Model\t|SAR|\n",
    "|--|--|--|--|--|--|\n",
    "|Apple iPhone 4S\t|1.11\t|LG Ally\t|1.36\t|Pantech Laser\t|0.74|\n",
    "|BlackBerry Pearl 8120\t|1.48\t|LG AX275\t|1.34\t|Samsung Character\t|0.5|\n",
    "|BlackBerry Tour 9630\t|1.43\t|LG Cosmos\t|1.18\t|Samsung Epic 4G Touch\t|0.4|\n",
    "|Cricket TXTM8\t|1.3\t|LG CU515\t|1.3\t|Samsung M240\t|0.867|\n",
    "|HP/Palm Centro\t|1.09\t|LG Trax CU575\t|1.26\t|Samsung Messager III SCH-R750\t|0.68|\n",
    "|HTC One V\t|0.455\t|Motorola Q9h\t|1.29\t|Samsung Nexus S\t|0.51|\n",
    "|HTC Touch Pro 2\t|1.41\t|Motorola Razr2 V8\t|0.36\t|Samsung SGH-A227\t|1.13|\n",
    "|Huawei M835 Ideos\t|0.82\t|Motorola Razr2 V9\t|0.52\t|SGH-a107 GoPhone\t|0.3|\n",
    "|Kyocera DuraPlus\t|0.78\t|Motorola V195s\t|1.6\t|Sony W350a\t|1.48|\n",
    "|Kyocera K127 Marbl\t|1.25\t|Nokia 1680\t|1.39\t|T-Mobile Concord\t|1.38|\n",
    "\n",
    "Find a 98% confidence interval for the true (population) mean of the Specific Absorption Rates (SARs) for cell phones. Assume that the population standard deviation is σ = 0.337."
   ]
  },
  {
   "attachments": {
    "02adf254-1947-4912-a89c-b7129be2ad6e.png": {
     "image/png": "[encoded data removed]"
    }
   },
   "cell_type": "markdown",
   "id": "fc25c26c-ba2d-4799-883e-9a9d18ade831",
   "metadata": {},
   "source": [
    "So,\n",
    "* $\\mu = ?$\n",
    "* $\\sigma = 0.337$\n",
    "* $n=30$\n",
    "* Use $CL=0.98$\n",
    "* $\\therefore \\alpha = 0.02$\n",
    "* $\\frac{\\alpha}{2}= 0.01$\n",
    "* $z_{\\frac{\\alpha}{2}}=z_{0.01} = 2.326$\n",
    "\n",
    "![image.png](attachment:02adf254-1947-4912-a89c-b7129be2ad6e.png)"
   ]
  },
  {
   "cell_type": "code",
   "execution_count": 3,
   "id": "80eee087-b0d7-4c96-8a3b-5ae4562df052",
   "metadata": {},
   "outputs": [],
   "source": [
    "phone_data = [1.11, 1.48, 1.43, 1.3, 1.09, 0.455, 1.41, 0.82, 0.78, 1.25,\n",
    "             1.36, 1.34, 1.18, 1.3, 1.26, 1.29, 0.36, 0.52, 1.6, 1.39,\n",
    "             0.74, 0.5, 0.4, 0.867, 0.68, 0.51, 1.13, 0.3, 1.48, 1.38]"
   ]
  },
  {
   "cell_type": "code",
   "execution_count": 4,
   "id": "519f791a-d1b7-4475-8600-9c4eb40ebf6c",
   "metadata": {},
   "outputs": [
    {
     "data": {
      "text/plain": [
       "1.0237333333333332"
      ]
     },
     "execution_count": 4,
     "metadata": {},
     "output_type": "execute_result"
    }
   ],
   "source": [
    "sum(phone_data)/len(phone_data)"
   ]
  },
  {
   "cell_type": "markdown",
   "id": "97005220-5447-495d-95dd-42b95fba19b3",
   "metadata": {},
   "source": [
    "$\\therefore \\bar{x}=1.3576$"
   ]
  },
  {
   "cell_type": "code",
   "execution_count": 5,
   "id": "1448bef3-6576-46e5-9ba6-43967152d0d7",
   "metadata": {},
   "outputs": [
    {
     "data": {
      "text/plain": [
       "2.3263478740408408"
      ]
     },
     "execution_count": 5,
     "metadata": {},
     "output_type": "execute_result"
    }
   ],
   "source": [
    "st.norm.ppf(1 - 0.01, loc=0, scale=1)"
   ]
  },
  {
   "cell_type": "markdown",
   "id": "9c0a628e-f13b-42c3-ba26-2da1e00246f3",
   "metadata": {},
   "source": [
    "* $EBM=\\bigl(z_{\\frac{\\alpha}{2}}\\bigr)\\bigl(\\frac{\\sigma}{\\sqrt{n}}\\bigr)$"
   ]
  },
  {
   "cell_type": "code",
   "execution_count": 6,
   "id": "0fed0554-0cfa-4ef9-8d79-8c4563fbac7a",
   "metadata": {},
   "outputs": [
    {
     "data": {
      "text/plain": [
       "0.1431129664570382"
      ]
     },
     "execution_count": 6,
     "metadata": {},
     "output_type": "execute_result"
    }
   ],
   "source": [
    "(2.326)*(0.337/math.sqrt(30))"
   ]
  },
  {
   "cell_type": "markdown",
   "id": "5cf71951-793d-4fb0-914a-9b7409f9329b",
   "metadata": {},
   "source": [
    "To find the 98% confidence interval, find $\\bar{x} \\pm EBM$."
   ]
  },
  {
   "cell_type": "code",
   "execution_count": 7,
   "id": "439bee7a-65d1-4beb-be1f-df293eedde24",
   "metadata": {},
   "outputs": [
    {
     "data": {
      "text/plain": [
       "1.1668100000000001"
      ]
     },
     "execution_count": 7,
     "metadata": {},
     "output_type": "execute_result"
    }
   ],
   "source": [
    "1.0237 + 0.14311"
   ]
  },
  {
   "cell_type": "code",
   "execution_count": 8,
   "id": "74f76893-9cda-4a3d-8d9c-0282f5ba03c5",
   "metadata": {},
   "outputs": [
    {
     "data": {
      "text/plain": [
       "0.8805900000000001"
      ]
     },
     "execution_count": 8,
     "metadata": {},
     "output_type": "execute_result"
    }
   ],
   "source": [
    "1.0237 - 0.14311"
   ]
  },
  {
   "cell_type": "markdown",
   "id": "077dd09b-3233-4ae1-8f0c-ee42aca0fc4c",
   "metadata": {},
   "source": [
    "We estimate with 98% confidence that the true SAR mean for the population of cell phones in the United States is between 0.8809 and 1.1671 watts per kilogram."
   ]
  },
  {
   "cell_type": "code",
   "execution_count": null,
   "id": "998b31fb-5f99-4273-9750-a9ad0a3f40d9",
   "metadata": {},
   "outputs": [],
   "source": []
  },
  {
   "cell_type": "markdown",
   "id": "3f33d0c5-76ee-4341-9368-d2ba605f2613",
   "metadata": {},
   "source": [
    "##### <span style=\"color:orange\">Example 8.4</span>\n",
    "\n",
    "Suppose we change the original problem in <span style=\"color:orange\">Example 8.2</span> by using a 95% confidence level. Find a 95% confidence interval for the true (population) mean statistics exam score."
   ]
  },
  {
   "cell_type": "markdown",
   "id": "b15c132a-bae9-4ec1-9e71-0cee5c1ad6d0",
   "metadata": {},
   "source": [
    "so,\n",
    "* $\\mu$ = ?\n",
    "* $\\sigma = 3$ points\n",
    "* $n=36$\n",
    "* $\\bar{x}=68$\n",
    "\n",
    "For a 95% confidence interval, that means:\n",
    "* $CL = 0.95$\n",
    "* $\\alpha = 0.5$\n",
    "* $\\therefore \\frac{\\alpha}{2} = 0.025$\n",
    "* $z_{\\frac{a}{2}}=z_{0.025} = 1.959$"
   ]
  },
  {
   "cell_type": "code",
   "execution_count": 9,
   "id": "319ee232-9785-4d7a-bc48-4c26fc53149c",
   "metadata": {},
   "outputs": [
    {
     "data": {
      "text/plain": [
       "1.959963984540054"
      ]
     },
     "execution_count": 9,
     "metadata": {},
     "output_type": "execute_result"
    }
   ],
   "source": [
    "st.norm.ppf(1-0.025, loc=0, scale=1)"
   ]
  },
  {
   "cell_type": "markdown",
   "id": "94c688b1-024a-4102-9d8f-7c4073e1c861",
   "metadata": {},
   "source": [
    "* $EBM=\\bigl(z_{\\frac{\\alpha}{2}}\\bigr)\\bigl(\\frac{\\sigma}{\\sqrt{n}}\\bigr)$"
   ]
  },
  {
   "cell_type": "markdown",
   "id": "a9fc5c85-21b8-4de6-bf86-edc7046d3116",
   "metadata": {},
   "source": [
    "$EBM = (1.959)(\\frac{3}{\\sqrt{36}}) = 0.9795$\n",
    "\n",
    "$\\bar{x} - EBM = 68 - 0.9795 = 67.0205$\n",
    "\n",
    "$\\bar{x} + EBM = 68 - 0.9795 = 68.9795$\n",
    "\n",
    "The 95% confidence interval is (67.0205, 68.9795)."
   ]
  },
  {
   "attachments": {
    "fe4f3b40-f4bd-41e5-b5a0-8bc4baafa380.png": {
     "image/png": "[encoded data removed]"
    }
   },
   "cell_type": "markdown",
   "id": "5772d46a-bb68-4487-b2f8-51f37e72af18",
   "metadata": {},
   "source": [
    "We estimate with 95% confidence that the true population mean for all statistics exam scores is between 67.02 and 68.98.\n",
    "\n",
    "Explanation of 95% Confidence Level: Ninety-five percent of all confidence intervals constructed in this way contain the true value of the population mean statistics exam score.\n",
    "\n",
    "Comparing the results: The 90% confidence interval is (67.18, 68.82). The 95% confidence interval is (67.02, 68.98). The 95% confidence interval is wider. If you look at the graphs, because the area 0.95 is larger than the area 0.90, it makes sense that the 95% confidence interval is wider. To be more confident that the confidence interval actually does contain the true value of the population mean for all statistics exam scores, the confidence interval necessarily needs to be wider.\n",
    "\n",
    "![image.png](attachment:fe4f3b40-f4bd-41e5-b5a0-8bc4baafa380.png)\n",
    "\n",
    "**Summary: Effect of Changing the Confidence Level**\n",
    "* Increasing the confidence level increases the error bound, making the confidence interval wider.\n",
    "* Decreasing the confidence level decreases the error bound, making the confidence interval narrower."
   ]
  },
  {
   "cell_type": "code",
   "execution_count": null,
   "id": "66d35bc0-eb24-4e0e-899c-d11f6b61b38d",
   "metadata": {},
   "outputs": [],
   "source": []
  },
  {
   "cell_type": "markdown",
   "id": "101fc774-904b-43a0-8a24-17dfcbd1b367",
   "metadata": {},
   "source": [
    "##### <span style=\"color:orange\">Example 8.5</span>\n",
    "Suppose we change the original problem in Example 8.2 to see what happens to the error bound if the sample size is changed.\n",
    "\n",
    "Leave everything the same except the sample size. Use the original 90% confidence level. What happens to the error bound and the confidence interval if we increase the sample size and use n = 100 instead of n = 36? What happens if we decrease the sample size to n = 25 instead of n = 36?\n",
    "* $\\bar{x} = 68$\n",
    "* $EBM = \\bigl(z_{\\frac{a}{2}}\\bigr)\\bigl(\\frac{\\sigma}{\\sqrt{n}}\\bigr)$\n",
    "* $\\sigma=3$; The confidence level is 90% (CL=0.90);$z_{\\frac{a}{2}}=z_{0.05}=1.645$"
   ]
  },
  {
   "cell_type": "markdown",
   "id": "b0dfb219-6ec6-45fc-9e4b-738ec6a0115c",
   "metadata": {},
   "source": [
    "___\n",
    "If we **increase** the sample size n to 100, we **decrease** the error bound.\n",
    "\n",
    "When $n=100$: $EBM=\\bigl( z_{\\frac{a}{2}} \\bigr) \\bigl(\\frac{\\sigma}{\\sqrt{n}}\\bigr)=(1.645)(\\frac{3}{\\sqrt{100}})=0.4935$"
   ]
  },
  {
   "cell_type": "markdown",
   "id": "878d41f9-f6bf-41de-8482-d5b85f8fcc90",
   "metadata": {},
   "source": [
    "___\n",
    "If we **decrease** the sample size n to 100, we **increase** the error bound.\n",
    "\n",
    "When $n=100$: $EBM=\\bigl( z_{\\frac{a}{2}} \\bigr) \\bigl(\\frac{\\sigma}{\\sqrt{n}}\\bigr)=(1.645)(\\frac{3}{\\sqrt{25}})=0.987$"
   ]
  },
  {
   "cell_type": "markdown",
   "id": "4deeabe0-3b8a-4de8-8394-4a7c3c768da1",
   "metadata": {},
   "source": [
    "___\n",
    "Summary: Effect of Changing the Sample Size\n",
    "* Increasing the sample size causes the error bound to decrease, making the confidence interval narrower.\n",
    "* Decreasing the sample size causes the error bound to increase, making the confidence interval wider."
   ]
  },
  {
   "cell_type": "markdown",
   "id": "130afec7-794e-4448-b901-ccd84fb40e0d",
   "metadata": {},
   "source": [
    "___\n",
    "\n",
    "In the below widget, observe the slider is the sample size, and will show the resultant confidence interval"
   ]
  },
  {
   "cell_type": "code",
   "execution_count": 10,
   "id": "09611b62-d5dd-4b54-943b-ed4f738253ff",
   "metadata": {},
   "outputs": [
    {
     "data": {
      "application/vnd.jupyter.widget-view+json": {
       "model_id": "08d7ce02c1cf4b95ac94832f5cba711d",
       "version_major": 2,
       "version_minor": 0
      },
      "text/plain": [
       "interactive(children=(IntSlider(value=25, description='sample_size', max=1500, min=2), Output()), _dom_classes…"
      ]
     },
     "metadata": {},
     "output_type": "display_data"
    }
   ],
   "source": [
    "def ebm_play(sample_size):\n",
    "    return 1.645*(3/math.sqrt(sample_size))\n",
    "\n",
    "interact(ebm_play, sample_size=widgets.IntSlider(value=25, min=2, max=1500));"
   ]
  },
  {
   "cell_type": "code",
   "execution_count": null,
   "id": "266d2da5-a128-476f-8845-da0f83073d53",
   "metadata": {},
   "outputs": [],
   "source": []
  },
  {
   "cell_type": "markdown",
   "id": "765ef352-20d4-4ce3-92e2-a4c759318258",
   "metadata": {},
   "source": [
    "## Working Backwards to Find the Error Bound or Sample Mean\n",
    "When we calculate a confidence interval we:\n",
    "* find the sample mean\n",
    "* calculate the error bound\n",
    "\n",
    "Then we use those to calculate the confidence interval.\n",
    "\n",
    "If we know the confidence interval, we can work backwards to find both the error bound and the sample mean.\n",
    "\n",
    "### Finding the Error Bound\n",
    "* From the upper value for the interval, subtract the sample mean,\n",
    "* OR, from the upper value for the interval, subtract the lower value. Then divide the difference by two.\n",
    "\n",
    "### Finding the Sample Mean\n",
    "* Subtract the error bound from the upper value of the confidence interval,\n",
    "* OR, average the upper and lower endpoints of the confidence interval.\n",
    "\n",
    "_Notice that there are two methods to perform each calculation. You can choose the method that is easier to use with the information you know._"
   ]
  },
  {
   "cell_type": "code",
   "execution_count": null,
   "id": "aff738c0-ac84-47de-b705-c9b6e47cf011",
   "metadata": {},
   "outputs": [],
   "source": []
  },
  {
   "cell_type": "markdown",
   "id": "605adf29-8986-43d4-829e-dcd604ea969a",
   "metadata": {},
   "source": [
    "##### <span style=\"color:orange\">Example 8.6</span>\n",
    "Suppose we know that a confidence interval is **(67.18, 68.82)** and we want to find the error bound. We may know that the sample mean is 68, or perhaps our source only gave the confidence interval and did not tell us the value of the sample mean.\n",
    "\n",
    "**Calculate the Error Bound:**\n",
    "* If we know that the sample mean is 68: $EBM = 68.82-68 = 0.82$\n",
    "* If we don't know the sample mean: $EBM =  \\frac{(68.82-67.18)}{2}  = 0.82$\n",
    "\n",
    "**Calculate the Sample Mean:**\n",
    "* If we know the error bound:  $\\bar{x}= 68.82-0.82 = 68$\n",
    "* If we don't know the error bound:  $\\bar{x}=\\frac{(67.18+68.82)}{2}  = 68$"
   ]
  },
  {
   "cell_type": "code",
   "execution_count": null,
   "id": "bdb1dc60-d02a-4935-9e65-15d384becabd",
   "metadata": {},
   "outputs": [],
   "source": []
  },
  {
   "cell_type": "markdown",
   "id": "2f60b249-898c-49f7-b641-8754f6bebd02",
   "metadata": {},
   "source": [
    "### Calculating the Sample Size $n$\n",
    "If researchers desire a specific margin of error, then they can use the error bound formula to calculate the required sample size.\n",
    "\n",
    "The error bound formula for a population mean when the population standard deviation is known is:\n",
    "\n",
    "$EBM=\\bigl(z_{\\frac{a}{2}}\\bigr) \\bigr(\\frac{\\sigma}{\\sqrt{n}}\\bigr)$\n",
    "\n",
    "The formula for the sample size is $n=\\frac{z^2 \\sigma^2}{EBM^2}$ , found by solving the error bound formula for n.\n",
    "\n",
    "In this formula, $z \\text{ is } z_{\\frac{a}{2}}$ , corresponding to the desired confidence level. A researcher planning a study who wants a specified confidence level and error bound can use this formula to calculate the size of the sample needed for the study."
   ]
  },
  {
   "cell_type": "code",
   "execution_count": null,
   "id": "e6955d71-e863-41c8-a7d9-3174fda0ac32",
   "metadata": {},
   "outputs": [],
   "source": []
  },
  {
   "cell_type": "markdown",
   "id": "c6531965-0e09-431d-ae9b-a1d3313be76f",
   "metadata": {},
   "source": [
    "##### <span style=\"color:orange\">Example 8.7</span>\n",
    "The population standard deviation for the age of Foothill College students is 15 years. If we want to be 95% confident that the sample mean age is within two years of the true population mean age of Foothill College students, how many randomly selected Foothill College students must be surveyed?\n",
    "\n",
    "* From the problem, we know that σ = 15 and EBM = 2.\n",
    "* $z = z_{0.025} = 1.96$, because the confidence level is 95%.\n",
    "* $n =  \\frac{z^2 \\sigma^2}{{EBM}^2}  =  \\frac{(1.96)^2 (15)^2}{2^2}  = 216.09$ using the sample size equation.\n",
    "* Use $n = 217$: Always round the answer UP to the next higher integer to ensure that the sample size is large enough.\n",
    "\n",
    "Therefore, 217 Foothill College students should be surveyed in order to be 95% confident that we are within two years of the true population mean age of Foothill College students."
   ]
  },
  {
   "cell_type": "markdown",
   "id": "bae9797c-492d-4c03-9b79-6c78df1c4d61",
   "metadata": {},
   "source": [
    "___"
   ]
  },
  {
   "cell_type": "code",
   "execution_count": null,
   "id": "5b5b07d0-fc08-4742-80c1-a8acb79d6285",
   "metadata": {},
   "outputs": [],
   "source": []
  },
  {
   "cell_type": "markdown",
   "id": "4946f258-8568-4b13-a482-5a1029f2a834",
   "metadata": {},
   "source": [
    "## A Single Population Mean using the Student t Distribution\n",
    "\n",
    "<span style=\"color:yellow\">Use when:</span>\n",
    "* <span style=\"color:yellow\">Population standard deviation is unknown and</span>\n",
    "* <span style=\"color:yellow\">the distribution of the sample mean is approximately normal</span>\n",
    "\n",
    "In practice, we rarely know the population **standard deviation**\n",
    "\n",
    "If you draw a simple random sample of size $n$ from a population that has an approximately normal distribution with mean $\\mu$ and unknown population standard deviation $\\sigma$ and calculate the t-score $t=\\frac{\\bar{x} - \\mu}{\\bigl(\\frac{s}{\\sqrt{n}}\\bigr)}$ ,  then the t-scores follow a `Student's t-distribution` **with n-1 degrees of freedom**. \n",
    "\n",
    "The t-score has the same interpretation as the **z-score**.  It measures how far $\\bar{x}$ is from its mean $\\mu$. <span style=\"color:pink\">_For each sample size $n$, there is a different Student's t-distribution_</span>.\n",
    "\n",
    "`degrees of freedom (df)`: $n-1$\n",
    " \n",
    "**Properties of the Student's t-Distribution**\n",
    "* The graph is $\\sim$ to the standard normal curve.\n",
    "* $\\mu=0$ , the distribution is symmetric about zero.\n",
    "* The tails have more probability than the standard normal distribution because the spread is greater than that of the normal. So the t-distribution will be thicker in the tails and shorter in the center than the standard normal distribution.\n",
    "* The exact shape depends on the degrees of freedom. as the df increases, the graph of the Student's t-distribution becomes more like the graph of the standard normal distribution.\n",
    "* The underlying population of individual observations is assumed to be normally distributed with unknown population mean μ and unknown population standard deviation σ. The size of the underlying population is generally not relevant unless it is very small. If it is bell shaped (normal) then the assumption is met and doesn't need discussion. Random sampling is assumed, but that is a completely separate assumption from normality.\n",
    "\n",
    "The t-distribution tables take as input the: confidence level (column headings) and the degrees of freedom (rows).\n",
    "\n",
    "**The notation for the Student's t-distribution (using $T$ as the random variable) is**:\n",
    "* $T \\sim t_{\\text{df}}$ where $\\text{df}=n-1$\n",
    "* For example, if we have a sample of size $n=20$ items, then we calculate the degrees of freedom as $\\text{df}=n-1=20-1=19$ and we write the distribution as $T\\sim t_{19}$\n",
    "\n",
    "**If the population standard deviation is not known**, the **error bound for a population mean** is:\n",
    "* $EBM = \\bigl(t_{\\frac{a}{2}}\\bigr)\\bigr(\\frac{s}{\\sqrt{n}}\\bigr)$\n",
    "* $t_{\\frac{\\sigma}{2}}$ is the $t=$score with area to the right equal to $\\frac{\\alpha}{2}$\n",
    "* use $\\text{df}=n-1$ degrees of freedom, and\n",
    "* $s = $ sample standard deviation\n",
    "\n",
    "**The format for the confidence interval is**:\n",
    "\n",
    "$(\\bar{x} - EBM, \\bar{x} + EBM)$"
   ]
  },
  {
   "cell_type": "code",
   "execution_count": null,
   "id": "c83ac415-c226-4e00-90a0-12875bde01fc",
   "metadata": {},
   "outputs": [],
   "source": []
  },
  {
   "cell_type": "markdown",
   "id": "702b553a-6138-4f6a-bb49-dea4e0f5f1c0",
   "metadata": {},
   "source": [
    "##### <span style=\"color:orange\">Example 8.8</span>\n",
    "Suppose you do a study of acupuncture to determine how effective it is in relieving pain. You measure sensory rates for 15 subjects with the results given. Use the sample data to construct a 95% confidence interval for the mean sensory rate for the population (assumed normal) from which you took the data.\n",
    "8.6; 9.4; 7.9; 6.8; 8.3; 7.3; 9.2; 9.6; 8.7; 11.4; 10.3; 5.4; 8.1; 5.5; 6.9"
   ]
  },
  {
   "cell_type": "markdown",
   "id": "1d2e4991-ef17-419d-a65f-5f5e54a964ad",
   "metadata": {},
   "source": [
    "So,\n",
    "* $n=15$\n",
    "* Construct: CI = 0.95"
   ]
  },
  {
   "cell_type": "code",
   "execution_count": 11,
   "id": "ddbb1c86-3d62-4f6b-92ab-28ed2c22bffd",
   "metadata": {},
   "outputs": [],
   "source": [
    "data = [8.6, 9.4, 7.9, 6.8, 8.3, 7.3, 9.2, 9.6, 8.7, 11.4, 10.3, 5.4, 8.1, 5.5, 6.9]"
   ]
  },
  {
   "cell_type": "code",
   "execution_count": 12,
   "id": "c7fa3e3a-616c-44a2-9c02-10ad4c66c6e1",
   "metadata": {},
   "outputs": [
    {
     "data": {
      "text/plain": [
       "8.226666666666667"
      ]
     },
     "execution_count": 12,
     "metadata": {},
     "output_type": "execute_result"
    }
   ],
   "source": [
    "sum(data)/len(data)"
   ]
  },
  {
   "cell_type": "code",
   "execution_count": 13,
   "id": "8c5fcace-80fb-4441-bb9e-f4a543784a9e",
   "metadata": {},
   "outputs": [
    {
     "data": {
      "text/plain": [
       "15"
      ]
     },
     "execution_count": 13,
     "metadata": {},
     "output_type": "execute_result"
    }
   ],
   "source": [
    "len(data)"
   ]
  },
  {
   "cell_type": "code",
   "execution_count": 14,
   "id": "51190055-474c-4f02-aae1-34fe4b85b41d",
   "metadata": {},
   "outputs": [
    {
     "data": {
      "text/plain": [
       "1.6722383060978339"
      ]
     },
     "execution_count": 14,
     "metadata": {},
     "output_type": "execute_result"
    }
   ],
   "source": [
    "st.tstd(data)"
   ]
  },
  {
   "cell_type": "markdown",
   "id": "5e800642-f8ac-445e-84cd-1beb17abbf95",
   "metadata": {},
   "source": [
    "$\\therefore$\n",
    "* $\\text{df} = 15 - 1 = 14$\n",
    "* $\\bar{x} = 8.2267$\n",
    "* $s=1.6722$\n",
    "* $\\alpha = 1 - 0.95 = 0.05$\n",
    "* $\\frac{\\alpha}{2}=\\frac{0.05}{2}=0.025$, then $t_{\\frac{\\alpha}{2}}=t_{0.025}$"
   ]
  },
  {
   "cell_type": "code",
   "execution_count": null,
   "id": "5ba8d139-6c88-41a5-b8c6-7310ec6a1447",
   "metadata": {},
   "outputs": [],
   "source": []
  },
  {
   "cell_type": "code",
   "execution_count": 15,
   "id": "4187cdd5-616c-4be0-86a9-b2a9d5a4f8b7",
   "metadata": {},
   "outputs": [
    {
     "data": {
      "text/plain": [
       "2.1447866879169273"
      ]
     },
     "execution_count": 15,
     "metadata": {},
     "output_type": "execute_result"
    }
   ],
   "source": [
    "st.t.ppf(1 - 0.025, df=14)"
   ]
  },
  {
   "cell_type": "markdown",
   "id": "8c8598a8-5b70-4f24-a85e-2dabd7828139",
   "metadata": {},
   "source": [
    "$EBM = \\bigl(t_\\frac{\\alpha}{2}\\bigr)\\bigl(\\frac{s}{\\sqrt{n}}\\bigr)$\n",
    "\n",
    "$EBM = \\bigl(2.14)\\bigl(\\frac{1.6722}{\\sqrt{15}}\\bigr)=0.924$\n",
    "\n",
    "$\\bar{x} - EBM = 8.2264 - 0.9240 = 7.3$\n",
    "\n",
    "$\\bar{x} - EBM = 8.2264 + 0.9240 = 9.15$\n",
    "\n",
    "The 95% confidence interval is (7.30, 9.15).\n",
    "\n",
    "We estimate with 95% confidence that the true population mean sensory rate is between 7.30 and 9.15."
   ]
  },
  {
   "cell_type": "code",
   "execution_count": null,
   "id": "bc3816bd-a5a5-4bee-b9f8-f5e050d9d97b",
   "metadata": {},
   "outputs": [],
   "source": []
  },
  {
   "cell_type": "markdown",
   "id": "5c5f6f72-8cf3-49e5-ac4f-74974db07388",
   "metadata": {},
   "source": [
    "##### <span style=\"color:orange\">Example 8.9</span>\n",
    "The Human Toxome Project (HTP) is working to understand the scope of industrial pollution in the human body. Industrial chemicals may enter the body through pollution or as ingredients in consumer products. In October 2008, the scientists at HTP tested cord blood samples for 20 newborn infants in the United States. The cord blood of the \"In utero/newborn\" group was tested for 430 industrial compounds, pollutants, and other chemicals, including chemicals linked to brain and nervous system toxicity, immune system toxicity, and reproductive toxicity, and fertility problems. There are health concerns about the effects of some chemicals on the brain and nervous system. Table 8.3 shows how many of the targeted chemicals were found in each infant’s cord blood."
   ]
  },
  {
   "cell_type": "code",
   "execution_count": 16,
   "id": "2465e655-a0c5-4b0c-b96b-1b17f7a408e3",
   "metadata": {},
   "outputs": [],
   "source": [
    "data = [79, 145, 147, 160, 116, 100, 159, 151, 156, 126,\n",
    "        137, 83, 156, 94, 121, 144, 123, 114, 139, 99]"
   ]
  },
  {
   "cell_type": "markdown",
   "id": "b2ae388c-b7db-4db9-af73-d1753c2cc21d",
   "metadata": {},
   "source": [
    "Use this sample data to construct a 90% confidence interval for the mean number of targeted industrial chemicals to be found in an in infant’s blood."
   ]
  },
  {
   "cell_type": "code",
   "execution_count": 17,
   "id": "c4887aaa-c280-423e-bb69-cd4ce2d238ab",
   "metadata": {},
   "outputs": [
    {
     "data": {
      "text/plain": [
       "20"
      ]
     },
     "execution_count": 17,
     "metadata": {},
     "output_type": "execute_result"
    }
   ],
   "source": [
    "len(data)"
   ]
  },
  {
   "cell_type": "code",
   "execution_count": 18,
   "id": "45834715-7235-419e-9d9e-6385513665b2",
   "metadata": {},
   "outputs": [
    {
     "data": {
      "text/plain": [
       "127.45"
      ]
     },
     "execution_count": 18,
     "metadata": {},
     "output_type": "execute_result"
    }
   ],
   "source": [
    "sum(data)/len(data)"
   ]
  },
  {
   "cell_type": "code",
   "execution_count": 19,
   "id": "2308a5ed-696c-4a0c-b5a7-b64c9b8d6526",
   "metadata": {},
   "outputs": [
    {
     "data": {
      "text/plain": [
       "25.964500055997508"
      ]
     },
     "execution_count": 19,
     "metadata": {},
     "output_type": "execute_result"
    }
   ],
   "source": [
    "st.tstd(data)"
   ]
  },
  {
   "cell_type": "markdown",
   "id": "829f20a7-a650-4dc8-9e0c-2939be67364f",
   "metadata": {},
   "source": [
    "$\\therefore$\n",
    "* $n=20$\n",
    "* $\\text{df}=20-1=19$\n",
    "* $\\bar{x}=127.45$\n",
    "* $s=25.9645$\n",
    "* $\\text{CL}=0.90$\n",
    "* $\\alpha = 1 - 0.90 = 0.1$\n",
    "* $\\frac{\\alpha}{2}=\\frac{0.1}{2}=0.05$, then $t_{\\frac{\\alpha}{2}}=t_{0.05}$ "
   ]
  },
  {
   "cell_type": "code",
   "execution_count": 20,
   "id": "e256e9cb-b019-4654-8851-14ad3ff479a8",
   "metadata": {},
   "outputs": [
    {
     "data": {
      "text/plain": [
       "1.729132811521367"
      ]
     },
     "execution_count": 20,
     "metadata": {},
     "output_type": "execute_result"
    }
   ],
   "source": [
    "st.t.ppf(1 - 0.05, df=19)"
   ]
  },
  {
   "cell_type": "markdown",
   "id": "2ed29642-a5c2-4e60-b7de-08c201d9acdc",
   "metadata": {},
   "source": [
    "$EBM = \\bigl(t_\\frac{\\alpha}{2}\\bigr)\\bigl(\\frac{s}{\\sqrt{n}}\\bigr)$\n",
    "\n",
    "$EBM = \\bigl(1.729)\\bigl(\\frac{25.96}{\\sqrt{20}}\\bigr)=10.038$\n",
    "\n",
    "$\\bar{x} - EBM = 127.45 - 10.038 = 117.412$\n",
    "\n",
    "$\\bar{x} - EBM = 127.45 + 10.038 = 137.488$\n",
    "\n",
    "The 90% confidence interval is (117.412, 137.488).\n",
    "\n",
    "We estimate with 90% confidence that the mean number of all targeted industrial chemicals found in cord blood in the United States is between 117.412 and 137.488."
   ]
  },
  {
   "cell_type": "code",
   "execution_count": 21,
   "id": "f81abe1a-8882-4c6e-b811-47ceb189e483",
   "metadata": {},
   "outputs": [
    {
     "data": {
      "text/plain": [
       "10.038488420686715"
      ]
     },
     "execution_count": 21,
     "metadata": {},
     "output_type": "execute_result"
    }
   ],
   "source": [
    "1.729*(25.965/math.sqrt(20))"
   ]
  },
  {
   "cell_type": "code",
   "execution_count": 22,
   "id": "26337cd4-c37e-416e-8638-e1a18d5f98e3",
   "metadata": {},
   "outputs": [
    {
     "data": {
      "text/plain": [
       "117.412"
      ]
     },
     "execution_count": 22,
     "metadata": {},
     "output_type": "execute_result"
    }
   ],
   "source": [
    "127.45-10.038"
   ]
  },
  {
   "cell_type": "code",
   "execution_count": null,
   "id": "76652a3a-b12c-4295-8ba4-1ee583377439",
   "metadata": {},
   "outputs": [],
   "source": []
  },
  {
   "cell_type": "markdown",
   "id": "667bb4b2-b483-4bc5-900e-d27a970768a3",
   "metadata": {},
   "source": [
    "## A Population Proportion\n",
    "\n",
    "The procedure to find the confidence interval, the sample size, the **error bound**, and the **confidence level** for a proportion is similar to that for the population mean, but the formulas are different.\n",
    "\n",
    "**How do you know you are dealing with a proportion problem?** First, the underlying distribution is a **binomial distribution**. (There is no mention of a mean or average.)\n",
    "\n",
    "The binomial is a type of distribution that has two possible outcomes\n",
    "\n",
    "If,\n",
    "* $X$ is a binomial radom variable\n",
    "* $n$ is the number of trials\n",
    "* $p$ is the probability of a success\n",
    "* $B$ is a binomial distribution\n",
    "\n",
    "then,\n",
    "* $X\\sim B(n, p)$\n",
    "\n",
    "To form a proportion, take $X$, the ramdom variable for the number of successes and divide it by $n$, the number of trials(or the sample size). The random variable $P^\\prime$ (read \"P prime\") is that proportion.\n",
    "* $P^\\prime = \\frac{X}{n}$\n",
    "\n",
    "**Note**: Sometimes the random variable is denoted as $\\hat{P}$, read \"P hat\")\n",
    "\n",
    "<span style=\"color:yellow\">When $n$ is large and $p$ is not close to zero or one, we can use the **normal distribution** to approximate the binomial.</span>\n",
    "\n",
    "$X\\sim N(np, \\sqrt{nqp})$\n",
    "\n",
    "**$P^\\prime$ follows a normal distribution for proportions:** $\\frac{X}{n}=P^\\prime \\sim \\bigl(\\frac{np}{n}, \\frac{\\sqrt{npq}}{n}\\bigr)$\n",
    "\n",
    "The confidence interval has the form $(p^\\prime - EBP, p^\\prime + EBP)$\n",
    "* EBP: Error bound for the proportion.\n",
    "* $p^\\prime = \\frac{x}{n}$\n",
    "* $p^\\prime =$ the **estimated proportion** of successes ($p^\\prime$ is a **point estimate** for p, the true proportion.)\n",
    "* $x = $ the **number of successes\n",
    "* $n = $ the size of the sample\n",
    "\n",
    "**The error bound for a proportion is**\n",
    "* $EBP = \\bigl(z_{\\frac{\\alpha}{2}} \\bigr)\\bigl(\\sqrt{\\frac{p^\\prime q^\\prime}{n}}\\bigr)$ where $q^\\prime = 1 - p^\\prime$\n",
    "\n",
    "Note: For a mean, when the population standard deviation is known, the appropriate standard deviation that we use is $\\frac{\\sigma}{\\sqrt{n}}$.  For a **proportion**, the appropriate standard deviations is $\\sqrt{\\frac{pq}{n}}$, however, in the **error bound formula** we use $\\sqrt{\\frac{p^\\prime q^\\prime}{n}}$\n",
    "\n",
    "In the error bound formula, the **sample proportions $p^\\prime$ and $q^\\prime$ are estimates of the unknown population proportions $p$ and $q$**.  The estimated proportions $p^\\prime$ and $q^\\prime$ are used because $p$ and $q$ are not known. the sample proportions $p^\\prime$ and $q^\\prime$ are calcualted from the data:\n",
    "* $p^\\prime$ is the estimated proportion of successes\n",
    "* $q^\\prime$ is the estimated proportion of failures\n",
    "\n",
    "<span style=\"color:yellow\">The confidence interval can be used only if the number of successes $np^\\prime$ and the number of failures $nq^\\prime$ are both greater than five.</span>"
   ]
  },
  {
   "cell_type": "code",
   "execution_count": null,
   "id": "1ad814a7-6b0d-480e-a3c4-354d805ee40c",
   "metadata": {},
   "outputs": [],
   "source": []
  },
  {
   "cell_type": "markdown",
   "id": "7d5e813a-36e3-4caa-b452-f34f550a40ec",
   "metadata": {},
   "source": [
    "<span style=\"color:orange\">Example 8.10</span>\n",
    "\n",
    "Suppose that a market research firm is hired to estimate the percent of adults living in a large city who have cell phones. Five hundred randomly selected adult residents in this city are surveyed to determine whether they have cell phones. Of the 500 people surveyed, 421 responded yes - they own cell phones. Using a 95% confidence level, compute a confidence interval estimate for the true proportion of adult residents of this city who have cell phones."
   ]
  },
  {
   "cell_type": "markdown",
   "id": "7d626877-0c6c-44ab-bc9f-4ea92c6d0b5a",
   "metadata": {},
   "source": [
    "So,\n",
    "* This is a proportion problem, because the underlying distribution is a binomial distribution (do they have a cell phone: yes/no)\n",
    "* $\\therefore X\\sim B\\bigl(500, \\frac{421}{500}\\bigr)$\n",
    "\n",
    "To calculate the confidence interval, you must find $p^\\prime$, $q^\\prime$, and EBP\n",
    "* $n=500$\n",
    "* $p^\\prime = \\frac{421}{500}=0.842$ (for yes they have a cell phone)\n",
    "* $q^\\prime = 1-0.842=0.158$\n",
    "* $\\text{CL}=0.95$\n",
    "* $\\alpha = 0.05$\n",
    "* $z_{\\frac{\\alpha}{2}}=z_{0.025}=1.96$\n",
    "* $EBP = (1.96)(\\sqrt{\\frac{0.842*0.158}{500}})=0.032$\n",
    "\n",
    "$\\therefore$\n",
    "* The confidence interval is:\n",
    "    * (0.842 - 0.032, 0.842 + 0.032)\n",
    "    \n",
    "Interpretation: We estimate with 95% confidence that between 81% and 87.4% of all adult residents of this city have cell phones.\n",
    "\n",
    "Explanation of 95% Confidence Level: Ninety-five percent of the confidence intervals constructed in this way would contain the true value for the population proportion of all adult residents of this city who have cell phones."
   ]
  },
  {
   "cell_type": "code",
   "execution_count": 23,
   "id": "af7be10a-373d-4fb9-ace0-978ef5e5d1c8",
   "metadata": {},
   "outputs": [
    {
     "data": {
      "text/plain": [
       "0.842"
      ]
     },
     "execution_count": 23,
     "metadata": {},
     "output_type": "execute_result"
    }
   ],
   "source": [
    "421/500"
   ]
  },
  {
   "cell_type": "code",
   "execution_count": 24,
   "id": "bf8d5ac1-d00e-4b9b-a613-05063ccff611",
   "metadata": {},
   "outputs": [
    {
     "data": {
      "text/plain": [
       "0.025"
      ]
     },
     "execution_count": 24,
     "metadata": {},
     "output_type": "execute_result"
    }
   ],
   "source": [
    "0.05/2"
   ]
  },
  {
   "cell_type": "code",
   "execution_count": 25,
   "id": "5aa17a23-700c-4122-b973-16ffe8a90276",
   "metadata": {},
   "outputs": [
    {
     "data": {
      "text/plain": [
       "1.959963984540054"
      ]
     },
     "execution_count": 25,
     "metadata": {},
     "output_type": "execute_result"
    }
   ],
   "source": [
    "st.norm.ppf(1-0.025, loc=0, scale=1)"
   ]
  },
  {
   "cell_type": "code",
   "execution_count": 26,
   "id": "b7e001b9-ab0d-4623-8ffc-528f5c86bba7",
   "metadata": {},
   "outputs": [
    {
     "data": {
      "text/plain": [
       "0.15800000000000003"
      ]
     },
     "execution_count": 26,
     "metadata": {},
     "output_type": "execute_result"
    }
   ],
   "source": [
    "1-0.842"
   ]
  },
  {
   "cell_type": "code",
   "execution_count": 27,
   "id": "292727d7-77ae-4305-a924-90b5f1e3117b",
   "metadata": {},
   "outputs": [
    {
     "data": {
      "text/plain": [
       "0.031970958621849295"
      ]
     },
     "execution_count": 27,
     "metadata": {},
     "output_type": "execute_result"
    }
   ],
   "source": [
    "1.96*math.sqrt((0.842*0.158)/500)"
   ]
  },
  {
   "cell_type": "code",
   "execution_count": 28,
   "id": "8a49e106-cca3-4ad1-9482-277163a6ad39",
   "metadata": {},
   "outputs": [
    {
     "data": {
      "text/plain": [
       "0.8099999999999999"
      ]
     },
     "execution_count": 28,
     "metadata": {},
     "output_type": "execute_result"
    }
   ],
   "source": [
    "0.842-0.032"
   ]
  },
  {
   "cell_type": "code",
   "execution_count": 29,
   "id": "540702c3-6ebe-45db-89d0-aced6bae3116",
   "metadata": {},
   "outputs": [
    {
     "data": {
      "text/plain": [
       "0.874"
      ]
     },
     "execution_count": 29,
     "metadata": {},
     "output_type": "execute_result"
    }
   ],
   "source": [
    "0.842+0.032"
   ]
  },
  {
   "cell_type": "code",
   "execution_count": null,
   "id": "3b375731-6128-44d4-8fbb-1c66a7fa8fdb",
   "metadata": {},
   "outputs": [],
   "source": []
  },
  {
   "cell_type": "markdown",
   "id": "e54e3c04-aa4b-4c85-b6f3-11d17b18ef97",
   "metadata": {},
   "source": [
    "<span style=\"color:orange\">Example 8.11</span>\n",
    "\n",
    "For a class project, a political science student at a large university wants to estimate the percent of students who are registered voters. He surveys 500 students and finds that 300 are registered voters. Compute a 90% confidence interval for the true percent of students who are registered voters, and interpret the confidence interval."
   ]
  },
  {
   "cell_type": "markdown",
   "id": "1a55d42d-aff1-4f9e-8da0-eeeff7a1599b",
   "metadata": {},
   "source": [
    "So,\n",
    "* This is a proportion problem, because the underlying distribution is a binomial distribution (are they a registered voter: yes/no)\n",
    "* $\\therefore X\\sim B\\bigl(500, \\frac{300}{500}\\bigr)$\n",
    "\n",
    "To calculate the confidence interval, you must find $p^\\prime$, $q^\\prime$, and EBP\n",
    "* $n=500$\n",
    "* $p^\\prime = \\frac{300}{500}=0.6$ (for yes they are a registered voter)\n",
    "* $q^\\prime = 1-0.6=0.4$\n",
    "* $\\text{CL}=0.90$\n",
    "* $\\alpha = 0.1$\n",
    "* $z_{\\frac{\\alpha}{2}}=z_{0.05}=1.645$\n",
    "* $EBP = (1.645)(\\sqrt{\\frac{0.6*0.4}{500}})=0.036$\n",
    "\n",
    "$\\therefore$\n",
    "* The confidence interval is:\n",
    "    * (0.6 - 0.036, 0.6 + 0.036)\n",
    "    \n",
    "The confidence interval for the true binomial population proportion is $(p^\\prime - EBP, p^\\prime + EBP) = (0.564,0.636)$.\n",
    "\n",
    "* Interpretation: We estimate with 90% confidence that the true percent of all students that are registered voters is between 56.4% and 63.6%.\n",
    "* Alternate Wording: We estimate with 90% confidence that between 56.4% and 63.6% of ALL students are registered voters.\n",
    "\n",
    "Explanation of 90% Confidence Level: Ninety percent of all confidence intervals constructed in this way contain the true value for the population percent of students that are registered voters."
   ]
  },
  {
   "cell_type": "code",
   "execution_count": 30,
   "id": "bfdfd918-2d67-43fb-aa82-6056f4439fd9",
   "metadata": {},
   "outputs": [
    {
     "data": {
      "text/plain": [
       "0.6"
      ]
     },
     "execution_count": 30,
     "metadata": {},
     "output_type": "execute_result"
    }
   ],
   "source": [
    "300/500"
   ]
  },
  {
   "cell_type": "code",
   "execution_count": 31,
   "id": "6f205fe6-5422-4a2c-ade3-09af81bcd91f",
   "metadata": {},
   "outputs": [
    {
     "data": {
      "text/plain": [
       "1.6448536269514722"
      ]
     },
     "execution_count": 31,
     "metadata": {},
     "output_type": "execute_result"
    }
   ],
   "source": [
    "st.norm.ppf(1-0.05, loc=0, scale=1)"
   ]
  },
  {
   "cell_type": "code",
   "execution_count": 32,
   "id": "ad7c4a0a-f485-40ba-808c-582b4114a6de",
   "metadata": {},
   "outputs": [
    {
     "data": {
      "text/plain": [
       "0.036040144283839934"
      ]
     },
     "execution_count": 32,
     "metadata": {},
     "output_type": "execute_result"
    }
   ],
   "source": [
    "1.645*math.sqrt(((.6*.4)/500))"
   ]
  },
  {
   "cell_type": "code",
   "execution_count": 33,
   "id": "5485965b-e963-4261-bad2-1d8e1b65c600",
   "metadata": {},
   "outputs": [
    {
     "data": {
      "text/plain": [
       "(0.564, 0.636)"
      ]
     },
     "execution_count": 33,
     "metadata": {},
     "output_type": "execute_result"
    }
   ],
   "source": [
    "(0.6 - 0.036, 0.6 + 0.036)"
   ]
  },
  {
   "cell_type": "code",
   "execution_count": null,
   "id": "68a8a2b7-fa61-4810-a2c5-3ddda5f2dcce",
   "metadata": {},
   "outputs": [],
   "source": []
  },
  {
   "cell_type": "markdown",
   "id": "c7ace1eb-b641-40b9-ad74-e4b97e4a935f",
   "metadata": {},
   "source": [
    "### \"Plus Four\" Confidence Interval for $p$\n",
    "There is a certain amount of error introduced into the process of calculating a confidence interval for a proportion. Because we do not know the true proportion for the population, we are forced to use point estimates to calculate the appropriate standard deviation of the sampling distribution. Studies have shown that the resulting estimation of the standard deviation can be flawed.\n",
    "\n",
    "Fortunately, there is a simple adjustment that allows us to produce more accurate confidence intervals. We simply pretend that we have four additional observations. Two of these observations are successes and two are failures. The new sample size, then, is $n + 4$, and the new count of successes is $x + 2$.\n",
    "\n",
    "<span style=\"color:yellow\">Computer studies have demonstrated the effectiveness of this method. It should be used when the confidence level desired is at least 90% and the sample size is at least ten.</span>"
   ]
  },
  {
   "cell_type": "markdown",
   "id": "517f8e30-1c8e-44bd-8b52-e9cacdb3d0dd",
   "metadata": {},
   "source": [
    "<span style=\"color:orange\">Example 8.12</span>\n",
    "\n",
    "A random sample of 25 statistics students was asked: “Have you smoked a cigarette in the past week?” Six students reported smoking within the past week. Use the “plus-four” method to find a 95% confidence interval for the true proportion of statistics students who smoke."
   ]
  },
  {
   "cell_type": "markdown",
   "id": "7a5a3310-db77-4d5d-8586-c5c971d9ed22",
   "metadata": {},
   "source": [
    "So,\n",
    "* This is a proportion problem, because the underlying distribution is a binomial distribution (have they smoked a cigarette in the past week: yes/no)\n",
    "* $\\therefore X\\sim B\\bigl(29, \\frac{8}{29}\\bigr)$\n",
    "\n",
    "To calculate the confidence interval, you must find $p^\\prime$, $q^\\prime$, and EBP\n",
    "* $n=25$\n",
    "    * $n+4=29$\n",
    "* $p^\\prime = \\frac{8}{29}=0.276$ (for yes they smoked)\n",
    "* $q^\\prime = 1-0.276=0.724$\n",
    "* $\\text{CL}=0.95$\n",
    "* $\\alpha = 0.05$\n",
    "* $z_{\\frac{\\alpha}{2}}=z_{0.025}=1.96$\n",
    "* $EBP = (1.96)(\\sqrt{\\frac{0.276*0.724}{29}})=0.163$\n",
    "\n",
    "$\\therefore$\n",
    "* The confidence interval is:\n",
    "    * (0.276 - 0.163, 0.276 + 0.163)\n",
    "    \n",
    "The confidence interval for the true binomial population proportion is $(p^\\prime - EBP, p^\\prime + EBP) = (0.113,0.439)$.\n",
    "\n",
    "We are 95% confident that the true proportion of all statistics students who smoke cigarettes is between 0.113 and 0.439."
   ]
  },
  {
   "cell_type": "code",
   "execution_count": 34,
   "id": "6793ee37-307d-4075-a20c-50febd3e7e7b",
   "metadata": {},
   "outputs": [
    {
     "data": {
      "text/plain": [
       "0.27586206896551724"
      ]
     },
     "execution_count": 34,
     "metadata": {},
     "output_type": "execute_result"
    }
   ],
   "source": [
    "8/29"
   ]
  },
  {
   "cell_type": "code",
   "execution_count": 35,
   "id": "ed6b9667-700d-458c-bf04-223684a5be2e",
   "metadata": {},
   "outputs": [
    {
     "data": {
      "text/plain": [
       "0.06896551724137931"
      ]
     },
     "execution_count": 35,
     "metadata": {},
     "output_type": "execute_result"
    }
   ],
   "source": [
    "2/29"
   ]
  },
  {
   "cell_type": "code",
   "execution_count": 36,
   "id": "132e56ba-e766-43d1-b4dc-7d9ba5330bd6",
   "metadata": {},
   "outputs": [
    {
     "data": {
      "text/plain": [
       "0.724"
      ]
     },
     "execution_count": 36,
     "metadata": {},
     "output_type": "execute_result"
    }
   ],
   "source": [
    "1-0.276"
   ]
  },
  {
   "cell_type": "code",
   "execution_count": 37,
   "id": "389c72cc-b6b7-469a-8280-87f80fd68c63",
   "metadata": {},
   "outputs": [
    {
     "data": {
      "text/plain": [
       "0.025"
      ]
     },
     "execution_count": 37,
     "metadata": {},
     "output_type": "execute_result"
    }
   ],
   "source": [
    ".05/2"
   ]
  },
  {
   "cell_type": "code",
   "execution_count": 38,
   "id": "8d7b3e9d-3979-4bd2-ba1a-d03ea1a7abbe",
   "metadata": {},
   "outputs": [
    {
     "data": {
      "text/plain": [
       "1.959963984540054"
      ]
     },
     "execution_count": 38,
     "metadata": {},
     "output_type": "execute_result"
    }
   ],
   "source": [
    "st.norm.ppf(1-0.025, loc=0, scale=1)"
   ]
  },
  {
   "cell_type": "code",
   "execution_count": 39,
   "id": "6fe2638e-2f1a-4646-ab1b-03aa747011a2",
   "metadata": {},
   "outputs": [
    {
     "data": {
      "text/plain": [
       "0.16269750632851518"
      ]
     },
     "execution_count": 39,
     "metadata": {},
     "output_type": "execute_result"
    }
   ],
   "source": [
    "1.96*math.sqrt((.276*0.724)/29)"
   ]
  },
  {
   "cell_type": "code",
   "execution_count": 40,
   "id": "126689c0-3964-495b-9385-17897887dc2e",
   "metadata": {},
   "outputs": [
    {
     "data": {
      "text/plain": [
       "(0.11300000000000002, 0.43900000000000006)"
      ]
     },
     "execution_count": 40,
     "metadata": {},
     "output_type": "execute_result"
    }
   ],
   "source": [
    "(0.276 - 0.163, 0.276 + 0.163)"
   ]
  },
  {
   "cell_type": "code",
   "execution_count": null,
   "id": "67d32706-2d27-4d2e-bcf3-f71c1f8979af",
   "metadata": {},
   "outputs": [],
   "source": []
  },
  {
   "cell_type": "markdown",
   "id": "2089a73f-d671-4c8c-968c-03c7d1eef864",
   "metadata": {},
   "source": [
    "<span style=\"color:orange\">Example 8.13</span>\n",
    "\n",
    "The Berkman Center for Internet & Society at Harvard recently conducted a study analyzing the privacy management habits of teen internet users. In a group of 50 teens, 13 reported having more than 500 friends on Facebook. Use the “plus four” method to find a 90% confidence interval for the true proportion of teens who would report having more than 500 Facebook friends."
   ]
  },
  {
   "cell_type": "markdown",
   "id": "2bd9a732-34ff-4e91-b165-1be7ab98068c",
   "metadata": {},
   "source": [
    "So,\n",
    "* This is a proportion problem, because the underlying distribution is a binomial distribution (do they have more than 500 firends on facebook: yes/no)\n",
    "* $\\therefore X\\sim B(54, \\frac{15}{54})$\n",
    "* $n = 50$\n",
    "    * $n+4 = 54$\n",
    "* $p^\\prime = \\frac{15}{54} = 0.278$ (percent said they have > 500 friends on facebook)\n",
    "* $q^\\prime = 1 - 0.278 = 0.722$\n",
    "* $\\text{CL} = 0.90$\n",
    "* $\\alpha = 0.10$\n",
    "* $z_{\\frac{\\alpha}{2}}=z_{0.05}= 0.835$\n",
    "* $EBP=(1.645)(\\sqrt{\\frac{0.278*0.722}{54}}=0.100$\n",
    "\n",
    "$\\therefore$\n",
    "* The confidence interval is:\n",
    "    * (0.278 - 0.100, 0.278 + 0.100)\n",
    "    * (0.178, 0.378)\n",
    "\n",
    "We are 90% confident that between 17.8% and 37.8% of all teens would report having more than 500 friends on Facebook."
   ]
  },
  {
   "cell_type": "code",
   "execution_count": 41,
   "id": "28bb732a-d73b-4f1d-9785-6a3fa0425882",
   "metadata": {},
   "outputs": [
    {
     "data": {
      "text/plain": [
       "0.2777777777777778"
      ]
     },
     "execution_count": 41,
     "metadata": {},
     "output_type": "execute_result"
    }
   ],
   "source": [
    "15/54"
   ]
  },
  {
   "cell_type": "code",
   "execution_count": 42,
   "id": "456cc869-6a17-4228-ae2a-652ad2566ece",
   "metadata": {},
   "outputs": [
    {
     "data": {
      "text/plain": [
       "0.722"
      ]
     },
     "execution_count": 42,
     "metadata": {},
     "output_type": "execute_result"
    }
   ],
   "source": [
    "1-0.278"
   ]
  },
  {
   "cell_type": "code",
   "execution_count": 43,
   "id": "c610ef4e-0c53-4a17-8167-4ef82d55ae44",
   "metadata": {},
   "outputs": [
    {
     "data": {
      "text/plain": [
       "0.025"
      ]
     },
     "execution_count": 43,
     "metadata": {},
     "output_type": "execute_result"
    }
   ],
   "source": [
    "0.05/2"
   ]
  },
  {
   "cell_type": "code",
   "execution_count": 44,
   "id": "2cb3cfdc-ccc7-4747-b834-b12e0d3edfa0",
   "metadata": {},
   "outputs": [
    {
     "data": {
      "text/plain": [
       "1.6448536269514722"
      ]
     },
     "execution_count": 44,
     "metadata": {},
     "output_type": "execute_result"
    }
   ],
   "source": [
    "st.norm.ppf(1 - 0.05, loc=0, scale=1)"
   ]
  },
  {
   "cell_type": "code",
   "execution_count": 45,
   "id": "612d7462-2d08-44cb-a556-692a6ffcc4b1",
   "metadata": {},
   "outputs": [
    {
     "data": {
      "text/plain": [
       "0.10025446917996003"
      ]
     },
     "execution_count": 45,
     "metadata": {},
     "output_type": "execute_result"
    }
   ],
   "source": [
    "1.645*(math.sqrt((0.2778*0.722)/54))"
   ]
  },
  {
   "cell_type": "code",
   "execution_count": 46,
   "id": "0ff44d57-8023-4fe7-a74d-441e5497a97a",
   "metadata": {},
   "outputs": [
    {
     "data": {
      "text/plain": [
       "(0.17800000000000002, 0.378)"
      ]
     },
     "execution_count": 46,
     "metadata": {},
     "output_type": "execute_result"
    }
   ],
   "source": [
    "(0.278 - 0.100, 0.278 + 0.100)"
   ]
  },
  {
   "cell_type": "code",
   "execution_count": null,
   "id": "db18cfae-b045-4eee-bb42-7af849581f8e",
   "metadata": {},
   "outputs": [],
   "source": []
  },
  {
   "cell_type": "markdown",
   "id": "a4372eaa-45bf-406a-8853-e1cb8c304c03",
   "metadata": {},
   "source": [
    "### Calculating the Sample Size $n$\n",
    "If researchers desire a specific margin of error, then they can use the error bound formula to calculate the required sample size.\n",
    "\n",
    "The error bound formula for a population proportion is:\n",
    "* $EBP=\\bigl(z_{\\frac{\\alpha}{2}}\\bigr) \\bigl(\\sqrt{\\frac{p^\\prime q^\\prime}{n}}\\bigr)$\n",
    "* Soving for $n$ gives you an equation for the sample size.\n",
    "* $n=\\frac{\\bigl(z_{\\frac{a}{2}}\\bigr)^2 (p^\\prime q^\\prime)}{{EBP}^2}$"
   ]
  },
  {
   "cell_type": "code",
   "execution_count": null,
   "id": "b32f3b50-a131-408c-b454-6925cc66dc42",
   "metadata": {},
   "outputs": [],
   "source": []
  },
  {
   "cell_type": "markdown",
   "id": "e74c96e7-2461-4e56-aee7-b222d280cbd4",
   "metadata": {},
   "source": [
    "<span style=\"color:orange\">Example 8.14</span>\n",
    "\n",
    "Suppose a mobile phone company wants to determine the current percentage of customers aged 50+ who use text messaging on their cell phones. How many customers aged 50+ should the company survey in order to be 90% confident that the estimated (sample) proportion is within three percentage points of the true population proportion of customers aged 50+ who use text messaging on their cell phones."
   ]
  },
  {
   "cell_type": "markdown",
   "id": "60b2b97f-5ff2-4ecc-b9e7-0d23e853119e",
   "metadata": {},
   "source": [
    "So,\n",
    "* $n = $ ?\n",
    "* $\\text{CL} = 0.90$\n",
    "* $\\alpha = 0.1$\n",
    "* $z_{\\frac{\\alpha}{2}}=z_{\\frac{0.1}{2}}=z_{0.05}=1.645$\n",
    "* $EBP = 0.03$ (from the problem statement)"
   ]
  },
  {
   "cell_type": "markdown",
   "id": "23655b60-86e5-45ff-b015-1b53e28f3a94",
   "metadata": {},
   "source": [
    "> However, in order to find n, we need to know the estimated (sample) proportion p′. Remember that q′ = 1 – p′. But, we do not know p′ yet. Since we multiply p′ and q′ together, we make them both equal to 0.5 because p′q′ = (0.5)(0.5) = 0.25 results in the largest possible product. (Try other products: (0.6)(0.4) = 0.24; (0.3)(0.7) = 0.21; (0.2)(0.8) = 0.16 and so on). The largest possible product gives us the largest n. This gives us a large enough sample so that we can be 90% confident that we are within three percentage points of the true population proportion. To calculate the sample size n, use the formula and make the substitutions."
   ]
  },
  {
   "cell_type": "markdown",
   "id": "80cc7565-2179-4a61-b399-fe270084f069",
   "metadata": {},
   "source": [
    "* $n = \\frac{z^2 p^\\prime q^\\prime}{{EBP}^2}$ gives $n=\\frac{{1.645}^2 (0.5)(0.5)}{{0.03}^2}=751.7$"
   ]
  },
  {
   "cell_type": "markdown",
   "id": "800ac30f-aa0c-4a5a-8861-94fd337be008",
   "metadata": {},
   "source": [
    "Round the answer to the next higher value. The sample size should be 752 cell phone customers aged 50+ in order to be 90% confident that the estimated (sample) proportion is within three percentage points of the true population proportion of all customers aged 50+ who use text messaging on their cell phones."
   ]
  },
  {
   "cell_type": "code",
   "execution_count": 47,
   "id": "b7592d47-041d-45ed-aad9-e3e8d4af8e30",
   "metadata": {},
   "outputs": [
    {
     "data": {
      "text/plain": [
       "1.6448536269514722"
      ]
     },
     "execution_count": 47,
     "metadata": {},
     "output_type": "execute_result"
    }
   ],
   "source": [
    "st.norm.ppf(1-0.05, loc=0, scale=1)"
   ]
  }
 ],
 "metadata": {
  "kernelspec": {
   "display_name": "Python 3",
   "language": "python",
   "name": "python3"
  },
  "language_info": {
   "codemirror_mode": {
    "name": "ipython",
    "version": 3
   },
   "file_extension": ".py",
   "mimetype": "text/x-python",
   "name": "python",
   "nbconvert_exporter": "python",
   "pygments_lexer": "ipython3",
   "version": "3.8.8"
  }
 },
 "nbformat": 4,
 "nbformat_minor": 5
}
