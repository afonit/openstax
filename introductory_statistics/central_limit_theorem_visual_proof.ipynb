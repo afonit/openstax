{
 "cells": [
  {
   "cell_type": "markdown",
   "metadata": {},
   "source": [
    "# Example usage of the Central Limit Theorem \n",
    "Link to the book example: https://cnx.org/contents/tWu56V64@35.8:Mjy3YF-Z@20/7-2-Using-the-Central-Limit-Theorem#eip-id1170498321883\n",
    "\n",
    ">The law of large numbers says that if you take samples of larger and larger size from any population, then the mean of the sampling distribution, μ x – tends to get closer and closer to the true population mean, μ. From the Central Limit Theorem, we know that as n gets larger and larger, the sample means follow a normal distribution. The larger n gets, the smaller the standard deviation of the sampling distribution gets.\n",
    "\n",
    "1. The probability density function of the sampling distribution of means is normally distributed regardless of the underlying distribution of the population observations\n",
    "2. Standard deviation of the sampling distribution decreases as the size of the samples that were used to calculate the means for the sampling distribution increases.\n",
    "\n",
    "If you go down tot he bottom you will see the sample of means makes a normal distribution (as seen in the bottom chart) even though the probability of each of the numbers is relatively the same (as seen in the top chart)"
   ]
  },
  {
   "cell_type": "code",
   "execution_count": null,
   "metadata": {},
   "outputs": [],
   "source": [
    "import altair as alt\n",
    "import pandas as pd\n",
    "import random\n",
    "import ipywidgets as widgets\n",
    "from ipywidgets import interact\n",
    "\n",
    "alt.themes.enable('opaque')"
   ]
  },
  {
   "cell_type": "code",
   "execution_count": null,
   "metadata": {},
   "outputs": [],
   "source": [
    "data = [random.randint(0,100) for x in range(1000000)]"
   ]
  },
  {
   "cell_type": "code",
   "execution_count": null,
   "metadata": {},
   "outputs": [],
   "source": [
    "df = pd.DataFrame(data=data, columns=['values'])"
   ]
  },
  {
   "cell_type": "code",
   "execution_count": null,
   "metadata": {},
   "outputs": [],
   "source": [
    "df_done = df['values'].value_counts().to_frame().reset_index().sort_values('index')"
   ]
  },
  {
   "cell_type": "code",
   "execution_count": null,
   "metadata": {},
   "outputs": [],
   "source": [
    "df_done.head()"
   ]
  },
  {
   "cell_type": "code",
   "execution_count": null,
   "metadata": {},
   "outputs": [],
   "source": [
    "alt.Chart(df_done).mark_bar().encode(\n",
    "    x='index:O',\n",
    "    y='values:Q').properties(title=\"The counts are relatively flat since the probability of any number occuring at random is about the same\")"
   ]
  },
  {
   "cell_type": "markdown",
   "metadata": {},
   "source": [
    "Just looking at what a sample of the whole population I built looks like"
   ]
  },
  {
   "cell_type": "code",
   "execution_count": null,
   "metadata": {},
   "outputs": [],
   "source": [
    "def sample_it(num_samples):\n",
    "    the_data = df.sample(n=num_samples)['values'].value_counts().to_frame().reset_index().sort_values('index')\n",
    "    the_chart = alt.Chart(the_data).mark_bar().encode(\n",
    "                    x='index:O',\n",
    "                    y='values:Q'\n",
    "                    )\n",
    "    return the_chart\n",
    "\n",
    "interact(sample_it, num_samples=widgets.IntSlider(value=300, min=10, max=500000));"
   ]
  },
  {
   "cell_type": "markdown",
   "metadata": {},
   "source": [
    "Below is the aggregated samples plotted to show the normal distribution that results according to the Central Limit Theorem.\n",
    "\n",
    "_Note_: It is taking lots of samples so it will take about 30 seconds to run"
   ]
  },
  {
   "cell_type": "code",
   "execution_count": null,
   "metadata": {},
   "outputs": [],
   "source": [
    "def sample_it(rounding, samples_within_sample, total_samples):\n",
    "    the_data = pd.DataFrame([df.sample(n=samples_within_sample).mean()[0] for x in range(total_samples)], columns=['values'])['values'].round(rounding).value_counts().to_frame().reset_index().sort_values('index') \n",
    "    bar_chart = alt.Chart(the_data).mark_bar().encode(x='index:O',y='values:Q')\n",
    "    line_chart = alt.Chart(the_data).mark_line(interpolate=\"basis\", color='orange').encode(x='index:O', y='values:Q')\n",
    "    return bar_chart+line_chart\n",
    "\n",
    "interact(sample_it,\n",
    "         rounding=widgets.Dropdown(value=0, options=[0,1,2]),\n",
    "         samples_within_sample=widgets.IntSlider(value=300, min=10, max=500000, continuous_update=False),\n",
    "         total_samples=widgets.IntSlider(value=1539, min=10, max=5000, continuous_update=False)\n",
    "         );"
   ]
  },
  {
   "cell_type": "code",
   "execution_count": null,
   "metadata": {},
   "outputs": [],
   "source": []
  }
 ],
 "metadata": {
  "kernelspec": {
   "display_name": "Python 3",
   "language": "python",
   "name": "python3"
  },
  "language_info": {
   "codemirror_mode": {
    "name": "ipython",
    "version": 3
   },
   "file_extension": ".py",
   "mimetype": "text/x-python",
   "name": "python",
   "nbconvert_exporter": "python",
   "pygments_lexer": "ipython3",
   "version": "3.8.8"
  }
 },
 "nbformat": 4,
 "nbformat_minor": 4
}
