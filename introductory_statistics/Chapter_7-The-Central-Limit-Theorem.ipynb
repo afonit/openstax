{
 "cells": [
  {
   "cell_type": "markdown",
   "metadata": {
    "jupyter": {
     "source_hidden": true
    },
    "tags": []
   },
   "source": [
    "* X = set of population eleements\n",
    "* x = set of sample elements\n",
    "* N = population size\n",
    "* n = sample size\n",
    "* Greek letters refer to population attributes (usually a capital letter)\n",
    "    * $\\mu$ = population mean\n",
    "    * $\\sigma$ = standard deviation of population\n",
    "* Roman letters refer to sample attributes (usually a lower-case letter)\n",
    "    * $\\bar{x}$ = sample mean\n",
    "    * s = standard deviation of a sample"
   ]
  },
  {
   "cell_type": "code",
   "execution_count": null,
   "metadata": {},
   "outputs": [],
   "source": []
  },
  {
   "cell_type": "markdown",
   "metadata": {},
   "source": [
    "# Chapter 7: The Central Limit Theorem\n",
    "There are two alternative forms of the theorem, and both alternatives are concerned with drawing finite samples size n from a population with a known mean, μ, and a known standard deviation, σ\n",
    "* The first alternative says that if we collect samples of size n with a \"large enough $n$,\" calculate each sample's `mean`, and create a histogram of those means, then the resulting histogram will tend to have an approximate normal bell shape.\n",
    "* The second alternative says that if we again collect samples of size n that are \"large enough,\" calculate the `sum` of each sample and create a histogram, then the resulting histogram will again tend to have a normal bell-shape.\n",
    "> (the sample size should be at least **30** or the data should come from a normal distribution)."
   ]
  },
  {
   "cell_type": "code",
   "execution_count": null,
   "metadata": {},
   "outputs": [],
   "source": []
  },
  {
   "cell_type": "code",
   "execution_count": null,
   "metadata": {},
   "outputs": [],
   "source": []
  },
  {
   "cell_type": "markdown",
   "metadata": {},
   "source": [
    "$X \\sim N(5,6)$ is read as:  $X$ is a noramally distributed random variable with mean = 5 and standard deviation = 6."
   ]
  },
  {
   "cell_type": "code",
   "execution_count": null,
   "metadata": {},
   "outputs": [],
   "source": []
  },
  {
   "cell_type": "markdown",
   "metadata": {},
   "source": [
    "#### Z-Scores\n",
    "<span style='color:green'>If X is a normally distributed random variable and $X\\sim N(\\mu, \\sigma)$, then the z-score is</span>:\n",
    "$$z = \\frac{x-\\mu}{\\sigma}$$\n",
    "\n",
    "In statistics, a `z-score` tells us `how many standard deviations away a value is from the mean`. We use the following formula to calculate a z-score:\n",
    "\n",
    "$z = \\frac{(X-\\mu)}{\\sigma}$\n",
    "\n",
    "where:\n",
    "* X is a single raw data value\n",
    "* μ is the population mean\n",
    "* σ is the population standard deviation"
   ]
  },
  {
   "cell_type": "code",
   "execution_count": 1,
   "metadata": {},
   "outputs": [],
   "source": [
    "from scipy.stats import zscore\n",
    "import math\n",
    "\n",
    "import ipywidgets as widgets\n",
    "from ipywidgets import interact"
   ]
  },
  {
   "cell_type": "code",
   "execution_count": 2,
   "metadata": {},
   "outputs": [
    {
     "data": {
      "text/plain": [
       "array([nan])"
      ]
     },
     "execution_count": 2,
     "metadata": {},
     "output_type": "execute_result"
    }
   ],
   "source": [
    "zscore(a=[0.4])"
   ]
  },
  {
   "cell_type": "code",
   "execution_count": 3,
   "metadata": {},
   "outputs": [],
   "source": [
    "import scipy.stats as st"
   ]
  },
  {
   "cell_type": "code",
   "execution_count": 4,
   "metadata": {},
   "outputs": [
    {
     "data": {
      "text/plain": [
       "-0.2533471031357997"
      ]
     },
     "execution_count": 4,
     "metadata": {},
     "output_type": "execute_result"
    }
   ],
   "source": [
    "st.norm.ppf(0.4)"
   ]
  },
  {
   "cell_type": "code",
   "execution_count": 5,
   "metadata": {},
   "outputs": [
    {
     "data": {
      "text/plain": [
       "0.6554217416103242"
      ]
     },
     "execution_count": 5,
     "metadata": {},
     "output_type": "execute_result"
    }
   ],
   "source": [
    "st.norm.cdf(0.4)"
   ]
  },
  {
   "cell_type": "code",
   "execution_count": 6,
   "metadata": {},
   "outputs": [
    {
     "data": {
      "text/plain": [
       "0.3445782583896758"
      ]
     },
     "execution_count": 6,
     "metadata": {},
     "output_type": "execute_result"
    }
   ],
   "source": [
    "1 - st.norm.cdf(0.4)"
   ]
  },
  {
   "cell_type": "code",
   "execution_count": 7,
   "metadata": {},
   "outputs": [
    {
     "data": {
      "text/plain": [
       "4.4"
      ]
     },
     "execution_count": 7,
     "metadata": {},
     "output_type": "execute_result"
    }
   ],
   "source": [
    "(85-63)/5"
   ]
  },
  {
   "cell_type": "code",
   "execution_count": 8,
   "metadata": {},
   "outputs": [
    {
     "data": {
      "text/plain": [
       "0.9999945874560923"
      ]
     },
     "execution_count": 8,
     "metadata": {},
     "output_type": "execute_result"
    }
   ],
   "source": [
    "st.norm.cdf(4.4)"
   ]
  },
  {
   "cell_type": "code",
   "execution_count": 9,
   "metadata": {},
   "outputs": [
    {
     "data": {
      "text/plain": [
       "0.4"
      ]
     },
     "execution_count": 9,
     "metadata": {},
     "output_type": "execute_result"
    }
   ],
   "source": [
    "2/5"
   ]
  },
  {
   "cell_type": "code",
   "execution_count": 10,
   "metadata": {},
   "outputs": [
    {
     "data": {
      "text/plain": [
       "0.3445782583896758"
      ]
     },
     "execution_count": 10,
     "metadata": {},
     "output_type": "execute_result"
    }
   ],
   "source": [
    "1 - st.norm.cdf(0.4)"
   ]
  },
  {
   "cell_type": "code",
   "execution_count": 11,
   "metadata": {},
   "outputs": [
    {
     "data": {
      "text/plain": [
       "4.4"
      ]
     },
     "execution_count": 11,
     "metadata": {},
     "output_type": "execute_result"
    }
   ],
   "source": [
    "(85-63)/5"
   ]
  },
  {
   "cell_type": "code",
   "execution_count": 12,
   "metadata": {},
   "outputs": [
    {
     "data": {
      "text/plain": [
       "0.9999945874560923"
      ]
     },
     "execution_count": 12,
     "metadata": {},
     "output_type": "execute_result"
    }
   ],
   "source": [
    "st.norm.cdf(4.4)"
   ]
  },
  {
   "cell_type": "code",
   "execution_count": 13,
   "metadata": {},
   "outputs": [
    {
     "data": {
      "text/plain": [
       "69.407757827723"
      ]
     },
     "execution_count": 13,
     "metadata": {},
     "output_type": "execute_result"
    }
   ],
   "source": [
    "st.norm.ppf(0.9, loc=63, scale=5)"
   ]
  },
  {
   "cell_type": "code",
   "execution_count": 14,
   "metadata": {},
   "outputs": [
    {
     "data": {
      "text/plain": [
       "65.6220025635402"
      ]
     },
     "execution_count": 14,
     "metadata": {},
     "output_type": "execute_result"
    }
   ],
   "source": [
    "st.norm.ppf(0.7, loc=63, scale=5)"
   ]
  },
  {
   "cell_type": "markdown",
   "metadata": {},
   "source": [
    "#### <span style=\"color:orange\">EXAMPLE 6.9</span>"
   ]
  },
  {
   "cell_type": "code",
   "execution_count": 15,
   "metadata": {},
   "outputs": [
    {
     "name": "stdout",
     "output_type": "stream",
     "text": [
      "-0.3999999999999999\n"
     ]
    }
   ],
   "source": [
    "z1 = (1.8-2)/.5\n",
    "print(z1)"
   ]
  },
  {
   "cell_type": "code",
   "execution_count": 16,
   "metadata": {},
   "outputs": [
    {
     "name": "stdout",
     "output_type": "stream",
     "text": [
      "1.5\n"
     ]
    }
   ],
   "source": [
    "z2 = (2.75 - 2)/0.5\n",
    "print(z2)"
   ]
  },
  {
   "cell_type": "code",
   "execution_count": 17,
   "metadata": {},
   "outputs": [
    {
     "data": {
      "text/plain": [
       "0.3445782583896759"
      ]
     },
     "execution_count": 17,
     "metadata": {},
     "output_type": "execute_result"
    }
   ],
   "source": [
    "st.norm.cdf(z1)"
   ]
  },
  {
   "cell_type": "code",
   "execution_count": 18,
   "metadata": {},
   "outputs": [
    {
     "data": {
      "text/plain": [
       "0.9331927987311419"
      ]
     },
     "execution_count": 18,
     "metadata": {},
     "output_type": "execute_result"
    }
   ],
   "source": [
    "st.norm.cdf(z2)"
   ]
  },
  {
   "cell_type": "code",
   "execution_count": 19,
   "metadata": {},
   "outputs": [
    {
     "data": {
      "text/plain": [
       "0.588614540341466"
      ]
     },
     "execution_count": 19,
     "metadata": {},
     "output_type": "execute_result"
    }
   ],
   "source": [
    "st.norm.cdf(z2) - st.norm.cdf(z1)"
   ]
  },
  {
   "cell_type": "code",
   "execution_count": 20,
   "metadata": {},
   "outputs": [
    {
     "data": {
      "text/plain": [
       "1.6627551249019592"
      ]
     },
     "execution_count": 20,
     "metadata": {},
     "output_type": "execute_result"
    }
   ],
   "source": [
    "st.norm.ppf(.25, loc=2, scale=0.5)"
   ]
  },
  {
   "cell_type": "code",
   "execution_count": null,
   "metadata": {},
   "outputs": [],
   "source": []
  },
  {
   "cell_type": "code",
   "execution_count": null,
   "metadata": {},
   "outputs": [],
   "source": []
  },
  {
   "cell_type": "markdown",
   "metadata": {},
   "source": [
    "$\\mu = 36.9 \\text{ years}$\n",
    "\n",
    "$\\sigma = 13.9 \\text{ years}$\n",
    "\n"
   ]
  },
  {
   "cell_type": "code",
   "execution_count": 21,
   "metadata": {},
   "outputs": [
    {
     "data": {
      "text/plain": [
       "-0.9999999999999999"
      ]
     },
     "execution_count": 21,
     "metadata": {},
     "output_type": "execute_result"
    }
   ],
   "source": [
    "(23 - 36.9)/13.9"
   ]
  },
  {
   "cell_type": "code",
   "execution_count": 22,
   "metadata": {},
   "outputs": [
    {
     "data": {
      "text/plain": [
       "2.0000000000000004"
      ]
     },
     "execution_count": 22,
     "metadata": {},
     "output_type": "execute_result"
    }
   ],
   "source": [
    "(64.7 -36.9)/13.9"
   ]
  },
  {
   "cell_type": "code",
   "execution_count": 23,
   "metadata": {},
   "outputs": [
    {
     "data": {
      "text/plain": [
       "0.8185946141203637"
      ]
     },
     "execution_count": 23,
     "metadata": {},
     "output_type": "execute_result"
    }
   ],
   "source": [
    "st.norm.cdf((64.7 - 36.9)/13.9) - st.norm.cdf((23 - 36.9)/13.9)"
   ]
  },
  {
   "cell_type": "code",
   "execution_count": 24,
   "metadata": {},
   "outputs": [
    {
     "data": {
      "text/plain": [
       "0.8413447460685429"
      ]
     },
     "execution_count": 24,
     "metadata": {},
     "output_type": "execute_result"
    }
   ],
   "source": [
    "st.norm.cdf((50.8 - 36.9)/13.9)"
   ]
  },
  {
   "cell_type": "code",
   "execution_count": 25,
   "metadata": {},
   "outputs": [
    {
     "data": {
      "text/plain": [
       "0.8413447218714694"
      ]
     },
     "execution_count": 25,
     "metadata": {},
     "output_type": "execute_result"
    }
   ],
   "source": [
    "1 -  st.norm.cdf(-0.9999999)"
   ]
  },
  {
   "cell_type": "code",
   "execution_count": 26,
   "metadata": {},
   "outputs": [
    {
     "data": {
      "text/plain": [
       "48.59853514666351"
      ]
     },
     "execution_count": 26,
     "metadata": {},
     "output_type": "execute_result"
    }
   ],
   "source": [
    "st.norm.ppf(.8, loc=36.9, scale=13.9)"
   ]
  },
  {
   "cell_type": "code",
   "execution_count": 27,
   "metadata": {},
   "outputs": [
    {
     "data": {
      "text/plain": [
       "46.275407527725534"
      ]
     },
     "execution_count": 27,
     "metadata": {},
     "output_type": "execute_result"
    }
   ],
   "source": [
    "st.norm.ppf(.75, loc=36.9, scale=13.9)"
   ]
  },
  {
   "cell_type": "code",
   "execution_count": 28,
   "metadata": {},
   "outputs": [
    {
     "data": {
      "text/plain": [
       "27.524592472274463"
      ]
     },
     "execution_count": 28,
     "metadata": {},
     "output_type": "execute_result"
    }
   ],
   "source": [
    "st.norm.ppf(.25, loc=36.9, scale=13.9)"
   ]
  },
  {
   "cell_type": "code",
   "execution_count": 29,
   "metadata": {},
   "outputs": [
    {
     "data": {
      "text/plain": [
       "18.75081505545107"
      ]
     },
     "execution_count": 29,
     "metadata": {},
     "output_type": "execute_result"
    }
   ],
   "source": [
    "st.norm.ppf(.75, loc=36.9, scale=13.9) - st.norm.ppf(.25, loc=36.9, scale=13.9)"
   ]
  },
  {
   "cell_type": "code",
   "execution_count": 30,
   "metadata": {},
   "outputs": [
    {
     "data": {
      "text/plain": [
       "33.37847526641238"
      ]
     },
     "execution_count": 30,
     "metadata": {},
     "output_type": "execute_result"
    }
   ],
   "source": [
    "st.norm.ppf(.40, loc=36.9, scale=13.9)"
   ]
  },
  {
   "cell_type": "code",
   "execution_count": 31,
   "metadata": {},
   "outputs": [
    {
     "data": {
      "text/plain": [
       "40.42152473358762"
      ]
     },
     "execution_count": 31,
     "metadata": {},
     "output_type": "execute_result"
    }
   ],
   "source": [
    "st.norm.ppf(.60, loc=36.9, scale=13.9)"
   ]
  },
  {
   "cell_type": "code",
   "execution_count": null,
   "metadata": {},
   "outputs": [],
   "source": []
  },
  {
   "cell_type": "markdown",
   "metadata": {},
   "source": [
    "Diameter\n",
    "\n",
    "$\\mu = 5.85 \\text{ cm}$\n",
    "\n",
    "$\\sigma = 0.24 \\text{ cm}$"
   ]
  },
  {
   "cell_type": "code",
   "execution_count": 32,
   "metadata": {},
   "outputs": [
    {
     "data": {
      "text/plain": [
       "0.2659855290487"
      ]
     },
     "execution_count": 32,
     "metadata": {},
     "output_type": "execute_result"
    }
   ],
   "source": [
    "1 - st.norm.cdf((6-5.85)/0.24)"
   ]
  },
  {
   "cell_type": "code",
   "execution_count": 33,
   "metadata": {},
   "outputs": [
    {
     "data": {
      "text/plain": [
       "5.789196695247408"
      ]
     },
     "execution_count": 33,
     "metadata": {},
     "output_type": "execute_result"
    }
   ],
   "source": [
    "st.norm.ppf(.4, loc=5.85, scale=0.24)"
   ]
  },
  {
   "cell_type": "code",
   "execution_count": 34,
   "metadata": {},
   "outputs": [
    {
     "data": {
      "text/plain": [
       "5.910803304752592"
      ]
     },
     "execution_count": 34,
     "metadata": {},
     "output_type": "execute_result"
    }
   ],
   "source": [
    "st.norm.ppf(.6, loc=5.85, scale=0.24)"
   ]
  },
  {
   "cell_type": "code",
   "execution_count": 35,
   "metadata": {},
   "outputs": [
    {
     "data": {
      "text/plain": [
       "6.1575723757307035"
      ]
     },
     "execution_count": 35,
     "metadata": {},
     "output_type": "execute_result"
    }
   ],
   "source": [
    "st.norm.ppf(.9, loc=5.85, scale=0.24)"
   ]
  },
  {
   "cell_type": "markdown",
   "metadata": {},
   "source": [
    "#### <span style=\"color:orange\">Example 7.1</span>"
   ]
  },
  {
   "cell_type": "code",
   "execution_count": 36,
   "metadata": {},
   "outputs": [
    {
     "data": {
      "text/plain": [
       "0.6997171101802624"
      ]
     },
     "execution_count": 36,
     "metadata": {},
     "output_type": "execute_result"
    }
   ],
   "source": [
    "st.norm.cdf((92-90)/(15/math.sqrt(25))) - st.norm.cdf((85-90)/(15/math.sqrt(25)))"
   ]
  },
  {
   "cell_type": "markdown",
   "metadata": {
    "tags": []
   },
   "source": [
    "## <span style=\"color:green\"> The Central Limit Theorem for Sample Means (Averages) </span>\n",
    "* Suppose $X$ is a random variable with a distribution that may be known or unknown.\n",
    "* $\\mu_x = \\text{ the mean of } X$\n",
    "* $\\sigma_x = \\text{ the standard deviation of } X$\n",
    "\n",
    "If you draw random samples of size $n$, then as $n$ increases, the random variable $\\bar{x}$ which consists of sample means, tends to be **noramlly distributed** and\n",
    "* $\\bar{x} \\sim N \\bigl( \\mu_x, \\frac{\\sigma_x}{\\sqrt{n}} \\bigr)$\n",
    "\n",
    "> The **central limit theorem** for sample means says that if you repeatedly draw samples of a given size (such as repeatedly rolling ten dice) and calculate their means, those means tend to follow a normal distribution (the sampling distribution). As sample sizes increase, the distribution of means more closely follows the normal distribution. The normal distribution has the same mean as the original distribution and a variance that equals the original variance divided by the sample size. Standard deviation is the square root of variance, so the standard deviation of the sampling distribution is the standard deviation of the original distribution divided by the square root of n. The variable n is the number of values that are averaged together, not the number of times the experiment is done.\n",
    "\n",
    "> To put it more formally, if you draw random samples of size n, the distribution of the random variable  x¯ , which consists of sample means, is called the sampling distribution of the mean. The sampling distribution of the mean approaches a normal distribution as n, the sample size, increases.\n",
    "\n",
    "The random variable $\\bar{x}$ has a different z-score associated with it from that of the random variable $X$. The mean $\\bar{x}$ is the value of $\\bar{x}$ in one sample.\n",
    "* $z=\\frac{\\bar{x}-\\mu_x}{\\bigl(\\frac{\\mu_x}{\\sqrt{n}}\\bigr)}$\n",
    "* $\\mu_x$ is the average of both $X \\text{ and } \\bar{x}$\n",
    "* $\\sigma_\\bar{x} = \\frac{\\sigma_x}{\\sqrt{n}}=$ standard deviation of $\\bar{x}$ and is called the **standard error of the mean**."
   ]
  },
  {
   "cell_type": "code",
   "execution_count": null,
   "metadata": {},
   "outputs": [],
   "source": []
  },
  {
   "attachments": {
    "4b64106c-2b4e-4501-8831-59031dabfe66.png": {
     "image/png": "[encoded data removed]"
    }
   },
   "cell_type": "markdown",
   "metadata": {},
   "source": [
    "#### <span style=\"color:orange\">Example 7.1</span>\n",
    "An unknown distribution has a mean of 90 and a standard deviation of 15. Samples of size n = 25 are drawn randomly from the population.\n",
    "\n",
    "a. Find the probability that the **sample mean** is between 85 and 92.\n",
    "* ![image.png](attachment:4b64106c-2b4e-4501-8831-59031dabfe66.png)"
   ]
  },
  {
   "cell_type": "code",
   "execution_count": null,
   "metadata": {},
   "outputs": [],
   "source": []
  },
  {
   "cell_type": "markdown",
   "metadata": {},
   "source": [
    "* $\\therefore \\mu = \\mu_x = 90$\n",
    "* $\\therefore \\sigma_x = \\frac{15}{\\sqrt{25}}$\n",
    "* Let $\\bar{x} = $ the mean of a sample of size 25.\n",
    "    * $\\mu_x=90$\n",
    "    * $\\sigma_x=15$\n",
    "    * $n=90$\n",
    "* so, $\\bar{x}\\sim N\\bigl(90,\\frac{15}{\\sqrt{25}}\\bigr)$"
   ]
  },
  {
   "cell_type": "code",
   "execution_count": 37,
   "metadata": {},
   "outputs": [],
   "source": [
    "s_sigma = 15/math.sqrt(25)"
   ]
  },
  {
   "cell_type": "code",
   "execution_count": 38,
   "metadata": {},
   "outputs": [
    {
     "data": {
      "text/plain": [
       "(90, 3.0)"
      ]
     },
     "execution_count": 38,
     "metadata": {},
     "output_type": "execute_result"
    }
   ],
   "source": [
    "(90, s_sigma)"
   ]
  },
  {
   "cell_type": "code",
   "execution_count": 39,
   "metadata": {},
   "outputs": [
    {
     "data": {
      "text/plain": [
       "0.6997171101802624"
      ]
     },
     "execution_count": 39,
     "metadata": {},
     "output_type": "execute_result"
    }
   ],
   "source": [
    "diff = st.norm.cdf(92, loc=90, scale=s_sigma) - st.norm.cdf(85, loc=90, scale=s_sigma)\n",
    "diff"
   ]
  },
  {
   "cell_type": "markdown",
   "metadata": {},
   "source": [
    "$\\therefore P(85\\lt\\bar{x}\\lt92) = 0.6997$"
   ]
  },
  {
   "cell_type": "code",
   "execution_count": null,
   "metadata": {},
   "outputs": [],
   "source": []
  },
  {
   "cell_type": "markdown",
   "metadata": {},
   "source": [
    "#### <span style=\"color:orange\">Example 7.2</span>\n",
    "> The length of time, in hours, it takes an \"over 40\" group of people to play one soccer match is normally distributed with a **mean of two hours** and a **standard deviation of 0.5 hours**. A sample of size n = 50 is drawn randomly from the population. Find the probability that the **sample mean** is between 1.8 hours and 2.3 hours."
   ]
  },
  {
   "cell_type": "markdown",
   "metadata": {},
   "source": [
    "so Let,\n",
    "\n",
    "* $X = $ the time, in hours, it takes to play one soccer match.\n",
    "* $\\mu =  \\mu_x = 2$ hours\n",
    "* $\\sigma_x = 0.5$ hours\n",
    "* $n = 50$\n",
    "* $X \\sim N\\bigl(2, \\frac{0.5}{\\sqrt{50}}\\bigr)$\n",
    "\n",
    "find,\n",
    "\n",
    "* $P(1.8\\lt \\bar{x} \\gt 2.3)$ hours"
   ]
  },
  {
   "cell_type": "code",
   "execution_count": 40,
   "metadata": {},
   "outputs": [
    {
     "data": {
      "text/plain": [
       "0.9976500872609771"
      ]
     },
     "execution_count": 40,
     "metadata": {},
     "output_type": "execute_result"
    }
   ],
   "source": [
    "st.norm.cdf(2.3, loc=2, scale=0.5/math.sqrt(50)) - st.norm.cdf(1.8, loc=2, scale=0.5/math.sqrt(50))"
   ]
  },
  {
   "cell_type": "markdown",
   "metadata": {},
   "source": [
    "Therefore, the probability that the mean time is between 1.8 hours and 2.3 hours is 0.9977"
   ]
  },
  {
   "cell_type": "code",
   "execution_count": null,
   "metadata": {},
   "outputs": [],
   "source": []
  },
  {
   "cell_type": "markdown",
   "metadata": {},
   "source": [
    "#### <span style=\"color:orange\">Example 7.3</span>\n",
    "\n",
    "> In a recent study reported Oct. 29, 2012 on the Flurry Blog, the mean age of tablet users is 34 years. Suppose the standard deviation is 15 years. Take a sample of size n = 100.\n",
    "\n",
    "* $\\mu_x = \\mu = 34$ years\n",
    "* $\\sigma = 15$, $\\sigma_x = \\frac{\\sigma}{\\sqrt{n}}=\\frac{15}{\\sqrt{100}}=\\frac{15}{10}=1.5$\n",
    "* $n = 100$"
   ]
  },
  {
   "cell_type": "markdown",
   "metadata": {},
   "source": [
    "a.\n",
    "\n",
    "What are the mean and standard deviation for the sample mean ages of tablet users?"
   ]
  },
  {
   "cell_type": "markdown",
   "metadata": {},
   "source": [
    "mean is 34"
   ]
  },
  {
   "cell_type": "code",
   "execution_count": 41,
   "metadata": {},
   "outputs": [
    {
     "data": {
      "text/plain": [
       "1.5"
      ]
     },
     "execution_count": 41,
     "metadata": {},
     "output_type": "execute_result"
    }
   ],
   "source": [
    "# sample standard deviation is determined by:\n",
    "15/math.sqrt(100)"
   ]
  },
  {
   "cell_type": "markdown",
   "metadata": {},
   "source": [
    "b.\n",
    "\n",
    "What does the distribution look like?"
   ]
  },
  {
   "cell_type": "markdown",
   "metadata": {},
   "source": [
    "The central limit theorem states that for large sample sizes(n), the sampling distribution will be approximately normal."
   ]
  },
  {
   "cell_type": "markdown",
   "metadata": {},
   "source": [
    "c.\n",
    "\n",
    "Find the probability that the sample mean age is more than 30 years (the reported mean age of tablet users in this particular study)."
   ]
  },
  {
   "cell_type": "markdown",
   "metadata": {},
   "source": [
    "$P(\\bar{X}\\gt30)$"
   ]
  },
  {
   "cell_type": "code",
   "execution_count": 42,
   "metadata": {},
   "outputs": [
    {
     "data": {
      "text/plain": [
       "0.9961696194324102"
      ]
     },
     "execution_count": 42,
     "metadata": {},
     "output_type": "execute_result"
    }
   ],
   "source": [
    "1 - st.norm.cdf(30, loc=34, scale=1.5)"
   ]
  },
  {
   "cell_type": "markdown",
   "metadata": {},
   "source": [
    "d.\n",
    "\n",
    "Find the 95th percentile for the sample mean age (to one decimal place)."
   ]
  },
  {
   "cell_type": "code",
   "execution_count": 43,
   "metadata": {},
   "outputs": [
    {
     "data": {
      "text/plain": [
       "36.46728044042721"
      ]
     },
     "execution_count": 43,
     "metadata": {},
     "output_type": "execute_result"
    }
   ],
   "source": [
    "# returns the x value at the point described in the parameters\n",
    "# In the below case this is the point that lies at the 95th percentile\n",
    "st.norm.ppf(0.95, loc=34, scale=15/math.sqrt(100))"
   ]
  },
  {
   "cell_type": "code",
   "execution_count": null,
   "metadata": {},
   "outputs": [],
   "source": []
  },
  {
   "cell_type": "markdown",
   "metadata": {},
   "source": [
    "#### <span style=\"color:orange\">Example 7.4</span>\n",
    "The mean number of minutes for app engagement by a tablet user is 8.2 minutes. Suppose the standard deviation is one minute. Take a sample of 60."
   ]
  },
  {
   "cell_type": "markdown",
   "metadata": {},
   "source": [
    "a.\n",
    "\n",
    "What are the mean and standard deviation for the sample mean number of app engagement by a tablet user?"
   ]
  },
  {
   "cell_type": "markdown",
   "metadata": {},
   "source": [
    "* $\\mu_\\bar{x} = \\mu = 8.2 $\n",
    "* $\\sigma = 1 \\text{ minutes}$\n",
    "* $\\sigma_\\bar{x} = \\frac{\\sigma}{\\sqrt{n}} = \\frac{1}{\\sqrt{60}}=0.13$\n",
    "* Sample Size = 60"
   ]
  },
  {
   "cell_type": "code",
   "execution_count": 44,
   "metadata": {},
   "outputs": [
    {
     "data": {
      "text/plain": [
       "0.12909944487358055"
      ]
     },
     "execution_count": 44,
     "metadata": {},
     "output_type": "execute_result"
    }
   ],
   "source": [
    "1/math.sqrt(60)"
   ]
  },
  {
   "cell_type": "markdown",
   "metadata": {},
   "source": [
    "* $\\therefore \\mu_\\bar{x}=\\mu=8.2$\n",
    "* $\\therefore \\sigma_\\bar{x}=\\frac{\\sigma}{\\sqrt{n}}=\\frac{1}{\\sqrt{60}}=0.13$"
   ]
  },
  {
   "cell_type": "markdown",
   "metadata": {},
   "source": [
    "b.\n",
    "\n",
    "What is the standard error of the mean?"
   ]
  },
  {
   "cell_type": "markdown",
   "metadata": {},
   "source": [
    "**Standard Error of the Mean** = $\\sigma\\bar{x}=\\frac{\\sigma X}{\\sqrt{n}}$ = standard deviation of $\\bar{x}$\n",
    "> This allows us to calculate the probability of sample means of a particular distance from the mean, in repeated samples of size 60."
   ]
  },
  {
   "cell_type": "markdown",
   "metadata": {},
   "source": [
    "c.\n",
    "\n",
    "Find the 90th percentile for the sample mean time for app engagement for a tablet user. Interpret this value in a complete sentence."
   ]
  },
  {
   "cell_type": "code",
   "execution_count": 45,
   "metadata": {},
   "outputs": [
    {
     "data": {
      "text/plain": [
       "8.365447595688675"
      ]
     },
     "execution_count": 45,
     "metadata": {},
     "output_type": "execute_result"
    }
   ],
   "source": [
    "# Units are in Minutes\n",
    "st.norm.ppf(0.9, loc=8.2, scale=1/math.sqrt(60))"
   ]
  },
  {
   "cell_type": "markdown",
   "metadata": {},
   "source": [
    "d.\n",
    "Find the probability that the sample mean is between eight minutes and 8.5 minutes.\n",
    "\n",
    "$P(8\\lt\\bar{x}\\lt8.5)$"
   ]
  },
  {
   "cell_type": "code",
   "execution_count": 46,
   "metadata": {},
   "outputs": [
    {
     "data": {
      "text/plain": [
       "0.9292639990455852"
      ]
     },
     "execution_count": 46,
     "metadata": {},
     "output_type": "execute_result"
    }
   ],
   "source": [
    "st.norm.cdf((8.5-8.2)/(1/math.sqrt(60))) - st.norm.cdf((8.0-8.2)/(1/math.sqrt(60)))"
   ]
  },
  {
   "cell_type": "code",
   "execution_count": null,
   "metadata": {},
   "outputs": [],
   "source": []
  },
  {
   "cell_type": "code",
   "execution_count": null,
   "metadata": {},
   "outputs": [],
   "source": []
  },
  {
   "cell_type": "markdown",
   "metadata": {},
   "source": [
    "## <span style=\"color:green\"> The Central Limit Theorem for Sums </span>\n",
    "\n",
    "**Recall*:\n",
    "<span style=\"color:orange\">$X \\sim N(5,6)$ is read as:  $X$ is a noramally distributed random variable with mean = 5 and standard deviation = 6. </span>\n",
    "\n",
    "\n",
    "\n",
    "**Suppose X is a random variable with a distribution that may be **known or unknown** (it can be any distribution) and suppose**:\n",
    "\n",
    "* $\\mu_x=\\text{ the mean of } X$\n",
    "* $\\sigma_x = \\text{ the standard deviation of } X$\n",
    "\n",
    "If you draw random samples of size n, then as n increases, the random variable ΣX consisting of sums tends to be normally distributed and\n",
    "\n",
    "* $\\sum{X} \\sim N\\bigl((n)(\\mu_x), (\\sqrt{n})(\\sigma_x)\\bigr)$\n",
    "\n",
    "\n",
    "The random variable $\\sum{X}$ has the following z-score associated with it:\n",
    "\n",
    "a. $\\sum{x}$ is one sum.\n",
    "\n",
    "b. $z=\\frac{\\sum{x}-(n)(\\mu_x)}{(\\sqrt{n})(\\sigma{x})}$\n",
    "\n",
    "* $(n)(\\mu_x) = \\text{the mean of }\\sum{X}$\n",
    "* $(\\sqrt{n}) (\\sigma_x) = \\text{standard deviation of } \\sum{X}$"
   ]
  },
  {
   "cell_type": "code",
   "execution_count": null,
   "metadata": {},
   "outputs": [],
   "source": []
  },
  {
   "cell_type": "markdown",
   "metadata": {},
   "source": [
    "#### <span style=\"color:orange\">Example 7.5</span>\n",
    "An unknown distribution has a mean of 90 and a standard deviation of 15. A sample of size 80 is drawn randomly from the population."
   ]
  },
  {
   "cell_type": "markdown",
   "metadata": {},
   "source": [
    "a.\n",
    "\n",
    "Find the probability that the sum of the 80 values (or the total of the 80 values) is more than 7,500.\n",
    "\n",
    "* $\\mu_x = 90$\n",
    "* $\\sigma_x = 15$\n",
    "* sample size = n = 80\n",
    "* $\\sum X \\sim N\\bigl((80)(90), (\\sqrt{80})(15)\\bigr)$"
   ]
  },
  {
   "cell_type": "code",
   "execution_count": 47,
   "metadata": {},
   "outputs": [
    {
     "name": "stdout",
     "output_type": "stream",
     "text": [
      "The mean of the sums is: 7200\n"
     ]
    }
   ],
   "source": [
    "print(\"The mean of the sums is:\", 80*90)"
   ]
  },
  {
   "cell_type": "code",
   "execution_count": 48,
   "metadata": {},
   "outputs": [
    {
     "name": "stdout",
     "output_type": "stream",
     "text": [
      "The standard deviation of the sums is: 134.1640786499874\n"
     ]
    }
   ],
   "source": [
    "print(\"The standard deviation of the sums is:\", math.sqrt(80)*15)"
   ]
  },
  {
   "cell_type": "markdown",
   "metadata": {},
   "source": [
    "Find: $P(\\sum{X}\\gt 7500)$"
   ]
  },
  {
   "cell_type": "code",
   "execution_count": 49,
   "metadata": {},
   "outputs": [
    {
     "data": {
      "text/plain": [
       "0.012671433369059626"
      ]
     },
     "execution_count": 49,
     "metadata": {},
     "output_type": "execute_result"
    }
   ],
   "source": [
    "1-st.norm.cdf(7500, loc=7200, scale=134.16)"
   ]
  },
  {
   "attachments": {
    "783ebb75-3c23-4c57-8090-9955c61e1c7b.png": {
     "image/png": "[encoded data removed]"
    }
   },
   "cell_type": "markdown",
   "metadata": {},
   "source": [
    "![image.png](attachment:783ebb75-3c23-4c57-8090-9955c61e1c7b.png)"
   ]
  },
  {
   "cell_type": "code",
   "execution_count": 50,
   "metadata": {},
   "outputs": [
    {
     "data": {
      "text/plain": [
       "<bound method rv_continuous.cdf of <scipy.stats._continuous_distns.norm_gen object at 0x000001FDE4A57A00>>"
      ]
     },
     "execution_count": 50,
     "metadata": {},
     "output_type": "execute_result"
    }
   ],
   "source": [
    "st.norm.cdf"
   ]
  },
  {
   "cell_type": "markdown",
   "metadata": {},
   "source": [
    "<div class=\"alert-success\">\n",
    "st.norm.cdf takes as input the x value, with loc=mean, scale=standard deviation\n",
    "    \n",
    "st.norm.ppf takes as input the percent, with loc=mean, scale=standard deviation\n",
    "    \n",
    "    \n",
    "    \n",
    "    \n",
    "</div>"
   ]
  },
  {
   "cell_type": "markdown",
   "metadata": {},
   "source": [
    "b.\n",
    "\n",
    "Find the sum that is 1.5 standard deviations above the mean of the sums.\n",
    "\n",
    "eg) Find $\\sum{X}$ where $z=1.5$"
   ]
  },
  {
   "cell_type": "markdown",
   "metadata": {},
   "source": [
    "$\\sum{X}=(n)(\\mu_x) + (z)(\\sqrt{n})(\\sigma_x) = (80)(90) + (1.5)(\\sqrt{80})(15)=7401.2$"
   ]
  },
  {
   "cell_type": "code",
   "execution_count": 51,
   "metadata": {},
   "outputs": [
    {
     "data": {
      "text/plain": [
       "7401.2461179"
      ]
     },
     "execution_count": 51,
     "metadata": {},
     "output_type": "execute_result"
    }
   ],
   "source": [
    "1.5*134.1640786 + 7200"
   ]
  },
  {
   "cell_type": "code",
   "execution_count": null,
   "metadata": {},
   "outputs": [],
   "source": []
  },
  {
   "cell_type": "markdown",
   "metadata": {},
   "source": [
    "#### <span style=\"color:orange\">Example 7.7</span>\n",
    "The mean number of minutes for app engagement by a tablet user is 8.2 minutes. Suppose the standard deviation is one minute. Take a sample of size 70."
   ]
  },
  {
   "cell_type": "markdown",
   "metadata": {},
   "source": [
    "a.\n",
    "\n",
    "What are the mean and standard deviation for the sums?"
   ]
  },
  {
   "cell_type": "markdown",
   "metadata": {},
   "source": [
    "* $\\mu_x = 8.2$\n",
    "* $\\mu_{\\sum{X}} = n\\mu_x = 70(8.2) = 574 \\text{ minutes}$\n",
    "* $\\sigma_x = 1$\n",
    "* $\\sigma_{\\sum{x}} = (\\sqrt{n})(\\sigma_x)=(\\sqrt{70})(1)=8.37$ minutes\n",
    "* sample size = 70\n",
    "* $\\sum X \\sim N\\bigl((70)(8.2), (\\sqrt{70})(1)\\bigr)$"
   ]
  },
  {
   "cell_type": "code",
   "execution_count": 52,
   "metadata": {},
   "outputs": [
    {
     "name": "stdout",
     "output_type": "stream",
     "text": [
      "The mean of the sums is:  574.0 minutes\n"
     ]
    }
   ],
   "source": [
    "print(\"The mean of the sums is: \",70*8.2, \"minutes\")"
   ]
  },
  {
   "cell_type": "code",
   "execution_count": 53,
   "metadata": {},
   "outputs": [
    {
     "name": "stdout",
     "output_type": "stream",
     "text": [
      "The standard deviation of the sums is:  8.366600265340756 minutes\n"
     ]
    }
   ],
   "source": [
    "print(\"The standard deviation of the sums is: \", math.sqrt(70)*1, \"minutes\")"
   ]
  },
  {
   "cell_type": "markdown",
   "metadata": {},
   "source": [
    "b.\n",
    "\n",
    "Find the 95th percentile for the sum of the sample. Interpret this value in a complete sentence."
   ]
  },
  {
   "cell_type": "code",
   "execution_count": 54,
   "metadata": {},
   "outputs": [
    {
     "data": {
      "text/plain": [
       "587.7618327916318"
      ]
     },
     "execution_count": 54,
     "metadata": {},
     "output_type": "execute_result"
    }
   ],
   "source": [
    "st.norm.ppf(0.95, loc=574, scale=8.3666002653)"
   ]
  },
  {
   "cell_type": "markdown",
   "metadata": {},
   "source": [
    "Therefore, ninety five percent of the sums of app engagement times are at most 587.76 minutes."
   ]
  },
  {
   "cell_type": "markdown",
   "metadata": {},
   "source": [
    "c.\n",
    "Find the probability that the sum of the sample is at least ten hours.\n",
    "\n",
    "Ten hours = 600 minutes"
   ]
  },
  {
   "cell_type": "code",
   "execution_count": 55,
   "metadata": {},
   "outputs": [
    {
     "data": {
      "text/plain": [
       "0.0009430837295741901"
      ]
     },
     "execution_count": 55,
     "metadata": {},
     "output_type": "execute_result"
    }
   ],
   "source": [
    "1 - st.norm.cdf(600, loc=574, scale=8.3666002653)"
   ]
  },
  {
   "cell_type": "code",
   "execution_count": null,
   "metadata": {},
   "outputs": [],
   "source": []
  },
  {
   "cell_type": "code",
   "execution_count": null,
   "metadata": {},
   "outputs": [],
   "source": []
  },
  {
   "cell_type": "markdown",
   "metadata": {},
   "source": [
    "## <span style=\"color:green\">Using the Central Limit Theorem</span>\n",
    "It is important to understand when to use the **central limit theorem**\n",
    "\n",
    "If you are being asked to find the probability of an **individual** value, do **not** use the clt. **Use the distribution of its random variable**."
   ]
  },
  {
   "cell_type": "markdown",
   "metadata": {},
   "source": [
    "### Examples of the Central Limit Theorem\n",
    "#### Law of Large Numbers\n",
    "The larger n gets, the smaller the standard deviation gets. Remember that the standard deviation for $\\bar{X}$ is:\n",
    "\n",
    "$\\bar{X} = \\frac{\\sigma}{\\sqrt{n}}$\n",
    "\n",
    "Below is an interactive example to show as n gets larger, the output (standard deviation) gets smaller."
   ]
  },
  {
   "cell_type": "code",
   "execution_count": 56,
   "metadata": {},
   "outputs": [],
   "source": [
    "import ipywidgets as widgets\n",
    "from ipywidgets import interact"
   ]
  },
  {
   "cell_type": "code",
   "execution_count": 57,
   "metadata": {},
   "outputs": [
    {
     "data": {
      "application/vnd.jupyter.widget-view+json": {
       "model_id": "7f1699174dbd4560a837b34252bd0f0d",
       "version_major": 2,
       "version_minor": 0
      },
      "text/plain": [
       "interactive(children=(IntSlider(value=5, description='sig', max=1000, min=1), IntSlider(value=5, description='…"
      ]
     },
     "metadata": {},
     "output_type": "display_data"
    }
   ],
   "source": [
    "sigma = widgets.IntSlider(value=5, min=1, max=1000)\n",
    "mean = widgets.IntSlider(value=5, min=1, max=1000)\n",
    "def some_output(sig, n):\n",
    "    return sig/math.sqrt(n)\n",
    "\n",
    "interact(some_output,\n",
    "        sig=sigma,\n",
    "        n=mean);"
   ]
  },
  {
   "cell_type": "code",
   "execution_count": null,
   "metadata": {},
   "outputs": [],
   "source": []
  },
  {
   "cell_type": "code",
   "execution_count": null,
   "metadata": {},
   "outputs": [],
   "source": []
  },
  {
   "cell_type": "markdown",
   "metadata": {},
   "source": [
    "#### <span style=\"color:orange\">Example 7.8</span>\n",
    "A study involving stress is conducted among the students on a college campus. The **stress scores follow a uniform distribution** with the lowest stress score equal to one and the highest equal to five. Using a sample of 75 students, find:"
   ]
  },
  {
   "cell_type": "markdown",
   "metadata": {},
   "source": [
    "a.\n",
    "\n",
    "The probability that the **mean stress score** for the 75 students is less than two.\n",
    "\n",
    "Find $P(\\bar{x} < 2)$"
   ]
  },
  {
   "cell_type": "markdown",
   "metadata": {},
   "source": [
    "* n = 75\n",
    "\n",
    "This is a `uniform distribution` so:\n",
    "\n",
    "* $X \\sim U(a, b)$ where a = the lowest value of x and b = the highest value of x.\n",
    "* $\\therefore X\\sim U(1, 5)$ where a=1 and b=5\n",
    "* $\\mu_x=\\frac{a+b}{2}=\\frac{1+5}{2}=3$\n",
    "* $\\sigma_x = \\sqrt{\\frac{(b-a)^2}{12}}=\\sqrt{\\frac{(5-1)^2}{12}}=1.15$\n",
    "* $\\therefore \\bar{X} \\sim N\\bigl(3,\\frac{1.15}{\\sqrt{75}}\\bigr)$"
   ]
  },
  {
   "cell_type": "code",
   "execution_count": 58,
   "metadata": {},
   "outputs": [
    {
     "data": {
      "text/plain": [
       "5.365069419293428e-99"
      ]
     },
     "execution_count": 58,
     "metadata": {},
     "output_type": "execute_result"
    }
   ],
   "source": [
    "st.norm.cdf(.2, loc=3, scale=1.15/math.sqrt(75))"
   ]
  },
  {
   "cell_type": "markdown",
   "metadata": {},
   "source": [
    "Near Zero (recall smallest score is one)"
   ]
  },
  {
   "attachments": {
    "7226ab21-6c07-4de5-be25-1e142d3915ee.png": {
     "image/png": "[encoded data removed]"
    }
   },
   "cell_type": "markdown",
   "metadata": {},
   "source": [
    "![image.png](attachment:7226ab21-6c07-4de5-be25-1e142d3915ee.png)"
   ]
  },
  {
   "cell_type": "code",
   "execution_count": null,
   "metadata": {},
   "outputs": [],
   "source": []
  },
  {
   "attachments": {
    "a796ca63-89fb-4287-9ea0-c34acf7ac9e7.png": {
     "image/png": "[encoded data removed]"
    }
   },
   "cell_type": "markdown",
   "metadata": {},
   "source": [
    "b.\n",
    "\n",
    "Find the 90th percentile for the mean of 75 stress scores.\n",
    "\n",
    "Let k= the 90th percentile.\n",
    "\n",
    "Find k, where $P(\\bar{x} \\lt k) = 0.90$\n",
    "\n",
    "k = 3.2\n",
    "\n",
    "![image.png](attachment:a796ca63-89fb-4287-9ea0-c34acf7ac9e7.png)"
   ]
  },
  {
   "cell_type": "code",
   "execution_count": 59,
   "metadata": {},
   "outputs": [
    {
     "data": {
      "text/plain": [
       "3.170177952509939"
      ]
     },
     "execution_count": 59,
     "metadata": {},
     "output_type": "execute_result"
    }
   ],
   "source": [
    "st.norm.ppf(.9, loc=3, scale=1.15/math.sqrt(75))"
   ]
  },
  {
   "cell_type": "markdown",
   "metadata": {},
   "source": [
    "The 90th percentile for the mean of 75 scores is about 3.2. This tells us that 90% of all the means of 75 stress scores are at most 3.2, and that 10% are greater than 3.2."
   ]
  },
  {
   "cell_type": "code",
   "execution_count": null,
   "metadata": {},
   "outputs": [],
   "source": []
  },
  {
   "cell_type": "markdown",
   "metadata": {},
   "source": [
    "c.\n",
    "\n",
    "The probability that the total of the 75 stress scores is less than 200.\n",
    "\n",
    "Find $P(\\sum_x < 200)$"
   ]
  },
  {
   "cell_type": "code",
   "execution_count": 60,
   "metadata": {},
   "outputs": [
    {
     "data": {
      "text/plain": [
       "0.00603282286495274"
      ]
     },
     "execution_count": 60,
     "metadata": {},
     "output_type": "execute_result"
    }
   ],
   "source": [
    "st.norm.cdf(200, loc=75*3, scale=math.sqrt(75)*1.15)"
   ]
  },
  {
   "cell_type": "markdown",
   "metadata": {},
   "source": [
    "d.\n",
    "Find the 90th percentile for the total of 75 stress scores.\n",
    "\n",
    "Let k = the 90th percentile.\n",
    "\n",
    "Find k where $P(\\sum{x}\\lt k) = 0.90$\n",
    "\n",
    "k = 237.8"
   ]
  },
  {
   "cell_type": "code",
   "execution_count": 61,
   "metadata": {},
   "outputs": [
    {
     "data": {
      "text/plain": [
       "237.76334643824543"
      ]
     },
     "execution_count": 61,
     "metadata": {},
     "output_type": "execute_result"
    }
   ],
   "source": [
    "st.norm.ppf(0.90, loc=75*3, scale=math.sqrt(75)*1.15)"
   ]
  },
  {
   "cell_type": "code",
   "execution_count": null,
   "metadata": {},
   "outputs": [],
   "source": []
  },
  {
   "cell_type": "markdown",
   "metadata": {},
   "source": [
    "#### Example 7.9\n",
    "* Exponential distribution\n",
    "* $\\mu = 22$ minutes\n",
    "* n = 80 customers\n",
    "* Let X - the excess time used by one INDIVIDUAL cell phone customer\n",
    "* $X \\sim \\text{Exp}(\\frac{1}{22})$\n",
    "    * $\\mu=22$\n",
    "    * $\\sigma=22$\n",
    "* Let $\\bar{X} = $ the mean excess time used by a sample of n=80 customers who exceed their contracted time allowance.\n",
    "* $\\bar{X} \\sim N\\bigl(22, \\frac{22}{\\sqrt{80}}\\bigr)$ by the central limit theorem for sample means."
   ]
  },
  {
   "cell_type": "markdown",
   "metadata": {},
   "source": [
    "a.\n",
    "\n",
    "Find $P(\\bar{x}>20)$ (The probability that the mean excess time used by the 80 customers in the sample is longer than 20 minutes)"
   ]
  },
  {
   "cell_type": "code",
   "execution_count": 62,
   "metadata": {},
   "outputs": [
    {
     "data": {
      "text/plain": [
       "0.7919241165068476"
      ]
     },
     "execution_count": 62,
     "metadata": {},
     "output_type": "execute_result"
    }
   ],
   "source": [
    "1 - st.norm.cdf(20, loc=22, scale=(22/math.sqrt(80)))"
   ]
  },
  {
   "cell_type": "markdown",
   "metadata": {},
   "source": [
    "b. "
   ]
  },
  {
   "cell_type": "code",
   "execution_count": null,
   "metadata": {},
   "outputs": [],
   "source": []
  },
  {
   "cell_type": "markdown",
   "metadata": {},
   "source": [
    "#### <span style=\"color:orange\">Example 7.9</span>\n",
    "Suppose that a market research analyst for a cell phone company conducts a study of their customers who exceed the time allowance included on their basic cell phone contract; the analyst finds that for those people who exceed the time included in their basic contract, the `excess time used` follows an `exponential distribution` with a mean of 22 minutes.\n",
    "\n",
    "Consider a random sample of 80 customers who exceed the time allowance included in their basic cell phone contract.\n",
    "\n",
    "Let X = the excess time used by one INDIVIDUAL cell phone customer who exceeds his contracted time allowance.\n",
    "\n",
    "$X\\sim \\text{Exp}(\\frac{1}{22})$. From previous chapters, we know that:\n",
    "* $\\mu = 22$\n",
    "* $\\sigma = 22$\n",
    "\n",
    "Let $\\bar{X}$ = the mean excess tie used by a sample of n=80 customers who exceed their contracted tiem allowance.\n",
    "\n",
    "$\\bar{X} \\sim N \\bigl(22, \\frac{22}{\\sqrt{80}} \\bigr)$ by the central limit theorem for sample means"
   ]
  },
  {
   "cell_type": "markdown",
   "metadata": {},
   "source": [
    "**Using the ctl to find probability**\n",
    "\n",
    "a.\n",
    "Find the probability that the mean excess time used by the 80 customers in the sample is longer than 20 minutes. This is asking us to find $P( \\bar{x}  > 20)$. Draw the graph."
   ]
  },
  {
   "cell_type": "code",
   "execution_count": 63,
   "metadata": {},
   "outputs": [
    {
     "data": {
      "text/plain": [
       "0.7919241165068476"
      ]
     },
     "execution_count": 63,
     "metadata": {},
     "output_type": "execute_result"
    }
   ],
   "source": [
    "1 - st.norm.cdf(20, loc=22, scale=22/math.sqrt(80))"
   ]
  },
  {
   "attachments": {
    "5821bc5b-b306-4bea-865a-1147f8448fb0.png": {
     "image/png": "[encoded data removed]"
    }
   },
   "cell_type": "markdown",
   "metadata": {},
   "source": [
    "![image.png](attachment:5821bc5b-b306-4bea-865a-1147f8448fb0.png)"
   ]
  },
  {
   "cell_type": "markdown",
   "metadata": {},
   "source": [
    "b.\n",
    "Suppose that one customer who exceeds the time limit for his cell phone contract is randomly selected. Find the probability that this individual customer's excess time is longer than 20 minutes. This is asking us to find $P(x > 20)$.\n",
    "\n",
    "Find $P(x > 20)$. Remember to use the exponential distribution for an `individual`: $X\\sim \\text{Exp}(\\frac{1}{22})$.\n",
    "\n",
    "$P(x>20)=e^{(-(\\frac{1}{22})(20))}$ or $e^{(-0.04545(20))} = 0.4029)$"
   ]
  },
  {
   "cell_type": "code",
   "execution_count": 64,
   "metadata": {},
   "outputs": [
    {
     "data": {
      "text/plain": [
       "0.402890321529133"
      ]
     },
     "execution_count": 64,
     "metadata": {},
     "output_type": "execute_result"
    }
   ],
   "source": [
    "math.e**(-(1/22)*20)"
   ]
  },
  {
   "cell_type": "markdown",
   "metadata": {},
   "source": [
    "c.\n",
    "Explain why the probabilities in parts a and b are different.\n",
    "\n",
    "1. $P(x>20)=0.4029$ but $P(\\bar{x}>20)=0.7919\n",
    "2. The probabilities are not equal because we use different distributions to calculate the probability for individuals and for means.\n",
    "3. <span style=\"color:pink\">When asked to find the probability of an individual value, use the stated distribution of its random variable; do not use the clt. Use the clt with the normal distribution when you are being asked to find the probability for a mean.</span>"
   ]
  },
  {
   "cell_type": "markdown",
   "metadata": {},
   "source": [
    "Let $k=\\text{ the } 95^{\\text{th}}$ percentile.  Find $k$ where $P(\\bar{x}<k)=0.95$\n",
    "\n",
    "$k = 26.0$"
   ]
  },
  {
   "cell_type": "code",
   "execution_count": 65,
   "metadata": {},
   "outputs": [
    {
     "data": {
      "text/plain": [
       "26.045804975190627"
      ]
     },
     "execution_count": 65,
     "metadata": {},
     "output_type": "execute_result"
    }
   ],
   "source": [
    "st.norm.ppf(.95, loc=22, scale=22/math.sqrt(80))"
   ]
  },
  {
   "attachments": {
    "84e08460-913d-4021-b92c-20a6aa496a97.png": {
     "image/png": "[encoded data removed]"
    }
   },
   "cell_type": "markdown",
   "metadata": {},
   "source": [
    "![image.png](attachment:84e08460-913d-4021-b92c-20a6aa496a97.png)\n",
    "\n",
    "The 95th percentile for the **sample mean excess time used** is about 26.0 minutes for random samples of 80 customers who exceed their contractual allowed time.\n",
    "\n",
    "Ninety five percent of such samples would have means under 26 minutes; only five percent of such samples would have means above 26 minutes."
   ]
  },
  {
   "cell_type": "code",
   "execution_count": null,
   "metadata": {},
   "outputs": [],
   "source": []
  },
  {
   "cell_type": "markdown",
   "metadata": {},
   "source": [
    "#### <span style=\"color:orange\">Example 7.10</span>\n",
    "In the United States, someone is sexually assaulted every two minutes, on average, according to a number of studies. Suppose the standard deviation is 0.5 minutes and the sample size is 100.\n",
    "\n",
    "* $\\mu_x = \\mu = 2$ minutes\n",
    "* $\\sigma = 0.5$ minutes, $\\sigma_x = \\frac{\\sigma}{\\sqrt{n}} = \\frac{0.5}{10} = 0.05$\n",
    "* $n = 100$"
   ]
  },
  {
   "cell_type": "markdown",
   "metadata": {},
   "source": [
    "a.\n",
    "Find the median, the first quartile, and the third quartile for the sample mean time of sexual assaults in the United States."
   ]
  },
  {
   "cell_type": "code",
   "execution_count": 66,
   "metadata": {},
   "outputs": [
    {
     "name": "stdout",
     "output_type": "stream",
     "text": [
      "The median is: 0.05\n"
     ]
    }
   ],
   "source": [
    "print(\"The median is:\", 0.05)"
   ]
  },
  {
   "cell_type": "code",
   "execution_count": 67,
   "metadata": {},
   "outputs": [
    {
     "name": "stdout",
     "output_type": "stream",
     "text": [
      "The first quartile is: 1.9662755124901958\n"
     ]
    }
   ],
   "source": [
    "print(\"The first quartile is:\", st.norm.ppf(0.25, loc=2, scale=0.05))"
   ]
  },
  {
   "cell_type": "code",
   "execution_count": 68,
   "metadata": {},
   "outputs": [
    {
     "name": "stdout",
     "output_type": "stream",
     "text": [
      "The third quartile is: 2.033724487509804\n"
     ]
    }
   ],
   "source": [
    "print(\"The third quartile is:\", st.norm.ppf(0.75, loc=2, scale=0.05))"
   ]
  },
  {
   "cell_type": "markdown",
   "metadata": {},
   "source": [
    "b.\n",
    "Find the median, the first quartile, and the third quartile for the sum of sample times of sexual assaults in the United States."
   ]
  },
  {
   "cell_type": "markdown",
   "metadata": {},
   "source": [
    "$\\mu_{\\sum{x}} = n(\\mu_x)=100(2)=200$\n",
    "\n",
    "$\\sigma_{\\mu x} = \\sqrt{n}(\\sigma_x)=\\sqrt{100}(0.5)=5$"
   ]
  },
  {
   "cell_type": "code",
   "execution_count": 69,
   "metadata": {},
   "outputs": [
    {
     "data": {
      "text/plain": [
       "(200, 5.0)"
      ]
     },
     "execution_count": 69,
     "metadata": {},
     "output_type": "execute_result"
    }
   ],
   "source": [
    "(100*2, math.sqrt(100)*.5)"
   ]
  },
  {
   "cell_type": "code",
   "execution_count": 70,
   "metadata": {},
   "outputs": [
    {
     "name": "stdout",
     "output_type": "stream",
     "text": [
      "The mean is: 200\n"
     ]
    }
   ],
   "source": [
    "print(\"The mean is:\", 200)"
   ]
  },
  {
   "cell_type": "code",
   "execution_count": 71,
   "metadata": {},
   "outputs": [
    {
     "name": "stdout",
     "output_type": "stream",
     "text": [
      "The 25th percentile is: 196.6275512490196\n"
     ]
    }
   ],
   "source": [
    "print(\"The 25th percentile is:\", st.norm.ppf(0.25, loc=200, scale=5))"
   ]
  },
  {
   "cell_type": "code",
   "execution_count": 72,
   "metadata": {},
   "outputs": [
    {
     "name": "stdout",
     "output_type": "stream",
     "text": [
      "The 75th percentile is: 203.3724487509804\n"
     ]
    }
   ],
   "source": [
    "print(\"The 75th percentile is:\", st.norm.ppf(0.75, loc=200, scale=5))"
   ]
  },
  {
   "cell_type": "markdown",
   "metadata": {},
   "source": [
    "c.\n",
    "Find the probability that a sexual assault occurs on the average between 1.75 and 1.85 minutes.\n",
    "\n",
    "$P(1.75\\lt \\bar{x} \\lt 1.85)$"
   ]
  },
  {
   "cell_type": "code",
   "execution_count": 73,
   "metadata": {},
   "outputs": [
    {
     "data": {
      "text/plain": [
       "0.001349611380058222"
      ]
     },
     "execution_count": 73,
     "metadata": {},
     "output_type": "execute_result"
    }
   ],
   "source": [
    "st.norm.cdf(1.85, loc=2, scale=0.05) - st.norm.cdf(1.75, loc=2, scale=0.05)"
   ]
  },
  {
   "cell_type": "markdown",
   "metadata": {},
   "source": [
    "d.\n",
    "Find the value that is two standard deviations above the sample mean."
   ]
  },
  {
   "cell_type": "markdown",
   "metadata": {},
   "source": [
    "Recall that:\n",
    "> In statistics, a `z-score` tells us `how many standard deviations away a value is from the mean`. We use the following formula to calculate a z-score:\n",
    "\n",
    "> $z = \\frac{(X – μ)}{σ}$"
   ]
  },
  {
   "cell_type": "markdown",
   "metadata": {},
   "source": [
    "$\\therefore z = 2$ and solve for x (the value we are trying to find)"
   ]
  },
  {
   "cell_type": "markdown",
   "metadata": {},
   "source": [
    "* $2 = \\frac{x-2}{0.05}$\n",
    "* $2(0.05) = x - 2$\n",
    "* $2(0.05) - 2 = x$\n",
    "* $x = 2.1$"
   ]
  },
  {
   "cell_type": "markdown",
   "metadata": {},
   "source": [
    "Therefore the value that is two standard deviations above the sample mean is = 2.1"
   ]
  },
  {
   "cell_type": "markdown",
   "metadata": {},
   "source": [
    "e.\n",
    "Find the IQR for the sum of the sample times."
   ]
  },
  {
   "cell_type": "markdown",
   "metadata": {},
   "source": [
    "IQR = 75th percentile - 25th percentile"
   ]
  },
  {
   "cell_type": "markdown",
   "metadata": {},
   "source": [
    "Recall,\n",
    "> * $(\\sqrt{n}) (\\sigma_x) = \\text{standard deviation of } \\sum{X}$\n",
    "* $\\sqrt{n}(\\sigma)$\n",
    "* $\\sqrt{100} (0.5)$\n",
    "* $10*0.5$\n",
    "* 5"
   ]
  },
  {
   "cell_type": "code",
   "execution_count": 74,
   "metadata": {},
   "outputs": [
    {
     "data": {
      "text/plain": [
       "(203.3724487509804, 196.6275512490196)"
      ]
     },
     "execution_count": 74,
     "metadata": {},
     "output_type": "execute_result"
    }
   ],
   "source": [
    "(st.norm.ppf(.75, loc=200, scale=5), st.norm.ppf(.25, loc=200, scale=5))"
   ]
  },
  {
   "cell_type": "code",
   "execution_count": 75,
   "metadata": {},
   "outputs": [
    {
     "data": {
      "text/plain": [
       "6.744897501960793"
      ]
     },
     "execution_count": 75,
     "metadata": {},
     "output_type": "execute_result"
    }
   ],
   "source": [
    "st.norm.ppf(.75, loc=200, scale=5) - st.norm.ppf(.25, loc=200, scale=5)"
   ]
  },
  {
   "cell_type": "code",
   "execution_count": null,
   "metadata": {},
   "outputs": [],
   "source": []
  },
  {
   "cell_type": "markdown",
   "metadata": {},
   "source": [
    "#### <span style=\"color:orange\">Example 7.11</span>\n",
    "A study was done about violence against prostitutes and the symptoms of the post-traumatic stress that they developed. The age range of the prostitutes was 14 to 61. The mean age was 30.9 years with a standard deviation of nine years.\n",
    "\n"
   ]
  },
  {
   "cell_type": "markdown",
   "metadata": {},
   "source": [
    "* $14 \\geq \\text{ age } \\leq 61$\n",
    "* mean age, $\\mu = 30.9$\n",
    "* stdev age, $\\sigma = 9$"
   ]
  },
  {
   "cell_type": "code",
   "execution_count": null,
   "metadata": {},
   "outputs": [],
   "source": []
  },
  {
   "cell_type": "markdown",
   "metadata": {},
   "source": [
    "a.\n",
    "\n",
    "In a sample of 25 prostitutes, what is the probability that the mean age of the prostitutes is less than 35?\n",
    "\n",
    "* $\\therefore \\mu_x = \\mu = 30.9$\n",
    "* $\\therefore \\sigma = 9$"
   ]
  },
  {
   "cell_type": "markdown",
   "metadata": {},
   "source": [
    "Central limit theorem for sample means:\n",
    "* $\\bar{X} \\sim N \\bigl( \\mu_x, \\frac{\\sigma_x}{\\sqrt{n}} \\bigr) $"
   ]
  },
  {
   "cell_type": "code",
   "execution_count": 76,
   "metadata": {},
   "outputs": [
    {
     "name": "stdout",
     "output_type": "stream",
     "text": [
      "The sample standard deviation is: 1.8\n"
     ]
    }
   ],
   "source": [
    "print(\"The sample standard deviation is:\", (9)/math.sqrt(25))"
   ]
  },
  {
   "cell_type": "code",
   "execution_count": 77,
   "metadata": {},
   "outputs": [
    {
     "name": "stdout",
     "output_type": "stream",
     "text": [
      "The probability, for a sample of 25 prostitutes, that the mean age is less than 35 is: 0.9886300895118156\n"
     ]
    }
   ],
   "source": [
    "print(\"The probability, for a sample of 25 prostitutes, that the mean age is less than 35 is:\", st.norm.cdf(35, loc=30.9, scale=1.8))"
   ]
  },
  {
   "cell_type": "markdown",
   "metadata": {},
   "source": [
    "b.\n",
    "\n",
    "Is it likely that the mean age of the sample group could be more than 50 years? Interpret the results."
   ]
  },
  {
   "cell_type": "markdown",
   "metadata": {},
   "source": [
    "Find, $P(\\bar{x}>50)$"
   ]
  },
  {
   "cell_type": "code",
   "execution_count": 78,
   "metadata": {},
   "outputs": [
    {
     "name": "stdout",
     "output_type": "stream",
     "text": [
      "The probability for b. is: 0.0\n"
     ]
    }
   ],
   "source": [
    "print(\"The probability for b. is:\", 1 - st.norm.cdf(50, loc=30.9, scale=1.8))"
   ]
  },
  {
   "cell_type": "markdown",
   "metadata": {},
   "source": [
    "> For this sample group, it is almost impossible for the group’s average age to be more than 50. However, it is still possible for an individual in this group to have an age greater than 50."
   ]
  },
  {
   "cell_type": "markdown",
   "metadata": {},
   "source": [
    "c.\n",
    "\n",
    "In a sample of 49 prostitutes, what is the probability that the sum of the ages is no less than 1,600?\n",
    "\n",
    "$P(\\sum{x} \\ge 1600)$\n",
    "\n",
    "> $\\sum{X} \\sim N\\bigl((n)(\\mu_x), (\\sqrt{n})(\\sigma_x)\\bigr)$"
   ]
  },
  {
   "cell_type": "code",
   "execution_count": 79,
   "metadata": {},
   "outputs": [
    {
     "data": {
      "text/plain": [
       "(1514.1, 63.0)"
      ]
     },
     "execution_count": 79,
     "metadata": {},
     "output_type": "execute_result"
    }
   ],
   "source": [
    "(49*30.9, math.sqrt(49)*9)"
   ]
  },
  {
   "cell_type": "code",
   "execution_count": 80,
   "metadata": {},
   "outputs": [
    {
     "data": {
      "text/plain": [
       "0.08636374201938346"
      ]
     },
     "execution_count": 80,
     "metadata": {},
     "output_type": "execute_result"
    }
   ],
   "source": [
    "1 - st.norm.cdf(1600, loc=1514.1, scale=63)"
   ]
  },
  {
   "cell_type": "markdown",
   "metadata": {},
   "source": [
    "d.\n",
    "\n",
    "Is it likely that the sum of the ages of the 49 prostitutes is at most 1,595? Interpret the results."
   ]
  },
  {
   "cell_type": "code",
   "execution_count": 81,
   "metadata": {},
   "outputs": [
    {
     "data": {
      "text/plain": [
       "0.9004512360968469"
      ]
     },
     "execution_count": 81,
     "metadata": {},
     "output_type": "execute_result"
    }
   ],
   "source": [
    "st.norm.cdf(1595, loc=1514.1, scale=63)"
   ]
  },
  {
   "cell_type": "markdown",
   "metadata": {},
   "source": [
    "This means that there is a 90% chance that the sum of the ages for the sample group n = 49 is at most 1595."
   ]
  },
  {
   "cell_type": "markdown",
   "metadata": {},
   "source": [
    "e.\n",
    "\n",
    "Find the 95th percentile for the sample mean age of 65 prostitutes. Interpret the results.\n",
    "> * $\\bar{X} \\sim N \\bigl( \\mu_x, \\frac{\\sigma_x}{\\sqrt{n}} \\bigr) $"
   ]
  },
  {
   "cell_type": "code",
   "execution_count": 82,
   "metadata": {},
   "outputs": [
    {
     "data": {
      "text/plain": [
       "(30.9, 1.116312611302876)"
      ]
     },
     "execution_count": 82,
     "metadata": {},
     "output_type": "execute_result"
    }
   ],
   "source": [
    "(30.9, 9/math.sqrt(65))"
   ]
  },
  {
   "cell_type": "code",
   "execution_count": 83,
   "metadata": {},
   "outputs": [
    {
     "data": {
      "text/plain": [
       "32.73617084537016"
      ]
     },
     "execution_count": 83,
     "metadata": {},
     "output_type": "execute_result"
    }
   ],
   "source": [
    "st.norm.ppf(0.95, loc=30.9, scale=1.11631261)"
   ]
  },
  {
   "cell_type": "markdown",
   "metadata": {},
   "source": [
    "This indicates that 95% of the prostitutes in the sample of 65 are younger than 32.7 years, on average."
   ]
  },
  {
   "cell_type": "markdown",
   "metadata": {},
   "source": [
    "f.\n",
    "\n",
    "Find the 90th percentile for the sum of the ages of 65 prostitutes. Interpret the results.\n",
    "\n",
    "> $\\sum{X} \\sim N\\bigl((n)(\\mu_x), (\\sqrt{n})(\\sigma_x)\\bigr)$"
   ]
  },
  {
   "cell_type": "code",
   "execution_count": 84,
   "metadata": {},
   "outputs": [
    {
     "data": {
      "text/plain": [
       "(2008.5, 72.56031973468694)"
      ]
     },
     "execution_count": 84,
     "metadata": {},
     "output_type": "execute_result"
    }
   ],
   "source": [
    "(65*30.9, math.sqrt(65)*9)"
   ]
  },
  {
   "cell_type": "code",
   "execution_count": 85,
   "metadata": {},
   "outputs": [
    {
     "data": {
      "text/plain": [
       "2101.4897913515247"
      ]
     },
     "execution_count": 85,
     "metadata": {},
     "output_type": "execute_result"
    }
   ],
   "source": [
    "st.norm.ppf(0.90, loc=2008.5, scale=72.560319734)"
   ]
  },
  {
   "cell_type": "markdown",
   "metadata": {},
   "source": [
    "This indicates that 90% of the prostitutes in the sample of 65 have a sum of ages less than 2,101.5 years."
   ]
  },
  {
   "cell_type": "code",
   "execution_count": null,
   "metadata": {},
   "outputs": [],
   "source": []
  },
  {
   "cell_type": "code",
   "execution_count": null,
   "metadata": {},
   "outputs": [],
   "source": []
  }
 ],
 "metadata": {
  "kernelspec": {
   "display_name": "Python 3",
   "language": "python",
   "name": "python3"
  },
  "language_info": {
   "codemirror_mode": {
    "name": "ipython",
    "version": 3
   },
   "file_extension": ".py",
   "mimetype": "text/x-python",
   "name": "python",
   "nbconvert_exporter": "python",
   "pygments_lexer": "ipython3",
   "version": "3.8.8"
  },
  "toc-showmarkdowntxt": false
 },
 "nbformat": 4,
 "nbformat_minor": 4
}
