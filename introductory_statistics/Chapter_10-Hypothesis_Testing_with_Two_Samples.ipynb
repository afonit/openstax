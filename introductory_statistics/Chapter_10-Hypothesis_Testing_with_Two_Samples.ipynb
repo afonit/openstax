{
 "cells": [
  {
   "cell_type": "code",
   "execution_count": 1,
   "id": "9935e4ed-2a36-4df2-9283-a6ff5b28455a",
   "metadata": {},
   "outputs": [],
   "source": [
    "import math\n",
    "import scipy.stats as st\n",
    "\n",
    "import ipywidgets as widgets\n",
    "from ipywidgets import interact"
   ]
  },
  {
   "cell_type": "markdown",
   "id": "1fff30e9-7ac7-4686-9501-40405e714d19",
   "metadata": {},
   "source": [
    "# Chapter 10: Hypothesis Testing with Two Samples\n",
    "\n",
    "Studies often **compare two groups**.\n",
    "\n",
    "For example, researchers are interested in the effect aspirin has in preventing heart attacks. Over the last few years, newspapers and magazines have reported various aspirin studies involving two groups. Typically, **one group** is given aspirin and **the other group** is given a placebo. _Then, the heart attack rate is studied over several years_.\n",
    "\n",
    "Previously we learned to conduct hypothesis tests on single means and single proportions.\n",
    "\n",
    "Now we compare two means or two proportions to each other.\n",
    "\n",
    "To compare two means or two proportions, you work with two groups. The groups are classified either as independent or matched pairs.\n",
    "* **Independent groups** consist of two samples that are independent, that is, sample values selected from one population are _not related in any way_ to sample values selected from the other population.\n",
    "* **Matched pairs** consist of two samples that _are dependent_. The parameter tested using matched pairs is the population mean. The parameters tested using independent groups are either population means or population proportions.\n",
    "\n",
    "---\n",
    "This chapter deals with the following hypothesis tests:\n",
    "\n",
    "**Independent groups (samples are independent)**\n",
    "* Test of two population means.\n",
    "* Test of two population proportions.\n",
    "\n",
    "**Matched or paired samples (samples are dependent)**\n",
    "* Test of the two population proportions by testing one population mean of differences."
   ]
  },
  {
   "cell_type": "code",
   "execution_count": null,
   "id": "58908789-3739-477f-92fc-ff0144d21465",
   "metadata": {},
   "outputs": [],
   "source": []
  },
  {
   "cell_type": "markdown",
   "id": "268922ec-a568-408a-adce-d05df560b14e",
   "metadata": {},
   "source": [
    "## Two Population Means with Unknown Standard Deviations\n",
    "\n",
    "1. The two independent samples are simple random samples from two distinct populations.\n",
    "2. For the two distinct populations:\n",
    "    * if the sample sizes are small, the distributions are important (should be normal)\n",
    "    * if the sample sizes are large, the distributions are not important (need not be normal)\n",
    "    \n",
    "**Note**:\n",
    "> The test comparing two independent population means with unknown and possibly unequal population standard deviations is called the Aspin-Welch t-test. The degrees of freedom formula was developed by Aspin-Welch.\n",
    "\n",
    "A difference between the two samples depends on both the means and the standard deviations. Very different means can occur by chance if there is great variation among the individual samples. In order to account for the variation, we take the difference of the sample means, $\\bar{X}_1 - \\bar{X}_2$, and divide by the **standard error** in order to _standardize the difference_.  The result is a **t-score test statistic**.\n",
    "\n",
    "Because we do not know the population standard deviations, we estimate them using the two sample standard deviations from our independent samples. For the hypothesis test, we calculate the estimated standard deviation, or **standard error**, of **the difference in sample means**, $\\bar{X}_1 - \\bar{X}_2$.\n",
    "\n",
    "**The standard error is**:\n",
    "* $\\sqrt{\\frac{(s_1)^2}{n_1} + \\frac{(s_2)^2}{n_2}}$\n",
    "\n",
    "The test statistic (**t-score**) is calculated as follows:\n",
    "* $\\frac{(\\bar{x}_1 - \\bar{x}_2) - (\\mu_1 - \\mu_2)}{\\sqrt{\\frac{(s_1)^2}{n_1} + \\frac{(s_2)^2}{n_2}}}$\n",
    "\n",
    "**where**:\n",
    "* $s_1$ and $s_2$, the sample standard deviations, are estimates of $\\sigma_1$ and $\\sigma_2$ respectively.\n",
    "* $\\sigma_1$ and $\\sigma_2$ are the unknown population standard deviations.\n",
    "* $\\bar{x}_1$ and $\\bar{x}_2$ are the sample means.  $\\sigma_1$ and $\\sigma_2$ are the population means.\n",
    "\n",
    "The number of **degrees of freedom (df)** requires a somewhat complicated calculation. However, a computer or calculator calculates it easily. The df are not always a whole number. The test statistic calculated previously is approximated by the Student's t-distribution with df as follows:\n",
    "\n",
    "**Degrees of freedom**\n",
    "* $df = \\frac{\\bigl( \\frac{(s_1)^2}{n_1} + \\frac{(s_2)^2}{n_2} \\bigr)^2}\n",
    "{\\bigl(\\frac{1}{n_1-1}\\bigr)\\bigl(\\frac{(s_1)^2}{n_1}\\bigr)^2 + \\bigl(\\frac{1}{n_2-1}\\bigr)\\bigl(\\frac{(s_2)^2}{n_2}\\bigr)^2}$\n",
    "\n",
    "When both sample sizes $n_1$ and $n_2$ are five or larger, the Student's t approximation is very good. Notice that the sample variances $(s_1)^2$ and $(s2)^2$ are not pooled. (If the question comes up, do not pool the variances.)"
   ]
  },
  {
   "cell_type": "code",
   "execution_count": null,
   "id": "f849f71a-ac7d-4dd8-965b-4b3dbfb78185",
   "metadata": {},
   "outputs": [],
   "source": []
  },
  {
   "cell_type": "markdown",
   "id": "986cf698-3b56-4d48-8fbc-af8ed5ce2a2a",
   "metadata": {},
   "source": [
    "<span style=\"color:red\">Example 10.1</span>\n",
    "\n",
    "**Independent groups**\n",
    "\n",
    "The average amount of time boys and girls aged seven to 11 spend playing sports each day is believed to be the same. A study is done and data are collected, resulting in the data in Table 10.1. Each populations has a normal distribution.\n",
    "\n",
    "||**Sample Size**|**Average Number of Hours Playing Sports Per Day**|**Sample Standard Deviation**|\n",
    "|--|--|--|--|\n",
    "|Girls|9|2|0.866|\n",
    "|Boys|16|3.2|1.00|\n",
    "Table 10.1\n",
    "\n",
    "Is there a difference in the mean amount of time boys and girls aged seven to 11 play sports each day? Test at the 5% level of significance."
   ]
  },
  {
   "cell_type": "code",
   "execution_count": null,
   "id": "88b0a4c8-c4ce-4bf4-8bf3-97765f2e3396",
   "metadata": {},
   "outputs": [],
   "source": []
  },
  {
   "cell_type": "markdown",
   "id": "2bc96241-3684-4f28-a96d-aee542f307df",
   "metadata": {},
   "source": [
    "**The population standard deviations are not known**. Let g be the subscript for girls and b be the subscript for boys. Then,\n",
    "* $\\mu_g$ is the population mean for girls and\n",
    "* $\\mu_b$ is the population mean for boys.\n",
    "* This is a test of two **independent groups**, two population **means**.\n",
    "\n",
    "**Random variable**: $\\bar{X}_g - \\bar{X}_b$ = difference int he sample mean amount of time girls and boys play sports each day.\n",
    "* $H_0: \\mu_g = \\mu_b$, $H_0:\\mu_g-\\mu_b = 0$\n",
    "* $H_a: \\mu_g \\ne \\mu_b$, $H_a: \\mu_g - \\mu_b \\ne 0$\n",
    "\n",
    "The words \"**the same**\" tell you $H_0$ has an \"=\". Since there are no other words to indicate $H_a$, assume it says \"**is different**.\" This is a two-tailed test.\n",
    "\n",
    "**Distribution for the test**: Use $t_df$ where df is calculated using the $df$ formula for independent groups, two population means. Using a calculator, $df$ is approximately 18.8462. Do not pool the variances."
   ]
  },
  {
   "cell_type": "code",
   "execution_count": 2,
   "id": "0482aad2-a0a6-4e33-8fe0-31cf29ed8520",
   "metadata": {},
   "outputs": [
    {
     "data": {
      "text/plain": [
       "18.84659125336577"
      ]
     },
     "execution_count": 2,
     "metadata": {},
     "output_type": "execute_result"
    }
   ],
   "source": [
    "# calculate the df\n",
    "((0.866**2)/9 + (1**2)/16)**2/ \\\n",
    "(1/(9-1)*((0.866**2)/9)**2 + (1/(16-1)*((1**2)/16)**2))"
   ]
  },
  {
   "cell_type": "code",
   "execution_count": 3,
   "id": "f44aefc7-d30b-4858-8c95-d3a254aca542",
   "metadata": {},
   "outputs": [
    {
     "data": {
      "text/plain": [
       "-2.791490042981217"
      ]
     },
     "execution_count": 3,
     "metadata": {},
     "output_type": "execute_result"
    }
   ],
   "source": [
    "# t-score using two means formula\n",
    "((2 - 3.2) - (0.866 - 1))/ \\\n",
    "math.sqrt(((0.866**2)/9) + ((1**2)/16))"
   ]
  },
  {
   "cell_type": "code",
   "execution_count": 4,
   "id": "75fc520b-c414-4e3c-bdd4-86f9a145568a",
   "metadata": {},
   "outputs": [
    {
     "data": {
      "text/plain": [
       "Ttest_indResult(statistic=-3.1423902922865476, pvalue=0.005401921297382211)"
      ]
     },
     "execution_count": 4,
     "metadata": {},
     "output_type": "execute_result"
    }
   ],
   "source": [
    "# equal_var=False since the instructions said \"Do not pool the variances.\"\n",
    "st.ttest_ind_from_stats(2, 0.866, 9, 3.2, 1.00, 16, equal_var=False)"
   ]
  },
  {
   "attachments": {
    "a6c28403-d6c6-4fd2-b37f-86f1b0087365.png": {
     "image/png": "[encoded data removed]"
    }
   },
   "cell_type": "markdown",
   "id": "9c3e524b-46b0-4918-a6a9-439084ed2a39",
   "metadata": {},
   "source": [
    "![image.png](attachment:a6c28403-d6c6-4fd2-b37f-86f1b0087365.png)"
   ]
  },
  {
   "cell_type": "code",
   "execution_count": 5,
   "id": "897ae789-2cfb-413e-a530-b31521347fc7",
   "metadata": {},
   "outputs": [
    {
     "data": {
      "text/plain": [
       "0.0027"
      ]
     },
     "execution_count": 5,
     "metadata": {},
     "output_type": "execute_result"
    }
   ],
   "source": [
    "0.0054/2"
   ]
  },
  {
   "cell_type": "markdown",
   "id": "f4cffa76-396b-4af2-9322-dfa044a0e9ba",
   "metadata": {},
   "source": [
    "* $s_g = 0.866$\n",
    "* $s_b = 1$\n",
    "* So, $\\bar{x}_g - \\bar{x}_b = 2 - 3.2 = -1.2$\n",
    "* Half the $p$-value is below -1.2 and half is above 1.2\n",
    "\n",
    "**Make a decision**: Since $\\alpha \\gt p$-value, reject $H_0$. This means you reject $\\mu_g=\\mu_b$. The means are different.\n",
    "\n",
    "**Conclusion**: At the 5% level of significance, the sample data show there is sufficient evidence to conclude that the mean number of hours that girls and boys aged seven to 11 play sports per day is different (mean number of hours boys aged seven to 11 play sports per day is greater than the mean number of hours played by girls OR the mean number of hours girls aged seven to 11 play sports per day is greater than the mean number of hours played by boys)."
   ]
  },
  {
   "cell_type": "code",
   "execution_count": null,
   "id": "7646a01b-6d6b-40ea-9256-3e48e07639db",
   "metadata": {},
   "outputs": [],
   "source": []
  },
  {
   "cell_type": "markdown",
   "id": "1b8e208d-a05c-4d05-b2e6-43241ec87008",
   "metadata": {},
   "source": [
    "<span style=\"color:orange\">Example 10.2</span>\n",
    "\n",
    "A study is done by a community group in two neighboring colleges to determine which one graduates students with more math classes. College A samples 11 graduates. Their average is four math classes with a standard deviation of 1.5 math classes. College B samples nine graduates. Their average is 3.5 math classes with a standard deviation of one math class. The community group believes that a student who graduates from college A **has taken more math classes**, on the average. Both populations have a normal distribution. Test at a 1% significance level. Answer the following questions."
   ]
  },
  {
   "cell_type": "code",
   "execution_count": null,
   "id": "296eea21-96aa-4c0d-b121-d3f0c5bb7a77",
   "metadata": {},
   "outputs": [],
   "source": []
  },
  {
   "cell_type": "code",
   "execution_count": null,
   "id": "89f6e7b7-19e2-4b2b-8d43-def7b6bfa7d4",
   "metadata": {},
   "outputs": [],
   "source": []
  },
  {
   "cell_type": "code",
   "execution_count": null,
   "id": "cee11ba3-9300-415e-b18e-e9a12e1aceae",
   "metadata": {},
   "outputs": [],
   "source": []
  },
  {
   "cell_type": "code",
   "execution_count": null,
   "id": "2b89273d-d23f-45c3-bfc7-c720b5b8f19f",
   "metadata": {},
   "outputs": [],
   "source": []
  },
  {
   "cell_type": "code",
   "execution_count": null,
   "id": "19cced20-da1b-4516-825a-3ecc54349eaa",
   "metadata": {},
   "outputs": [],
   "source": []
  },
  {
   "cell_type": "code",
   "execution_count": null,
   "id": "4255c999-a66d-4143-bd0e-db3c3417b979",
   "metadata": {},
   "outputs": [],
   "source": []
  },
  {
   "cell_type": "code",
   "execution_count": null,
   "id": "646c893a-6cc4-490e-b695-c5260c1645f4",
   "metadata": {},
   "outputs": [],
   "source": []
  }
 ],
 "metadata": {
  "kernelspec": {
   "display_name": "Python 3 (ipykernel)",
   "language": "python",
   "name": "python3"
  },
  "language_info": {
   "codemirror_mode": {
    "name": "ipython",
    "version": 3
   },
   "file_extension": ".py",
   "mimetype": "text/x-python",
   "name": "python",
   "nbconvert_exporter": "python",
   "pygments_lexer": "ipython3",
   "version": "3.9.5"
  }
 },
 "nbformat": 4,
 "nbformat_minor": 5
}
